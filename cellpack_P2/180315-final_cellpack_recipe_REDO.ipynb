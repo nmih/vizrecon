{
 "cells": [
  {
   "cell_type": "code",
   "execution_count": 1,
   "metadata": {
    "ExecuteTime": {
     "end_time": "2018-04-18T04:11:23.645859Z",
     "start_time": "2018-04-18T04:11:23.372517Z"
    },
    "collapsed": true,
    "janus": {
     "all_versions_showing": false,
     "cell_hidden": false,
     "current_version": 0,
     "id": "d6e8aba1db9c1",
     "named_versions": [],
     "output_hidden": false,
     "show_versions": false,
     "source_hidden": false,
     "versions": []
    }
   },
   "outputs": [],
   "source": [
    "import glob\n",
    "import shutil\n",
    "import pandas as pd\n",
    "import numpy as np\n",
    "import os.path as op\n",
    "pd.set_option('display.max_columns', 500)"
   ]
  },
  {
   "cell_type": "markdown",
   "metadata": {
    "janus": {
     "all_versions_showing": false,
     "cell_hidden": false,
     "current_version": 0,
     "id": "4ab0f7f829d3d",
     "named_versions": [],
     "output_hidden": false,
     "show_versions": false,
     "source_hidden": false,
     "versions": []
    }
   },
   "source": [
    "## Load other people's data"
   ]
  },
  {
   "cell_type": "markdown",
   "metadata": {
    "janus": {
     "all_versions_showing": false,
     "cell_hidden": false,
     "current_version": 0,
     "id": "44288a6cddbd2",
     "named_versions": [],
     "output_hidden": false,
     "show_versions": false,
     "source_hidden": false,
     "versions": []
    }
   },
   "source": [
    "### Winnie: computed copy numbers for complexes\n",
    "\n",
    "``DF_WINNIE_RECIPE``\n",
    "- Contains recomputed copy numbers in columns ``Copy_number2`` and ``NumUsed`` for complexes"
   ]
  },
  {
   "cell_type": "code",
   "execution_count": 2,
   "metadata": {
    "ExecuteTime": {
     "end_time": "2018-04-18T04:11:23.717555Z",
     "start_time": "2018-04-18T04:11:23.647323Z"
    },
    "janus": {
     "all_versions_showing": false,
     "cell_hidden": false,
     "current_version": 0,
     "id": "f98ea95aadf6e",
     "named_versions": [],
     "output_hidden": false,
     "show_versions": false,
     "source_hidden": false,
     "versions": []
    }
   },
   "outputs": [
    {
     "data": {
      "text/html": [
       "<div>\n",
       "<style scoped>\n",
       "    .dataframe tbody tr th:only-of-type {\n",
       "        vertical-align: middle;\n",
       "    }\n",
       "\n",
       "    .dataframe tbody tr th {\n",
       "        vertical-align: top;\n",
       "    }\n",
       "\n",
       "    .dataframe thead th {\n",
       "        text-align: right;\n",
       "    }\n",
       "</style>\n",
       "<table border=\"1\" class=\"dataframe\">\n",
       "  <thead>\n",
       "    <tr style=\"text-align: right;\">\n",
       "      <th></th>\n",
       "      <th>Gene</th>\n",
       "      <th>UniProt</th>\n",
       "      <th>NAME</th>\n",
       "      <th>Description</th>\n",
       "      <th>Structure_ID</th>\n",
       "      <th>PDB</th>\n",
       "      <th>Structure_source</th>\n",
       "      <th>MW</th>\n",
       "      <th>MOLARITY</th>\n",
       "      <th>Copy_number</th>\n",
       "      <th>Localization</th>\n",
       "      <th>Localization_source</th>\n",
       "      <th>INCLUDE</th>\n",
       "      <th>COLOR</th>\n",
       "      <th>NOTES</th>\n",
       "      <th>model_id</th>\n",
       "      <th>Copy_number2</th>\n",
       "      <th>NumUsed</th>\n",
       "    </tr>\n",
       "    <tr>\n",
       "      <th></th>\n",
       "      <th></th>\n",
       "      <th></th>\n",
       "      <th></th>\n",
       "      <th></th>\n",
       "      <th></th>\n",
       "      <th></th>\n",
       "      <th></th>\n",
       "      <th></th>\n",
       "      <th></th>\n",
       "      <th></th>\n",
       "      <th></th>\n",
       "      <th></th>\n",
       "      <th></th>\n",
       "      <th></th>\n",
       "      <th></th>\n",
       "      <th></th>\n",
       "      <th></th>\n",
       "      <th></th>\n",
       "    </tr>\n",
       "  </thead>\n",
       "  <tbody>\n",
       "    <tr>\n",
       "      <th>0</th>\n",
       "      <td>b0001</td>\n",
       "      <td>P0AD86</td>\n",
       "      <td>thrL</td>\n",
       "      <td>thr operon leader peptide</td>\n",
       "      <td>REP-E00001</td>\n",
       "      <td>E00001_clean-X_clean.pdb</td>\n",
       "      <td>metaTASSER</td>\n",
       "      <td>2138.4426</td>\n",
       "      <td>NaN</td>\n",
       "      <td>NaN</td>\n",
       "      <td>Cytosol</td>\n",
       "      <td>EchoLOCATION predicted</td>\n",
       "      <td>NaN</td>\n",
       "      <td>NaN</td>\n",
       "      <td>NaN</td>\n",
       "      <td>iML1515_v1</td>\n",
       "      <td>NaN</td>\n",
       "      <td>0</td>\n",
       "    </tr>\n",
       "    <tr>\n",
       "      <th>1</th>\n",
       "      <td>b0002</td>\n",
       "      <td>P00561</td>\n",
       "      <td>thrA</td>\n",
       "      <td>Bifunctional aspartokinase/homoserine dehydrog...</td>\n",
       "      <td>REP-E00002</td>\n",
       "      <td>E00002_clean-X_clean.pdb</td>\n",
       "      <td>metaTASSER</td>\n",
       "      <td>89119.2202</td>\n",
       "      <td>0.000003</td>\n",
       "      <td>4375.0</td>\n",
       "      <td>Cytosol</td>\n",
       "      <td>iJL1678</td>\n",
       "      <td>x</td>\n",
       "      <td>NaN</td>\n",
       "      <td>NaN</td>\n",
       "      <td>iML1515_v1</td>\n",
       "      <td>4375.0</td>\n",
       "      <td>0</td>\n",
       "    </tr>\n",
       "  </tbody>\n",
       "</table>\n",
       "</div>"
      ],
      "text/plain": [
       "    Gene UniProt  NAME                                        Description  \\\n",
       "                                                                            \n",
       "0  b0001  P0AD86  thrL                          thr operon leader peptide   \n",
       "1  b0002  P00561  thrA  Bifunctional aspartokinase/homoserine dehydrog...   \n",
       "\n",
       "  Structure_ID                       PDB Structure_source          MW  \\\n",
       "                                                                        \n",
       "0   REP-E00001  E00001_clean-X_clean.pdb       metaTASSER   2138.4426   \n",
       "1   REP-E00002  E00002_clean-X_clean.pdb       metaTASSER  89119.2202   \n",
       "\n",
       "   MOLARITY  Copy_number Localization     Localization_source INCLUDE  COLOR  \\\n",
       "                                                                               \n",
       "0       NaN          NaN      Cytosol  EchoLOCATION predicted     NaN    NaN   \n",
       "1  0.000003       4375.0      Cytosol                 iJL1678       x    NaN   \n",
       "\n",
       "   NOTES    model_id  Copy_number2  NumUsed  \n",
       "                                             \n",
       "0    NaN  iML1515_v1           NaN        0  \n",
       "1    NaN  iML1515_v1        4375.0        0  "
      ]
     },
     "execution_count": 2,
     "metadata": {},
     "output_type": "execute_result"
    }
   ],
   "source": [
    "DF_WINNIE_RECIPE = pd.read_csv('./cellpack_P2_prep/MenuWithComplex2.csv', index_col=0)\n",
    "# Make sure all NAMEs are filled, fill in with Gene ID if empty\n",
    "for i in DF_WINNIE_RECIPE[pd.isnull(DF_WINNIE_RECIPE.NAME)].index:\n",
    "    DF_WINNIE_RECIPE.at[i,'NAME'] = DF_WINNIE_RECIPE.at[i, 'Gene']\n",
    "DF_WINNIE_RECIPE.head(2)"
   ]
  },
  {
   "cell_type": "markdown",
   "metadata": {
    "janus": {
     "all_versions_showing": false,
     "cell_hidden": false,
     "current_version": 0,
     "id": "e174b597b9bb88",
     "named_versions": [],
     "output_hidden": false,
     "show_versions": false,
     "source_hidden": false,
     "versions": []
    }
   },
   "source": [
    "### Eddie: selected structure files for complexes\n",
    "\n",
    "``EDDIE_CPLX_DICT``\n",
    "- Contains complex_id -> selected structure files and other stoichiometry info"
   ]
  },
  {
   "cell_type": "code",
   "execution_count": 3,
   "metadata": {
    "ExecuteTime": {
     "end_time": "2018-04-18T04:11:23.736968Z",
     "start_time": "2018-04-18T04:11:23.718797Z"
    },
    "janus": {
     "all_versions_showing": false,
     "cell_hidden": false,
     "current_version": 0,
     "id": "1ba4672513121",
     "named_versions": [],
     "output_hidden": false,
     "show_versions": false,
     "source_hidden": false,
     "versions": []
    }
   },
   "outputs": [
    {
     "data": {
      "text/plain": [
       "{'GMQE': {'P0ABJ6_72_105_5xtc': 0.13},\n",
       " 'QMN4': {'P0ABJ6_72_105_5xtc': -2.31},\n",
       " 'QSPRD': {'P0ABJ6_72_105_5xtc': 0.0},\n",
       " 'genes': {'b0429': 1, 'b0430': 1, 'b0431': 1, 'b0432': 1},\n",
       " 'pdbs': {'1fft_bio1_&_NOBFS_0': 1, 'P0ABJ6_72_105_5xtc': 1},\n",
       " 'quality': 64.01779778870932,\n",
       " 'use_ECOLI': False,\n",
       " 'use_PDBs': True,\n",
       " 'use_SWISS': True,\n",
       " 'use_homology_other': False}"
      ]
     },
     "execution_count": 3,
     "metadata": {},
     "output_type": "execute_result"
    }
   ],
   "source": [
    "import json\n",
    "with open('./cellpack_P2_prep/2018-4-5_final_recipe_1846_enzymes.json', 'r') as f:\n",
    "    EDDIE_CPLX_DICT = json.load(f)\n",
    "EDDIE_CPLX_DICT['CYT-O-UBIOX-CPLX_mod_pheme_mod_cu2']"
   ]
  },
  {
   "cell_type": "markdown",
   "metadata": {
    "janus": {
     "all_versions_showing": false,
     "cell_hidden": false,
     "current_version": 0,
     "id": "ebdb9a9585d2d",
     "named_versions": [],
     "output_hidden": false,
     "show_versions": false,
     "source_hidden": false,
     "versions": []
    }
   },
   "source": [
    "### Nathan: Eddie's data, parsed\n",
    "\n",
    "``NATHAN_CPLX_DICT``\n",
    "- Contains complex id -> selected *single* structure file\n",
    "\n",
    "``NATHAN_CPLX_DUMMY_DICT``\n",
    "- Contains complex id -> *multiple* structure files that need to be assembled as a dummy\n",
    "\n",
    "``NATHAN_CPLX_MISSING_LIST``\n",
    "- Contains complex ids that were not run through Eddie's pipeline due to various issues"
   ]
  },
  {
   "cell_type": "code",
   "execution_count": 4,
   "metadata": {
    "ExecuteTime": {
     "end_time": "2018-04-18T04:11:23.764333Z",
     "start_time": "2018-04-18T04:11:23.738671Z"
    },
    "collapsed": true,
    "janus": {
     "all_versions_showing": false,
     "cell_hidden": false,
     "current_version": 0,
     "id": "c3ed43e17e67b8",
     "named_versions": [],
     "output_hidden": false,
     "show_versions": false,
     "source_hidden": false,
     "versions": []
    }
   },
   "outputs": [],
   "source": [
    "with open('./cellpack_P2_prep/180406-FINAL_FULL_COMPLEXES.json', 'r') as f:\n",
    "    NATHAN_CPLX_DICT = json.load(f)\n",
    "\n",
    "with open('./cellpack_P2_prep/180406-FINAL_DUMMY_FULL_COMPLEXES.json', 'r') as f:\n",
    "    NATHAN_CPLX_DUMMY_DICT = {}\n",
    "    NATHAN_CPLX_DUMMY_LIST = json.load(f)\n",
    "    for x in NATHAN_CPLX_DUMMY_LIST:\n",
    "        NATHAN_CPLX_DUMMY_DICT[x[0]] = x[2]\n",
    "\n",
    "with open('./cellpack_P2_prep/180406-NATHAN_TO_CHECK.json', 'r') as f:\n",
    "    NATHAN_CPLX_MISSING_LIST_RAW = json.load(f)\n",
    "    NATHAN_CPLX_MISSING_LIST = [x[0] for x in NATHAN_CPLX_MISSING_LIST_RAW]\n",
    "    for x in ['Rph_mono_mod_mg2', 'RNase_P_cplx_mod_2:mg2', 'RNase_P_cplx', 'ribosome']: # Email from Eddie\n",
    "        if x not in NATHAN_CPLX_MISSING_LIST:\n",
    "            NATHAN_CPLX_MISSING_LIST.append(x)"
   ]
  },
  {
   "cell_type": "markdown",
   "metadata": {
    "janus": {
     "all_versions_showing": false,
     "cell_hidden": false,
     "current_version": 0,
     "id": "789d19fc2118c",
     "named_versions": [],
     "output_hidden": false,
     "show_versions": false,
     "source_hidden": false,
     "versions": []
    }
   },
   "source": [
    "## Load EcoliME Complexes & Reactions, create complex --> name dictionary\n",
    "\n",
    "- Installation\n",
    "    - Follow instructions for installation at: https://github.com/SBRG/ecolime\n",
    "- Input\n",
    "    - E. coli ME model\n",
    "- Output\n",
    "    - Complex to complex name dictionary"
   ]
  },
  {
   "cell_type": "code",
   "execution_count": 5,
   "metadata": {
    "ExecuteTime": {
     "end_time": "2018-04-18T04:11:26.121570Z",
     "start_time": "2018-04-18T04:11:23.766043Z"
    },
    "collapsed": true,
    "janus": {
     "all_versions_showing": false,
     "cell_hidden": false,
     "current_version": 0,
     "id": "874a378f3508e",
     "named_versions": [],
     "output_hidden": false,
     "show_versions": false,
     "source_hidden": false,
     "versions": []
    }
   },
   "outputs": [],
   "source": [
    "# FUNCTIONS HERE FROM ECOLIME\n",
    "import ecolime\n",
    "import ecolime.flat_files\n",
    "\n",
    "# First load the list of complexes which tells you complexes + subunit stoichiometry\n",
    "# Converts the protein_complexes.txt file into a dictionary for ME model construction\n",
    "_ECOLIME_complexes = ecolime.flat_files.get_complex_subunit_stoichiometry('protein_complexes.txt')\n",
    "\n",
    "# Then load the modifications which tells you the modificiations (ie. cofactors) that are needed for a complex\n",
    "# Converts protein_modification.txt\n",
    "_ECOLIME_complex_modification_dict = ecolime.flat_files.get_complex_modifications('protein_modification.txt', 'protein_complexes.txt')\n",
    "\n",
    "_ECOLIME_complex_names_df = pd.read_csv(op.join(ecolime.flat_files.ecoli_files_dir, 'protein_complexes.txt'), sep='\\t', header=None)\n",
    "_ECOLIME_complex_id_to_name = {k.strip('#'):v for k,v in _ECOLIME_complex_names_df.set_index(0)[[1]].to_dict()[1].items() if v != 'default_name'}\n",
    "_ECOLIME_reaction_names_df = pd.read_csv(op.join(ecolime.flat_files.ecoli_files_dir, 'reactions.txt'), sep='\\t')\n",
    "_ECOLIME_reaction_id_to_name = {k.strip('#'):v for k,v in _ECOLIME_reaction_names_df.set_index('#name')[['description']].to_dict()['description'].items()}\n",
    "\n",
    "# Mapping from complex ID to reaction ID\n",
    "from collections import defaultdict\n",
    "import pandas\n",
    "from os.path import dirname, join, abspath\n",
    "from ecolime import corrections\n",
    "\n",
    "def _ECOLIME_fixpath(filename):\n",
    "    return join(ecolime.flat_files.ecoli_files_dir, filename)\n",
    "\n",
    "# From: ecolime.flat_files.get_reaction_to_complex, modified to just parse the file\n",
    "def _ECOLIME_get_complex_to_reaction(modifications=False):\n",
    "    \"\"\"anything not in this dict is assumed to be an orphan\"\"\"\n",
    "\n",
    "    complex_to_rxn_dict = defaultdict(set)\n",
    "\n",
    "    # Load enzyme reaction association dataframe\n",
    "    df = pandas.read_csv(_ECOLIME_fixpath('enzyme_reaction_association.txt'),\n",
    "                         delimiter='\\t', names=['Reaction', 'Complexes'])\n",
    "    # Fix legacy naming\n",
    "    df = df.applymap(lambda x: x.replace('DASH', ''))\n",
    "    df = df.set_index('Reaction')\n",
    "\n",
    "    df = corrections.correct_enzyme_reaction_association_frame(df)\n",
    "\n",
    "    for reaction, complexes in df.itertuples():\n",
    "        for cplx in complexes.split(' OR '):\n",
    "            if modifications:\n",
    "                complex_to_rxn_dict[cplx].add(reaction)\n",
    "            else:\n",
    "                complex_to_rxn_dict[cplx.split('_mod_')[0]].add(reaction)\n",
    "\n",
    "    return complex_to_rxn_dict"
   ]
  },
  {
   "cell_type": "markdown",
   "metadata": {
    "janus": {
     "all_versions_showing": false,
     "cell_hidden": false,
     "current_version": 0,
     "id": "f4afec748e8d48",
     "named_versions": [],
     "output_hidden": false,
     "show_versions": false,
     "source_hidden": false,
     "versions": []
    }
   },
   "source": [
    "#### FUNC: ``get_complex_id``"
   ]
  },
  {
   "cell_type": "code",
   "execution_count": 6,
   "metadata": {
    "ExecuteTime": {
     "end_time": "2018-04-18T04:11:26.135246Z",
     "start_time": "2018-04-18T04:11:26.123302Z"
    },
    "collapsed": true,
    "janus": {
     "all_versions_showing": false,
     "cell_hidden": false,
     "current_version": 0,
     "id": "b29d3d0c534ce8",
     "named_versions": [],
     "output_hidden": false,
     "show_versions": false,
     "source_hidden": false,
     "versions": []
    }
   },
   "outputs": [],
   "source": [
    "def get_complex_id(complex_id):\n",
    "    \"\"\"Get a complex ID -- helps in converting '_mod_' ones to their core_enzyme\"\"\"\n",
    "    if complex_id in _ECOLIME_complex_modification_dict:\n",
    "        cplx = _ECOLIME_complex_modification_dict[complex_id]['core_enzyme']\n",
    "    # These are the normal complexes\n",
    "    elif complex_id in _ECOLIME_complexes:\n",
    "        cplx = complex_id\n",
    "    return cplx"
   ]
  },
  {
   "cell_type": "code",
   "execution_count": 7,
   "metadata": {
    "ExecuteTime": {
     "end_time": "2018-04-18T04:11:26.143226Z",
     "start_time": "2018-04-18T04:11:26.139448Z"
    },
    "janus": {
     "all_versions_showing": false,
     "cell_hidden": false,
     "current_version": 0,
     "id": "0e1585565b97c",
     "named_versions": [],
     "output_hidden": false,
     "show_versions": false,
     "source_hidden": false,
     "versions": []
    }
   },
   "outputs": [
    {
     "name": "stdout",
     "output_type": "stream",
     "text": [
      "CYTDEAM-MONOMER\n",
      "CYTDEAM-MONOMER\n"
     ]
    }
   ],
   "source": [
    "print(get_complex_id('CYTDEAM-MONOMER'))\n",
    "print(get_complex_id('CYTDEAM-MONOMER_mod_fe2_mod_zn2'))"
   ]
  },
  {
   "cell_type": "markdown",
   "metadata": {
    "janus": {
     "all_versions_showing": false,
     "cell_hidden": false,
     "current_version": 0,
     "id": "8cebca7c8dfa68",
     "named_versions": [],
     "output_hidden": false,
     "show_versions": false,
     "source_hidden": false,
     "versions": []
    }
   },
   "source": [
    "#### FUNC: ``get_complex_name``"
   ]
  },
  {
   "cell_type": "code",
   "execution_count": 8,
   "metadata": {
    "ExecuteTime": {
     "end_time": "2018-04-18T04:11:26.195215Z",
     "start_time": "2018-04-18T04:11:26.145633Z"
    },
    "collapsed": true,
    "janus": {
     "all_versions_showing": false,
     "cell_hidden": false,
     "current_version": 0,
     "id": "1d9e4352dff518",
     "named_versions": [],
     "output_hidden": false,
     "show_versions": false,
     "source_hidden": false,
     "versions": []
    }
   },
   "outputs": [],
   "source": [
    "_ECOLIME_complex_to_reaction = _ECOLIME_get_complex_to_reaction()\n",
    "\n",
    "def get_complex_name(complex_id):\n",
    "    \"\"\"Convert a ME-model complex ID to a human-readable name\"\"\"\n",
    "\n",
    "    complex_id = complex_id.split('_mod_')[0]\n",
    "\n",
    "    if complex_id in _ECOLIME_complex_id_to_name:\n",
    "        return _ECOLIME_complex_id_to_name[complex_id]\n",
    "    # Using reaction name as backup\n",
    "    elif complex_id in _ECOLIME_complex_to_reaction:\n",
    "        # Sometimes complex will carry out multiple reactions, just put them all in one big string\n",
    "        if len(_ECOLIME_complex_to_reaction[complex_id]) == 1:\n",
    "            rxn = list(_ECOLIME_complex_to_reaction[complex_id])[0]\n",
    "            return _ECOLIME_reaction_id_to_name[rxn]\n",
    "        else:\n",
    "            rxns = list(_ECOLIME_complex_to_reaction[complex_id])\n",
    "            big_desc = []\n",
    "            for rxn in rxns:\n",
    "                try:\n",
    "                    big_desc.append(_ECOLIME_reaction_id_to_name[rxn])\n",
    "                except:\n",
    "                    continue\n",
    "            return ';'.join(list(set(big_desc)))\n",
    "    else:\n",
    "#         print('{}: no name available, returning None'.format(complex_id))\n",
    "        return complex_id"
   ]
  },
  {
   "cell_type": "code",
   "execution_count": 9,
   "metadata": {
    "ExecuteTime": {
     "end_time": "2018-04-18T04:11:26.200267Z",
     "start_time": "2018-04-18T04:11:26.197007Z"
    },
    "janus": {
     "all_versions_showing": false,
     "cell_hidden": false,
     "current_version": 0,
     "id": "dd8462166a0fa",
     "named_versions": [],
     "output_hidden": false,
     "show_versions": false,
     "source_hidden": false,
     "versions": []
    }
   },
   "outputs": [
    {
     "name": "stdout",
     "output_type": "stream",
     "text": [
      "Cytosine deaminase\n",
      "Cytosine deaminase\n"
     ]
    }
   ],
   "source": [
    "print(get_complex_name('CYTDEAM-MONOMER'))\n",
    "print(get_complex_name('CYTDEAM-MONOMER_mod_fe2_mod_zn2'))"
   ]
  },
  {
   "cell_type": "markdown",
   "metadata": {
    "janus": {
     "all_versions_showing": false,
     "cell_hidden": false,
     "current_version": 0,
     "id": "614d572f5c58a8",
     "named_versions": [],
     "output_hidden": false,
     "show_versions": false,
     "source_hidden": false,
     "versions": []
    }
   },
   "source": [
    "#### FUNC: ``get_complex_subunits``"
   ]
  },
  {
   "cell_type": "code",
   "execution_count": 10,
   "metadata": {
    "ExecuteTime": {
     "end_time": "2018-04-18T04:11:26.213505Z",
     "start_time": "2018-04-18T04:11:26.202233Z"
    },
    "collapsed": true,
    "janus": {
     "all_versions_showing": false,
     "cell_hidden": false,
     "current_version": 0,
     "id": "d23d3c2adb1fc",
     "named_versions": [],
     "output_hidden": false,
     "show_versions": false,
     "source_hidden": false,
     "versions": []
    }
   },
   "outputs": [],
   "source": [
    "def get_complex_subunits(complex_id):\n",
    "    \"\"\"Return a list of the complex's subunits\"\"\"\n",
    "    complex_id = get_complex_id(complex_id)\n",
    "    subunit_list = list(_ECOLIME_complexes[complex_id].keys())\n",
    "    try:\n",
    "        subunit_list2 = [k.split('_')[1] for k in subunit_list]\n",
    "    except:\n",
    "        raise ValueError('Unknown error parsing stoichiometry for {}, {}'.format(complex_id, list(_ECOLIME_complexes[complex_id].items())))\n",
    "    return subunit_list2"
   ]
  },
  {
   "cell_type": "code",
   "execution_count": 11,
   "metadata": {
    "ExecuteTime": {
     "end_time": "2018-04-18T04:11:26.219036Z",
     "start_time": "2018-04-18T04:11:26.215276Z"
    },
    "janus": {
     "all_versions_showing": false,
     "cell_hidden": false,
     "current_version": 0,
     "id": "deb98327209588",
     "named_versions": [],
     "output_hidden": false,
     "show_versions": false,
     "source_hidden": false,
     "versions": []
    }
   },
   "outputs": [
    {
     "name": "stdout",
     "output_type": "stream",
     "text": [
      "['b0337']\n",
      "['b0337']\n"
     ]
    }
   ],
   "source": [
    "print(get_complex_subunits('CYTDEAM-MONOMER'))\n",
    "print(get_complex_subunits('CYTDEAM-MONOMER_mod_fe2_mod_zn2'))"
   ]
  },
  {
   "cell_type": "markdown",
   "metadata": {
    "janus": {
     "all_versions_showing": false,
     "cell_hidden": false,
     "current_version": 0,
     "id": "614d572f5c58a8",
     "named_versions": [],
     "output_hidden": false,
     "show_versions": false,
     "source_hidden": false,
     "versions": []
    }
   },
   "source": [
    "#### FUNC: ``get_complex_stoichiometry_formatted``"
   ]
  },
  {
   "cell_type": "code",
   "execution_count": 12,
   "metadata": {
    "ExecuteTime": {
     "end_time": "2018-04-18T04:11:26.232469Z",
     "start_time": "2018-04-18T04:11:26.220273Z"
    },
    "collapsed": true,
    "janus": {
     "all_versions_showing": false,
     "cell_hidden": false,
     "current_version": 0,
     "id": "db6f702dbfecc",
     "named_versions": [],
     "output_hidden": false,
     "show_versions": false,
     "source_hidden": false,
     "versions": []
    }
   },
   "outputs": [],
   "source": [
    "def get_complex_stoichiometry_formatted(complex_id):\n",
    "    \"\"\"Return a formatted string of the complex's annotated stoichiometry\"\"\"\n",
    "    complex_id = get_complex_id(complex_id)\n",
    "    \n",
    "    protein_stoich = ''\n",
    "    try:\n",
    "        for k,v in _ECOLIME_complexes[complex_id].items():   # {'protein_b3018': 1.0}\n",
    "            protein_stoich = protein_stoich + k.split('_')[1] + ':' + str(int(v)) + '; '\n",
    "    except:\n",
    "        raise ValueError('Unknown error parsing stoichiometry for {}, {}'.format(complex_id, list(_ECOLIME_complexes[complex_id].items())))\n",
    "    protein_stoich = protein_stoich.strip('; ')\n",
    "    \n",
    "    if protein_stoich:\n",
    "        return protein_stoich\n",
    "    else:\n",
    "        raise ValueError('Unknown error parsing stoichiometry for {}, {}'.format(complex_id, list(_ECOLIME_complexes[complex_id].items())))"
   ]
  },
  {
   "cell_type": "code",
   "execution_count": 13,
   "metadata": {
    "ExecuteTime": {
     "end_time": "2018-04-18T04:11:26.239403Z",
     "start_time": "2018-04-18T04:11:26.235302Z"
    },
    "janus": {
     "all_versions_showing": false,
     "cell_hidden": false,
     "current_version": 0,
     "id": "fc0bc31b79a068",
     "named_versions": [],
     "output_hidden": false,
     "show_versions": false,
     "source_hidden": false,
     "versions": []
    }
   },
   "outputs": [
    {
     "name": "stdout",
     "output_type": "stream",
     "text": [
      "b0337:1\n",
      "b0337:1\n"
     ]
    }
   ],
   "source": [
    "print(get_complex_stoichiometry_formatted('CYTDEAM-MONOMER'))\n",
    "print(get_complex_stoichiometry_formatted('CYTDEAM-MONOMER_mod_fe2_mod_zn2'))"
   ]
  },
  {
   "cell_type": "markdown",
   "metadata": {
    "janus": {
     "all_versions_showing": false,
     "cell_hidden": false,
     "current_version": 0,
     "id": "eafd2b9511d468",
     "named_versions": [],
     "output_hidden": false,
     "show_versions": false,
     "source_hidden": false,
     "versions": []
    }
   },
   "source": [
    "#### FUNC: ``get_complex_localization``"
   ]
  },
  {
   "cell_type": "code",
   "execution_count": 14,
   "metadata": {
    "ExecuteTime": {
     "end_time": "2018-04-18T04:11:26.290561Z",
     "start_time": "2018-04-18T04:11:26.241269Z"
    },
    "collapsed": true,
    "janus": {
     "all_versions_showing": false,
     "cell_hidden": false,
     "current_version": 0,
     "id": "e098bd696e5628",
     "named_versions": [],
     "output_hidden": false,
     "show_versions": false,
     "source_hidden": false,
     "versions": []
    }
   },
   "outputs": [],
   "source": [
    "def get_complex_localization(complex_id, localization_df):\n",
    "    \"\"\"Return a localization infodict for this complex based on its subunits given a previously made localization df\"\"\"\n",
    "    infodict = {}\n",
    "    subunits = get_complex_subunits(complex_id)\n",
    "    all_prev_genes = localization_df[localization_df.Gene.isin(subunits)]\n",
    "    all_prev_localizations = all_prev_genes['Localization'].unique().tolist()\n",
    "    all_prev_localization_sources = all_prev_genes['Localization_source'].unique().tolist()\n",
    "    \n",
    "    ## If all components of the complex localize to the same place (one unique place) then set that for the complex\n",
    "    if len(all_prev_localizations) == 1:\n",
    "        infodict['Localization'] = all_prev_localizations[0]\n",
    "        infodict['Localization_source'] = all_prev_localization_sources[0]\n",
    "        infodict['Localization_multiple'] = None\n",
    "    \n",
    "    ## OTHERWISE...set localization to the one in the membrane, keep raw information in Localization_multiple\n",
    "    else:\n",
    "        if 'Inner_Membrane' in all_prev_localizations and 'Outer_Membrane' in all_prev_localizations:\n",
    "            raise ValueError('Multiple membrane localizations, please check:', complex_id)\n",
    "        else:\n",
    "            for memloc in ['Outer_Membrane', 'Inner_Membrane']:\n",
    "                if memloc in all_prev_localizations:\n",
    "                    prev_localizations = dict(localization_df[localization_df.Gene.isin(subunits)].set_index(['Gene', 'Localization']).index.values)\n",
    "                    infodict['Localization'] = memloc\n",
    "                    infodict['Localization_source'] = '; '.join(all_prev_localization_sources)\n",
    "                    infodict['Localization_multiple'] = ''.join([k + ':' + str(v) + '; ' for k,v in prev_localizations.items()]).strip('; ')\n",
    "    \n",
    "    return infodict"
   ]
  },
  {
   "cell_type": "code",
   "execution_count": 15,
   "metadata": {
    "ExecuteTime": {
     "end_time": "2018-04-18T04:11:26.301912Z",
     "start_time": "2018-04-18T04:11:26.292611Z"
    },
    "janus": {
     "all_versions_showing": false,
     "cell_hidden": false,
     "current_version": 0,
     "id": "1554a2fb45d9d8",
     "named_versions": [],
     "output_hidden": false,
     "show_versions": false,
     "source_hidden": false,
     "versions": []
    }
   },
   "outputs": [
    {
     "name": "stdout",
     "output_type": "stream",
     "text": [
      "{'Localization': 'Cytosol', 'Localization_source': 'iJL1678', 'Localization_multiple': None}\n",
      "{'Localization': 'Inner_Membrane', 'Localization_source': 'iJL1678', 'Localization_multiple': 'b0721:Inner_Membrane; b0722:Inner_Membrane; b0723:Cytosol; b0724:Cytosol'}\n"
     ]
    }
   ],
   "source": [
    "print(get_complex_localization('CYTDEAM-MONOMER', DF_WINNIE_RECIPE))\n",
    "print(get_complex_localization('SUCC-DEHASE_mod_3fe4s_mod_fad_mod_2fe2s_mod_4fe4s', DF_WINNIE_RECIPE))"
   ]
  },
  {
   "cell_type": "markdown",
   "metadata": {
    "janus": {
     "all_versions_showing": false,
     "cell_hidden": false,
     "current_version": 0,
     "id": "2343664b3f37a",
     "named_versions": [],
     "output_hidden": false,
     "show_versions": false,
     "source_hidden": false,
     "versions": []
    }
   },
   "source": [
    "## Prep final recipe dataframe\n",
    "- Add complex specific columns\n",
    "- Add membrane specific columns (to be used in separate cellPACK file later)"
   ]
  },
  {
   "cell_type": "code",
   "execution_count": 16,
   "metadata": {
    "ExecuteTime": {
     "end_time": "2018-04-18T04:11:26.327748Z",
     "start_time": "2018-04-18T04:11:26.303504Z"
    },
    "collapsed": true,
    "janus": {
     "all_versions_showing": false,
     "cell_hidden": false,
     "current_version": 0,
     "id": "5502d34f4c6d4",
     "named_versions": [],
     "output_hidden": false,
     "show_versions": false,
     "source_hidden": false,
     "versions": []
    }
   },
   "outputs": [],
   "source": [
    "DF_FINAL_RECIPE_RAW = DF_WINNIE_RECIPE.copy()\n",
    "\n",
    "# Complex specific columns\n",
    "DF_FINAL_RECIPE_RAW['Protein_stoichiometry'] = np.nan\n",
    "DF_FINAL_RECIPE_RAW['PDB_coverage'] = np.nan\n",
    "DF_FINAL_RECIPE_RAW['PDB_stoichiometry'] = np.nan\n",
    "DF_FINAL_RECIPE_RAW['PDB_quality'] = np.nan\n",
    "DF_FINAL_RECIPE_RAW['Localization_multiple'] = np.nan\n",
    "\n",
    "# Membrane specific columns\n",
    "DF_FINAL_RECIPE_RAW['PRINCIPAL_VECTOR'] = np.nan\n",
    "DF_FINAL_RECIPE_RAW['OFFSET'] = np.nan\n",
    "DF_FINAL_RECIPE_RAW['JITTER_MAX'] = np.nan\n",
    "DF_FINAL_RECIPE_RAW['PRINCIPAL_VECTOR_source'] = np.nan\n",
    "DF_FINAL_RECIPE_RAW['TM1_residues'] = np.nan\n",
    "DF_FINAL_RECIPE_RAW['TM2_residues'] = np.nan\n",
    "\n",
    "DF_FINAL_RECIPE_RAW = DF_FINAL_RECIPE_RAW.astype(object)"
   ]
  },
  {
   "cell_type": "markdown",
   "metadata": {
    "janus": {
     "all_versions_showing": false,
     "cell_hidden": false,
     "current_version": 0,
     "id": "a84aa9ae90d2b8",
     "named_versions": [],
     "output_hidden": false,
     "show_versions": false,
     "source_hidden": false,
     "versions": []
    }
   },
   "source": [
    "## Set structure directories"
   ]
  },
  {
   "cell_type": "markdown",
   "metadata": {
    "janus": {
     "all_versions_showing": false,
     "cell_hidden": false,
     "current_version": 0,
     "id": "537b17b410df38",
     "named_versions": [],
     "output_hidden": false,
     "show_versions": false,
     "source_hidden": false,
     "versions": []
    }
   },
   "source": [
    "### Final output directory"
   ]
  },
  {
   "cell_type": "code",
   "execution_count": 17,
   "metadata": {
    "ExecuteTime": {
     "end_time": "2018-04-18T04:11:26.331336Z",
     "start_time": "2018-04-18T04:11:26.329217Z"
    },
    "collapsed": true,
    "janus": {
     "all_versions_showing": false,
     "cell_hidden": false,
     "current_version": 0,
     "id": "43ecfb579f87a",
     "named_versions": [],
     "output_hidden": false,
     "show_versions": false,
     "source_hidden": false,
     "versions": []
    }
   },
   "outputs": [],
   "source": [
    "DIR_FINAL_STRUCTURES = '/home/nathan/projects_unsynced/vizrecon/P2_structures'"
   ]
  },
  {
   "cell_type": "markdown",
   "metadata": {
    "janus": {
     "all_versions_showing": false,
     "cell_hidden": false,
     "current_version": 0,
     "id": "3f2ac9f4dc0bc",
     "named_versions": [],
     "output_hidden": false,
     "show_versions": false,
     "source_hidden": false,
     "versions": []
    }
   },
   "source": [
    "### Homology models\n",
    "NOTE: To reproduce, download homology models at: https://www.dropbox.com/sh/zvnhkk36pxjk3w3/AACho-nxAkSRDgdlpQcjYcEMa?dl=0\n",
    "- ``sunpro.tar.gz``\n",
    "- ``zhang.tar.gz``\n",
    "- ``SWISS-MODEL_renamed``"
   ]
  },
  {
   "cell_type": "code",
   "execution_count": 18,
   "metadata": {
    "ExecuteTime": {
     "end_time": "2018-04-18T04:11:26.337006Z",
     "start_time": "2018-04-18T04:11:26.333176Z"
    },
    "collapsed": true,
    "janus": {
     "all_versions_showing": false,
     "cell_hidden": false,
     "current_version": 0,
     "id": "ecba6ce11686a8",
     "named_versions": [],
     "output_hidden": false,
     "show_versions": false,
     "source_hidden": false,
     "versions": []
    }
   },
   "outputs": [],
   "source": [
    "DIR_SWISS = '/home/nathan/projects_archive/homology_models/ECOLI/SWISS-MODEL_renamed'\n",
    "DIR_ITASSER = '/home/nathan/projects_archive/homology_models/ECOLI/zhang'\n",
    "DIR_METATASSER = '/home/nathan/projects_archive/homology_models/ECOLI/sunpro'"
   ]
  },
  {
   "cell_type": "markdown",
   "metadata": {
    "janus": {
     "all_versions_showing": false,
     "cell_hidden": false,
     "current_version": 0,
     "id": "1aeff6df050ea",
     "named_versions": [],
     "output_hidden": false,
     "show_versions": false,
     "source_hidden": false,
     "versions": []
    }
   },
   "source": [
    "### Prototype 1 structure files"
   ]
  },
  {
   "cell_type": "code",
   "execution_count": 19,
   "metadata": {
    "ExecuteTime": {
     "end_time": "2018-04-18T04:11:26.341949Z",
     "start_time": "2018-04-18T04:11:26.338302Z"
    },
    "collapsed": true,
    "janus": {
     "all_versions_showing": false,
     "cell_hidden": false,
     "current_version": 0,
     "id": "d1a9c8039c507",
     "named_versions": [],
     "output_hidden": false,
     "show_versions": false,
     "source_hidden": false,
     "versions": []
    }
   },
   "outputs": [],
   "source": [
    "DIR_P1_STRUCTURES = '/home/nathan/projects_unsynced/vizrecon/P1_structures'"
   ]
  },
  {
   "cell_type": "markdown",
   "metadata": {
    "janus": {
     "all_versions_showing": false,
     "cell_hidden": false,
     "current_version": 0,
     "id": "263705ac218838",
     "named_versions": [],
     "output_hidden": false,
     "show_versions": false,
     "source_hidden": false,
     "versions": []
    }
   },
   "source": [
    "### Bioassemblies\n",
    "NOTE: To reproduce, ask Nathan...had to use ssbio code currently in development"
   ]
  },
  {
   "cell_type": "code",
   "execution_count": 20,
   "metadata": {
    "ExecuteTime": {
     "end_time": "2018-04-18T04:11:26.345652Z",
     "start_time": "2018-04-18T04:11:26.343094Z"
    },
    "collapsed": true,
    "janus": {
     "all_versions_showing": false,
     "cell_hidden": false,
     "current_version": 0,
     "id": "d42f1fe6883b08",
     "named_versions": [],
     "output_hidden": false,
     "show_versions": false,
     "source_hidden": false,
     "versions": []
    }
   },
   "outputs": [],
   "source": [
    "DIR_PDB_BIOMOL = '/home/nathan/projects_unsynced/ecoli_gp/data/downloaded_bioassemblies'"
   ]
  },
  {
   "cell_type": "markdown",
   "metadata": {
    "janus": {
     "all_versions_showing": false,
     "cell_hidden": false,
     "current_version": 0,
     "id": "b3a95abc53bed8",
     "named_versions": [],
     "output_hidden": false,
     "show_versions": false,
     "source_hidden": false,
     "versions": []
    }
   },
   "source": [
    "#### FUNC: ``get_structure_file``"
   ]
  },
  {
   "cell_type": "code",
   "execution_count": 21,
   "metadata": {
    "ExecuteTime": {
     "end_time": "2018-04-18T04:11:27.233545Z",
     "start_time": "2018-04-18T04:11:26.346906Z"
    },
    "collapsed": true,
    "janus": {
     "all_versions_showing": false,
     "cell_hidden": false,
     "current_version": 0,
     "id": "4a01d2820774d",
     "named_versions": [],
     "output_hidden": false,
     "show_versions": false,
     "source_hidden": false,
     "versions": []
    }
   },
   "outputs": [],
   "source": [
    "from ssbio.databases.pdb import PDBProp\n",
    "def get_structure_file(structure_id):\n",
    "    \"\"\"Find a structure file based on a structure ID, return the path\"\"\"\n",
    "\n",
    "    # Check biomols\n",
    "    if '_bio' in structure_id:\n",
    "        pdb_bioassembly = op.join(DIR_PDB_BIOMOL, '{}_merged.pdb'.format(structure_id))\n",
    "        if op.exists(pdb_bioassembly):\n",
    "            return pdb_bioassembly\n",
    "        else:\n",
    "            raise FileNotFoundError('{}: missing bioassembly file, please download and store in {}'.format(structure_id, DIR_PDB_BIOMOL))\n",
    "    \n",
    "    # Check prototype 1 files and raw homology dirs\n",
    "    p1_struct = op.join(DIR_P1_STRUCTURES, '{}.pdb'.format(structure_id))\n",
    "    p1_struct_gp_swiss = op.join(DIR_P1_STRUCTURES, '{}_clean.pdb'.format(structure_id))\n",
    "    p1_struct_gp_itasser = op.join(DIR_P1_STRUCTURES, '{}_model1_clean-X_clean.pdb'.format(structure_id))\n",
    "    p1_struct_gp_sunpro = op.join(DIR_P1_STRUCTURES, '{}_clean-X_clean.pdb'.format(structure_id))\n",
    "    hom_swiss = op.join(DIR_SWISS, '{}.pdb'.format(structure_id))\n",
    "    hom_itasser = op.join(DIR_ITASSER, '{}_model1.pdb'.format(structure_id))\n",
    "    hom_metatasser = op.join(DIR_METATASSER, '{}.pdb'.format(structure_id))\n",
    "    \n",
    "    if op.exists(p1_struct):\n",
    "        return p1_struct\n",
    "    elif op.exists(p1_struct_gp_swiss):\n",
    "        return p1_struct_gp_swiss\n",
    "    elif op.exists(p1_struct_gp_itasser):\n",
    "        return p1_struct_gp_itasser\n",
    "    elif op.exists(p1_struct_gp_sunpro):\n",
    "        return p1_struct_gp_sunpro\n",
    "    elif op.exists(hom_itasser):\n",
    "        return hom_itasser\n",
    "    elif op.exists(hom_swiss):\n",
    "        return hom_swiss\n",
    "    elif op.exists(hom_metatasser):\n",
    "        return hom_metatasser\n",
    "    elif get_structure_source(structure_id) == 'Protein Data Bank':\n",
    "        pp = PDBProp(ident=structure_id)\n",
    "        pp.download_structure_file(outdir=DIR_P1_STRUCTURES, load_header_metadata=False, file_type='pdb')\n",
    "        return pp.structure_path\n",
    "    else:\n",
    "        raise FileNotFoundError('{}: missing file!!'.format(structure_id))"
   ]
  },
  {
   "cell_type": "code",
   "execution_count": 22,
   "metadata": {
    "ExecuteTime": {
     "end_time": "2018-04-18T04:11:27.239545Z",
     "start_time": "2018-04-18T04:11:27.235045Z"
    },
    "janus": {
     "all_versions_showing": false,
     "cell_hidden": false,
     "current_version": 0,
     "id": "18de8097e288f8",
     "named_versions": [],
     "output_hidden": false,
     "show_versions": false,
     "source_hidden": false,
     "versions": []
    }
   },
   "outputs": [
    {
     "name": "stdout",
     "output_type": "stream",
     "text": [
      "/home/nathan/projects_unsynced/ecoli_gp/data/downloaded_bioassemblies/1nen_bio1_merged.pdb\n",
      "/home/nathan/projects_unsynced/vizrecon/P1_structures/b0025_1_312_4uze_clean.pdb\n",
      "/home/nathan/projects_archive/homology_models/ECOLI/zhang/YIDK_ECOLI_model1.pdb\n",
      "/home/nathan/projects_unsynced/vizrecon/P1_structures/YHJK_ECOLI_model1_clean-X_clean.pdb\n"
     ]
    }
   ],
   "source": [
    "print(get_structure_file('1nen_bio1'))\n",
    "print(get_structure_file('b0025_1_312_4uze_clean'))\n",
    "print(get_structure_file('YIDK_ECOLI'))\n",
    "print(get_structure_file('YHJK_ECOLI'))"
   ]
  },
  {
   "cell_type": "markdown",
   "metadata": {
    "janus": {
     "all_versions_showing": false,
     "cell_hidden": false,
     "current_version": 0,
     "id": "918ab9be79aec8",
     "named_versions": [],
     "output_hidden": false,
     "show_versions": false,
     "source_hidden": false,
     "versions": []
    }
   },
   "source": [
    "#### FUNC: ``get_complex_best_structure``"
   ]
  },
  {
   "cell_type": "code",
   "execution_count": 23,
   "metadata": {
    "ExecuteTime": {
     "end_time": "2018-04-18T04:11:27.468024Z",
     "start_time": "2018-04-18T04:11:27.241276Z"
    },
    "collapsed": true,
    "janus": {
     "all_versions_showing": false,
     "cell_hidden": false,
     "current_version": 0,
     "id": "4b727ee4868c1",
     "named_versions": [],
     "output_hidden": false,
     "show_versions": false,
     "source_hidden": false,
     "versions": []
    }
   },
   "outputs": [],
   "source": [
    "MANUAL_COMPLEX = []\n",
    "\n",
    "def get_complex_best_structure(complex_id):\n",
    "    \"\"\"Return an infodict of the complex GEMbrane results\"\"\"\n",
    "    complex_id = get_complex_id(complex_id)\n",
    "    \n",
    "    infodict = {}\n",
    "    \n",
    "    infodict['PDB'] = None\n",
    "    infodict['PDB_coverage'] = None\n",
    "    infodict['PDB_quality'] = None\n",
    "    infodict['PDB_stoichiometry'] = None\n",
    "    infodict['Structure_ID'] = None\n",
    "    infodict['Structure_source'] = None\n",
    "    infodict['file_to_copy'] = None\n",
    "    \n",
    "    if complex_id in NATHAN_CPLX_DICT:\n",
    "        structure_id = list(NATHAN_CPLX_DICT[complex_id].keys())[0]\n",
    "        structure_file = get_structure_file(structure_id)\n",
    "        infodict['PDB_coverage'] = 'complete'\n",
    "        infodict['Structure_ID'] = structure_id\n",
    "        infodict['file_to_copy'] = structure_file\n",
    "        infodict['PDB'] = op.basename(structure_file)\n",
    "        if 'bio' in structure_id or len(structure_id) == 4:\n",
    "            infodict['PDB_quality'] = 'all-experimental'\n",
    "            infodict['Structure_source'] = 'Protein Data Bank'\n",
    "        else:\n",
    "            infodict['PDB_quality'] = 'all-homology'\n",
    "            if EDDIE_CPLX_DICT[complex_id]['use_ECOLI'] and not EDDIE_CPLX_DICT[complex_id]['use_SWISS'] and not EDDIE_CPLX_DICT[complex_id]['use_homology_other']:\n",
    "                infodict['Structure_source'] = 'I-TASSER'\n",
    "            elif not EDDIE_CPLX_DICT[complex_id]['use_ECOLI'] and EDDIE_CPLX_DICT[complex_id]['use_SWISS'] and not EDDIE_CPLX_DICT[complex_id]['use_homology_other']:\n",
    "                infodict['Structure_source'] = 'SWISS-MODEL'\n",
    "            elif not EDDIE_CPLX_DICT[complex_id]['use_ECOLI'] and not EDDIE_CPLX_DICT[complex_id]['use_SWISS'] and EDDIE_CPLX_DICT[complex_id]['use_homology_other']:\n",
    "                infodict['Structure_source'] = 'metaTASSER'\n",
    "        pdb_stoich = ''\n",
    "        for k,v in NATHAN_CPLX_DICT[complex_id].items():  # {'1p3h_bio2': 1}\n",
    "            pdb_stoich = pdb_stoich + k + ':' + str(int(v)) + '; '\n",
    "        pdb_stoich = pdb_stoich.strip('; ')\n",
    "        infodict['PDB_stoichiometry'] = pdb_stoich\n",
    "        \n",
    "    elif complex_id in NATHAN_CPLX_DUMMY_DICT:\n",
    "        infodict['PDB_coverage'] = 'dummy'\n",
    "        \n",
    "        if complex_id in EDDIE_CPLX_DICT:\n",
    "            has_exp = False\n",
    "            has_hom = False\n",
    "            structure_sources = []\n",
    "            if EDDIE_CPLX_DICT[complex_id]['use_PDBs']:\n",
    "                has_exp = True\n",
    "                structure_sources.append('Protein Data Bank')\n",
    "            if EDDIE_CPLX_DICT[complex_id]['use_ECOLI']:\n",
    "                has_hom = True\n",
    "                structure_sources.append('I-TASSER')\n",
    "            if EDDIE_CPLX_DICT[complex_id]['use_SWISS']:\n",
    "                has_hom = True\n",
    "                structure_sources.append('SWISS-MODEL')\n",
    "            if EDDIE_CPLX_DICT[complex_id]['use_homology_other']:\n",
    "                has_hom = True\n",
    "                structure_sources.append('metaTASSER')\n",
    "                \n",
    "            if has_exp and not has_hom:\n",
    "                infodict['PDB_quality'] = 'all-experimental'\n",
    "                infodict['Structure_source'] = '; '.join(structure_sources)\n",
    "            elif has_exp and has_hom:\n",
    "                infodict['PDB_quality'] = 'mix-experimental-homology'\n",
    "                infodict['Structure_source'] = '; '.join(structure_sources)\n",
    "            elif not has_exp and has_hom:\n",
    "                infodict['PDB_quality'] = 'all-homology'\n",
    "                infodict['Structure_source'] = '; '.join(structure_sources)\n",
    "        else:\n",
    "            raise ValueError('{}: cannot get gembrane info for complex'.format(complex_id))\n",
    "            \n",
    "        pdb_stoich = ''\n",
    "        for k,v in NATHAN_CPLX_DUMMY_DICT[complex_id].items():  # {'1p3h_bio2': 1}\n",
    "            pdb_stoich = pdb_stoich + k + ':' + str(v) + '; '\n",
    "        pdb_stoich = pdb_stoich.strip('; ')\n",
    "        infodict['PDB_stoichiometry'] = pdb_stoich\n",
    "    \n",
    "    elif complex_id in NATHAN_CPLX_MISSING_LIST:\n",
    "        print('[TODO] {}: missing complex'.format(complex_id))\n",
    "        MANUAL_COMPLEX.append(complex_id)\n",
    "    else:\n",
    "        raise ValueError('{}: unknown complex'.format(complex_id))\n",
    "        \n",
    "    return infodict"
   ]
  },
  {
   "cell_type": "code",
   "execution_count": 24,
   "metadata": {
    "ExecuteTime": {
     "end_time": "2018-04-18T04:11:27.483652Z",
     "start_time": "2018-04-18T04:11:27.469835Z"
    },
    "janus": {
     "all_versions_showing": false,
     "cell_hidden": false,
     "current_version": 0,
     "id": "aae8bae049629",
     "named_versions": [],
     "output_hidden": false,
     "show_versions": false,
     "source_hidden": false,
     "versions": []
    }
   },
   "outputs": [
    {
     "name": "stdout",
     "output_type": "stream",
     "text": [
      "{'PDB': '1rqj_bio1_merged.pdb', 'PDB_coverage': 'complete', 'PDB_quality': 'all-experimental', 'PDB_stoichiometry': '1rqj_bio1:1', 'Structure_ID': '1rqj_bio1', 'Structure_source': 'Protein Data Bank', 'file_to_copy': '/home/nathan/projects_unsynced/ecoli_gp/data/downloaded_bioassemblies/1rqj_bio1_merged.pdb'}\n",
      "{'PDB': '2buh_bio2_merged.pdb', 'PDB_coverage': 'complete', 'PDB_quality': 'all-experimental', 'PDB_stoichiometry': '2buh_bio2:1', 'Structure_ID': '2buh_bio2', 'Structure_source': 'Protein Data Bank', 'file_to_copy': '/home/nathan/projects_unsynced/ecoli_gp/data/downloaded_bioassemblies/2buh_bio2_merged.pdb'}\n",
      "{'PDB': None, 'PDB_coverage': 'dummy', 'PDB_quality': 'all-homology', 'PDB_stoichiometry': 'P0ADC3_6_397_5lj6:1; P75957_3_229_5xu1:1; P75958_52_263_5udf:1', 'Structure_ID': None, 'Structure_source': 'SWISS-MODEL', 'file_to_copy': None}\n"
     ]
    }
   ],
   "source": [
    "print(get_complex_best_structure('FPPSYN-MONOMER_mod_mn2'))\n",
    "print(get_complex_best_structure('FABB-CPLX'))\n",
    "print(get_complex_best_structure('LolCDE-CPLX'))"
   ]
  },
  {
   "cell_type": "markdown",
   "metadata": {
    "janus": {
     "all_versions_showing": false,
     "cell_hidden": false,
     "current_version": 0,
     "id": "636a16f1d9d72",
     "named_versions": [],
     "output_hidden": false,
     "show_versions": false,
     "source_hidden": false,
     "versions": []
    }
   },
   "source": [
    "## Add: complex stoichiometries"
   ]
  },
  {
   "cell_type": "markdown",
   "metadata": {
    "janus": {
     "all_versions_showing": false,
     "cell_hidden": false,
     "current_version": 0,
     "id": "24e8648df1b63",
     "named_versions": [],
     "output_hidden": false,
     "show_versions": false,
     "source_hidden": false,
     "versions": []
    }
   },
   "source": [
    "### Monomers"
   ]
  },
  {
   "cell_type": "code",
   "execution_count": 25,
   "metadata": {
    "ExecuteTime": {
     "end_time": "2018-04-18T04:11:33.585690Z",
     "start_time": "2018-04-18T04:11:27.486260Z"
    },
    "collapsed": true,
    "janus": {
     "all_versions_showing": false,
     "cell_hidden": false,
     "current_version": 0,
     "id": "38fde8a10d363",
     "named_versions": [],
     "output_hidden": false,
     "show_versions": false,
     "source_hidden": false,
     "versions": []
    }
   },
   "outputs": [],
   "source": [
    "monomer_idxes = DF_FINAL_RECIPE_RAW[pd.notnull(DF_FINAL_RECIPE_RAW.Gene)].index\n",
    "for i in monomer_idxes:\n",
    "    DF_FINAL_RECIPE_RAW.at[i, 'Protein_stoichiometry'] = DF_FINAL_RECIPE_RAW.at[i, 'Gene'] + ':1'\n",
    "    \n",
    "monomer_idxes = DF_FINAL_RECIPE_RAW[(pd.notnull(DF_FINAL_RECIPE_RAW.Gene)) & (pd.notnull(DF_FINAL_RECIPE_RAW.PDB))].index\n",
    "for i in monomer_idxes:\n",
    "    DF_FINAL_RECIPE_RAW.at[i, 'PDB_coverage'] = 'complete'\n",
    "    DF_FINAL_RECIPE_RAW.at[i, 'PDB_stoichiometry'] = DF_FINAL_RECIPE_RAW.at[i, 'PDB'] + ':1'\n",
    "    if DF_FINAL_RECIPE_RAW.at[i, 'Structure_source'] == 'Protein Data Bank':\n",
    "        DF_FINAL_RECIPE_RAW.at[i, 'PDB_quality'] = 'all-experimental'\n",
    "    else:\n",
    "        DF_FINAL_RECIPE_RAW.at[i, 'PDB_quality'] = 'all-homology'\n",
    "    shutil.copy(op.join(DIR_P1_STRUCTURES, DF_FINAL_RECIPE_RAW.at[i, 'PDB']), DIR_FINAL_STRUCTURES)"
   ]
  },
  {
   "cell_type": "markdown",
   "metadata": {
    "janus": {
     "all_versions_showing": false,
     "cell_hidden": false,
     "current_version": 0,
     "id": "828aa4e00e94c8",
     "named_versions": [],
     "output_hidden": false,
     "show_versions": false,
     "source_hidden": false,
     "versions": []
    }
   },
   "source": [
    "### Complexes"
   ]
  },
  {
   "cell_type": "code",
   "execution_count": 26,
   "metadata": {
    "ExecuteTime": {
     "end_time": "2018-04-18T04:11:38.988450Z",
     "start_time": "2018-04-18T04:11:33.587284Z"
    },
    "janus": {
     "all_versions_showing": false,
     "cell_hidden": false,
     "current_version": 0,
     "id": "5a5d67fe3c4b7",
     "named_versions": [],
     "output_hidden": false,
     "show_versions": false,
     "source_hidden": false,
     "versions": []
    }
   },
   "outputs": [
    {
     "name": "stdout",
     "output_type": "stream",
     "text": [
      "ABC-53-CPLX: need dummy\n",
      "ACETOLACTSYNIII-CPLX: need dummy\n",
      "ACETYL-COA-CARBOXYLMULTI-CPLX_mod_btn: need dummy\n",
      "ANTHRANSYN-CPLX_mod_mg2: need dummy\n",
      "CARBODEHYDRAT-CPLX_mod_zn2: need dummy\n",
      "CPLX-157: need dummy\n",
      "CPLX0-1721: cannot store annotated localization\n",
      "CPLX0-1923_EG10155-MONOMER: cannot store annotated localization\n",
      "CPLX0-1923_EG10306-MONOMER: cannot store annotated localization\n",
      "CPLX0-1924: cannot store annotated localization\n",
      "CPLX0-1941: cannot store annotated localization\n",
      "CPLX0-1942: cannot store annotated localization\n",
      "CPLX0-1943: cannot store annotated localization\n",
      "CPLX0-2141: cannot store annotated localization\n",
      "CPLX0-3161_mod_zn2_mod_cobalt2: need dummy\n",
      "CPLX0-3181: need dummy\n",
      "CPLX0-3932: cannot store annotated localization\n",
      "CPLX0-7415: need dummy\n",
      "CPLX0-7428: need dummy\n",
      "CPLX0-761: need dummy\n",
      "CPLX0-7614: need dummy\n",
      "CPLX0-7719_mod_4fe4s: need dummy\n",
      "DIAMINOPIMDECARB-CPLX_mod_pydx5p: need dummy\n",
      "DIHYDROXYACIDDEHYDRAT-CPLX_mod_4fe4s: need dummy\n",
      "EG11910-MONOMER_dimer_EG11911-MONOMER: cannot store annotated stoichiometry\n",
      "EG11910-MONOMER_dimer_EG11911-MONOMER: cannot store annotated localization\n",
      "FADB-CPLX: need dummy\n",
      "G6414-MONOMER_CPLX0-1923: cannot store annotated localization\n",
      "G7322-MONOMER_G6561-MONOMER: need dummy\n",
      "Gly_RS_tetra: need dummy\n",
      "HMP-P-KIN-CPLX: need dummy\n",
      "IscU: need dummy\n",
      "LolCDE-CPLX: need dummy\n",
      "PHOSACETYLTRANS-CPLX: need dummy\n",
      "[TODO] RNase_P_cplx: missing complex\n",
      "RhlB_dim: need dummy\n",
      "[TODO] Rph_mono: missing complex\n",
      "SAICARSYN-CPLX: need dummy\n",
      "[TODO] SRP-CPLX: missing complex\n",
      "SRP-CPLX: need dummy\n",
      "SULFITE-REDUCT-CPLX_mod_4fe4s_mod_sheme_mod_fmn_mod_fad: need dummy\n",
      "Sec-CPLX: need dummy\n",
      "THREDEHYDSYN-CPLX_mod_pydx5p: need dummy\n",
      "TRANS-CPLX-201: cannot store annotated localization\n",
      "hRNAP_mod_1:zn2_mod_2:mg2: need dummy\n"
     ]
    }
   ],
   "source": [
    "complex_idxes = DF_FINAL_RECIPE_RAW[pd.isnull(DF_FINAL_RECIPE_RAW.Gene)].index\n",
    "\n",
    "for i in complex_idxes:\n",
    "    cplx_raw = DF_FINAL_RECIPE_RAW.at[i, 'NAME']\n",
    "\n",
    "    # Set source (model_id)\n",
    "    DF_FINAL_RECIPE_RAW.at[i, 'model_id'] = 'ECOLIme'\n",
    "    \n",
    "    # Set name/description of complex\n",
    "    DF_FINAL_RECIPE_RAW.at[i, 'Description'] = get_complex_name(cplx_raw)\n",
    "    \n",
    "    # Set annotated stoichiometry\n",
    "    try:\n",
    "        DF_FINAL_RECIPE_RAW.at[i, 'Protein_stoichiometry'] = get_complex_stoichiometry_formatted(cplx_raw)\n",
    "    except ValueError:\n",
    "        print('{}: cannot store annotated stoichiometry'.format(cplx_raw))\n",
    "        \n",
    "    # Set localization\n",
    "    try:\n",
    "        localization = get_complex_localization(cplx_raw, DF_WINNIE_RECIPE)\n",
    "    except ValueError:\n",
    "        print('{}: cannot store annotated localization'.format(cplx_raw))\n",
    "    DF_FINAL_RECIPE_RAW.at[i, 'Localization'] = localization['Localization']\n",
    "    DF_FINAL_RECIPE_RAW.at[i, 'Localization_source'] = localization['Localization_source']\n",
    "    DF_FINAL_RECIPE_RAW.at[i, 'Localization_multiple'] = localization['Localization_multiple']\n",
    "    \n",
    "    # Set coverage by available structure\n",
    "    best_structures = get_complex_best_structure(cplx_raw)\n",
    "    DF_FINAL_RECIPE_RAW.at[i, 'PDB'] = best_structures['PDB']\n",
    "    DF_FINAL_RECIPE_RAW.at[i, 'PDB_coverage'] = best_structures['PDB_coverage']\n",
    "    DF_FINAL_RECIPE_RAW.at[i, 'PDB_quality'] = best_structures['PDB_quality']\n",
    "    DF_FINAL_RECIPE_RAW.at[i, 'PDB_stoichiometry'] = best_structures['PDB_stoichiometry']\n",
    "    DF_FINAL_RECIPE_RAW.at[i, 'Structure_ID'] = best_structures['Structure_ID']\n",
    "    DF_FINAL_RECIPE_RAW.at[i, 'Structure_source'] = best_structures['Structure_source']\n",
    "    if best_structures['file_to_copy']:\n",
    "        shutil.copy(best_structures['file_to_copy'], DIR_FINAL_STRUCTURES)\n",
    "    elif DF_FINAL_RECIPE_RAW.at[i, 'Copy_number2'] > 0:\n",
    "        print('{}: need dummy'.format(cplx_raw))"
   ]
  },
  {
   "cell_type": "markdown",
   "metadata": {
    "janus": {
     "all_versions_showing": false,
     "cell_hidden": false,
     "current_version": 0,
     "id": "35d12c440ba44",
     "named_versions": [],
     "output_hidden": false,
     "show_versions": false,
     "source_hidden": false,
     "versions": []
    }
   },
   "source": [
    "## Load membrane data"
   ]
  },
  {
   "cell_type": "markdown",
   "metadata": {
    "janus": {
     "all_versions_showing": false,
     "cell_hidden": false,
     "current_version": 0,
     "id": "57f8f861f8a55",
     "named_versions": [],
     "output_hidden": false,
     "show_versions": false,
     "source_hidden": false,
     "versions": []
    }
   },
   "source": [
    "### Eddie: raw membane protein structure dictionaries"
   ]
  },
  {
   "cell_type": "code",
   "execution_count": 27,
   "metadata": {
    "ExecuteTime": {
     "end_time": "2018-04-18T04:11:39.270585Z",
     "start_time": "2018-04-18T04:11:38.991412Z"
    },
    "collapsed": true,
    "janus": {
     "all_versions_showing": false,
     "cell_hidden": false,
     "current_version": 0,
     "id": "773398f79dcf58",
     "named_versions": [],
     "output_hidden": false,
     "show_versions": false,
     "source_hidden": false,
     "versions": []
    }
   },
   "outputs": [],
   "source": [
    "with open('./cellpack_P2_prep/dict_GP1516_OPMNplanes_residues.json', 'r') as f:\n",
    "    GEMBRANE_OPM_DICT = json.load(f)\n",
    "with open('./cellpack_P2_prep/dict_GP1516_TMHMMNplanes_residues.json', 'r') as f:\n",
    "    GEMBRANE_TMHMM_DICT = json.load(f)\n",
    "with open('./cellpack_P2_prep/dict_GP1516_UniprotNplanes_residues_new.json', 'r') as f:\n",
    "    GEMBRANE_UNIPROT_DICT = json.load(f)"
   ]
  },
  {
   "cell_type": "markdown",
   "metadata": {
    "janus": {
     "all_versions_showing": false,
     "cell_hidden": false,
     "current_version": 0,
     "id": "8d5a4e38497d",
     "named_versions": [],
     "output_hidden": false,
     "show_versions": false,
     "source_hidden": false,
     "versions": []
    }
   },
   "source": [
    "#### FUNC: ``get_tm_planes``"
   ]
  },
  {
   "cell_type": "code",
   "execution_count": 28,
   "metadata": {
    "ExecuteTime": {
     "end_time": "2018-04-18T04:11:39.288929Z",
     "start_time": "2018-04-18T04:11:39.271928Z"
    },
    "collapsed": true,
    "janus": {
     "all_versions_showing": false,
     "cell_hidden": false,
     "current_version": 0,
     "id": "431cf82786c7d8",
     "named_versions": [],
     "output_hidden": false,
     "show_versions": false,
     "source_hidden": false,
     "versions": []
    }
   },
   "outputs": [],
   "source": [
    "def get_tm_planes(gene_id, structure_id, gembrane_source):\n",
    "    infodict = {}\n",
    "    if gembrane_source == 'OPM':\n",
    "        infodict['TM1_residues'] = ','.join(GEMBRANE_OPM_DICT[gene_id][structure_id]['OPM_residues_used_to_draw_planes']['TM_1'])\n",
    "        infodict['TM2_residues'] = ','.join(GEMBRANE_OPM_DICT[gene_id][structure_id]['OPM_residues_used_to_draw_planes']['TM_2'])\n",
    "    elif 'Uniprot' in gembrane_source:\n",
    "        keys = gembrane_source.replace('Uniprot ', '').split(' + ')\n",
    "        if 'TMHMM' in keys:\n",
    "            keys.remove('TMHMM')\n",
    "        infodict['TM1_residues'] = ','.join(GEMBRANE_UNIPROT_DICT[gene_id][structure_id]['uniprot_n_planes_residues'][keys[0]])\n",
    "        infodict['TM2_residues'] = ','.join(GEMBRANE_UNIPROT_DICT[gene_id][structure_id]['uniprot_n_planes_residues'][keys[1]])\n",
    "    else:\n",
    "        infodict['TM1_residues'] = ','.join(GEMBRANE_TMHMM_DICT[gene_id][structure_id]['TMHMM_residues_used_to_draw_planes']['tmhmm_leaflet_O'])\n",
    "        infodict['TM2_residues'] = ','.join(GEMBRANE_TMHMM_DICT[gene_id][structure_id]['TMHMM_residues_used_to_draw_planes']['tmhmm_leaflet_I'])\n",
    "    return infodict"
   ]
  },
  {
   "cell_type": "markdown",
   "metadata": {
    "janus": {
     "all_versions_showing": false,
     "cell_hidden": false,
     "current_version": 0,
     "id": "aa9dd68bcec9f",
     "named_versions": [],
     "output_hidden": false,
     "show_versions": false,
     "source_hidden": false,
     "versions": []
    }
   },
   "source": [
    "### Eddie: previously selected membrane protein complexes"
   ]
  },
  {
   "cell_type": "code",
   "execution_count": 29,
   "metadata": {
    "ExecuteTime": {
     "end_time": "2018-04-18T04:11:39.322295Z",
     "start_time": "2018-04-18T04:11:39.291004Z"
    },
    "janus": {
     "all_versions_showing": false,
     "cell_hidden": false,
     "current_version": 0,
     "id": "e06e94f5dfdbc8",
     "named_versions": [],
     "output_hidden": false,
     "show_versions": false,
     "source_hidden": false,
     "versions": []
    }
   },
   "outputs": [
    {
     "data": {
      "text/html": [
       "<div>\n",
       "<style scoped>\n",
       "    .dataframe tbody tr th:only-of-type {\n",
       "        vertical-align: middle;\n",
       "    }\n",
       "\n",
       "    .dataframe tbody tr th {\n",
       "        vertical-align: top;\n",
       "    }\n",
       "\n",
       "    .dataframe thead th {\n",
       "        text-align: right;\n",
       "    }\n",
       "</style>\n",
       "<table border=\"1\" class=\"dataframe\">\n",
       "  <thead>\n",
       "    <tr style=\"text-align: right;\">\n",
       "      <th></th>\n",
       "      <th>cobraME_complex</th>\n",
       "      <th>type_of_match</th>\n",
       "      <th>gempro_area</th>\n",
       "      <th>pdb_metadata</th>\n",
       "      <th>mw_ratio_GP_to_ME</th>\n",
       "      <th>gene_stoich</th>\n",
       "      <th>Compartment</th>\n",
       "      <th>Reaction</th>\n",
       "    </tr>\n",
       "  </thead>\n",
       "  <tbody>\n",
       "    <tr>\n",
       "      <th>0</th>\n",
       "      <td>ABC-35-CPLX</td>\n",
       "      <td>full_combination</td>\n",
       "      <td>512.782921</td>\n",
       "      <td>{'CCMA_ECOLI': '2', 'CCMB_ECOLI': '1', 'CCMC_E...</td>\n",
       "      <td>1.112794</td>\n",
       "      <td>{'b2197': 1, 'b2201': 2, 'b2200': 1, 'b2199': ...</td>\n",
       "      <td>['Inner_Membrane']</td>\n",
       "      <td>protein_b2197_Periplasm + protein_b2198_Inner_...</td>\n",
       "    </tr>\n",
       "    <tr>\n",
       "      <th>1</th>\n",
       "      <td>YHIP-MONOMER</td>\n",
       "      <td>full_coverage</td>\n",
       "      <td>1122.254207</td>\n",
       "      <td>{'DTPB_ECOLI': 1}</td>\n",
       "      <td>1.162664</td>\n",
       "      <td>{'b3496': 1}</td>\n",
       "      <td>['Inner_Membrane']</td>\n",
       "      <td>protein_b3496_Inner_Membrane --&gt; YHIP-MONOMER</td>\n",
       "    </tr>\n",
       "  </tbody>\n",
       "</table>\n",
       "</div>"
      ],
      "text/plain": [
       "  cobraME_complex     type_of_match  gempro_area  \\\n",
       "0     ABC-35-CPLX  full_combination   512.782921   \n",
       "1    YHIP-MONOMER     full_coverage  1122.254207   \n",
       "\n",
       "                                        pdb_metadata  mw_ratio_GP_to_ME  \\\n",
       "0  {'CCMA_ECOLI': '2', 'CCMB_ECOLI': '1', 'CCMC_E...           1.112794   \n",
       "1                                  {'DTPB_ECOLI': 1}           1.162664   \n",
       "\n",
       "                                         gene_stoich         Compartment  \\\n",
       "0  {'b2197': 1, 'b2201': 2, 'b2200': 1, 'b2199': ...  ['Inner_Membrane']   \n",
       "1                                       {'b3496': 1}  ['Inner_Membrane']   \n",
       "\n",
       "                                            Reaction  \n",
       "0  protein_b2197_Periplasm + protein_b2198_Inner_...  \n",
       "1      protein_b3496_Inner_Membrane --> YHIP-MONOMER  "
      ]
     },
     "execution_count": 29,
     "metadata": {},
     "output_type": "execute_result"
    }
   ],
   "source": [
    "DF_GEMBRANE_CPLX = pd.read_csv('./cellpack_P2_prep/eddie_original_membrane_proteins.csv', index_col=0)\n",
    "DF_GEMBRANE_CPLX.head(2)"
   ]
  },
  {
   "cell_type": "markdown",
   "metadata": {
    "janus": {
     "all_versions_showing": false,
     "cell_hidden": false,
     "current_version": 0,
     "id": "8880ec7b602228",
     "named_versions": [],
     "output_hidden": false,
     "show_versions": false,
     "source_hidden": false,
     "versions": []
    }
   },
   "source": [
    "### Eddie: previously calculated membrane protein structure qualities"
   ]
  },
  {
   "cell_type": "code",
   "execution_count": 30,
   "metadata": {
    "ExecuteTime": {
     "end_time": "2018-04-18T04:11:39.682826Z",
     "start_time": "2018-04-18T04:11:39.323782Z"
    },
    "janus": {
     "all_versions_showing": false,
     "cell_hidden": false,
     "current_version": 0,
     "id": "eaf78809eadc88",
     "named_versions": [],
     "output_hidden": false,
     "show_versions": false,
     "source_hidden": false,
     "versions": []
    }
   },
   "outputs": [
    {
     "data": {
      "text/html": [
       "<div>\n",
       "<style scoped>\n",
       "    .dataframe tbody tr th:only-of-type {\n",
       "        vertical-align: middle;\n",
       "    }\n",
       "\n",
       "    .dataframe tbody tr th {\n",
       "        vertical-align: top;\n",
       "    }\n",
       "\n",
       "    .dataframe thead th {\n",
       "        text-align: right;\n",
       "    }\n",
       "</style>\n",
       "<table border=\"1\" class=\"dataframe\">\n",
       "  <thead>\n",
       "    <tr style=\"text-align: right;\">\n",
       "      <th></th>\n",
       "      <th>Structure</th>\n",
       "      <th>Average_Area</th>\n",
       "      <th>Average_angle</th>\n",
       "      <th>Average_hydrophobic_thickness</th>\n",
       "      <th>OPM_angle</th>\n",
       "      <th>OPM_area</th>\n",
       "      <th>OPM_distance</th>\n",
       "      <th>OPM_quality</th>\n",
       "      <th>TMHMM_angle</th>\n",
       "      <th>TMHMM_area</th>\n",
       "      <th>TMHMM_distance</th>\n",
       "      <th>TMHMM_quality</th>\n",
       "      <th>Uniprot_angle</th>\n",
       "      <th>Uniprot_area</th>\n",
       "      <th>Uniprot_distance</th>\n",
       "      <th>Uniprot_quality</th>\n",
       "      <th>genes</th>\n",
       "      <th>identical_structures</th>\n",
       "      <th>cobraME</th>\n",
       "      <th>Ecocyc</th>\n",
       "      <th>iJL</th>\n",
       "      <th>Manual_angle</th>\n",
       "      <th>Manual_area</th>\n",
       "      <th>Manual_distance</th>\n",
       "      <th>Manual_quality</th>\n",
       "      <th>Gene</th>\n",
       "      <th>Gene_list</th>\n",
       "    </tr>\n",
       "  </thead>\n",
       "  <tbody>\n",
       "    <tr>\n",
       "      <th>0</th>\n",
       "      <td>FLGG_ECOLI</td>\n",
       "      <td>NaN</td>\n",
       "      <td>NaN</td>\n",
       "      <td>NaN</td>\n",
       "      <td>NaN</td>\n",
       "      <td>([], [])</td>\n",
       "      <td>NaN</td>\n",
       "      <td>POOR</td>\n",
       "      <td>NaN</td>\n",
       "      <td>([], [])</td>\n",
       "      <td>NaN</td>\n",
       "      <td>POOR</td>\n",
       "      <td>NaN</td>\n",
       "      <td>([], [])</td>\n",
       "      <td>NaN</td>\n",
       "      <td>POOR</td>\n",
       "      <td>[u'b1078']</td>\n",
       "      <td>[u'FLGG_ECOLI', u'5wrh', u'5wrh_bio1']</td>\n",
       "      <td>Present</td>\n",
       "      <td>Present</td>\n",
       "      <td>Absent</td>\n",
       "      <td>0</td>\n",
       "      <td>0</td>\n",
       "      <td>0</td>\n",
       "      <td>0.0</td>\n",
       "      <td>b1078</td>\n",
       "      <td>[b1078]</td>\n",
       "    </tr>\n",
       "    <tr>\n",
       "      <th>1</th>\n",
       "      <td>5mdy</td>\n",
       "      <td>NaN</td>\n",
       "      <td>NaN</td>\n",
       "      <td>NaN</td>\n",
       "      <td>NaN</td>\n",
       "      <td>([], [])</td>\n",
       "      <td>NaN</td>\n",
       "      <td>POOR</td>\n",
       "      <td>NaN</td>\n",
       "      <td>([], [])</td>\n",
       "      <td>NaN</td>\n",
       "      <td>POOR</td>\n",
       "      <td>NaN</td>\n",
       "      <td>([], [])</td>\n",
       "      <td>NaN</td>\n",
       "      <td>POOR</td>\n",
       "      <td>[u'b3341']</td>\n",
       "      <td>[u'5mdy', u'4v48', u'4v47', u'RS7_ECOLI', u'4v...</td>\n",
       "      <td>Present</td>\n",
       "      <td>Present</td>\n",
       "      <td>Present</td>\n",
       "      <td>0</td>\n",
       "      <td>0</td>\n",
       "      <td>0</td>\n",
       "      <td>0.0</td>\n",
       "      <td>b3341</td>\n",
       "      <td>[b3341]</td>\n",
       "    </tr>\n",
       "  </tbody>\n",
       "</table>\n",
       "</div>"
      ],
      "text/plain": [
       "    Structure Average_Area Average_angle Average_hydrophobic_thickness  \\\n",
       "0  FLGG_ECOLI          NaN           NaN                           NaN   \n",
       "1        5mdy          NaN           NaN                           NaN   \n",
       "\n",
       "  OPM_angle  OPM_area OPM_distance OPM_quality TMHMM_angle TMHMM_area  \\\n",
       "0       NaN  ([], [])          NaN        POOR         NaN   ([], [])   \n",
       "1       NaN  ([], [])          NaN        POOR         NaN   ([], [])   \n",
       "\n",
       "  TMHMM_distance TMHMM_quality Uniprot_angle Uniprot_area Uniprot_distance  \\\n",
       "0            NaN          POOR           NaN     ([], [])              NaN   \n",
       "1            NaN          POOR           NaN     ([], [])              NaN   \n",
       "\n",
       "  Uniprot_quality       genes  \\\n",
       "0            POOR  [u'b1078']   \n",
       "1            POOR  [u'b3341']   \n",
       "\n",
       "                                identical_structures  cobraME   Ecocyc  \\\n",
       "0             [u'FLGG_ECOLI', u'5wrh', u'5wrh_bio1']  Present  Present   \n",
       "1  [u'5mdy', u'4v48', u'4v47', u'RS7_ECOLI', u'4v...  Present  Present   \n",
       "\n",
       "       iJL Manual_angle Manual_area Manual_distance Manual_quality   Gene  \\\n",
       "0   Absent            0           0               0            0.0  b1078   \n",
       "1  Present            0           0               0            0.0  b3341   \n",
       "\n",
       "  Gene_list  \n",
       "0   [b1078]  \n",
       "1   [b3341]  "
      ]
     },
     "execution_count": 30,
     "metadata": {},
     "output_type": "execute_result"
    }
   ],
   "source": [
    "import ast\n",
    "DF_GEMBRANE_QC = pd.read_csv('./cellpack_P2_prep/df_gp_manually_added_PTS_Cshape_cytoplasmic_adjusted.csv')\n",
    "DF_GEMBRANE_QC['Gene'] = np.nan\n",
    "DF_GEMBRANE_QC['Gene_list'] = np.nan\n",
    "DF_GEMBRANE_QC = DF_GEMBRANE_QC.astype(object)\n",
    "\n",
    "DF_GEMBRANE_QC['Gene_list'] = DF_GEMBRANE_QC.genes.apply(lambda x: ast.literal_eval(x))\n",
    "DF_GEMBRANE_QC_monomer_idxs = []\n",
    "for i,r in DF_GEMBRANE_QC.Gene_list.items():\n",
    "    if len(r)==1:\n",
    "        DF_GEMBRANE_QC.at[i, 'Gene'] = r[0]\n",
    "DF_GEMBRANE_QC = DF_GEMBRANE_QC.rename(columns={'Unnamed: 0':'Structure'})\n",
    "DF_GEMBRANE_QC.head(2)"
   ]
  },
  {
   "cell_type": "markdown",
   "metadata": {
    "janus": {
     "all_versions_showing": false,
     "cell_hidden": false,
     "current_version": 0,
     "id": "0672ef2377b268",
     "named_versions": [],
     "output_hidden": false,
     "show_versions": false,
     "source_hidden": false,
     "versions": []
    }
   },
   "source": [
    "### Rohan: consolidated quality information with chosen vector"
   ]
  },
  {
   "cell_type": "code",
   "execution_count": 31,
   "metadata": {
    "ExecuteTime": {
     "end_time": "2018-04-18T04:11:39.839305Z",
     "start_time": "2018-04-18T04:11:39.684782Z"
    },
    "janus": {
     "all_versions_showing": false,
     "cell_hidden": false,
     "current_version": 0,
     "id": "1fc7abd471c1a8",
     "named_versions": [],
     "output_hidden": false,
     "show_versions": false,
     "source_hidden": false,
     "versions": []
    }
   },
   "outputs": [
    {
     "data": {
      "text/html": [
       "<div>\n",
       "<style scoped>\n",
       "    .dataframe tbody tr th:only-of-type {\n",
       "        vertical-align: middle;\n",
       "    }\n",
       "\n",
       "    .dataframe tbody tr th {\n",
       "        vertical-align: top;\n",
       "    }\n",
       "\n",
       "    .dataframe thead th {\n",
       "        text-align: right;\n",
       "    }\n",
       "</style>\n",
       "<table border=\"1\" class=\"dataframe\">\n",
       "  <thead>\n",
       "    <tr style=\"text-align: right;\">\n",
       "      <th></th>\n",
       "      <th>Structure</th>\n",
       "      <th>Gene</th>\n",
       "      <th>Vector</th>\n",
       "      <th>Source</th>\n",
       "      <th>Unit vectors</th>\n",
       "      <th>Gene_list</th>\n",
       "    </tr>\n",
       "  </thead>\n",
       "  <tbody>\n",
       "    <tr>\n",
       "      <th>0</th>\n",
       "      <td>YFIN_ECOLI</td>\n",
       "      <td>b2604</td>\n",
       "      <td>[ 17.52478698  80.60912833 -38.65416456]</td>\n",
       "      <td>Average of multiple sources</td>\n",
       "      <td>[0.19237002502036382, 0.88484841792421154, -0....</td>\n",
       "      <td>[b2604]</td>\n",
       "    </tr>\n",
       "    <tr>\n",
       "      <th>1</th>\n",
       "      <td>YAET_ECOLI</td>\n",
       "      <td>b0177</td>\n",
       "      <td>[ 11349.23540503   1744.34042554   5736.72484285]</td>\n",
       "      <td>Average of multiple sources</td>\n",
       "      <td>[0.8841857412896692, 0.13589646149502393, 0.44...</td>\n",
       "      <td>[b0177]</td>\n",
       "    </tr>\n",
       "  </tbody>\n",
       "</table>\n",
       "</div>"
      ],
      "text/plain": [
       "    Structure   Gene                                             Vector  \\\n",
       "0  YFIN_ECOLI  b2604           [ 17.52478698  80.60912833 -38.65416456]   \n",
       "1  YAET_ECOLI  b0177  [ 11349.23540503   1744.34042554   5736.72484285]   \n",
       "\n",
       "                        Source  \\\n",
       "0  Average of multiple sources   \n",
       "1  Average of multiple sources   \n",
       "\n",
       "                                        Unit vectors Gene_list  \n",
       "0  [0.19237002502036382, 0.88484841792421154, -0....   [b2604]  \n",
       "1  [0.8841857412896692, 0.13589646149502393, 0.44...   [b0177]  "
      ]
     },
     "execution_count": 31,
     "metadata": {},
     "output_type": "execute_result"
    }
   ],
   "source": [
    "# Consolidated vector information for membrane monomers\n",
    "DF_GEMBRANE_QC_VEC = pd.read_excel('./cellpack_P2_prep/ecoli_membrane_protein_vectors.csv.xlsx')\n",
    "DF_GEMBRANE_QC_VEC['Gene_list'] = np.nan\n",
    "DF_GEMBRANE_QC_VEC = DF_GEMBRANE_QC_VEC.astype(object)\n",
    "\n",
    "DF_GEMBRANE_QC_VEC['Gene_list'] = DF_GEMBRANE_QC_VEC.Gene.apply(lambda x: ast.literal_eval(x))\n",
    "mem_tovec_monomer_idxs = []\n",
    "for i,r in DF_GEMBRANE_QC_VEC.Gene_list.items():\n",
    "    if len(r)==1:\n",
    "        DF_GEMBRANE_QC_VEC.at[i, 'Gene'] = r[0]\n",
    "DF_GEMBRANE_QC_VEC.head(2)"
   ]
  },
  {
   "cell_type": "markdown",
   "metadata": {
    "janus": {
     "all_versions_showing": false,
     "cell_hidden": false,
     "current_version": 0,
     "id": "3cc9fe56cf758",
     "named_versions": [],
     "output_hidden": false,
     "show_versions": false,
     "source_hidden": false,
     "versions": []
    }
   },
   "source": [
    "### OPM"
   ]
  },
  {
   "cell_type": "markdown",
   "metadata": {
    "janus": {
     "all_versions_showing": false,
     "cell_hidden": false,
     "current_version": 0,
     "id": "6fe5f13f1181c",
     "named_versions": [],
     "output_hidden": false,
     "show_versions": false,
     "source_hidden": false,
     "versions": []
    }
   },
   "source": [
    "#### Premade files\n",
    "Download OPM files from: http://opm.phar.umich.edu/download.php (\"Download all OPM coordinate (.pdb) files as a single .tar file\", and untar it)"
   ]
  },
  {
   "cell_type": "code",
   "execution_count": 32,
   "metadata": {
    "ExecuteTime": {
     "end_time": "2018-04-18T04:11:39.877639Z",
     "start_time": "2018-04-18T04:11:39.841157Z"
    },
    "collapsed": true,
    "janus": {
     "all_versions_showing": false,
     "cell_hidden": false,
     "current_version": 0,
     "id": "e094cdd78e125",
     "named_versions": [],
     "output_hidden": false,
     "show_versions": false,
     "source_hidden": false,
     "versions": []
    }
   },
   "outputs": [],
   "source": [
    "DIR_OPM = '/home/nathan/projects_unsynced/opm/pdb/'\n",
    "opm_files = glob.glob(op.join(DIR_OPM, '*.pdb'))\n",
    "opm_dict = {op.basename(x).replace('.pdb', ''): x for x in opm_files}"
   ]
  },
  {
   "cell_type": "markdown",
   "metadata": {
    "janus": {
     "all_versions_showing": false,
     "cell_hidden": false,
     "current_version": 0,
     "id": "bb1f3027e5228",
     "named_versions": [],
     "output_hidden": false,
     "show_versions": false,
     "source_hidden": false,
     "versions": []
    }
   },
   "source": [
    "#### FUNC: ``run_and_download_opm``"
   ]
  },
  {
   "cell_type": "code",
   "execution_count": 33,
   "metadata": {
    "ExecuteTime": {
     "end_time": "2018-04-18T04:11:39.969279Z",
     "start_time": "2018-04-18T04:11:39.879485Z"
    },
    "collapsed": true,
    "janus": {
     "all_versions_showing": false,
     "cell_hidden": false,
     "current_version": 0,
     "id": "2495f783fe766",
     "named_versions": [],
     "output_hidden": false,
     "show_versions": false,
     "source_hidden": false,
     "versions": []
    }
   },
   "outputs": [],
   "source": [
    "import requests\n",
    "from ssbio.protein.structure.properties import opm\n",
    "def run_and_download_opm(orig_file, outdir_html, outdir_opm):\n",
    "    \"\"\"Manually run OPM, save the HTML and PDB result\"\"\"\n",
    "#     try:\n",
    "#     print('{}: running OPM...'.format(orig_file))\n",
    "    infodict = opm.run_ppm_server(orig_file, outfile=op.join(outdir_html, op.basename(orig_file) + '.opm'))\n",
    "#     except:\n",
    "#         print('{}: OPM ERROR'.format(orig_file))\n",
    "#         return None, None\n",
    "    newname = op.join(outdir_opm, op.basename(orig_file) + '.opm.pdb')\n",
    "    \n",
    "    if not op.exists(newname):\n",
    "        r = requests.get(infodict['Output file download link'])\n",
    "        with open(newname, 'wb') as f:\n",
    "            f.write(r.content)\n",
    "    \n",
    "    return newname, infodict"
   ]
  },
  {
   "cell_type": "markdown",
   "metadata": {
    "janus": {
     "all_versions_showing": false,
     "cell_hidden": false,
     "current_version": 0,
     "id": "22609e7fe716a8",
     "named_versions": [],
     "output_hidden": false,
     "show_versions": false,
     "source_hidden": false,
     "versions": []
    }
   },
   "source": [
    "### Rohan: manually changed localizations"
   ]
  },
  {
   "cell_type": "code",
   "execution_count": 34,
   "metadata": {
    "ExecuteTime": {
     "end_time": "2018-04-18T04:11:39.975812Z",
     "start_time": "2018-04-18T04:11:39.971309Z"
    },
    "collapsed": true,
    "janus": {
     "all_versions_showing": false,
     "cell_hidden": false,
     "current_version": 0,
     "id": "95b66ca0d0b79",
     "named_versions": [],
     "output_hidden": false,
     "show_versions": false,
     "source_hidden": false,
     "versions": []
    }
   },
   "outputs": [],
   "source": [
    "manual_memchanger = {'b0068':'Periplasm','b0161':'Periplasm','b0197':'Periplasm','b0632':'Cytosol',\n",
    "'b0839':'Periplasm','b0878':'Periplasm','b1023':'Periplasm','b1175':'Cytosol','b1452':'Periplasm','b1830':'Periplasm',\n",
    "'b1847':'Extracellular','b1942':'Cytosol','b2569':'Cytosol','b2793':'Cytosol','b2813':'Periplasm','b2963':'Periplasm',\n",
    "'b2989':'Cytosol','b3019':'Cytosol'}"
   ]
  },
  {
   "cell_type": "markdown",
   "metadata": {
    "janus": {
     "all_versions_showing": false,
     "cell_hidden": false,
     "current_version": 0,
     "id": "97555a9d3117a",
     "named_versions": [],
     "output_hidden": false,
     "show_versions": false,
     "source_hidden": false,
     "versions": []
    }
   },
   "source": [
    "## Add: membrane protein information"
   ]
  },
  {
   "cell_type": "markdown",
   "metadata": {
    "janus": {
     "all_versions_showing": false,
     "cell_hidden": false,
     "current_version": 0,
     "id": "f33e2ba0b014b",
     "named_versions": [],
     "output_hidden": false,
     "show_versions": false,
     "source_hidden": false,
     "versions": []
    }
   },
   "source": [
    "### Reannotation"
   ]
  },
  {
   "cell_type": "code",
   "execution_count": 35,
   "metadata": {
    "ExecuteTime": {
     "end_time": "2018-04-18T04:11:39.987605Z",
     "start_time": "2018-04-18T04:11:39.979240Z"
    },
    "collapsed": true,
    "janus": {
     "all_versions_showing": false,
     "cell_hidden": false,
     "current_version": 0,
     "id": "10e04cb404688",
     "named_versions": [],
     "output_hidden": false,
     "show_versions": false,
     "source_hidden": false,
     "versions": []
    }
   },
   "outputs": [],
   "source": [
    "reanno_idxes = DF_FINAL_RECIPE_RAW[DF_FINAL_RECIPE_RAW.Gene.isin(list(manual_memchanger.keys()))].index\n",
    "\n",
    "for i in reanno_idxes:\n",
    "    DF_FINAL_RECIPE_RAW.at[i, 'Localization'] = manual_memchanger[DF_FINAL_RECIPE_RAW.at[i, 'Gene']]\n",
    "    DF_FINAL_RECIPE_RAW.at[i, 'Localization_source'] = 'Manual annotation'"
   ]
  },
  {
   "cell_type": "markdown",
   "metadata": {
    "janus": {
     "all_versions_showing": false,
     "cell_hidden": false,
     "current_version": 0,
     "id": "c6f65d87ae75c8",
     "named_versions": [],
     "output_hidden": false,
     "show_versions": false,
     "source_hidden": false,
     "versions": []
    }
   },
   "source": [
    "#### FUNC: ``get_structure_id``"
   ]
  },
  {
   "cell_type": "code",
   "execution_count": 36,
   "metadata": {
    "ExecuteTime": {
     "end_time": "2018-04-18T04:11:40.004200Z",
     "start_time": "2018-04-18T04:11:39.989509Z"
    },
    "collapsed": true,
    "janus": {
     "all_versions_showing": false,
     "cell_hidden": false,
     "current_version": 0,
     "id": "a97778d34efb4",
     "named_versions": [],
     "output_hidden": false,
     "show_versions": false,
     "source_hidden": false,
     "versions": []
    }
   },
   "outputs": [],
   "source": [
    "def get_structure_id(structure_filename):\n",
    "    \"\"\"Dumb function to parse a structure filename and return its ID\"\"\"\n",
    "    if 'ECOLI' in structure_filename:\n",
    "        return structure_filename.split('_model1')[0]\n",
    "    elif structure_filename.startswith('E'):\n",
    "        return structure_filename.split('_clean')[0]\n",
    "    elif structure_filename.startswith('b'):\n",
    "        return structure_filename.split('_clean')[0]\n",
    "    elif '-' in structure_filename:\n",
    "        return structure_filename.split('-')[0]\n",
    "    elif '_bio' in structure_filename:\n",
    "        return structure_filename.split('_merged')[0]\n",
    "    else:\n",
    "        return structure_filename.split('.pdb')[0]"
   ]
  },
  {
   "cell_type": "markdown",
   "metadata": {
    "janus": {
     "all_versions_showing": false,
     "cell_hidden": false,
     "current_version": 0,
     "id": "3422e8303d288",
     "named_versions": [],
     "output_hidden": false,
     "show_versions": false,
     "source_hidden": false,
     "versions": []
    }
   },
   "source": [
    "#### FUNC: ``get_structure_source``"
   ]
  },
  {
   "cell_type": "code",
   "execution_count": 37,
   "metadata": {
    "ExecuteTime": {
     "end_time": "2018-04-18T04:11:40.014652Z",
     "start_time": "2018-04-18T04:11:40.006434Z"
    },
    "collapsed": true,
    "janus": {
     "all_versions_showing": false,
     "cell_hidden": false,
     "current_version": 0,
     "id": "45e8f2f5de63d8",
     "named_versions": [],
     "output_hidden": false,
     "show_versions": false,
     "source_hidden": false,
     "versions": []
    }
   },
   "outputs": [],
   "source": [
    "def get_structure_source(structure_id):\n",
    "    \"\"\"Dumb function to parse a structure ID and return its source\"\"\"\n",
    "    if 'ECOLI' in structure_id:\n",
    "        return 'I-TASSER'\n",
    "    elif '_bio' in structure_id:\n",
    "        return 'Protein Data Bank'\n",
    "    elif structure_id.startswith('E'):\n",
    "        return 'metaTASSER'\n",
    "    elif len(structure_id) == 4:\n",
    "        return 'Protein Data Bank'\n",
    "    else:\n",
    "#         print('{}: make sure is SWISS-MODEL'.format(structure_id))\n",
    "        return 'SWISS-MODEL'"
   ]
  },
  {
   "cell_type": "markdown",
   "metadata": {
    "janus": {
     "all_versions_showing": false,
     "cell_hidden": false,
     "current_version": 0,
     "id": "530615fde01f6",
     "named_versions": [],
     "output_hidden": false,
     "show_versions": false,
     "source_hidden": false,
     "versions": []
    }
   },
   "source": [
    "#### FUNC: ``get_membrane_info``"
   ]
  },
  {
   "cell_type": "code",
   "execution_count": 38,
   "metadata": {
    "ExecuteTime": {
     "end_time": "2018-04-18T04:11:40.150831Z",
     "start_time": "2018-04-18T04:11:40.016595Z"
    },
    "collapsed": true,
    "janus": {
     "all_versions_showing": false,
     "cell_hidden": false,
     "current_version": 0,
     "id": "d1812481c9c5e",
     "named_versions": [],
     "output_hidden": false,
     "show_versions": false,
     "source_hidden": false,
     "versions": []
    }
   },
   "outputs": [],
   "source": [
    "def get_membrane_info(structure_filename, gene_id):\n",
    "    infodict = {}\n",
    "    infodict['Structure_ID'] = None\n",
    "    infodict['file_to_copy'] = None\n",
    "    infodict['PDB'] = None\n",
    "    infodict['Structure_source'] = None\n",
    "    infodict['PRINCIPAL_VECTOR'] = None\n",
    "    infodict['PRINCIPAL_VECTOR_source'] = None\n",
    "    infodict['TM1_residues'] = None\n",
    "    infodict['TM2_residues'] = None\n",
    "    \n",
    "    structure_id = get_structure_id(structure_filename)\n",
    "    \n",
    "    # If contained in OPM database\n",
    "    if len(structure_id) == 4 and structure_id in opm_dict:\n",
    "        structure_file = opm_dict[structure_id]\n",
    "        if not op.exists(structure_file):\n",
    "            raise FileNotFoundError('{}: cannot find OPM file'.format(structure_file))\n",
    "        infodict['Structure_ID'] = 'OPM-{}'.format(structure_id)\n",
    "        infodict['file_to_copy'] = structure_file\n",
    "        infodict['PDB'] = 'OPM-{}.pdb'.format(structure_id)\n",
    "        infodict['Structure_source'] = 'OPM; Protein Data Bank'\n",
    "        infodict['PRINCIPAL_VECTOR'] = '0,0,1'\n",
    "        infodict['PRINCIPAL_VECTOR_source'] = 'OPM'\n",
    "        return infodict\n",
    "    \n",
    "    checker = DF_GEMBRANE_QC_VEC[DF_GEMBRANE_QC_VEC['Structure'] == structure_id]\n",
    "    if len(checker) == 0:\n",
    "        checker = DF_GEMBRANE_QC_VEC[DF_GEMBRANE_QC_VEC['Gene'] == gene_id]        \n",
    "        \n",
    "    if len(checker.Structure.values.tolist()) == 1:\n",
    "        structure_id2 = checker['Structure'].values[0]\n",
    "        infodict['Structure_ID'] = structure_id2\n",
    "        gembrane_source = checker['Source'].values[0] \n",
    "        structure_file = get_structure_file(structure_id=structure_id2)\n",
    "        infodict['PDB'] = op.basename(structure_file)\n",
    "        infodict['file_to_copy'] = structure_file\n",
    "        infodict['Structure_source'] = get_structure_source(structure_id2)\n",
    "        infodict.update(get_tm_planes(gene_id=gene_id, structure_id=structure_id2, gembrane_source=gembrane_source))\n",
    "        infodict['PRINCIPAL_VECTOR'] = checker['Unit vectors'].values[0].strip(\"'][\").replace(' ', '')\n",
    "        infodict['PRINCIPAL_VECTOR_source'] = 'GEMbrane'\n",
    "        return infodict\n",
    "    \n",
    "    else:\n",
    "        for x in DF_GEMBRANE_QC[(DF_GEMBRANE_QC.Gene == gene_id) & (DF_GEMBRANE_QC.OPM_quality != 'POOR')].Structure.tolist():\n",
    "            if structure_id in opm_dict:\n",
    "                infodict['Structure_ID'] = 'OPM-{}'.format(x)\n",
    "                structure_file = opm_dict[structure_id]\n",
    "                infodict['file_to_copy'] = structure_file\n",
    "                infodict['PDB'] = 'OPM-{}.pdb'.format(structure_id)\n",
    "                infodict['Structure_source'] = 'OPM; Protein Data Bank'\n",
    "                infodict['PRINCIPAL_VECTOR'] = '0,0,1'\n",
    "                infodict['PRINCIPAL_VECTOR_source'] = 'OPM'\n",
    "                return infodict\n",
    "            \n",
    "    # Run OPM manually as a last resort\n",
    "    pather = get_structure_file(structure_id)\n",
    "    newname, opm_info = run_and_download_opm(orig_file=pather, \n",
    "                                             outdir_html='/home/nathan/projects/vizrecon/opm_manual/opm_html_files', \n",
    "                                             outdir_opm='/home/nathan/projects/vizrecon/opm_manual/opm_pdb_files')\n",
    "    infodict['Structure_ID'] = 'OPM-{}'.format(structure_id)\n",
    "    infodict['file_to_copy'] = newname\n",
    "    infodict['PDB'] = 'OPM-{}.pdb'.format(structure_id)\n",
    "    infodict['Structure_source'] = 'OPM-manual; {}'.format(get_structure_source(structure_id))\n",
    "    infodict['PRINCIPAL_VECTOR'] = '0,0,1'\n",
    "    infodict['PRINCIPAL_VECTOR_source'] = 'OPM'\n",
    "    \n",
    "    return infodict"
   ]
  },
  {
   "cell_type": "code",
   "execution_count": 39,
   "metadata": {
    "ExecuteTime": {
     "end_time": "2018-04-18T04:11:40.162699Z",
     "start_time": "2018-04-18T04:11:40.152635Z"
    },
    "janus": {
     "all_versions_showing": false,
     "cell_hidden": false,
     "current_version": 0,
     "id": "db313af385bf48",
     "named_versions": [],
     "output_hidden": false,
     "show_versions": false,
     "source_hidden": false,
     "versions": []
    }
   },
   "outputs": [
    {
     "data": {
      "text/plain": [
       "{'PDB': '1qo1.pdb',\n",
       " 'PRINCIPAL_VECTOR': '0.79386035541185829,-0.016577879200798225,-0.60787409060311304',\n",
       " 'PRINCIPAL_VECTOR_source': 'GEMbrane',\n",
       " 'Structure_ID': '1qo1',\n",
       " 'Structure_source': 'Protein Data Bank',\n",
       " 'TM1_residues': 'M_53,T_53,Q_53,O_31,R_31,K_31,P_31,Q_31,N_31,L_31,S_31,L_53,M_31,K_53,T_31,R_53',\n",
       " 'TM2_residues': 'O_11,P_11,L_73,Q_11,R_11,O_73,T_73,Q_73,K_73,R_73,K_11,M_73,P_73,T_11,M_11,L_11',\n",
       " 'file_to_copy': '/home/nathan/projects_unsynced/vizrecon/P1_structures/1qo1.pdb'}"
      ]
     },
     "execution_count": 39,
     "metadata": {},
     "output_type": "execute_result"
    }
   ],
   "source": [
    "get_membrane_info('1qo1-K_clean.pdb', 'b3737')"
   ]
  },
  {
   "cell_type": "code",
   "execution_count": 40,
   "metadata": {
    "ExecuteTime": {
     "end_time": "2018-04-18T04:11:40.186719Z",
     "start_time": "2018-04-18T04:11:40.164669Z"
    },
    "janus": {
     "all_versions_showing": false,
     "cell_hidden": false,
     "current_version": 0,
     "id": "b058993ce95e48",
     "named_versions": [],
     "output_hidden": false,
     "show_versions": false,
     "source_hidden": false,
     "versions": []
    }
   },
   "outputs": [
    {
     "name": "stdout",
     "output_type": "stream",
     "text": [
      "{'Structure_ID': 'OPM-3hfx', 'file_to_copy': '/home/nathan/projects_unsynced/opm/pdb/3hfx.pdb', 'PDB': 'OPM-3hfx.pdb', 'Structure_source': 'OPM; Protein Data Bank', 'PRINCIPAL_VECTOR': '0,0,1', 'PRINCIPAL_VECTOR_source': 'OPM', 'TM1_residues': None, 'TM2_residues': None}\n",
      "{'Structure_ID': 'YADH_ECOLI', 'file_to_copy': '/home/nathan/projects_archive/homology_models/ECOLI/zhang/YADH_ECOLI_model1.pdb', 'PDB': 'YADH_ECOLI_model1.pdb', 'Structure_source': 'I-TASSER', 'PRINCIPAL_VECTOR': '-0.011198653824636714,-0.047468746665922747,0.99880994600698814', 'PRINCIPAL_VECTOR_source': 'GEMbrane', 'TM1_residues': 'X_169,X_156,X_89,X_227,X_113,X_111,X_31', 'TM2_residues': 'X_244,X_2,X_69,X_193,X_200,X_135'}\n",
      "{'Structure_ID': 'OPM-E01548', 'file_to_copy': '/home/nathan/projects/vizrecon/opm_manual/opm_pdb_files/E01548_clean-X_clean.pdb.opm.pdb', 'PDB': 'OPM-E01548.pdb', 'Structure_source': 'OPM-manual; metaTASSER', 'PRINCIPAL_VECTOR': '0,0,1', 'PRINCIPAL_VECTOR_source': 'OPM', 'TM1_residues': None, 'TM2_residues': None}\n"
     ]
    }
   ],
   "source": [
    "print(get_membrane_info('3hfx', 'b0040'))\n",
    "print(get_membrane_info('E00123', 'b0128'))\n",
    "print(get_membrane_info('E01548', 'b1641'))"
   ]
  },
  {
   "cell_type": "markdown",
   "metadata": {
    "janus": {
     "all_versions_showing": false,
     "cell_hidden": false,
     "current_version": 0,
     "id": "deb0e53fc66ce",
     "named_versions": [],
     "output_hidden": false,
     "show_versions": false,
     "source_hidden": false,
     "versions": []
    }
   },
   "source": [
    "### Monomers"
   ]
  },
  {
   "cell_type": "code",
   "execution_count": 41,
   "metadata": {
    "ExecuteTime": {
     "end_time": "2018-04-18T04:11:42.426889Z",
     "start_time": "2018-04-18T04:11:40.188244Z"
    },
    "collapsed": true,
    "janus": {
     "all_versions_showing": false,
     "cell_hidden": false,
     "current_version": 0,
     "id": "00581928731fe8",
     "named_versions": [],
     "output_hidden": false,
     "show_versions": false,
     "source_hidden": false,
     "versions": []
    },
    "scrolled": false
   },
   "outputs": [],
   "source": [
    "tmp = DF_FINAL_RECIPE_RAW[pd.notnull(DF_FINAL_RECIPE_RAW.Gene)]\n",
    "monomer_idxes = tmp[(tmp.Localization.isin(['Inner_Membrane', 'Outer_Membrane'])) & (pd.notnull(tmp.PDB)) & ((tmp.Copy_number2 > 0) | (tmp.Copy_number > 0))].index\n",
    "\n",
    "for i in monomer_idxes:\n",
    "    infodict = get_membrane_info(structure_filename=DF_FINAL_RECIPE_RAW.at[i, 'PDB'], gene_id=DF_FINAL_RECIPE_RAW.at[i, 'Gene'])\n",
    "    for k,v in infodict.items():\n",
    "        if k == 'file_to_copy':\n",
    "            continue\n",
    "        if v:\n",
    "            DF_FINAL_RECIPE_RAW.at[i, k] = v\n",
    "    shutil.copy(infodict['file_to_copy'], op.join(DIR_FINAL_STRUCTURES, infodict['PDB']))"
   ]
  },
  {
   "cell_type": "markdown",
   "metadata": {
    "janus": {
     "all_versions_showing": false,
     "cell_hidden": false,
     "current_version": 0,
     "id": "3224a97c65d698",
     "named_versions": [],
     "output_hidden": false,
     "show_versions": false,
     "source_hidden": false,
     "versions": []
    }
   },
   "source": [
    "### Complexes"
   ]
  },
  {
   "cell_type": "code",
   "execution_count": 42,
   "metadata": {
    "ExecuteTime": {
     "end_time": "2018-04-18T04:11:42.434372Z",
     "start_time": "2018-04-18T04:11:42.428166Z"
    },
    "janus": {
     "all_versions_showing": false,
     "cell_hidden": false,
     "current_version": 0,
     "id": "a8a541a70e2b2",
     "named_versions": [],
     "output_hidden": false,
     "show_versions": false,
     "source_hidden": false,
     "versions": []
    }
   },
   "outputs": [
    {
     "data": {
      "text/plain": [
       "['ABC-35-CPLX',\n",
       " 'YHIP-MONOMER',\n",
       " 'CPLX0-7654',\n",
       " 'CPLX0-7655',\n",
       " 'CPLX0-7653',\n",
       " 'ATPSYN-CPLX_mod_mg2',\n",
       " 'NARK-MONOMER',\n",
       " 'CODB-MONOMER',\n",
       " 'GABP-MONOMER',\n",
       " 'NANT-MONOMER',\n",
       " 'GLPT-MONOMER',\n",
       " 'YGFO-MONOMER',\n",
       " 'ABC-19-CPLX',\n",
       " 'TRKA-MONOMER_SAPD-MONOMER_TRKG-MONOMER',\n",
       " 'YADQ-MONOMER',\n",
       " 'FORMATEDEHYDROGN-CPLX_mod_bmocogdp',\n",
       " 'ABC-3-CPLX',\n",
       " 'YidC_MONOMER',\n",
       " 'GNTP-MONOMER',\n",
       " 'FUCP-MONOMER',\n",
       " 'ABC-26-CPLX',\n",
       " 'FUMARATE-REDUCTASE_mod_1:pheme_mod_3fe4s_mod_4fe4s_mod_fad_mod_2fe2s',\n",
       " 'ARAE-MONOMER',\n",
       " 'ABC-24-CPLX',\n",
       " 'PHOSPHAGLYPSYN-MONOMER_mod_mg2',\n",
       " 'NUPC-MONOMER',\n",
       " 'B2975-MONOMER',\n",
       " 'ABC-14-CPLX',\n",
       " 'B0511-MONOMER',\n",
       " 'B2789-MONOMER',\n",
       " 'ABC-13-CPLX',\n",
       " 'CPLX0-1924',\n",
       " 'SDAC-MONOMER',\n",
       " 'YFEP-MONOMER',\n",
       " 'YJCG-MONOMER',\n",
       " 'CYNX-MONOMER',\n",
       " 'FORMATEDEHYDROGO-CPLX_mod_bmocogdp',\n",
       " 'ABC-49-CPLX',\n",
       " 'CPLX0-3976_edit',\n",
       " 'CYCA-MONOMER',\n",
       " 'B1634-MONOMER',\n",
       " 'ABC-40-CPLX',\n",
       " 'BRNQ-MONOMER',\n",
       " 'ABC-15-CPLX',\n",
       " 'CYT-D-UBIOX-CPLX_mod_pheme_mod_hemed',\n",
       " 'CYT-O-UBIOX-CPLX_mod_pheme_mod_cu2',\n",
       " 'KUP-MONOMER',\n",
       " 'EXUT-MONOMER',\n",
       " 'G6657-MONOMER',\n",
       " 'SHIA-MONOMER',\n",
       " 'PGPPHOSPHAB-MONOMER',\n",
       " 'HEMEOSYN-MONOMER_mod_mg2',\n",
       " 'EG10280-MONOMER',\n",
       " 'B0260-MONOMER',\n",
       " 'MTR-MONOMER',\n",
       " 'EG11486-MONOMER',\n",
       " 'CPLX0-1923_EG10155-MONOMER',\n",
       " 'CPLX0-7906',\n",
       " 'G6414-MONOMER_CPLX0-1923',\n",
       " 'CPLX-7',\n",
       " 'ABC-70-CPLX',\n",
       " 'TNAB-MONOMER',\n",
       " 'EG10669-MONOMER',\n",
       " 'CPLX0-2141',\n",
       " 'B0612-MONOMER',\n",
       " 'FORMHYDROGI-CPLX_mod_ni2_mod_4fe4s',\n",
       " 'PNUC-MONOMER',\n",
       " 'YHFM-MONOMER',\n",
       " 'CPLX0-7641',\n",
       " 'CPLX0-7642',\n",
       " 'G7322-MONOMER_G6561-MONOMER',\n",
       " 'NITRATREDUCTZ-CPLX_mod_bmocogdp_mod_2:pheme_mod_3:4fe4s_mod_1:3fe4s',\n",
       " 'ABC-12-CPLX',\n",
       " 'LACY-MONOMER',\n",
       " 'KGTP-MONOMER',\n",
       " 'Lgt_MONOMER',\n",
       " 'YAAJ-MONOMER',\n",
       " 'TDCC-MONOMER',\n",
       " 'URAA-MONOMER',\n",
       " 'CPLX0-1721',\n",
       " 'NARU-MONOMER',\n",
       " 'AMPG-MONOMER',\n",
       " 'YBDA-MONOMER',\n",
       " 'ABC-27-CPLX',\n",
       " 'ARCD-MONOMER',\n",
       " 'EG11639-MONOMER',\n",
       " 'ABC-9-CPLX',\n",
       " 'ATPASE-1-CPLX',\n",
       " 'EG12713-MONOMER',\n",
       " 'EG11674-MONOMER',\n",
       " 'CPLX0-7684',\n",
       " 'LYSP-MONOMER',\n",
       " 'ABC-8-CPLX',\n",
       " 'ABC-42-CPLX',\n",
       " 'XASA-MONOMER',\n",
       " 'YICE-MONOMER',\n",
       " 'Bam-CPLX',\n",
       " 'PHEP-MONOMER',\n",
       " 'G6260-MONOMER',\n",
       " 'ABC-7-CPLX',\n",
       " 'GLTP-MONOMER',\n",
       " 'MONOMER0-341',\n",
       " 'HCAT-MONOMER',\n",
       " 'PUTP-MONOMER',\n",
       " 'YJDL-MONOMER',\n",
       " 'DSBBPROT-MONOMER',\n",
       " 'MHPT-MONOMER',\n",
       " 'SUCC-DEHASE_mod_3fe4s_mod_fad_mod_2fe2s_mod_4fe4s',\n",
       " 'ABC-16-CPLX',\n",
       " 'APP-UBIOX-CPLX_mod_pheme_mod_hemed',\n",
       " 'MGTA-MONOMER',\n",
       " 'BETT-MONOMER',\n",
       " 'YJIZ-MONOMER',\n",
       " 'RFBX-MONOMER',\n",
       " 'YGJU-MONOMER',\n",
       " 'NRFMULTI-CPLX',\n",
       " 'ABC-33-CPLX',\n",
       " 'CPLX0-7717_G6561-MONOMER',\n",
       " 'G7921-MONOMER',\n",
       " 'B1296-MONOMER',\n",
       " 'GNTT-MONOMER',\n",
       " 'ABC-51-CPLX',\n",
       " 'ATPSYN-CPLX_EG10106-MONOMER_mod_mg2',\n",
       " 'ABC-10-CPLX',\n",
       " 'TYRP-MONOMER',\n",
       " 'ABC-18-CPLX',\n",
       " 'CPLX0-1941',\n",
       " 'ABC-64-CPLX',\n",
       " 'CPLX0-1943',\n",
       " 'B0709-MONOMER',\n",
       " 'YDEA-MONOMER',\n",
       " 'LolCDE-CPLX',\n",
       " 'CPLX0-1923_EG10306-MONOMER',\n",
       " 'YGGA-MONOMER',\n",
       " 'Sec-CPLX',\n",
       " 'B0752-MONOMER',\n",
       " 'ABC-22-CPLX',\n",
       " 'YHHO-MONOMER',\n",
       " 'DIMESULFREDUCT-CPLX_mod_bmocogdp',\n",
       " 'PITA-MONOMER',\n",
       " 'DCUC-MONOMER',\n",
       " 'GALP-MONOMER',\n",
       " 'ABC-6-CPLX',\n",
       " 'G7170-MONOMER',\n",
       " 'G7814-MONOMER',\n",
       " 'CADB-MONOMER',\n",
       " 'EG11665-MONOMER',\n",
       " 'TRANS-CPLX-201',\n",
       " 'TRANS-CPLX-203',\n",
       " 'CPLX0-3951_G6561-MONOMER',\n",
       " 'CHAA-MONOMER',\n",
       " 'CPLX0-7629',\n",
       " 'YIDK-MONOMER',\n",
       " 'G6700-MONOMER',\n",
       " 'ABC-25-CPLX',\n",
       " 'ANSP-MONOMER',\n",
       " 'TRKA-MONOMER_SAPD-MONOMER_TRKH-MONOMER',\n",
       " 'YJGT-MONOMER',\n",
       " 'ABC-304-CPLX',\n",
       " 'NADH-DHI-CPLX_mod_2fe2s_mod_4fe4s_mod_fmn',\n",
       " 'PANF-MONOMER',\n",
       " 'CPLX0-7704_mod_mg2',\n",
       " 'FORMHYDROG2-CPLX_mod_ni2_mod_fe2',\n",
       " 'CMR-MONOMER',\n",
       " 'UHPT-MONOMER',\n",
       " 'ATPASE-1-CPLX_no_MONOMER0-12',\n",
       " 'ATPSYN-CPLX_EG10106-MONOMER_mod_mg2',\n",
       " 'AROP-MONOMER',\n",
       " 'DCUB-MONOMER',\n",
       " 'EG12134-MONOMER',\n",
       " 'G6439-MONOMER',\n",
       " 'CPLX0-1942',\n",
       " 'CPLX0-7843',\n",
       " 'YNFJ-MONOMER',\n",
       " 'NIRC-MONOMER',\n",
       " 'FOCB-MONOMER',\n",
       " 'XAPB-MONOMER',\n",
       " 'DCTA-MONOMER',\n",
       " 'METNIQ-METHIONINE-ABC-CPLX',\n",
       " 'YHAU-MONOMER',\n",
       " 'CPLX0-3932',\n",
       " 'MELB-MONOMER',\n",
       " 'CPLX0-7534',\n",
       " 'ABC-59-CPLX',\n",
       " 'LspA_MONOMER',\n",
       " 'DCUA-MONOMER',\n",
       " 'ABC-28-CPLX_EG10817-MONOMER',\n",
       " 'YEAV-MONOMER',\n",
       " 'ABC-5-CPLX',\n",
       " 'ABC-20-CPLX',\n",
       " 'EG11724-MONOMER',\n",
       " 'POTE-MONOMER',\n",
       " 'B0070-MONOMER',\n",
       " 'ABC-34-CPLX',\n",
       " 'EG12455-MONOMER',\n",
       " 'NITRATREDUCTA-CPLX_mod_bmocogdp_mod_3fe4s_mod_4fe4s',\n",
       " 'GNTU-MONOMER',\n",
       " 'KDGT-MONOMER',\n",
       " 'DIACYLGLYKIN-CPLX_mod_cd2_mod_zn2_mod_mg2_mod_mn2_mod_cobalt2',\n",
       " 'NUPG-MONOMER',\n",
       " 'XYLE-MONOMER',\n",
       " 'YRBG-MONOMER',\n",
       " 'CPLX0-1581',\n",
       " 'CPLX-63',\n",
       " 'EG11035-MONOMER',\n",
       " 'ABC-2-CPLX',\n",
       " 'B1006-MONOMER',\n",
       " 'HEMEOSYN-MONOMER_mod_ca2',\n",
       " 'B2170-MONOMER',\n",
       " 'YIDT-MONOMER',\n",
       " 'CPLX0-3970',\n",
       " 'CPLX0-7533',\n",
       " 'CPLX0-7532',\n",
       " 'CPLX0-7530',\n",
       " 'CPLX0-7535',\n",
       " 'YGJE-MONOMER',\n",
       " 'ABC-4-CPLX',\n",
       " 'YDGEF-CPLX',\n",
       " 'CPLX-168',\n",
       " 'CPLX-169',\n",
       " 'CPLX0-7',\n",
       " 'CPLX-165',\n",
       " 'CPLX-163',\n",
       " 'CPLX-164',\n",
       " 'CPLX-153',\n",
       " 'CPLX-158',\n",
       " 'CPLX-157',\n",
       " 'HYDROG3-CPLX_mod_ni2',\n",
       " 'FHLMULTI-CPLX',\n",
       " 'MnmEG_cplx_mod_fad_mod_2:k',\n",
       " 'CPLX0-2081',\n",
       " 'CPLX0-250_FORMATEDEHYDROGH-MONOMER_mod_8:4fe4s_mod_2:2fe2s_mod_bmocogdp_mod_NiFeCoCN2']"
      ]
     },
     "execution_count": 42,
     "metadata": {},
     "output_type": "execute_result"
    }
   ],
   "source": [
    "DF_GEMBRANE_CPLX.cobraME_complex.tolist()"
   ]
  },
  {
   "cell_type": "markdown",
   "metadata": {
    "janus": {
     "all_versions_showing": false,
     "cell_hidden": false,
     "current_version": 0,
     "id": "9438e6c02de3",
     "named_versions": [],
     "output_hidden": false,
     "show_versions": false,
     "source_hidden": false,
     "versions": []
    }
   },
   "source": [
    "#### FUNC: ``get_complex_membrane_info``"
   ]
  },
  {
   "cell_type": "code",
   "execution_count": 43,
   "metadata": {
    "ExecuteTime": {
     "end_time": "2018-04-18T04:11:42.728253Z",
     "start_time": "2018-04-18T04:11:42.436751Z"
    },
    "janus": {
     "all_versions_showing": false,
     "cell_hidden": false,
     "current_version": 0,
     "id": "53ea25e5c0708",
     "named_versions": [],
     "output_hidden": false,
     "show_versions": false,
     "source_hidden": false,
     "versions": []
    }
   },
   "outputs": [],
   "source": [
    "MANUAL_IGNORE = []\n",
    "\n",
    "def get_complex_membrane_info(complex_id):\n",
    "    \n",
    "    infodict = {}\n",
    "    infodict['Structure_ID'] = None\n",
    "    infodict['file_to_copy'] = None\n",
    "    infodict['PDB'] = None\n",
    "    infodict['Structure_source'] = None\n",
    "    infodict['PRINCIPAL_VECTOR'] = None\n",
    "    infodict['PRINCIPAL_VECTOR_source'] = None\n",
    "    infodict['TM1_residues'] = None\n",
    "    infodict['TM2_residues'] = None\n",
    "    \n",
    "    # Get original selected structure for this membrane complex, check if it is a single structure file\n",
    "    have_old_cplx = False\n",
    "    use_old_cplx = False\n",
    "    complex_id_orig = get_complex_id(complex_id)\n",
    "    eddie_complexes = DF_GEMBRANE_CPLX.cobraME_complex.tolist()\n",
    "    if complex_id in eddie_complexes:\n",
    "        complex_id_final = complex_id\n",
    "        have_old_cplx = True\n",
    "    elif complex_id_orig in eddie_complexes:\n",
    "        complex_id_final = complex_id_orig\n",
    "        have_old_cplx = True\n",
    "#     else:\n",
    "#         print('{}: no previously selected complex structure'.format(complex_id))\n",
    "#         pass\n",
    "    if have_old_cplx:\n",
    "        selected_cplx_row = DF_GEMBRANE_CPLX[DF_GEMBRANE_CPLX.cobraME_complex == complex_id_final]\n",
    "        selected_cplx = ast.literal_eval(selected_cplx_row.pdb_metadata.values[0])\n",
    "        if len(selected_cplx) == 1 and int(list(selected_cplx.values())[0]) == 1:\n",
    "            # Check if old vector exists\n",
    "            structure_id = list(selected_cplx.keys())[0]\n",
    "            checker = DF_GEMBRANE_QC_VEC[DF_GEMBRANE_QC_VEC['Structure'] == structure_id]\n",
    "            if len(checker) > 0:\n",
    "                use_old_cplx = True\n",
    "    \n",
    "    # Get newly selected structure for this membrane complex if old one is not suitable\n",
    "    if not use_old_cplx:\n",
    "        selected_cplx_infodict = get_complex_best_structure(complex_id_orig)\n",
    "        selected_cplx_str = selected_cplx_infodict['PDB_stoichiometry']\n",
    "        selected_cplx = {x.split(':')[0]:int(x.split(':')[1]) for x in selected_cplx_str.split('; ')}\n",
    "        \n",
    "    # Do not use this complex in the recipe if it needs a dummy assembled -- too complicated for membrane proteins\n",
    "    if len(selected_cplx) > 1:\n",
    "        print('[TODO] {}: add copy numbers back'.format(complex_id))\n",
    "        MANUAL_IGNORE.append(complex_id)\n",
    "        return infodict\n",
    "    elif len(selected_cplx) == 1 and list(selected_cplx.values())[0] > 1:\n",
    "        print('[TODO] {}: add copy numbers back'.format(complex_id))\n",
    "        MANUAL_IGNORE.append(complex_id)\n",
    "        return infodict\n",
    "    \n",
    "#     print('{}: STRUCTURE TO USE:'.format(complex_id), selected_cplx)\n",
    "    structure_id = list(selected_cplx.keys())[0]\n",
    "    \n",
    "    # Check if an OPM structure exists for this selected structure\n",
    "    if get_structure_source(structure_id) == 'Protein Data Bank' and structure_id in opm_dict:\n",
    "        structure_file = opm_dict[structure_id]\n",
    "        if not op.exists(structure_file):\n",
    "            raise FileNotFoundError('{}: cannot find OPM file'.format(structure_file))\n",
    "        infodict['Structure_ID'] = 'OPM-{}'.format(structure_id)\n",
    "        infodict['file_to_copy'] = structure_file\n",
    "        infodict['PDB'] = 'OPM-{}.pdb'.format(structure_id)\n",
    "        infodict['Structure_source'] = 'OPM; Protein Data Bank'\n",
    "        infodict['PRINCIPAL_VECTOR'] = '0,0,1'\n",
    "        infodict['PRINCIPAL_VECTOR_source'] = 'OPM'\n",
    "        return infodict\n",
    "    \n",
    "    # Check if old vector exists\n",
    "    if use_old_cplx:\n",
    "        checker = DF_GEMBRANE_QC_VEC[DF_GEMBRANE_QC_VEC['Structure'] == structure_id]\n",
    "        structure_file = get_structure_file(structure_id)\n",
    "#         print('{}: OLD STRUCTURE TO USE:'.format(complex_id), structure_id, structure_file)\n",
    "        gembrane_source = checker['Source'].values[0] \n",
    "        gembrane_gene = get_complex_subunits(complex_id)[0]  # Just pick any gene, should work\n",
    "        infodict.update(get_tm_planes(gene_id=gembrane_gene, structure_id=structure_id, gembrane_source=gembrane_source))\n",
    "        infodict['PRINCIPAL_VECTOR'] = checker['Unit vectors'].values[0].strip(\"'][\").replace(' ', '')\n",
    "        infodict['PRINCIPAL_VECTOR_source'] = 'GEMbrane'\n",
    "        infodict['Structure_ID'] = structure_id\n",
    "        infodict['Structure_source'] = get_structure_source(structure_id)\n",
    "        infodict['file_to_copy'] = structure_file\n",
    "        infodict['PDB'] = op.basename(structure_file)\n",
    "        return infodict\n",
    "    \n",
    "#     print('{}: NEW STRUCTURE TO USE:'.format(complex_id), structure_id, get_structure_file(structure_id))\n",
    "     # Run OPM manually as a last resort\n",
    "    pather = get_structure_file(structure_id)\n",
    "    newname, opm_info = run_and_download_opm(orig_file=pather, \n",
    "                                             outdir_html='/home/nathan/projects/vizrecon/opm_manual/opm_html_files', \n",
    "                                             outdir_opm='/home/nathan/projects/vizrecon/opm_manual/opm_pdb_files')\n",
    "    infodict['Structure_ID'] = 'OPM-{}'.format(structure_id)\n",
    "    infodict['file_to_copy'] = newname\n",
    "    infodict['PDB'] = 'OPM-{}.pdb'.format(structure_id)\n",
    "    infodict['Structure_source'] = 'OPM-manual; {}'.format(get_structure_source(structure_id))\n",
    "    infodict['PRINCIPAL_VECTOR'] = '0,0,1'\n",
    "    infodict['PRINCIPAL_VECTOR_source'] = 'OPM'\n",
    "\n",
    "    return infodict"
   ]
  },
  {
   "cell_type": "code",
   "execution_count": 44,
   "metadata": {
    "ExecuteTime": {
     "end_time": "2018-04-18T04:11:42.739550Z",
     "start_time": "2018-04-18T04:11:42.729491Z"
    },
    "janus": {
     "all_versions_showing": false,
     "cell_hidden": false,
     "current_version": 0,
     "id": "8542d2fee44298",
     "named_versions": [],
     "output_hidden": false,
     "show_versions": false,
     "source_hidden": false,
     "versions": []
    }
   },
   "outputs": [
    {
     "name": "stdout",
     "output_type": "stream",
     "text": [
      "{'Structure_ID': '5t4q', 'file_to_copy': '/home/nathan/projects_unsynced/vizrecon/P1_structures/5t4q.pdb', 'PDB': '5t4q.pdb', 'Structure_source': 'Protein Data Bank', 'PRINCIPAL_VECTOR': '-0.042347511209576708,0.050189026096040812,0.99784154551405901', 'PRINCIPAL_VECTOR_source': 'GEMbrane', 'TM1_residues': 'U_53,N_53,U_31,P_31,Q_31,V_53,V_31,O_31,R_53,O_53,P_53,M_53,S_53,T_53,M_31,R_31,N_31,S_31,T_31,K_262', 'TM2_residues': 'O_11,P_11,U_11,V_11,K_120,K_146,N_73,R_73,O_73,V_73,P_73,M_73,R_11,T_73,Q_73,T_11,U_73,S_73,S_11,Q_11,M_11,N_11'}\n",
      "[TODO] CPLX-157: add copy numbers back\n",
      "{'Structure_ID': None, 'file_to_copy': None, 'PDB': None, 'Structure_source': None, 'PRINCIPAL_VECTOR': None, 'PRINCIPAL_VECTOR_source': None, 'TM1_residues': None, 'TM2_residues': None}\n"
     ]
    }
   ],
   "source": [
    "print(get_complex_membrane_info('ATPSYN-CPLX_mod_mg2'))\n",
    "print(get_complex_membrane_info('CPLX-157'))"
   ]
  },
  {
   "cell_type": "code",
   "execution_count": 45,
   "metadata": {
    "ExecuteTime": {
     "end_time": "2018-04-18T04:11:42.894390Z",
     "start_time": "2018-04-18T04:11:42.740976Z"
    },
    "janus": {
     "all_versions_showing": false,
     "cell_hidden": false,
     "current_version": 0,
     "id": "0a59787696bf9",
     "named_versions": [],
     "output_hidden": false,
     "show_versions": false,
     "source_hidden": false,
     "versions": []
    },
    "scrolled": false
   },
   "outputs": [
    {
     "name": "stdout",
     "output_type": "stream",
     "text": [
      "[TODO] ABC-53-CPLX: add copy numbers back\n",
      "[TODO] CPLX-157: add copy numbers back\n",
      "[TODO] G7322-MONOMER_G6561-MONOMER: add copy numbers back\n",
      "[TODO] LolCDE-CPLX: add copy numbers back\n",
      "[TODO] Sec-CPLX: add copy numbers back\n"
     ]
    }
   ],
   "source": [
    "tmp = DF_FINAL_RECIPE_RAW[pd.isnull(DF_FINAL_RECIPE_RAW.Gene)]\n",
    "complex_idxes = tmp[(tmp.Localization.isin(['Inner_Membrane', 'Outer_Membrane'])) & ((tmp.Copy_number2 > 0) | (tmp.Copy_number > 0))].index\n",
    "\n",
    "for i in complex_idxes:\n",
    "    complex_id = DF_FINAL_RECIPE_RAW.at[i, 'NAME']\n",
    "    \n",
    "    infodict = get_complex_membrane_info(complex_id)\n",
    "    for k,v in infodict.items():\n",
    "        if k == 'file_to_copy':\n",
    "            continue\n",
    "        if v:\n",
    "            DF_FINAL_RECIPE_RAW.at[i, k] = v\n",
    "    if infodict['file_to_copy']:\n",
    "        shutil.copy(infodict['file_to_copy'], op.join(DIR_FINAL_STRUCTURES, infodict['PDB']))"
   ]
  },
  {
   "cell_type": "markdown",
   "metadata": {
    "janus": {
     "all_versions_showing": false,
     "cell_hidden": false,
     "current_version": 0,
     "id": "97115ef6d89308",
     "named_versions": [],
     "output_hidden": false,
     "show_versions": false,
     "source_hidden": false,
     "versions": []
    }
   },
   "source": [
    "## Manual stuff to deal with\n",
    "- Just adding everything back to the original subunits\n",
    "    - SRP-CPLX could potentially be represented by PDB:5gah but the annotation for the complex here is of the monomer subunit anyways"
   ]
  },
  {
   "cell_type": "markdown",
   "metadata": {
    "janus": {
     "all_versions_showing": false,
     "cell_hidden": false,
     "current_version": 0,
     "id": "c30e87841d6be8",
     "named_versions": [],
     "output_hidden": false,
     "show_versions": false,
     "source_hidden": false,
     "versions": []
    }
   },
   "source": [
    "#### FUNC: ``add_back_cplx_copy_numbers``"
   ]
  },
  {
   "cell_type": "code",
   "execution_count": 46,
   "metadata": {
    "ExecuteTime": {
     "end_time": "2018-04-18T04:11:42.907342Z",
     "start_time": "2018-04-18T04:11:42.896122Z"
    },
    "collapsed": true,
    "janus": {
     "all_versions_showing": false,
     "cell_hidden": false,
     "current_version": 0,
     "id": "109d43aac9ee7",
     "named_versions": [],
     "output_hidden": false,
     "show_versions": false,
     "source_hidden": false,
     "versions": []
    }
   },
   "outputs": [],
   "source": [
    "def add_back_cplx_copy_numbers(complex_id):\n",
    "    add_backer = {}\n",
    "    \n",
    "    complex_id = get_complex_id(complex_id)\n",
    "    subunits = {k.split('_')[1]:v for k,v in _ECOLIME_complexes[complex_id].items()}\n",
    "    tmp = DF_FINAL_RECIPE_RAW[DF_FINAL_RECIPE_RAW.NAME == complex_id]\n",
    "    if len(tmp)>0:\n",
    "        num_to_add_back = tmp.Copy_number2.values[0]\n",
    "        \n",
    "        for g, mult in subunits.items():\n",
    "            add_backer[g] = num_to_add_back*mult\n",
    "            \n",
    "    return add_backer"
   ]
  },
  {
   "cell_type": "code",
   "execution_count": 47,
   "metadata": {
    "ExecuteTime": {
     "end_time": "2018-04-18T04:11:42.992089Z",
     "start_time": "2018-04-18T04:11:42.909416Z"
    },
    "janus": {
     "all_versions_showing": false,
     "cell_hidden": false,
     "current_version": 0,
     "id": "d7d6822253f89",
     "named_versions": [],
     "output_hidden": false,
     "show_versions": false,
     "source_hidden": false,
     "versions": []
    }
   },
   "outputs": [],
   "source": [
    "for cplx in MANUAL_COMPLEX:\n",
    "    if cplx in DF_FINAL_RECIPE_RAW.NAME.tolist():\n",
    "        infodict = add_back_cplx_copy_numbers(cplx)\n",
    "        for x in DF_FINAL_RECIPE_RAW[DF_FINAL_RECIPE_RAW.Gene.isin(list(infodict.keys()))].index:\n",
    "            DF_FINAL_RECIPE_RAW.at[x, 'Copy_number2'] = DF_FINAL_RECIPE_RAW.at[x, 'Copy_number2'] + infodict[DF_FINAL_RECIPE_RAW.at[x, 'Gene']]\n",
    "            DF_FINAL_RECIPE_RAW.at[x, 'NumUsed'] = DF_FINAL_RECIPE_RAW.at[x, 'NumUsed'] - infodict[DF_FINAL_RECIPE_RAW.at[x, 'Gene']]\n",
    "        rm_idx = DF_FINAL_RECIPE_RAW[DF_FINAL_RECIPE_RAW.NAME == cplx].index[0]\n",
    "        DF_FINAL_RECIPE_RAW.at[rm_idx, 'INCLUDE'] = np.nan\n",
    "    \n",
    "for cplx in MANUAL_IGNORE:\n",
    "    if cplx in DF_FINAL_RECIPE_RAW.NAME.tolist():\n",
    "        infodict = add_back_cplx_copy_numbers(cplx)\n",
    "        for x in DF_FINAL_RECIPE_RAW[DF_FINAL_RECIPE_RAW.Gene.isin(list(infodict.keys()))].index:\n",
    "            DF_FINAL_RECIPE_RAW.at[x, 'Copy_number2'] = DF_FINAL_RECIPE_RAW.at[x, 'Copy_number2'] + infodict[DF_FINAL_RECIPE_RAW.at[x, 'Gene']]\n",
    "            DF_FINAL_RECIPE_RAW.at[x, 'NumUsed'] = DF_FINAL_RECIPE_RAW.at[x, 'NumUsed'] - infodict[DF_FINAL_RECIPE_RAW.at[x, 'Gene']]\n",
    "        rm_idx = DF_FINAL_RECIPE_RAW[DF_FINAL_RECIPE_RAW.NAME == cplx].index[0]\n",
    "        DF_FINAL_RECIPE_RAW.at[rm_idx, 'INCLUDE'] = np.nan"
   ]
  },
  {
   "cell_type": "markdown",
   "metadata": {
    "janus": {
     "all_versions_showing": false,
     "cell_hidden": false,
     "current_version": 0,
     "id": "acaff6e05c45",
     "named_versions": [],
     "output_hidden": false,
     "show_versions": false,
     "source_hidden": false,
     "versions": []
    }
   },
   "source": [
    "## Recalculate: MOLARITY\n",
    "\n",
    "Volumes\n",
    "- Total cell volume: 2.19955 cubic micrometers\n",
    "- Cytoplasm: 1.76970 um^3\n",
    "- Periplasm: 0.42985 um^3\n",
    "\n",
    "Membrane surface areas:\n",
    "- Outer membrane: 9.00103e8 angstrom^2\n",
    "- Inner membrane: 7.73398e8 angstrom^2"
   ]
  },
  {
   "cell_type": "code",
   "execution_count": 48,
   "metadata": {
    "ExecuteTime": {
     "end_time": "2018-04-18T04:11:43.013273Z",
     "start_time": "2018-04-18T04:11:42.994471Z"
    },
    "collapsed": true,
    "janus": {
     "all_versions_showing": false,
     "cell_hidden": false,
     "current_version": 0,
     "id": "2ed6e171c99c4",
     "named_versions": [],
     "output_hidden": false,
     "show_versions": false,
     "source_hidden": false,
     "versions": []
    }
   },
   "outputs": [],
   "source": [
    "import scipy.constants\n",
    "def convert_copy_number_to_molarity(copies, volume_fl):\n",
    "    \"\"\"Convert proteomic copy numbers to a molarity measure.\n",
    "    \n",
    "    Args:\n",
    "        copies (float): Copy number of this specific protein\n",
    "        volume_fl (float): Volume of solution measured in femtoliters\n",
    "        \n",
    "    Returns:\n",
    "        float: Molarity in mol/liter\n",
    "        \n",
    "    \"\"\"\n",
    "    volume_l = volume_fl*(10**-15)\n",
    "    return (copies/scipy.constants.Avogadro)/volume_l"
   ]
  },
  {
   "cell_type": "code",
   "execution_count": 49,
   "metadata": {
    "ExecuteTime": {
     "end_time": "2018-04-18T04:11:47.132120Z",
     "start_time": "2018-04-18T04:11:43.015041Z"
    },
    "collapsed": true,
    "janus": {
     "all_versions_showing": false,
     "cell_hidden": false,
     "current_version": 0,
     "id": "ccc995589848c8",
     "named_versions": [],
     "output_hidden": false,
     "show_versions": false,
     "source_hidden": false,
     "versions": []
    }
   },
   "outputs": [],
   "source": [
    "DF_FINAL_RECIPE_RAW['molecules/sqA'] = np.nan\n",
    "\n",
    "TOTAL_VOL = 2.19955\n",
    "CYTO_VOL = 1.76970\n",
    "PERI_VOL = 0.42985\n",
    "OM_SA = 900103000\n",
    "IM_SA = 773398000\n",
    "\n",
    "for i,r in DF_FINAL_RECIPE_RAW.iterrows():\n",
    "    if r['Localization'] == 'Cytosol':\n",
    "        DF_FINAL_RECIPE_RAW.loc[i, 'MOLARITY'] = convert_copy_number_to_molarity(r['Copy_number2'], CYTO_VOL)\n",
    "    elif r['Localization'] == 'Periplasm':\n",
    "        DF_FINAL_RECIPE_RAW.loc[i, 'MOLARITY'] = convert_copy_number_to_molarity(r['Copy_number2'], PERI_VOL)\n",
    "    elif r['Localization'] == 'Inner_Membrane':\n",
    "        DF_FINAL_RECIPE_RAW.loc[i, 'MOLARITY'] = convert_copy_number_to_molarity(r['Copy_number2'], CYTO_VOL)\n",
    "        DF_FINAL_RECIPE_RAW.loc[i, 'molecules/sqA'] = r['Copy_number2']/IM_SA\n",
    "    elif r['Localization'] == 'Outer_Membrane':\n",
    "        DF_FINAL_RECIPE_RAW.loc[i, 'MOLARITY'] = convert_copy_number_to_molarity(r['Copy_number2'], TOTAL_VOL)\n",
    "        DF_FINAL_RECIPE_RAW.loc[i, 'molecules/sqA'] = r['Copy_number2']/OM_SA"
   ]
  },
  {
   "cell_type": "markdown",
   "metadata": {
    "janus": {
     "all_versions_showing": false,
     "cell_hidden": false,
     "current_version": 0,
     "id": "81b3da007c53f",
     "named_versions": [],
     "output_hidden": false,
     "show_versions": false,
     "source_hidden": false,
     "versions": []
    }
   },
   "source": [
    "## Mark: INCLUDE"
   ]
  },
  {
   "cell_type": "markdown",
   "metadata": {
    "janus": {
     "all_versions_showing": false,
     "cell_hidden": false,
     "current_version": 0,
     "id": "e7e6b11b69a1b",
     "named_versions": [],
     "output_hidden": false,
     "show_versions": false,
     "source_hidden": false,
     "versions": []
    }
   },
   "source": [
    "### Full INCLUDE\n",
    "- Include if:\n",
    "    - Has PDB\n",
    "    - Has Copy_number2 > 0"
   ]
  },
  {
   "cell_type": "code",
   "execution_count": 50,
   "metadata": {
    "ExecuteTime": {
     "end_time": "2018-04-18T04:11:47.139122Z",
     "start_time": "2018-04-18T04:11:47.133915Z"
    },
    "collapsed": true,
    "janus": {
     "all_versions_showing": false,
     "cell_hidden": false,
     "current_version": 0,
     "id": "aefd59f95964d8",
     "named_versions": [],
     "output_hidden": false,
     "show_versions": false,
     "source_hidden": false,
     "versions": []
    }
   },
   "outputs": [],
   "source": [
    "DF_FINAL_RECIPE_FULL = DF_FINAL_RECIPE_RAW.copy()"
   ]
  },
  {
   "cell_type": "code",
   "execution_count": 51,
   "metadata": {
    "ExecuteTime": {
     "end_time": "2018-04-18T04:11:47.155510Z",
     "start_time": "2018-04-18T04:11:47.140722Z"
    },
    "collapsed": true,
    "janus": {
     "all_versions_showing": false,
     "cell_hidden": false,
     "current_version": 0,
     "id": "866fdc6b6903f",
     "named_versions": [],
     "output_hidden": false,
     "show_versions": false,
     "source_hidden": false,
     "versions": []
    }
   },
   "outputs": [],
   "source": [
    "full_include_idx = DF_FINAL_RECIPE_FULL[(pd.notnull(DF_FINAL_RECIPE_FULL.PDB)) & (DF_FINAL_RECIPE_FULL.Copy_number2>0) & (DF_FINAL_RECIPE_FULL.Localization != 'Extracellular')].index\n",
    "full_not_include_idx = DF_FINAL_RECIPE_FULL[(pd.isnull(DF_FINAL_RECIPE_FULL.PDB)) | (DF_FINAL_RECIPE_FULL.Copy_number2<=0) | (pd.isnull(DF_FINAL_RECIPE_FULL.Copy_number2)) | (DF_FINAL_RECIPE_FULL.Localization == 'Extracellular')].index"
   ]
  },
  {
   "cell_type": "code",
   "execution_count": 52,
   "metadata": {
    "ExecuteTime": {
     "end_time": "2018-04-18T04:11:47.163350Z",
     "start_time": "2018-04-18T04:11:47.157230Z"
    },
    "janus": {
     "all_versions_showing": false,
     "cell_hidden": false,
     "current_version": 0,
     "id": "bb3c6ea9c080f",
     "named_versions": [],
     "output_hidden": false,
     "show_versions": false,
     "source_hidden": false,
     "versions": []
    }
   },
   "outputs": [
    {
     "name": "stdout",
     "output_type": "stream",
     "text": [
      "Include: 2136\n",
      "Not include: 3595\n"
     ]
    },
    {
     "data": {
      "text/plain": [
       "True"
      ]
     },
     "execution_count": 52,
     "metadata": {},
     "output_type": "execute_result"
    }
   ],
   "source": [
    "print('Include:', len(full_include_idx))\n",
    "print('Not include:', len(full_not_include_idx))\n",
    "len(full_include_idx) + len(full_not_include_idx) == len(DF_FINAL_RECIPE_RAW)"
   ]
  },
  {
   "cell_type": "code",
   "execution_count": 53,
   "metadata": {
    "ExecuteTime": {
     "end_time": "2018-04-18T04:11:47.213839Z",
     "start_time": "2018-04-18T04:11:47.165029Z"
    },
    "collapsed": true,
    "janus": {
     "all_versions_showing": false,
     "cell_hidden": false,
     "current_version": 0,
     "id": "3c626c40675a58",
     "named_versions": [],
     "output_hidden": false,
     "show_versions": false,
     "source_hidden": false,
     "versions": []
    }
   },
   "outputs": [],
   "source": [
    "for ix in full_include_idx:\n",
    "    DF_FINAL_RECIPE_FULL.at[ix, 'INCLUDE'] = 'x'\n",
    "for ix in full_not_include_idx:\n",
    "    DF_FINAL_RECIPE_FULL.at[ix, 'INCLUDE'] = np.nan"
   ]
  },
  {
   "cell_type": "code",
   "execution_count": 54,
   "metadata": {
    "ExecuteTime": {
     "end_time": "2018-04-18T04:11:47.297575Z",
     "start_time": "2018-04-18T04:11:47.215328Z"
    },
    "janus": {
     "all_versions_showing": false,
     "cell_hidden": false,
     "current_version": 0,
     "id": "2c26682311255",
     "named_versions": [],
     "output_hidden": false,
     "show_versions": false,
     "source_hidden": false,
     "versions": []
    }
   },
   "outputs": [],
   "source": [
    "DF_FINAL_RECIPE_FULL.to_csv('./cellpack_P2_prep/180409-RECIPE_FINAL_FULL.csv')"
   ]
  },
  {
   "cell_type": "markdown",
   "metadata": {
    "janus": {
     "all_versions_showing": false,
     "cell_hidden": false,
     "current_version": 0,
     "id": "7a25cf03d5af9",
     "named_versions": [],
     "output_hidden": false,
     "show_versions": false,
     "source_hidden": false,
     "versions": []
    }
   },
   "source": [
    "### Not including potential bad quality structures\n",
    "\n",
    "- Removes anything with \"manual\" in the `Structure_source` column"
   ]
  },
  {
   "cell_type": "code",
   "execution_count": 55,
   "metadata": {
    "ExecuteTime": {
     "end_time": "2018-04-18T04:11:47.303489Z",
     "start_time": "2018-04-18T04:11:47.299075Z"
    },
    "collapsed": true,
    "janus": {
     "all_versions_showing": false,
     "cell_hidden": false,
     "current_version": 0,
     "id": "08f5019ff049b8",
     "named_versions": [],
     "output_hidden": false,
     "show_versions": false,
     "source_hidden": false,
     "versions": []
    }
   },
   "outputs": [],
   "source": [
    "DF_FINAL_RECIPE_MIN = DF_FINAL_RECIPE_RAW.copy()"
   ]
  },
  {
   "cell_type": "code",
   "execution_count": 56,
   "metadata": {
    "ExecuteTime": {
     "end_time": "2018-04-18T04:11:47.333697Z",
     "start_time": "2018-04-18T04:11:47.305621Z"
    },
    "collapsed": true,
    "janus": {
     "all_versions_showing": false,
     "cell_hidden": false,
     "current_version": 0,
     "id": "f258f4eaf68598",
     "named_versions": [],
     "output_hidden": false,
     "show_versions": false,
     "source_hidden": false,
     "versions": []
    }
   },
   "outputs": [],
   "source": [
    "nomanual = [x for x in DF_FINAL_RECIPE_MIN[pd.notnull(DF_FINAL_RECIPE_MIN.Structure_source)].Structure_source.unique().tolist() if 'manual' in x]\n",
    "min_include_idx = DF_FINAL_RECIPE_MIN[(pd.notnull(DF_FINAL_RECIPE_MIN.PDB)) & (DF_FINAL_RECIPE_MIN.Copy_number2>0) & (DF_FINAL_RECIPE_MIN.Localization != 'Extracellular') & (~DF_FINAL_RECIPE_MIN.Structure_source.isin(nomanual))].index\n",
    "min_not_include_idx = DF_FINAL_RECIPE_MIN[(pd.isnull(DF_FINAL_RECIPE_MIN.PDB)) | (DF_FINAL_RECIPE_MIN.Copy_number2<=0) | (pd.isnull(DF_FINAL_RECIPE_MIN.Copy_number2)) | (DF_FINAL_RECIPE_MIN.Localization == 'Extracellular') | (DF_FINAL_RECIPE_MIN.Structure_source.isin(nomanual))].index"
   ]
  },
  {
   "cell_type": "code",
   "execution_count": 57,
   "metadata": {
    "ExecuteTime": {
     "end_time": "2018-04-18T04:11:47.342272Z",
     "start_time": "2018-04-18T04:11:47.335588Z"
    },
    "janus": {
     "all_versions_showing": false,
     "cell_hidden": false,
     "current_version": 0,
     "id": "28c9434f0935c8",
     "named_versions": [],
     "output_hidden": false,
     "show_versions": false,
     "source_hidden": false,
     "versions": []
    }
   },
   "outputs": [
    {
     "name": "stdout",
     "output_type": "stream",
     "text": [
      "Include: 1932\n",
      "Not include: 3799\n"
     ]
    },
    {
     "data": {
      "text/plain": [
       "True"
      ]
     },
     "execution_count": 57,
     "metadata": {},
     "output_type": "execute_result"
    }
   ],
   "source": [
    "print('Include:', len(min_include_idx))\n",
    "print('Not include:', len(min_not_include_idx))\n",
    "len(min_include_idx) + len(min_not_include_idx) == len(DF_FINAL_RECIPE_MIN)"
   ]
  },
  {
   "cell_type": "code",
   "execution_count": 58,
   "metadata": {
    "ExecuteTime": {
     "end_time": "2018-04-18T04:11:47.391049Z",
     "start_time": "2018-04-18T04:11:47.343859Z"
    },
    "collapsed": true,
    "janus": {
     "all_versions_showing": false,
     "cell_hidden": false,
     "current_version": 0,
     "id": "e699e80774ef8",
     "named_versions": [],
     "output_hidden": false,
     "show_versions": false,
     "source_hidden": false,
     "versions": []
    }
   },
   "outputs": [],
   "source": [
    "for ix in min_include_idx:\n",
    "    DF_FINAL_RECIPE_MIN.at[ix, 'INCLUDE'] = 'x'\n",
    "for ix in min_not_include_idx:\n",
    "    DF_FINAL_RECIPE_MIN.at[ix, 'INCLUDE'] = np.nan"
   ]
  },
  {
   "cell_type": "code",
   "execution_count": 59,
   "metadata": {
    "ExecuteTime": {
     "end_time": "2018-04-18T04:11:47.471752Z",
     "start_time": "2018-04-18T04:11:47.393008Z"
    },
    "collapsed": true,
    "janus": {
     "all_versions_showing": false,
     "cell_hidden": false,
     "current_version": 0,
     "id": "405a33f056c32",
     "named_versions": [],
     "output_hidden": false,
     "show_versions": false,
     "source_hidden": false,
     "versions": []
    }
   },
   "outputs": [],
   "source": [
    "DF_FINAL_RECIPE_FULL.to_csv('./cellpack_P2_prep/180409-RECIPE_FINAL_MIN.csv')"
   ]
  },
  {
   "cell_type": "code",
   "execution_count": null,
   "metadata": {
    "collapsed": true,
    "janus": {
     "all_versions_showing": false,
     "cell_hidden": false,
     "current_version": 0,
     "id": "cb95769f325bf8",
     "named_versions": [],
     "output_hidden": false,
     "show_versions": false,
     "source_hidden": false,
     "versions": []
    }
   },
   "outputs": [],
   "source": []
  }
 ],
 "metadata": {
  "janus": {
   "filepaths": [
    [
     "1031001d",
     1523950724244,
     1524013428960
    ],
    [
     "5adad1b0",
     1524013699828,
     1524024834584
    ]
   ],
   "janus_markers": [],
   "track_history": true
  },
  "kernelspec": {
   "display_name": "Python [default]",
   "language": "python",
   "name": "python3"
  },
  "language_info": {
   "codemirror_mode": {
    "name": "ipython",
    "version": 3
   },
   "file_extension": ".py",
   "mimetype": "text/x-python",
   "name": "python",
   "nbconvert_exporter": "python",
   "pygments_lexer": "ipython3",
   "version": "3.6.4"
  },
  "toc": {
   "nav_menu": {},
   "number_sections": false,
   "sideBar": true,
   "skip_h1_title": true,
   "title_cell": "Table of Contents",
   "title_sidebar": "Contents",
   "toc_cell": false,
   "toc_position": {
    "height": "calc(100% - 180px)",
    "left": "10px",
    "top": "150px",
    "width": "292px"
   },
   "toc_section_display": true,
   "toc_window_display": true
  }
 },
 "nbformat": 4,
 "nbformat_minor": 2
}
