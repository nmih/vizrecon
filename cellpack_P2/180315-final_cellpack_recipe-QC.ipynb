{
 "cells": [
  {
   "cell_type": "markdown",
   "metadata": {
    "janus": {
     "all_versions_showing": false,
     "cell_hidden": false,
     "current_version": 0,
     "id": "4a05b16acd339",
     "named_versions": [],
     "output_hidden": false,
     "show_versions": false,
     "source_hidden": false,
     "versions": []
    }
   },
   "source": [
    "# Final cellPACK recipe - quality checking + INCLUDE"
   ]
  },
  {
   "cell_type": "code",
   "execution_count": 1,
   "metadata": {
    "ExecuteTime": {
     "end_time": "2018-04-18T04:11:50.309760Z",
     "start_time": "2018-04-18T04:11:49.926032Z"
    },
    "collapsed": true,
    "janus": {
     "all_versions_showing": false,
     "cell_hidden": false,
     "current_version": 0,
     "id": "a0a176eb4716b",
     "named_versions": [],
     "output_hidden": false,
     "show_versions": false,
     "source_hidden": false,
     "versions": []
    }
   },
   "outputs": [],
   "source": [
    "import pandas as pd\n",
    "import os.path as op\n",
    "pd.set_option('display.max_columns', 500)"
   ]
  },
  {
   "cell_type": "code",
   "execution_count": 2,
   "metadata": {
    "ExecuteTime": {
     "end_time": "2018-04-18T04:11:50.313546Z",
     "start_time": "2018-04-18T04:11:50.311275Z"
    },
    "collapsed": true,
    "janus": {
     "all_versions_showing": false,
     "cell_hidden": false,
     "current_version": 0,
     "id": "fdc710c942c14",
     "named_versions": [],
     "output_hidden": false,
     "show_versions": false,
     "source_hidden": false,
     "versions": []
    }
   },
   "outputs": [],
   "source": [
    "FINAL_STRUCTURES_DIR = '/home/nathan/projects_unsynced/vizrecon/P2_structures/'"
   ]
  },
  {
   "cell_type": "code",
   "execution_count": 12,
   "metadata": {
    "ExecuteTime": {
     "end_time": "2018-04-18T04:13:41.875958Z",
     "start_time": "2018-04-18T04:13:41.835051Z"
    },
    "janus": {
     "all_versions_showing": false,
     "cell_hidden": false,
     "current_version": 0,
     "id": "969a42b7b71d98",
     "named_versions": [],
     "output_hidden": false,
     "show_versions": false,
     "source_hidden": false,
     "versions": []
    }
   },
   "outputs": [],
   "source": [
    "FINAL_RECIPE = pd.read_csv('./cellpack_P2_prep/180409-RECIPE_FINAL_MIN.csv', index_col=0)\n",
    "FINAL_RECIPE_inc = FINAL_RECIPE[FINAL_RECIPE.INCLUDE == 'x']"
   ]
  },
  {
   "cell_type": "code",
   "execution_count": 13,
   "metadata": {
    "ExecuteTime": {
     "end_time": "2018-04-18T04:13:42.184067Z",
     "start_time": "2018-04-18T04:13:42.144960Z"
    },
    "janus": {
     "all_versions_showing": false,
     "cell_hidden": false,
     "current_version": 0,
     "id": "00e58901fcac58",
     "named_versions": [],
     "output_hidden": false,
     "show_versions": false,
     "source_hidden": false,
     "versions": []
    }
   },
   "outputs": [
    {
     "data": {
      "text/html": [
       "<div>\n",
       "<style scoped>\n",
       "    .dataframe tbody tr th:only-of-type {\n",
       "        vertical-align: middle;\n",
       "    }\n",
       "\n",
       "    .dataframe tbody tr th {\n",
       "        vertical-align: top;\n",
       "    }\n",
       "\n",
       "    .dataframe thead th {\n",
       "        text-align: right;\n",
       "    }\n",
       "</style>\n",
       "<table border=\"1\" class=\"dataframe\">\n",
       "  <thead>\n",
       "    <tr style=\"text-align: right;\">\n",
       "      <th></th>\n",
       "      <th>Gene</th>\n",
       "      <th>UniProt</th>\n",
       "      <th>NAME</th>\n",
       "      <th>Description</th>\n",
       "      <th>Structure_ID</th>\n",
       "      <th>PDB</th>\n",
       "      <th>Structure_source</th>\n",
       "      <th>MW</th>\n",
       "      <th>MOLARITY</th>\n",
       "      <th>Copy_number</th>\n",
       "      <th>Localization</th>\n",
       "      <th>Localization_source</th>\n",
       "      <th>INCLUDE</th>\n",
       "      <th>COLOR</th>\n",
       "      <th>NOTES</th>\n",
       "      <th>model_id</th>\n",
       "      <th>Copy_number2</th>\n",
       "      <th>NumUsed</th>\n",
       "      <th>Protein_stoichiometry</th>\n",
       "      <th>PDB_coverage</th>\n",
       "      <th>PDB_stoichiometry</th>\n",
       "      <th>PDB_quality</th>\n",
       "      <th>Localization_multiple</th>\n",
       "      <th>PRINCIPAL_VECTOR</th>\n",
       "      <th>OFFSET</th>\n",
       "      <th>JITTER_MAX</th>\n",
       "      <th>PRINCIPAL_VECTOR_source</th>\n",
       "      <th>TM1_residues</th>\n",
       "      <th>TM2_residues</th>\n",
       "      <th>molecules/sqA</th>\n",
       "    </tr>\n",
       "    <tr>\n",
       "      <th></th>\n",
       "      <th></th>\n",
       "      <th></th>\n",
       "      <th></th>\n",
       "      <th></th>\n",
       "      <th></th>\n",
       "      <th></th>\n",
       "      <th></th>\n",
       "      <th></th>\n",
       "      <th></th>\n",
       "      <th></th>\n",
       "      <th></th>\n",
       "      <th></th>\n",
       "      <th></th>\n",
       "      <th></th>\n",
       "      <th></th>\n",
       "      <th></th>\n",
       "      <th></th>\n",
       "      <th></th>\n",
       "      <th></th>\n",
       "      <th></th>\n",
       "      <th></th>\n",
       "      <th></th>\n",
       "      <th></th>\n",
       "      <th></th>\n",
       "      <th></th>\n",
       "      <th></th>\n",
       "      <th></th>\n",
       "      <th></th>\n",
       "      <th></th>\n",
       "      <th></th>\n",
       "    </tr>\n",
       "  </thead>\n",
       "  <tbody>\n",
       "    <tr>\n",
       "      <th>1</th>\n",
       "      <td>b0002</td>\n",
       "      <td>P00561</td>\n",
       "      <td>thrA</td>\n",
       "      <td>Bifunctional aspartokinase/homoserine dehydrog...</td>\n",
       "      <td>REP-E00002</td>\n",
       "      <td>E00002_clean-X_clean.pdb</td>\n",
       "      <td>metaTASSER</td>\n",
       "      <td>89119.2202</td>\n",
       "      <td>4.105136e-06</td>\n",
       "      <td>4375.0</td>\n",
       "      <td>Cytosol</td>\n",
       "      <td>iJL1678</td>\n",
       "      <td>x</td>\n",
       "      <td>NaN</td>\n",
       "      <td>NaN</td>\n",
       "      <td>iML1515_v1</td>\n",
       "      <td>4375.0</td>\n",
       "      <td>0.0</td>\n",
       "      <td>b0002:1</td>\n",
       "      <td>complete</td>\n",
       "      <td>E00002_clean-X_clean.pdb:1</td>\n",
       "      <td>all-homology</td>\n",
       "      <td>NaN</td>\n",
       "      <td>NaN</td>\n",
       "      <td>NaN</td>\n",
       "      <td>NaN</td>\n",
       "      <td>NaN</td>\n",
       "      <td>NaN</td>\n",
       "      <td>NaN</td>\n",
       "      <td>NaN</td>\n",
       "    </tr>\n",
       "    <tr>\n",
       "      <th>3</th>\n",
       "      <td>b0004</td>\n",
       "      <td>P00934</td>\n",
       "      <td>thrC</td>\n",
       "      <td>Threonine synthase</td>\n",
       "      <td>REP-1vb3</td>\n",
       "      <td>1vb3-A_clean.pdb</td>\n",
       "      <td>Protein Data Bank</td>\n",
       "      <td>47113.2536</td>\n",
       "      <td>1.282397e-05</td>\n",
       "      <td>13676.0</td>\n",
       "      <td>Cytosol</td>\n",
       "      <td>iJL1678</td>\n",
       "      <td>x</td>\n",
       "      <td>NaN</td>\n",
       "      <td>NaN</td>\n",
       "      <td>iML1515_v1</td>\n",
       "      <td>13667.0</td>\n",
       "      <td>9.0</td>\n",
       "      <td>b0004:1</td>\n",
       "      <td>complete</td>\n",
       "      <td>1vb3-A_clean.pdb:1</td>\n",
       "      <td>all-experimental</td>\n",
       "      <td>NaN</td>\n",
       "      <td>NaN</td>\n",
       "      <td>NaN</td>\n",
       "      <td>NaN</td>\n",
       "      <td>NaN</td>\n",
       "      <td>NaN</td>\n",
       "      <td>NaN</td>\n",
       "      <td>NaN</td>\n",
       "    </tr>\n",
       "    <tr>\n",
       "      <th>5</th>\n",
       "      <td>b0006</td>\n",
       "      <td>P0A8I3</td>\n",
       "      <td>yaaA</td>\n",
       "      <td>UPF0246 protein YaaA</td>\n",
       "      <td>REP-5caj</td>\n",
       "      <td>5caj-A_clean.pdb</td>\n",
       "      <td>Protein Data Bank</td>\n",
       "      <td>29585.4538</td>\n",
       "      <td>5.751881e-07</td>\n",
       "      <td>613.0</td>\n",
       "      <td>Cytosol</td>\n",
       "      <td>EchoLOCATION predicted</td>\n",
       "      <td>x</td>\n",
       "      <td>NaN</td>\n",
       "      <td>NaN</td>\n",
       "      <td>iML1515_v1</td>\n",
       "      <td>613.0</td>\n",
       "      <td>0.0</td>\n",
       "      <td>b0006:1</td>\n",
       "      <td>complete</td>\n",
       "      <td>5caj-A_clean.pdb:1</td>\n",
       "      <td>all-experimental</td>\n",
       "      <td>NaN</td>\n",
       "      <td>NaN</td>\n",
       "      <td>NaN</td>\n",
       "      <td>NaN</td>\n",
       "      <td>NaN</td>\n",
       "      <td>NaN</td>\n",
       "      <td>NaN</td>\n",
       "      <td>NaN</td>\n",
       "    </tr>\n",
       "    <tr>\n",
       "      <th>7</th>\n",
       "      <td>b0008</td>\n",
       "      <td>P0A870</td>\n",
       "      <td>talB</td>\n",
       "      <td>Transaldolase B</td>\n",
       "      <td>REP-4s2b</td>\n",
       "      <td>4s2b-A_clean.pdb</td>\n",
       "      <td>Protein Data Bank</td>\n",
       "      <td>35218.8107</td>\n",
       "      <td>8.676614e-06</td>\n",
       "      <td>9247.0</td>\n",
       "      <td>Cytosol</td>\n",
       "      <td>iJL1678</td>\n",
       "      <td>x</td>\n",
       "      <td>NaN</td>\n",
       "      <td>NaN</td>\n",
       "      <td>iML1515_v1</td>\n",
       "      <td>9247.0</td>\n",
       "      <td>0.0</td>\n",
       "      <td>b0008:1</td>\n",
       "      <td>complete</td>\n",
       "      <td>4s2b-A_clean.pdb:1</td>\n",
       "      <td>all-experimental</td>\n",
       "      <td>NaN</td>\n",
       "      <td>NaN</td>\n",
       "      <td>NaN</td>\n",
       "      <td>NaN</td>\n",
       "      <td>NaN</td>\n",
       "      <td>NaN</td>\n",
       "      <td>NaN</td>\n",
       "      <td>NaN</td>\n",
       "    </tr>\n",
       "    <tr>\n",
       "      <th>8</th>\n",
       "      <td>b0009</td>\n",
       "      <td>P0AF03</td>\n",
       "      <td>mog</td>\n",
       "      <td>Molybdopterin adenylyltransferase</td>\n",
       "      <td>REP-1di6</td>\n",
       "      <td>1di6-A_clean.pdb</td>\n",
       "      <td>Protein Data Bank</td>\n",
       "      <td>21222.1050</td>\n",
       "      <td>1.454391e-07</td>\n",
       "      <td>155.0</td>\n",
       "      <td>Cytosol</td>\n",
       "      <td>iJL1678</td>\n",
       "      <td>x</td>\n",
       "      <td>NaN</td>\n",
       "      <td>NaN</td>\n",
       "      <td>iML1515_v1</td>\n",
       "      <td>155.0</td>\n",
       "      <td>0.0</td>\n",
       "      <td>b0009:1</td>\n",
       "      <td>complete</td>\n",
       "      <td>1di6-A_clean.pdb:1</td>\n",
       "      <td>all-experimental</td>\n",
       "      <td>NaN</td>\n",
       "      <td>NaN</td>\n",
       "      <td>NaN</td>\n",
       "      <td>NaN</td>\n",
       "      <td>NaN</td>\n",
       "      <td>NaN</td>\n",
       "      <td>NaN</td>\n",
       "      <td>NaN</td>\n",
       "    </tr>\n",
       "  </tbody>\n",
       "</table>\n",
       "</div>"
      ],
      "text/plain": [
       "    Gene UniProt  NAME                                        Description  \\\n",
       "                                                                            \n",
       "1  b0002  P00561  thrA  Bifunctional aspartokinase/homoserine dehydrog...   \n",
       "3  b0004  P00934  thrC                                 Threonine synthase   \n",
       "5  b0006  P0A8I3  yaaA                               UPF0246 protein YaaA   \n",
       "7  b0008  P0A870  talB                                    Transaldolase B   \n",
       "8  b0009  P0AF03   mog                  Molybdopterin adenylyltransferase   \n",
       "\n",
       "  Structure_ID                       PDB   Structure_source          MW  \\\n",
       "                                                                          \n",
       "1   REP-E00002  E00002_clean-X_clean.pdb         metaTASSER  89119.2202   \n",
       "3     REP-1vb3          1vb3-A_clean.pdb  Protein Data Bank  47113.2536   \n",
       "5     REP-5caj          5caj-A_clean.pdb  Protein Data Bank  29585.4538   \n",
       "7     REP-4s2b          4s2b-A_clean.pdb  Protein Data Bank  35218.8107   \n",
       "8     REP-1di6          1di6-A_clean.pdb  Protein Data Bank  21222.1050   \n",
       "\n",
       "       MOLARITY  Copy_number Localization     Localization_source INCLUDE  \\\n",
       "                                                                            \n",
       "1  4.105136e-06       4375.0      Cytosol                 iJL1678       x   \n",
       "3  1.282397e-05      13676.0      Cytosol                 iJL1678       x   \n",
       "5  5.751881e-07        613.0      Cytosol  EchoLOCATION predicted       x   \n",
       "7  8.676614e-06       9247.0      Cytosol                 iJL1678       x   \n",
       "8  1.454391e-07        155.0      Cytosol                 iJL1678       x   \n",
       "\n",
       "   COLOR  NOTES    model_id  Copy_number2  NumUsed Protein_stoichiometry  \\\n",
       "                                                                           \n",
       "1    NaN    NaN  iML1515_v1        4375.0      0.0               b0002:1   \n",
       "3    NaN    NaN  iML1515_v1       13667.0      9.0               b0004:1   \n",
       "5    NaN    NaN  iML1515_v1         613.0      0.0               b0006:1   \n",
       "7    NaN    NaN  iML1515_v1        9247.0      0.0               b0008:1   \n",
       "8    NaN    NaN  iML1515_v1         155.0      0.0               b0009:1   \n",
       "\n",
       "  PDB_coverage           PDB_stoichiometry       PDB_quality  \\\n",
       "                                                               \n",
       "1     complete  E00002_clean-X_clean.pdb:1      all-homology   \n",
       "3     complete          1vb3-A_clean.pdb:1  all-experimental   \n",
       "5     complete          5caj-A_clean.pdb:1  all-experimental   \n",
       "7     complete          4s2b-A_clean.pdb:1  all-experimental   \n",
       "8     complete          1di6-A_clean.pdb:1  all-experimental   \n",
       "\n",
       "  Localization_multiple PRINCIPAL_VECTOR  OFFSET  JITTER_MAX  \\\n",
       "                                                               \n",
       "1                   NaN              NaN     NaN         NaN   \n",
       "3                   NaN              NaN     NaN         NaN   \n",
       "5                   NaN              NaN     NaN         NaN   \n",
       "7                   NaN              NaN     NaN         NaN   \n",
       "8                   NaN              NaN     NaN         NaN   \n",
       "\n",
       "  PRINCIPAL_VECTOR_source TM1_residues TM2_residues  molecules/sqA  \n",
       "                                                                    \n",
       "1                     NaN          NaN          NaN            NaN  \n",
       "3                     NaN          NaN          NaN            NaN  \n",
       "5                     NaN          NaN          NaN            NaN  \n",
       "7                     NaN          NaN          NaN            NaN  \n",
       "8                     NaN          NaN          NaN            NaN  "
      ]
     },
     "execution_count": 13,
     "metadata": {},
     "output_type": "execute_result"
    }
   ],
   "source": [
    "FINAL_RECIPE_inc.head()"
   ]
  },
  {
   "cell_type": "markdown",
   "metadata": {
    "janus": {
     "all_versions_showing": false,
     "cell_hidden": false,
     "current_version": 0,
     "id": "c3cbe7ca3161d8",
     "named_versions": [],
     "output_hidden": false,
     "show_versions": false,
     "source_hidden": false,
     "versions": []
    }
   },
   "source": [
    "## Test if NAME column is filled"
   ]
  },
  {
   "cell_type": "code",
   "execution_count": 14,
   "metadata": {
    "ExecuteTime": {
     "end_time": "2018-04-18T04:13:42.569550Z",
     "start_time": "2018-04-18T04:13:42.566128Z"
    },
    "collapsed": true,
    "janus": {
     "all_versions_showing": false,
     "cell_hidden": false,
     "current_version": 0,
     "id": "ff6923bc61dcb",
     "named_versions": [],
     "output_hidden": false,
     "show_versions": false,
     "source_hidden": false,
     "versions": []
    }
   },
   "outputs": [],
   "source": [
    "assert len(FINAL_RECIPE_inc[pd.isnull(FINAL_RECIPE_inc.NAME)])==0"
   ]
  },
  {
   "cell_type": "markdown",
   "metadata": {
    "janus": {
     "all_versions_showing": false,
     "cell_hidden": false,
     "current_version": 0,
     "id": "8b71d84e0eb34",
     "named_versions": [],
     "output_hidden": false,
     "show_versions": false,
     "source_hidden": false,
     "versions": []
    }
   },
   "source": [
    "## Test if all structures are available in specified folder"
   ]
  },
  {
   "cell_type": "code",
   "execution_count": 15,
   "metadata": {
    "ExecuteTime": {
     "end_time": "2018-04-18T04:13:42.982335Z",
     "start_time": "2018-04-18T04:13:42.963761Z"
    },
    "janus": {
     "all_versions_showing": false,
     "cell_hidden": false,
     "current_version": 0,
     "id": "0c316d8ff5e59",
     "named_versions": [],
     "output_hidden": false,
     "show_versions": false,
     "source_hidden": false,
     "versions": []
    }
   },
   "outputs": [],
   "source": [
    "for pdb in FINAL_RECIPE_inc.PDB.unique().tolist():\n",
    "    if not op.exists(op.join(FINAL_STRUCTURES_DIR, pdb)):\n",
    "        print(pdb)"
   ]
  },
  {
   "cell_type": "markdown",
   "metadata": {
    "janus": {
     "all_versions_showing": false,
     "cell_hidden": false,
     "current_version": 0,
     "id": "f197a81f3b7888",
     "named_versions": [],
     "output_hidden": false,
     "show_versions": false,
     "source_hidden": false,
     "versions": []
    }
   },
   "source": [
    "## Test if INCLUDE is only for Copy_number2>0 AND notnull(PDB)"
   ]
  },
  {
   "cell_type": "code",
   "execution_count": 16,
   "metadata": {
    "ExecuteTime": {
     "end_time": "2018-04-18T04:13:43.366812Z",
     "start_time": "2018-04-18T04:13:43.333852Z"
    },
    "collapsed": true,
    "janus": {
     "all_versions_showing": false,
     "cell_hidden": false,
     "current_version": 0,
     "id": "4ea94fb69bf8e",
     "named_versions": [],
     "output_hidden": false,
     "show_versions": false,
     "source_hidden": false,
     "versions": []
    }
   },
   "outputs": [],
   "source": [
    "for ix in FINAL_RECIPE_inc.index:\n",
    "    assert FINAL_RECIPE_inc.at[ix, 'Copy_number2'] > 0\n",
    "    assert pd.notnull(FINAL_RECIPE_inc.at[ix, 'PDB'])"
   ]
  },
  {
   "cell_type": "markdown",
   "metadata": {
    "janus": {
     "all_versions_showing": false,
     "cell_hidden": false,
     "current_version": 0,
     "id": "05a84ae529d23",
     "named_versions": [],
     "output_hidden": false,
     "show_versions": false,
     "source_hidden": false,
     "versions": []
    }
   },
   "source": [
    "## Test if MOLARITY filled"
   ]
  },
  {
   "cell_type": "code",
   "execution_count": 17,
   "metadata": {
    "ExecuteTime": {
     "end_time": "2018-04-18T04:13:43.958135Z",
     "start_time": "2018-04-18T04:13:43.929621Z"
    },
    "collapsed": true,
    "janus": {
     "all_versions_showing": false,
     "cell_hidden": false,
     "current_version": 0,
     "id": "2f37d73974872",
     "named_versions": [],
     "output_hidden": false,
     "show_versions": false,
     "source_hidden": false,
     "versions": []
    }
   },
   "outputs": [],
   "source": [
    "for ix in FINAL_RECIPE_inc.index:\n",
    "    assert FINAL_RECIPE_inc.at[ix, 'MOLARITY'] > 0"
   ]
  },
  {
   "cell_type": "markdown",
   "metadata": {
    "janus": {
     "all_versions_showing": false,
     "cell_hidden": false,
     "current_version": 0,
     "id": "4b48a0362b4a98",
     "named_versions": [],
     "output_hidden": false,
     "show_versions": false,
     "source_hidden": false,
     "versions": []
    }
   },
   "source": [
    "## Test if molecules/sqA is filled for all membrane proteins with a copy number"
   ]
  },
  {
   "cell_type": "code",
   "execution_count": 18,
   "metadata": {
    "ExecuteTime": {
     "end_time": "2018-04-18T04:13:44.447235Z",
     "start_time": "2018-04-18T04:13:44.440839Z"
    },
    "collapsed": true,
    "janus": {
     "all_versions_showing": false,
     "cell_hidden": false,
     "current_version": 0,
     "id": "992b800c86ba6",
     "named_versions": [],
     "output_hidden": false,
     "show_versions": false,
     "source_hidden": false,
     "versions": []
    }
   },
   "outputs": [],
   "source": [
    "for ix in FINAL_RECIPE_inc[(FINAL_RECIPE_inc.Localization.isin(['Inner_Membrane', 'Outer_Membrane']))].index:\n",
    "    assert FINAL_RECIPE_inc.at[ix, 'molecules/sqA'] > 0"
   ]
  }
 ],
 "metadata": {
  "janus": {
   "filepaths": [
    [
     "e6dfae76",
     1522998197355,
     1523906316858
    ],
    [
     "536c954c",
     1523916492874,
     1523916540826
    ],
    [
     "d02b42bf",
     1523916569908,
     1524024827596
    ]
   ],
   "janus_markers": [],
   "track_history": true
  },
  "kernelspec": {
   "display_name": "Python [default]",
   "language": "python",
   "name": "python3"
  },
  "language_info": {
   "codemirror_mode": {
    "name": "ipython",
    "version": 3
   },
   "file_extension": ".py",
   "mimetype": "text/x-python",
   "name": "python",
   "nbconvert_exporter": "python",
   "pygments_lexer": "ipython3",
   "version": "3.6.4"
  },
  "notify_time": "5",
  "toc": {
   "nav_menu": {},
   "number_sections": false,
   "sideBar": true,
   "skip_h1_title": true,
   "title_cell": "Table of Contents",
   "title_sidebar": "Contents",
   "toc_cell": false,
   "toc_position": {
    "height": "calc(100% - 180px)",
    "left": "10px",
    "top": "150px",
    "width": "228px"
   },
   "toc_section_display": true,
   "toc_window_display": true
  }
 },
 "nbformat": 4,
 "nbformat_minor": 2
}
