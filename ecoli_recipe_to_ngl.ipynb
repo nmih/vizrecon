{
 "cells": [
  {
   "cell_type": "code",
   "execution_count": 1,
   "metadata": {
    "collapsed": true
   },
   "outputs": [],
   "source": [
    "import json"
   ]
  },
  {
   "cell_type": "code",
   "execution_count": 30,
   "metadata": {},
   "outputs": [],
   "source": [
    "with open('./cellpack_P1/RECIPE_PROTOTYPE_1_MENU_v2_menu_bb.json', 'r') as f:\n",
    "    recipe = json.load(f)"
   ]
  },
  {
   "cell_type": "code",
   "execution_count": 47,
   "metadata": {
    "collapsed": true
   },
   "outputs": [],
   "source": [
    "def parse_sub_recipe(infile):\n",
    "    with open(infile, 'r') as f:\n",
    "        sub_recipe = json.load(f)\n",
    "    return sub_recipe['positions'][0]"
   ]
  },
  {
   "cell_type": "code",
   "execution_count": 50,
   "metadata": {},
   "outputs": [
    {
     "name": "stdout",
     "output_type": "stream",
     "text": [
      "sbcC {'include': 'sbcC.json', 'name': 'sbcC', 'overwrite': {'molarity': 3.74e-08}}\n"
     ]
    }
   ],
   "source": [
    "all_positions = {}\n",
    "for k,v in recipe.items():\n",
    "    for compartment, compartment_info in v.items():\n",
    "        compartments_def = ['inner_membrane', 'outer_membrane', 'cytoplasme']\n",
    "        if compartment in compartments_def:\n",
    "#             print(compartment, compartment_info.keys())\n",
    "#             print(compartment_info['geom'])\n",
    "#             print(compartment_info['name'])\n",
    "            subcompartments = ['interior']\n",
    "            for kk in compartment_info.keys():\n",
    "                if kk in subcompartments:\n",
    "                    for protein, protein_info in compartment_info[kk]['ingredients'].items():\n",
    "                        protein_recipe = protein_info['include']\n",
    "#                         print(protein, protein_info)\n",
    "                        try:\n",
    "                            positions_array = parse_sub_recipe('./cellpack_P1/{}'.format(protein_recipe))\n",
    "                        except FileNotFoundError:\n",
    "                            print(protein, protein_info)\n",
    "                            continue\n",
    "                        all_positions[protein] = positions_array"
   ]
  },
  {
   "cell_type": "code",
   "execution_count": 52,
   "metadata": {},
   "outputs": [],
   "source": [
    "with open('cellpack_P1_for_ngl.json', 'w') as f:\n",
    "    json.dump(all_positions, f)"
   ]
  },
  {
   "cell_type": "code",
   "execution_count": null,
   "metadata": {
    "collapsed": true
   },
   "outputs": [],
   "source": []
  }
 ],
 "metadata": {
  "kernelspec": {
   "display_name": "Python [default]",
   "language": "python",
   "name": "python3"
  },
  "language_info": {
   "codemirror_mode": {
    "name": "ipython",
    "version": 3
   },
   "file_extension": ".py",
   "mimetype": "text/x-python",
   "name": "python",
   "nbconvert_exporter": "python",
   "pygments_lexer": "ipython3",
   "version": "3.6.3"
  }
 },
 "nbformat": 4,
 "nbformat_minor": 2
}
