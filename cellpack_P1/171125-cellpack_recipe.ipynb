{
 "cells": [
  {
   "cell_type": "markdown",
   "metadata": {},
   "source": [
    "# Prototype #1 - cellPACK"
   ]
  },
  {
   "cell_type": "code",
   "execution_count": 1,
   "metadata": {
    "collapsed": true
   },
   "outputs": [],
   "source": [
    "import pandas as pd"
   ]
  },
  {
   "cell_type": "markdown",
   "metadata": {},
   "source": [
    "## Experimental details from Heinemann 2016"
   ]
  },
  {
   "cell_type": "markdown",
   "metadata": {},
   "source": [
    "### Cell volume"
   ]
  },
  {
   "cell_type": "markdown",
   "metadata": {},
   "source": [
    "#### MG1655"
   ]
  },
  {
   "cell_type": "code",
   "execution_count": 2,
   "metadata": {},
   "outputs": [
    {
     "data": {
      "text/html": [
       "<div>\n",
       "<style>\n",
       "    .dataframe thead tr:only-child th {\n",
       "        text-align: right;\n",
       "    }\n",
       "\n",
       "    .dataframe thead th {\n",
       "        text-align: left;\n",
       "    }\n",
       "\n",
       "    .dataframe tbody tr th {\n",
       "        vertical-align: top;\n",
       "    }\n",
       "</style>\n",
       "<table border=\"1\" class=\"dataframe\">\n",
       "  <thead>\n",
       "    <tr style=\"text-align: right;\">\n",
       "      <th></th>\n",
       "      <th>Growth condition</th>\n",
       "      <th>Strain</th>\n",
       "      <th>Growth rate (h-1)</th>\n",
       "      <th>Stdev</th>\n",
       "      <th>Single cell volume [fl]1</th>\n",
       "      <th>Doubling time (h-1)</th>\n",
       "      <th>Time exp before harvest (h)</th>\n",
       "      <th># of doublings at exponential growth before harvesting</th>\n",
       "      <th>OD @ harvesting. replicates</th>\n",
       "      <th>Unnamed: 9</th>\n",
       "      <th>Unnamed: 10</th>\n",
       "      <th>Number of Proteins Identified (FDR 1%)2</th>\n",
       "    </tr>\n",
       "  </thead>\n",
       "  <tbody>\n",
       "    <tr>\n",
       "      <th>1</th>\n",
       "      <td>LB</td>\n",
       "      <td>MG1665</td>\n",
       "      <td>1.78</td>\n",
       "      <td>0.05</td>\n",
       "      <td>4.230548</td>\n",
       "      <td>0.4</td>\n",
       "      <td>5.4</td>\n",
       "      <td>13.9</td>\n",
       "      <td>0.53</td>\n",
       "      <td>1.09</td>\n",
       "      <td>1.32</td>\n",
       "      <td>1733.0</td>\n",
       "    </tr>\n",
       "    <tr>\n",
       "      <th>8</th>\n",
       "      <td>Glucose</td>\n",
       "      <td>MG1665</td>\n",
       "      <td>0.67</td>\n",
       "      <td>0.07</td>\n",
       "      <td>2.996783</td>\n",
       "      <td>1</td>\n",
       "      <td>22</td>\n",
       "      <td>21.4</td>\n",
       "      <td>0.62</td>\n",
       "      <td>0.38</td>\n",
       "      <td>0.63</td>\n",
       "      <td>1706.0</td>\n",
       "    </tr>\n",
       "  </tbody>\n",
       "</table>\n",
       "</div>"
      ],
      "text/plain": [
       "  Growth condition  Strain  Growth rate (h-1)  Stdev  \\\n",
       "1               LB  MG1665               1.78   0.05   \n",
       "8          Glucose  MG1665               0.67   0.07   \n",
       "\n",
       "   Single cell volume [fl]1 Doubling time (h-1) Time exp before harvest (h)  \\\n",
       "1                  4.230548                 0.4                         5.4   \n",
       "8                  2.996783                   1                          22   \n",
       "\n",
       "  # of doublings at exponential growth before harvesting  \\\n",
       "1                                               13.9       \n",
       "8                                               21.4       \n",
       "\n",
       "   OD @ harvesting. replicates  Unnamed: 9  Unnamed: 10  \\\n",
       "1                         0.53        1.09         1.32   \n",
       "8                         0.62        0.38         0.63   \n",
       "\n",
       "   Number of Proteins Identified (FDR 1%)2  \n",
       "1                                   1733.0  \n",
       "8                                   1706.0  "
      ]
     },
     "execution_count": 2,
     "metadata": {},
     "output_type": "execute_result"
    }
   ],
   "source": [
    "exp_details = pd.read_excel('./nbt.3418-S2.xlsx', sheetname='Table S23', skiprows=2)\n",
    "exp_details[exp_details.Strain == 'MG1665']"
   ]
  },
  {
   "cell_type": "markdown",
   "metadata": {},
   "source": [
    "#### BW25113"
   ]
  },
  {
   "cell_type": "code",
   "execution_count": 3,
   "metadata": {},
   "outputs": [
    {
     "data": {
      "text/html": [
       "<div>\n",
       "<style>\n",
       "    .dataframe thead tr:only-child th {\n",
       "        text-align: right;\n",
       "    }\n",
       "\n",
       "    .dataframe thead th {\n",
       "        text-align: left;\n",
       "    }\n",
       "\n",
       "    .dataframe tbody tr th {\n",
       "        vertical-align: top;\n",
       "    }\n",
       "</style>\n",
       "<table border=\"1\" class=\"dataframe\">\n",
       "  <thead>\n",
       "    <tr style=\"text-align: right;\">\n",
       "      <th></th>\n",
       "      <th>Growth condition</th>\n",
       "      <th>Strain</th>\n",
       "      <th>Growth rate (h-1)</th>\n",
       "      <th>Stdev</th>\n",
       "      <th>Single cell volume [fl]1</th>\n",
       "      <th>Doubling time (h-1)</th>\n",
       "      <th>Time exp before harvest (h)</th>\n",
       "      <th># of doublings at exponential growth before harvesting</th>\n",
       "      <th>OD @ harvesting. replicates</th>\n",
       "      <th>Unnamed: 9</th>\n",
       "      <th>Unnamed: 10</th>\n",
       "      <th>Number of Proteins Identified (FDR 1%)2</th>\n",
       "    </tr>\n",
       "  </thead>\n",
       "  <tbody>\n",
       "    <tr>\n",
       "      <th>7</th>\n",
       "      <td>Glucose</td>\n",
       "      <td>BW25113</td>\n",
       "      <td>0.58</td>\n",
       "      <td>0.01</td>\n",
       "      <td>2.839508</td>\n",
       "      <td>1.2</td>\n",
       "      <td>22.7</td>\n",
       "      <td>19.1</td>\n",
       "      <td>0.4</td>\n",
       "      <td>0.43</td>\n",
       "      <td>0.39</td>\n",
       "      <td>1702.0</td>\n",
       "    </tr>\n",
       "  </tbody>\n",
       "</table>\n",
       "</div>"
      ],
      "text/plain": [
       "  Growth condition   Strain  Growth rate (h-1)  Stdev  \\\n",
       "7          Glucose  BW25113               0.58   0.01   \n",
       "\n",
       "   Single cell volume [fl]1 Doubling time (h-1) Time exp before harvest (h)  \\\n",
       "7                  2.839508                 1.2                        22.7   \n",
       "\n",
       "  # of doublings at exponential growth before harvesting  \\\n",
       "7                                               19.1       \n",
       "\n",
       "   OD @ harvesting. replicates  Unnamed: 9  Unnamed: 10  \\\n",
       "7                          0.4        0.43         0.39   \n",
       "\n",
       "   Number of Proteins Identified (FDR 1%)2  \n",
       "7                                   1702.0  "
      ]
     },
     "execution_count": 3,
     "metadata": {},
     "output_type": "execute_result"
    }
   ],
   "source": [
    "exp_details[(exp_details.Strain == 'BW25113') & (exp_details['Growth condition'] == 'Glucose')]"
   ]
  },
  {
   "cell_type": "code",
   "execution_count": 4,
   "metadata": {},
   "outputs": [
    {
     "data": {
      "text/html": [
       "<div>\n",
       "<style>\n",
       "    .dataframe thead tr:only-child th {\n",
       "        text-align: right;\n",
       "    }\n",
       "\n",
       "    .dataframe thead th {\n",
       "        text-align: left;\n",
       "    }\n",
       "\n",
       "    .dataframe tbody tr th {\n",
       "        vertical-align: top;\n",
       "    }\n",
       "</style>\n",
       "<table border=\"1\" class=\"dataframe\">\n",
       "  <thead>\n",
       "    <tr style=\"text-align: right;\">\n",
       "      <th></th>\n",
       "      <th>Growth condition</th>\n",
       "      <th>Cell length1</th>\n",
       "      <th>Cell width1</th>\n",
       "      <th>Experimental Growth rate</th>\n",
       "      <th>Relative cytosolic protein mass</th>\n",
       "      <th>Standard deviation between triplicates</th>\n",
       "      <th>Relative periplasmic protein mass</th>\n",
       "      <th>Standard deviation between triplicates.1</th>\n",
       "      <th>Ratio Periplasma/Cytoplasma</th>\n",
       "      <th>Total cell volume calculated (fl)1</th>\n",
       "      <th>Cytosolic cell volume calculated (fl)2</th>\n",
       "      <th>Relative periplasmic space calculated (%)</th>\n",
       "      <th>Geometric correction factor3</th>\n",
       "      <th>Relative periplasmic protein mass corrected (%)4</th>\n",
       "      <th>Standard deviation between triplicates.2</th>\n",
       "      <th>Replicate 1</th>\n",
       "      <th>Replicate 2</th>\n",
       "      <th>Replicate 3</th>\n",
       "      <th>Periplasmic width determined from proteomics measurement (nm)5</th>\n",
       "    </tr>\n",
       "  </thead>\n",
       "  <tbody>\n",
       "    <tr>\n",
       "      <th>14</th>\n",
       "      <td>Glucose</td>\n",
       "      <td>3.0</td>\n",
       "      <td>1.4</td>\n",
       "      <td>0.58</td>\n",
       "      <td>67.867115</td>\n",
       "      <td>0.547508</td>\n",
       "      <td>9.499159</td>\n",
       "      <td>0.047137</td>\n",
       "      <td>0.139967</td>\n",
       "      <td>3.16862</td>\n",
       "      <td>2.799706</td>\n",
       "      <td>11.642742</td>\n",
       "      <td>0.755234</td>\n",
       "      <td>12.577773</td>\n",
       "      <td>0.062414</td>\n",
       "      <td>12.537453</td>\n",
       "      <td>12.711775</td>\n",
       "      <td>12.680509</td>\n",
       "      <td>44.0</td>\n",
       "    </tr>\n",
       "  </tbody>\n",
       "</table>\n",
       "</div>"
      ],
      "text/plain": [
       "   Growth condition  Cell length1  Cell width1  Experimental Growth rate  \\\n",
       "14          Glucose           3.0          1.4                      0.58   \n",
       "\n",
       "    Relative cytosolic protein mass  Standard deviation between triplicates  \\\n",
       "14                        67.867115                                0.547508   \n",
       "\n",
       "    Relative periplasmic protein mass  \\\n",
       "14                           9.499159   \n",
       "\n",
       "    Standard deviation between triplicates.1  Ratio Periplasma/Cytoplasma  \\\n",
       "14                                  0.047137                     0.139967   \n",
       "\n",
       "    Total cell volume calculated (fl)1  \\\n",
       "14                             3.16862   \n",
       "\n",
       "    Cytosolic cell volume calculated (fl)2  \\\n",
       "14                                2.799706   \n",
       "\n",
       "    Relative periplasmic space calculated (%)  Geometric correction factor3  \\\n",
       "14                                  11.642742                      0.755234   \n",
       "\n",
       "    Relative periplasmic protein mass corrected (%)4  \\\n",
       "14                                         12.577773   \n",
       "\n",
       "    Standard deviation between triplicates.2  Replicate 1  Replicate 2  \\\n",
       "14                                  0.062414    12.537453    12.711775   \n",
       "\n",
       "    Replicate 3  \\\n",
       "14    12.680509   \n",
       "\n",
       "    Periplasmic width determined from proteomics measurement (nm)5  \n",
       "14                                               44.0               "
      ]
     },
     "execution_count": 4,
     "metadata": {},
     "output_type": "execute_result"
    }
   ],
   "source": [
    "# Another sheet, to show cytoplasmic/periplasmic ratio\n",
    "volumes = pd.read_excel('./nbt.3418-S2.xlsx', sheetname='Table S28', skiprows=2)\n",
    "volumes[volumes['Growth condition'] == 'Glucose']"
   ]
  },
  {
   "cell_type": "markdown",
   "metadata": {},
   "source": [
    "### Localization"
   ]
  },
  {
   "cell_type": "code",
   "execution_count": 5,
   "metadata": {},
   "outputs": [
    {
     "data": {
      "text/html": [
       "<div>\n",
       "<style>\n",
       "    .dataframe thead tr:only-child th {\n",
       "        text-align: right;\n",
       "    }\n",
       "\n",
       "    .dataframe thead th {\n",
       "        text-align: left;\n",
       "    }\n",
       "\n",
       "    .dataframe tbody tr th {\n",
       "        vertical-align: top;\n",
       "    }\n",
       "</style>\n",
       "<table border=\"1\" class=\"dataframe\">\n",
       "  <thead>\n",
       "    <tr style=\"text-align: right;\">\n",
       "      <th></th>\n",
       "      <th>uniprot_id</th>\n",
       "      <th>localization</th>\n",
       "    </tr>\n",
       "  </thead>\n",
       "  <tbody>\n",
       "    <tr>\n",
       "      <th>0</th>\n",
       "      <td>P04825</td>\n",
       "      <td>Cell inner membrane</td>\n",
       "    </tr>\n",
       "    <tr>\n",
       "      <th>1</th>\n",
       "      <td>P0C0V0</td>\n",
       "      <td>Cell inner membrane</td>\n",
       "    </tr>\n",
       "    <tr>\n",
       "      <th>2</th>\n",
       "      <td>P0AAI3</td>\n",
       "      <td>Cell inner membrane</td>\n",
       "    </tr>\n",
       "    <tr>\n",
       "      <th>3</th>\n",
       "      <td>P0ABC7</td>\n",
       "      <td>Cell inner membrane</td>\n",
       "    </tr>\n",
       "    <tr>\n",
       "      <th>4</th>\n",
       "      <td>P08506</td>\n",
       "      <td>Cell inner membrane</td>\n",
       "    </tr>\n",
       "  </tbody>\n",
       "</table>\n",
       "</div>"
      ],
      "text/plain": [
       "  uniprot_id         localization\n",
       "0     P04825  Cell inner membrane\n",
       "1     P0C0V0  Cell inner membrane\n",
       "2     P0AAI3  Cell inner membrane\n",
       "3     P0ABC7  Cell inner membrane\n",
       "4     P08506  Cell inner membrane"
      ]
     },
     "execution_count": 5,
     "metadata": {},
     "output_type": "execute_result"
    }
   ],
   "source": [
    "localization = pd.read_excel('./nbt.3418-S2.xlsx', sheetname='Table S13', skiprows=3)\n",
    "localization = localization[['Uniprot Accession','Cellular protein location (according to www.uniprot.org)']].rename(columns={'Uniprot Accession':'uniprot_id', \n",
    "                                                                                                               'Cellular protein location (according to www.uniprot.org)':'localization'})\n",
    "localization.head()"
   ]
  },
  {
   "cell_type": "markdown",
   "metadata": {},
   "source": [
    "#### ME model details - iJL1678"
   ]
  },
  {
   "cell_type": "code",
   "execution_count": 6,
   "metadata": {},
   "outputs": [
    {
     "data": {
      "text/html": [
       "<div>\n",
       "<style>\n",
       "    .dataframe thead tr:only-child th {\n",
       "        text-align: right;\n",
       "    }\n",
       "\n",
       "    .dataframe thead th {\n",
       "        text-align: left;\n",
       "    }\n",
       "\n",
       "    .dataframe tbody tr th {\n",
       "        vertical-align: top;\n",
       "    }\n",
       "</style>\n",
       "<table border=\"1\" class=\"dataframe\">\n",
       "  <thead>\n",
       "    <tr style=\"text-align: right;\">\n",
       "      <th></th>\n",
       "      <th>gene</th>\n",
       "      <th>me_localization</th>\n",
       "    </tr>\n",
       "  </thead>\n",
       "  <tbody>\n",
       "    <tr>\n",
       "      <th>0</th>\n",
       "      <td>b3829</td>\n",
       "      <td>Cytosol</td>\n",
       "    </tr>\n",
       "    <tr>\n",
       "      <th>1</th>\n",
       "      <td>b2601</td>\n",
       "      <td>Cytosol</td>\n",
       "    </tr>\n",
       "    <tr>\n",
       "      <th>2</th>\n",
       "      <td>b2600</td>\n",
       "      <td>Cytosol</td>\n",
       "    </tr>\n",
       "    <tr>\n",
       "      <th>3</th>\n",
       "      <td>b0870</td>\n",
       "      <td>Cytosol</td>\n",
       "    </tr>\n",
       "    <tr>\n",
       "      <th>4</th>\n",
       "      <td>b4131</td>\n",
       "      <td>Cytosol</td>\n",
       "    </tr>\n",
       "  </tbody>\n",
       "</table>\n",
       "</div>"
      ],
      "text/plain": [
       "    gene me_localization\n",
       "0  b3829         Cytosol\n",
       "1  b2601         Cytosol\n",
       "2  b2600         Cytosol\n",
       "3  b0870         Cytosol\n",
       "4  b4131         Cytosol"
      ]
     },
     "execution_count": 6,
     "metadata": {},
     "output_type": "execute_result"
    }
   ],
   "source": [
    "me_compartments = pd.read_excel('./iJL1678-ME_AdditionalFile2.xlsx', sheetname='Table 1')\n",
    "me_compartments = me_compartments[['Gene','Compartment']].rename(columns={'Gene':'gene','Compartment':'me_localization'})\n",
    "me_compartments.head()"
   ]
  },
  {
   "cell_type": "markdown",
   "metadata": {},
   "source": [
    "#### EchoLOCATION"
   ]
  },
  {
   "cell_type": "code",
   "execution_count": 7,
   "metadata": {},
   "outputs": [
    {
     "data": {
      "text/html": [
       "<div>\n",
       "<style>\n",
       "    .dataframe thead tr:only-child th {\n",
       "        text-align: right;\n",
       "    }\n",
       "\n",
       "    .dataframe thead th {\n",
       "        text-align: left;\n",
       "    }\n",
       "\n",
       "    .dataframe tbody tr th {\n",
       "        vertical-align: top;\n",
       "    }\n",
       "</style>\n",
       "<table border=\"1\" class=\"dataframe\">\n",
       "  <thead>\n",
       "    <tr style=\"text-align: right;\">\n",
       "      <th></th>\n",
       "      <th>repseq_gene_name</th>\n",
       "      <th>echo_localization_exp</th>\n",
       "    </tr>\n",
       "  </thead>\n",
       "  <tbody>\n",
       "    <tr>\n",
       "      <th>0</th>\n",
       "      <td>fimA</td>\n",
       "      <td>Cell surface appendage</td>\n",
       "    </tr>\n",
       "    <tr>\n",
       "      <th>1</th>\n",
       "      <td>fimF</td>\n",
       "      <td>Cell surface appendage</td>\n",
       "    </tr>\n",
       "    <tr>\n",
       "      <th>2</th>\n",
       "      <td>fimG</td>\n",
       "      <td>Cell surface appendage</td>\n",
       "    </tr>\n",
       "    <tr>\n",
       "      <th>3</th>\n",
       "      <td>fimH</td>\n",
       "      <td>Cell surface appendage</td>\n",
       "    </tr>\n",
       "    <tr>\n",
       "      <th>4</th>\n",
       "      <td>fliC</td>\n",
       "      <td>Cell surface appendage</td>\n",
       "    </tr>\n",
       "  </tbody>\n",
       "</table>\n",
       "</div>"
      ],
      "text/plain": [
       "  repseq_gene_name   echo_localization_exp\n",
       "0             fimA  Cell surface appendage\n",
       "1             fimF  Cell surface appendage\n",
       "2             fimG  Cell surface appendage\n",
       "3             fimH  Cell surface appendage\n",
       "4             fliC  Cell surface appendage"
      ]
     },
     "execution_count": 7,
     "metadata": {},
     "output_type": "execute_result"
    }
   ],
   "source": [
    "echoloc_compartments_exp = pd.read_csv('./171206-echolocation_experimental.tsv', sep='\\t').rename(columns={'Gene Name':'repseq_gene_name','Subcellular Location':'echo_localization_exp'})[['repseq_gene_name','echo_localization_exp']]\n",
    "echoloc_compartments_all = pd.read_csv('./171206-echolocation_all.tsv', sep='\\t').rename(columns={'Gene Name':'repseq_gene_name','Subcellular Location':'echo_localization_all'})[['repseq_gene_name','echo_localization_all']]\n",
    "echoloc_compartments_exp.head()"
   ]
  },
  {
   "cell_type": "markdown",
   "metadata": {},
   "source": [
    "### Duplication?\n",
    "\n",
    "There seems to be one UniProt ID that shows up twice in the proteomics data set - P07363. TODO: What to do?"
   ]
  },
  {
   "cell_type": "code",
   "execution_count": 8,
   "metadata": {
    "collapsed": true
   },
   "outputs": [],
   "source": [
    "# Proteomics data for all strains\n",
    "proteomics = pd.read_excel('./nbt.3418-S2.xlsx', sheetname='Table S9', skiprows=2)\n",
    "proteomics = proteomics[:2019]"
   ]
  },
  {
   "cell_type": "code",
   "execution_count": 9,
   "metadata": {},
   "outputs": [
    {
     "data": {
      "text/html": [
       "<div>\n",
       "<style>\n",
       "    .dataframe thead tr:only-child th {\n",
       "        text-align: right;\n",
       "    }\n",
       "\n",
       "    .dataframe thead th {\n",
       "        text-align: left;\n",
       "    }\n",
       "\n",
       "    .dataframe tbody tr th {\n",
       "        vertical-align: top;\n",
       "    }\n",
       "</style>\n",
       "<table border=\"1\" class=\"dataframe\">\n",
       "  <thead>\n",
       "    <tr style=\"text-align: right;\">\n",
       "      <th></th>\n",
       "      <th>Uniprot Accession</th>\n",
       "      <th>Description</th>\n",
       "      <th>Gene</th>\n",
       "      <th>proteinMW</th>\n",
       "      <th>Peptides.used.for.quantitation</th>\n",
       "      <th>Confidence.score</th>\n",
       "      <th>medianRatio_MG1655.LB_vs_BW25113.Glucose</th>\n",
       "      <th>medianRatio_NCM3722.LB_vs_BW25113.Glucose</th>\n",
       "      <th>medianRatio_MG1655.Glucose_vs_BW25113.Glucose</th>\n",
       "      <th>medianRatio_NCM3722.Glucose_vs_BW25113.Glucose</th>\n",
       "      <th>...</th>\n",
       "      <th>normInt_A14.07034.1</th>\n",
       "      <th>normInt_A14.07036.1</th>\n",
       "      <th>normInt_A14.07037.1</th>\n",
       "      <th>normInt_A14.07038.1</th>\n",
       "      <th>medianNormInt_MG1655.LB</th>\n",
       "      <th>medianNormInt_NCM3722.LB</th>\n",
       "      <th>medianNormInt_MG1655.Glu</th>\n",
       "      <th>medianNormInt_NCM3722.Glu</th>\n",
       "      <th>medianNormInt_BW25113.LB</th>\n",
       "      <th>medianNormInt_BW25113.Glu</th>\n",
       "    </tr>\n",
       "  </thead>\n",
       "  <tbody>\n",
       "    <tr>\n",
       "      <th>1992</th>\n",
       "      <td>P07363</td>\n",
       "      <td>Isoform cheA(S) of Chemotaxis protein CheA OS=...</td>\n",
       "      <td>cheA</td>\n",
       "      <td>71319.95878</td>\n",
       "      <td>1.0</td>\n",
       "      <td>2127.18</td>\n",
       "      <td>27.869841</td>\n",
       "      <td>35.346398</td>\n",
       "      <td>22.150861</td>\n",
       "      <td>30.164112</td>\n",
       "      <td>...</td>\n",
       "      <td>54804.69992</td>\n",
       "      <td>72313.46981</td>\n",
       "      <td>51096.84292</td>\n",
       "      <td>56340.70247</td>\n",
       "      <td>580801.0624</td>\n",
       "      <td>608112.7114</td>\n",
       "      <td>672193.1621</td>\n",
       "      <td>684240.2655</td>\n",
       "      <td>41345.39494</td>\n",
       "      <td>56340.70247</td>\n",
       "    </tr>\n",
       "  </tbody>\n",
       "</table>\n",
       "<p>1 rows × 70 columns</p>\n",
       "</div>"
      ],
      "text/plain": [
       "     Uniprot Accession                                        Description  \\\n",
       "1992            P07363  Isoform cheA(S) of Chemotaxis protein CheA OS=...   \n",
       "\n",
       "      Gene    proteinMW  Peptides.used.for.quantitation  Confidence.score  \\\n",
       "1992  cheA  71319.95878                             1.0           2127.18   \n",
       "\n",
       "      medianRatio_MG1655.LB_vs_BW25113.Glucose  \\\n",
       "1992                                 27.869841   \n",
       "\n",
       "      medianRatio_NCM3722.LB_vs_BW25113.Glucose  \\\n",
       "1992                                  35.346398   \n",
       "\n",
       "      medianRatio_MG1655.Glucose_vs_BW25113.Glucose  \\\n",
       "1992                                      22.150861   \n",
       "\n",
       "      medianRatio_NCM3722.Glucose_vs_BW25113.Glucose  \\\n",
       "1992                                       30.164112   \n",
       "\n",
       "                ...              normInt_A14.07034.1  normInt_A14.07036.1  \\\n",
       "1992            ...                      54804.69992          72313.46981   \n",
       "\n",
       "      normInt_A14.07037.1  normInt_A14.07038.1  medianNormInt_MG1655.LB  \\\n",
       "1992          51096.84292          56340.70247              580801.0624   \n",
       "\n",
       "      medianNormInt_NCM3722.LB  medianNormInt_MG1655.Glu  \\\n",
       "1992               608112.7114               672193.1621   \n",
       "\n",
       "      medianNormInt_NCM3722.Glu  medianNormInt_BW25113.LB  \\\n",
       "1992                684240.2655               41345.39494   \n",
       "\n",
       "      medianNormInt_BW25113.Glu  \n",
       "1992                56340.70247  \n",
       "\n",
       "[1 rows x 70 columns]"
      ]
     },
     "execution_count": 9,
     "metadata": {},
     "output_type": "execute_result"
    }
   ],
   "source": [
    "proteomics[proteomics.duplicated(subset='Uniprot Accession')]"
   ]
  },
  {
   "cell_type": "code",
   "execution_count": 10,
   "metadata": {},
   "outputs": [
    {
     "data": {
      "text/html": [
       "<div>\n",
       "<style>\n",
       "    .dataframe thead tr:only-child th {\n",
       "        text-align: right;\n",
       "    }\n",
       "\n",
       "    .dataframe thead th {\n",
       "        text-align: left;\n",
       "    }\n",
       "\n",
       "    .dataframe tbody tr th {\n",
       "        vertical-align: top;\n",
       "    }\n",
       "</style>\n",
       "<table border=\"1\" class=\"dataframe\">\n",
       "  <thead>\n",
       "    <tr style=\"text-align: right;\">\n",
       "      <th></th>\n",
       "      <th>Uniprot Accession</th>\n",
       "      <th>Description</th>\n",
       "      <th>Gene</th>\n",
       "      <th>proteinMW</th>\n",
       "      <th>Peptides.used.for.quantitation</th>\n",
       "      <th>Confidence.score</th>\n",
       "      <th>medianRatio_MG1655.LB_vs_BW25113.Glucose</th>\n",
       "      <th>medianRatio_NCM3722.LB_vs_BW25113.Glucose</th>\n",
       "      <th>medianRatio_MG1655.Glucose_vs_BW25113.Glucose</th>\n",
       "      <th>medianRatio_NCM3722.Glucose_vs_BW25113.Glucose</th>\n",
       "      <th>...</th>\n",
       "      <th>normInt_A14.07034.1</th>\n",
       "      <th>normInt_A14.07036.1</th>\n",
       "      <th>normInt_A14.07037.1</th>\n",
       "      <th>normInt_A14.07038.1</th>\n",
       "      <th>medianNormInt_MG1655.LB</th>\n",
       "      <th>medianNormInt_NCM3722.LB</th>\n",
       "      <th>medianNormInt_MG1655.Glu</th>\n",
       "      <th>medianNormInt_NCM3722.Glu</th>\n",
       "      <th>medianNormInt_BW25113.LB</th>\n",
       "      <th>medianNormInt_BW25113.Glu</th>\n",
       "    </tr>\n",
       "  </thead>\n",
       "  <tbody>\n",
       "    <tr>\n",
       "      <th>1139</th>\n",
       "      <td>P07363</td>\n",
       "      <td>Chemotaxis protein CheA OS=Escherichia coli (s...</td>\n",
       "      <td>cheA</td>\n",
       "      <td>71319.95878</td>\n",
       "      <td>5.0</td>\n",
       "      <td>2412.22</td>\n",
       "      <td>10.308730</td>\n",
       "      <td>10.793488</td>\n",
       "      <td>11.930862</td>\n",
       "      <td>12.144688</td>\n",
       "      <td>...</td>\n",
       "      <td>54804.69992</td>\n",
       "      <td>72313.46981</td>\n",
       "      <td>51096.84292</td>\n",
       "      <td>56340.70247</td>\n",
       "      <td>580801.0624</td>\n",
       "      <td>608112.7114</td>\n",
       "      <td>672193.1621</td>\n",
       "      <td>684240.2655</td>\n",
       "      <td>41345.39494</td>\n",
       "      <td>56340.70247</td>\n",
       "    </tr>\n",
       "    <tr>\n",
       "      <th>1992</th>\n",
       "      <td>P07363</td>\n",
       "      <td>Isoform cheA(S) of Chemotaxis protein CheA OS=...</td>\n",
       "      <td>cheA</td>\n",
       "      <td>71319.95878</td>\n",
       "      <td>1.0</td>\n",
       "      <td>2127.18</td>\n",
       "      <td>27.869841</td>\n",
       "      <td>35.346398</td>\n",
       "      <td>22.150861</td>\n",
       "      <td>30.164112</td>\n",
       "      <td>...</td>\n",
       "      <td>54804.69992</td>\n",
       "      <td>72313.46981</td>\n",
       "      <td>51096.84292</td>\n",
       "      <td>56340.70247</td>\n",
       "      <td>580801.0624</td>\n",
       "      <td>608112.7114</td>\n",
       "      <td>672193.1621</td>\n",
       "      <td>684240.2655</td>\n",
       "      <td>41345.39494</td>\n",
       "      <td>56340.70247</td>\n",
       "    </tr>\n",
       "  </tbody>\n",
       "</table>\n",
       "<p>2 rows × 70 columns</p>\n",
       "</div>"
      ],
      "text/plain": [
       "     Uniprot Accession                                        Description  \\\n",
       "1139            P07363  Chemotaxis protein CheA OS=Escherichia coli (s...   \n",
       "1992            P07363  Isoform cheA(S) of Chemotaxis protein CheA OS=...   \n",
       "\n",
       "      Gene    proteinMW  Peptides.used.for.quantitation  Confidence.score  \\\n",
       "1139  cheA  71319.95878                             5.0           2412.22   \n",
       "1992  cheA  71319.95878                             1.0           2127.18   \n",
       "\n",
       "      medianRatio_MG1655.LB_vs_BW25113.Glucose  \\\n",
       "1139                                 10.308730   \n",
       "1992                                 27.869841   \n",
       "\n",
       "      medianRatio_NCM3722.LB_vs_BW25113.Glucose  \\\n",
       "1139                                  10.793488   \n",
       "1992                                  35.346398   \n",
       "\n",
       "      medianRatio_MG1655.Glucose_vs_BW25113.Glucose  \\\n",
       "1139                                      11.930862   \n",
       "1992                                      22.150861   \n",
       "\n",
       "      medianRatio_NCM3722.Glucose_vs_BW25113.Glucose  \\\n",
       "1139                                       12.144688   \n",
       "1992                                       30.164112   \n",
       "\n",
       "                ...              normInt_A14.07034.1  normInt_A14.07036.1  \\\n",
       "1139            ...                      54804.69992          72313.46981   \n",
       "1992            ...                      54804.69992          72313.46981   \n",
       "\n",
       "      normInt_A14.07037.1  normInt_A14.07038.1  medianNormInt_MG1655.LB  \\\n",
       "1139          51096.84292          56340.70247              580801.0624   \n",
       "1992          51096.84292          56340.70247              580801.0624   \n",
       "\n",
       "      medianNormInt_NCM3722.LB  medianNormInt_MG1655.Glu  \\\n",
       "1139               608112.7114               672193.1621   \n",
       "1992               608112.7114               672193.1621   \n",
       "\n",
       "      medianNormInt_NCM3722.Glu  medianNormInt_BW25113.LB  \\\n",
       "1139                684240.2655               41345.39494   \n",
       "1992                684240.2655               41345.39494   \n",
       "\n",
       "      medianNormInt_BW25113.Glu  \n",
       "1139                56340.70247  \n",
       "1992                56340.70247  \n",
       "\n",
       "[2 rows x 70 columns]"
      ]
     },
     "execution_count": 10,
     "metadata": {},
     "output_type": "execute_result"
    }
   ],
   "source": [
    "proteomics[proteomics['Uniprot Accession'] == 'P07363']"
   ]
  },
  {
   "cell_type": "markdown",
   "metadata": {},
   "source": [
    "### Molecular weights"
   ]
  },
  {
   "cell_type": "code",
   "execution_count": 11,
   "metadata": {},
   "outputs": [
    {
     "data": {
      "text/html": [
       "<div>\n",
       "<style>\n",
       "    .dataframe thead tr:only-child th {\n",
       "        text-align: right;\n",
       "    }\n",
       "\n",
       "    .dataframe thead th {\n",
       "        text-align: left;\n",
       "    }\n",
       "\n",
       "    .dataframe tbody tr th {\n",
       "        vertical-align: top;\n",
       "    }\n",
       "</style>\n",
       "<table border=\"1\" class=\"dataframe\">\n",
       "  <thead>\n",
       "    <tr style=\"text-align: right;\">\n",
       "      <th></th>\n",
       "      <th>uniprot_id</th>\n",
       "      <th>mw_Da</th>\n",
       "    </tr>\n",
       "  </thead>\n",
       "  <tbody>\n",
       "    <tr>\n",
       "      <th>0</th>\n",
       "      <td>P0A8T7</td>\n",
       "      <td>155045.0080</td>\n",
       "    </tr>\n",
       "    <tr>\n",
       "      <th>1</th>\n",
       "      <td>P0A8V2</td>\n",
       "      <td>150520.2758</td>\n",
       "    </tr>\n",
       "    <tr>\n",
       "      <th>2</th>\n",
       "      <td>P36683</td>\n",
       "      <td>93420.9457</td>\n",
       "    </tr>\n",
       "    <tr>\n",
       "      <th>3</th>\n",
       "      <td>P15254</td>\n",
       "      <td>141295.8984</td>\n",
       "    </tr>\n",
       "    <tr>\n",
       "      <th>4</th>\n",
       "      <td>P09831</td>\n",
       "      <td>163176.3153</td>\n",
       "    </tr>\n",
       "  </tbody>\n",
       "</table>\n",
       "</div>"
      ],
      "text/plain": [
       "  uniprot_id        mw_Da\n",
       "0     P0A8T7  155045.0080\n",
       "1     P0A8V2  150520.2758\n",
       "2     P36683   93420.9457\n",
       "3     P15254  141295.8984\n",
       "4     P09831  163176.3153"
      ]
     },
     "execution_count": 11,
     "metadata": {},
     "output_type": "execute_result"
    }
   ],
   "source": [
    "mw = proteomics[['Uniprot Accession', 'proteinMW']].rename(columns={'Uniprot Accession':'uniprot_id', 'proteinMW':'mw_Da'}).drop_duplicates()\n",
    "mw.head()"
   ]
  },
  {
   "cell_type": "markdown",
   "metadata": {},
   "source": [
    "## Extracted info from Richard"
   ]
  },
  {
   "cell_type": "code",
   "execution_count": 12,
   "metadata": {
    "collapsed": true
   },
   "outputs": [],
   "source": [
    "r1 = pd.read_csv('./iML1515_recipe.csv', sep='\\t')\n",
    "r2 = pd.read_csv('./notinmodel_recipe.csv', index_col=0)"
   ]
  },
  {
   "cell_type": "code",
   "execution_count": 13,
   "metadata": {
    "collapsed": true
   },
   "outputs": [],
   "source": [
    "tmp1 = r1[['uniprot_id', 'Copies_Glucose', 'Copies_LB']]\n",
    "tmp1 = tmp1[pd.notnull(tmp1.Copies_Glucose)].drop_duplicates().reset_index(drop=True)"
   ]
  },
  {
   "cell_type": "code",
   "execution_count": 14,
   "metadata": {
    "collapsed": true
   },
   "outputs": [],
   "source": [
    "tmp2 = r2[['uniprot_notmapped', 'Copies_Glucose', 'Copies_LB']].rename(columns={'uniprot_notmapped':'uniprot_id'})\n",
    "tmp2 = tmp2[pd.notnull(tmp2.Copies_Glucose)].drop_duplicates().reset_index(drop=True)"
   ]
  },
  {
   "cell_type": "code",
   "execution_count": 15,
   "metadata": {},
   "outputs": [
    {
     "data": {
      "text/html": [
       "<div>\n",
       "<style>\n",
       "    .dataframe thead tr:only-child th {\n",
       "        text-align: right;\n",
       "    }\n",
       "\n",
       "    .dataframe thead th {\n",
       "        text-align: left;\n",
       "    }\n",
       "\n",
       "    .dataframe tbody tr th {\n",
       "        vertical-align: top;\n",
       "    }\n",
       "</style>\n",
       "<table border=\"1\" class=\"dataframe\">\n",
       "  <thead>\n",
       "    <tr style=\"text-align: right;\">\n",
       "      <th></th>\n",
       "      <th>uniprot_id</th>\n",
       "      <th>copies_glucose</th>\n",
       "      <th>copies_lb</th>\n",
       "    </tr>\n",
       "  </thead>\n",
       "  <tbody>\n",
       "    <tr>\n",
       "      <th>0</th>\n",
       "      <td>P02931</td>\n",
       "      <td>25214.0</td>\n",
       "      <td>18617.0</td>\n",
       "    </tr>\n",
       "    <tr>\n",
       "      <th>1</th>\n",
       "      <td>P06996</td>\n",
       "      <td>20763.0</td>\n",
       "      <td>56743.0</td>\n",
       "    </tr>\n",
       "    <tr>\n",
       "      <th>2</th>\n",
       "      <td>Q46856</td>\n",
       "      <td>1526.0</td>\n",
       "      <td>4760.0</td>\n",
       "    </tr>\n",
       "    <tr>\n",
       "      <th>3</th>\n",
       "      <td>P02916</td>\n",
       "      <td>1.0</td>\n",
       "      <td>5.0</td>\n",
       "    </tr>\n",
       "    <tr>\n",
       "      <th>4</th>\n",
       "      <td>P68187</td>\n",
       "      <td>25.0</td>\n",
       "      <td>78.0</td>\n",
       "    </tr>\n",
       "  </tbody>\n",
       "</table>\n",
       "</div>"
      ],
      "text/plain": [
       "  uniprot_id  copies_glucose  copies_lb\n",
       "0     P02931         25214.0    18617.0\n",
       "1     P06996         20763.0    56743.0\n",
       "2     Q46856          1526.0     4760.0\n",
       "3     P02916             1.0        5.0\n",
       "4     P68187            25.0       78.0"
      ]
     },
     "execution_count": 15,
     "metadata": {},
     "output_type": "execute_result"
    }
   ],
   "source": [
    "final = tmp1.append(tmp2).reset_index(drop=True)\n",
    "final = final.rename(columns={'Copies_Glucose':'copies_glucose', 'Copies_LB':'copies_lb'})\n",
    "final.head()"
   ]
  },
  {
   "cell_type": "code",
   "execution_count": 16,
   "metadata": {},
   "outputs": [
    {
     "data": {
      "text/plain": [
       "2018"
      ]
     },
     "execution_count": 16,
     "metadata": {},
     "output_type": "execute_result"
    }
   ],
   "source": [
    "len(final)"
   ]
  },
  {
   "cell_type": "markdown",
   "metadata": {},
   "source": [
    "## GEM-PRO"
   ]
  },
  {
   "cell_type": "code",
   "execution_count": 17,
   "metadata": {
    "collapsed": true
   },
   "outputs": [],
   "source": [
    "import sys\n",
    "import logging\n",
    "import os.path as op\n",
    "import pandas as pd\n",
    "from ssbio.pipeline.gempro import GEMPRO\n",
    "import ssbio.protein.sequence.utils.fasta\n",
    "\n",
    "# Logging\n",
    "logger = logging.getLogger()\n",
    "logger.setLevel(logging.INFO)\n",
    "handler = logging.StreamHandler(sys.stderr)\n",
    "formatter = logging.Formatter('[%(asctime)s] [%(name)s] %(levelname)s: %(message)s', datefmt=\"%Y-%m-%d %H:%M\")\n",
    "handler.setFormatter(formatter)\n",
    "logger.handlers = [handler]\n",
    "\n",
    "# Printing multiple outputs per cell\n",
    "from IPython.core.interactiveshell import InteractiveShell\n",
    "InteractiveShell.ast_node_interactivity = \"all\""
   ]
  },
  {
   "cell_type": "code",
   "execution_count": 18,
   "metadata": {},
   "outputs": [
    {
     "data": {
      "text/plain": [
       "3081"
      ]
     },
     "execution_count": 18,
     "metadata": {},
     "output_type": "execute_result"
    }
   ],
   "source": [
    "import ssbio.core.io\n",
    "my_gempro = ssbio.core.io.load_pickle('./171212-ecoli_whole_genome_swissmodel_only_lower_cutoffs_gp.pckl')\n",
    "gp_df = my_gempro.df_proteins\n",
    "len(my_gempro.genes_with_a_representative_structure)"
   ]
  },
  {
   "cell_type": "code",
   "execution_count": 58,
   "metadata": {},
   "outputs": [
    {
     "data": {
      "text/html": [
       "<div>\n",
       "<style>\n",
       "    .dataframe thead tr:only-child th {\n",
       "        text-align: right;\n",
       "    }\n",
       "\n",
       "    .dataframe thead th {\n",
       "        text-align: left;\n",
       "    }\n",
       "\n",
       "    .dataframe tbody tr th {\n",
       "        vertical-align: top;\n",
       "    }\n",
       "</style>\n",
       "<table border=\"1\" class=\"dataframe\">\n",
       "  <thead>\n",
       "    <tr style=\"text-align: right;\">\n",
       "      <th></th>\n",
       "      <th>gene</th>\n",
       "      <th>representative_sequence</th>\n",
       "      <th>repseq_uniprot</th>\n",
       "      <th>repseq_gene_name</th>\n",
       "      <th>repseq_description</th>\n",
       "      <th>num_structures</th>\n",
       "      <th>experimental_structures</th>\n",
       "      <th>homology_models</th>\n",
       "      <th>representative_structure</th>\n",
       "      <th>representative_chain</th>\n",
       "      <th>representative_chain_seq_coverage</th>\n",
       "      <th>repstruct_resolution</th>\n",
       "    </tr>\n",
       "  </thead>\n",
       "  <tbody>\n",
       "    <tr>\n",
       "      <th>0</th>\n",
       "      <td>b0001</td>\n",
       "      <td>P0AD86</td>\n",
       "      <td>P0AD86</td>\n",
       "      <td>thrL</td>\n",
       "      <td>thr operon leader peptide</td>\n",
       "      <td>0</td>\n",
       "      <td>[]</td>\n",
       "      <td>[]</td>\n",
       "      <td>NaN</td>\n",
       "      <td>NaN</td>\n",
       "      <td>NaN</td>\n",
       "      <td>NaN</td>\n",
       "    </tr>\n",
       "    <tr>\n",
       "      <th>1</th>\n",
       "      <td>b0002</td>\n",
       "      <td>P00561</td>\n",
       "      <td>P00561</td>\n",
       "      <td>thrA</td>\n",
       "      <td>Bifunctional aspartokinase/homoserine dehydrog...</td>\n",
       "      <td>2</td>\n",
       "      <td>[]</td>\n",
       "      <td>[b0002_1_462_3c20, REP-b0002_1_462_3c20]</td>\n",
       "      <td>REP-b0002_1_462_3c20</td>\n",
       "      <td>A</td>\n",
       "      <td>56.3</td>\n",
       "      <td>NaN</td>\n",
       "    </tr>\n",
       "    <tr>\n",
       "      <th>2</th>\n",
       "      <td>b0003</td>\n",
       "      <td>P00547</td>\n",
       "      <td>P00547</td>\n",
       "      <td>thrB</td>\n",
       "      <td>Homoserine kinase</td>\n",
       "      <td>2</td>\n",
       "      <td>[]</td>\n",
       "      <td>[b0003_1_308_4rpf, REP-b0003_1_308_4rpf]</td>\n",
       "      <td>REP-b0003_1_308_4rpf</td>\n",
       "      <td>A</td>\n",
       "      <td>99.4</td>\n",
       "      <td>NaN</td>\n",
       "    </tr>\n",
       "    <tr>\n",
       "      <th>3</th>\n",
       "      <td>b0004</td>\n",
       "      <td>P00934</td>\n",
       "      <td>P00934</td>\n",
       "      <td>thrC</td>\n",
       "      <td>Threonine synthase</td>\n",
       "      <td>3</td>\n",
       "      <td>[1vb3, REP-1vb3]</td>\n",
       "      <td>[b0004_1_428_1vb3]</td>\n",
       "      <td>REP-1vb3</td>\n",
       "      <td>A</td>\n",
       "      <td>100.0</td>\n",
       "      <td>2.2</td>\n",
       "    </tr>\n",
       "    <tr>\n",
       "      <th>4</th>\n",
       "      <td>b0005</td>\n",
       "      <td>P75616</td>\n",
       "      <td>P75616</td>\n",
       "      <td>yaaX</td>\n",
       "      <td>Uncharacterized protein YaaX</td>\n",
       "      <td>0</td>\n",
       "      <td>[]</td>\n",
       "      <td>[]</td>\n",
       "      <td>NaN</td>\n",
       "      <td>NaN</td>\n",
       "      <td>NaN</td>\n",
       "      <td>NaN</td>\n",
       "    </tr>\n",
       "  </tbody>\n",
       "</table>\n",
       "</div>"
      ],
      "text/plain": [
       "    gene representative_sequence repseq_uniprot repseq_gene_name  \\\n",
       "0  b0001                  P0AD86         P0AD86             thrL   \n",
       "1  b0002                  P00561         P00561             thrA   \n",
       "2  b0003                  P00547         P00547             thrB   \n",
       "3  b0004                  P00934         P00934             thrC   \n",
       "4  b0005                  P75616         P75616             yaaX   \n",
       "\n",
       "                                  repseq_description  num_structures  \\\n",
       "0                          thr operon leader peptide               0   \n",
       "1  Bifunctional aspartokinase/homoserine dehydrog...               2   \n",
       "2                                  Homoserine kinase               2   \n",
       "3                                 Threonine synthase               3   \n",
       "4                       Uncharacterized protein YaaX               0   \n",
       "\n",
       "  experimental_structures                           homology_models  \\\n",
       "0                      []                                        []   \n",
       "1                      []  [b0002_1_462_3c20, REP-b0002_1_462_3c20]   \n",
       "2                      []  [b0003_1_308_4rpf, REP-b0003_1_308_4rpf]   \n",
       "3        [1vb3, REP-1vb3]                        [b0004_1_428_1vb3]   \n",
       "4                      []                                        []   \n",
       "\n",
       "  representative_structure representative_chain  \\\n",
       "0                      NaN                  NaN   \n",
       "1     REP-b0002_1_462_3c20                    A   \n",
       "2     REP-b0003_1_308_4rpf                    A   \n",
       "3                 REP-1vb3                    A   \n",
       "4                      NaN                  NaN   \n",
       "\n",
       "   representative_chain_seq_coverage  repstruct_resolution  \n",
       "0                                NaN                   NaN  \n",
       "1                               56.3                   NaN  \n",
       "2                               99.4                   NaN  \n",
       "3                              100.0                   2.2  \n",
       "4                                NaN                   NaN  "
      ]
     },
     "execution_count": 58,
     "metadata": {},
     "output_type": "execute_result"
    }
   ],
   "source": [
    "gp_df2 = gp_df[['representative_sequence','repseq_uniprot','repseq_gene_name','repseq_description','num_structures','experimental_structures','homology_models','representative_structure', 'representative_chain', 'representative_chain_seq_coverage', 'repstruct_resolution']].reset_index()\n",
    "gp_df2.head()"
   ]
  },
  {
   "cell_type": "markdown",
   "metadata": {},
   "source": [
    "#### Copy and add structures path"
   ]
  },
  {
   "cell_type": "code",
   "execution_count": 22,
   "metadata": {},
   "outputs": [
    {
     "name": "stdout",
     "output_type": "stream",
     "text": [
      "mkdir: cannot create directory ‘/home/nathan/projects_unsynced/vizrecon_tmp/all_structures_swissmodelonly’: File exists\r\n"
     ]
    }
   ],
   "source": [
    "!mkdir /home/nathan/projects_unsynced/vizrecon_tmp/all_structures_swissmodelonly"
   ]
  },
  {
   "cell_type": "code",
   "execution_count": 23,
   "metadata": {
    "collapsed": true
   },
   "outputs": [],
   "source": [
    "import shutil\n",
    "\n",
    "for g in my_gempro.genes_with_a_representative_structure:\n",
    "    if '_5a' in g.protein.representative_structure.structure_path or '_59' in g.protein.representative_structure.structure_path or '_58' in g.protein.representative_structure.structure_path or '_57' in g.protein.representative_structure.structure_path:\n",
    "#         print(g.protein.representative_structure.structure_path)\n",
    "        renamer = '{}_{}_clean.pdb'.format(g.id, op.basename(g.protein.representative_structure.structure_path).split('.')[0])\n",
    "#         print(renamer)\n",
    "        new_path = shutil.copy2(g.protein.representative_structure.structure_path, '/home/nathan/projects_unsynced/vizrecon_tmp/all_structures_swissmodelonly/{}'.format(renamer))\n",
    "        g.protein.representative_structure.structure_file = '{}'.format(renamer)\n",
    "    else:\n",
    "        new_path = shutil.copy2(g.protein.representative_structure.structure_path, '/home/nathan/projects_unsynced/vizrecon_tmp/all_structures_swissmodelonly/')\n",
    "        g.protein.representative_structure.structure_file = op.basename(g.protein.representative_structure.structure_path)"
   ]
  },
  {
   "cell_type": "code",
   "execution_count": 24,
   "metadata": {},
   "outputs": [
    {
     "data": {
      "text/html": [
       "<div>\n",
       "<style>\n",
       "    .dataframe thead tr:only-child th {\n",
       "        text-align: right;\n",
       "    }\n",
       "\n",
       "    .dataframe thead th {\n",
       "        text-align: left;\n",
       "    }\n",
       "\n",
       "    .dataframe tbody tr th {\n",
       "        vertical-align: top;\n",
       "    }\n",
       "</style>\n",
       "<table border=\"1\" class=\"dataframe\">\n",
       "  <thead>\n",
       "    <tr style=\"text-align: right;\">\n",
       "      <th></th>\n",
       "      <th>id</th>\n",
       "      <th>is_experimental</th>\n",
       "      <th>file_type</th>\n",
       "      <th>structure_file</th>\n",
       "    </tr>\n",
       "    <tr>\n",
       "      <th>gene</th>\n",
       "      <th></th>\n",
       "      <th></th>\n",
       "      <th></th>\n",
       "      <th></th>\n",
       "    </tr>\n",
       "  </thead>\n",
       "  <tbody>\n",
       "    <tr>\n",
       "      <th>b0002</th>\n",
       "      <td>REP-b0002_1_462_3c20</td>\n",
       "      <td>False</td>\n",
       "      <td>pdb</td>\n",
       "      <td>b0002_1_462_3c20-A_clean.pdb</td>\n",
       "    </tr>\n",
       "    <tr>\n",
       "      <th>b0003</th>\n",
       "      <td>REP-b0003_1_308_4rpf</td>\n",
       "      <td>False</td>\n",
       "      <td>pdb</td>\n",
       "      <td>b0003_1_308_4rpf-A_clean.pdb</td>\n",
       "    </tr>\n",
       "    <tr>\n",
       "      <th>b0004</th>\n",
       "      <td>REP-1vb3</td>\n",
       "      <td>True</td>\n",
       "      <td>pdb</td>\n",
       "      <td>1vb3-A_clean.pdb</td>\n",
       "    </tr>\n",
       "    <tr>\n",
       "      <th>b0006</th>\n",
       "      <td>REP-5caj</td>\n",
       "      <td>True</td>\n",
       "      <td>pdb</td>\n",
       "      <td>5caj-A_clean.pdb</td>\n",
       "    </tr>\n",
       "    <tr>\n",
       "      <th>b0008</th>\n",
       "      <td>REP-4s2b</td>\n",
       "      <td>True</td>\n",
       "      <td>pdb</td>\n",
       "      <td>4s2b-A_clean.pdb</td>\n",
       "    </tr>\n",
       "  </tbody>\n",
       "</table>\n",
       "</div>"
      ],
      "text/plain": [
       "                         id  is_experimental file_type  \\\n",
       "gene                                                     \n",
       "b0002  REP-b0002_1_462_3c20            False       pdb   \n",
       "b0003  REP-b0003_1_308_4rpf            False       pdb   \n",
       "b0004              REP-1vb3             True       pdb   \n",
       "b0006              REP-5caj             True       pdb   \n",
       "b0008              REP-4s2b             True       pdb   \n",
       "\n",
       "                     structure_file  \n",
       "gene                                 \n",
       "b0002  b0002_1_462_3c20-A_clean.pdb  \n",
       "b0003  b0003_1_308_4rpf-A_clean.pdb  \n",
       "b0004              1vb3-A_clean.pdb  \n",
       "b0006              5caj-A_clean.pdb  \n",
       "b0008              4s2b-A_clean.pdb  "
      ]
     },
     "execution_count": 24,
     "metadata": {},
     "output_type": "execute_result"
    }
   ],
   "source": [
    "my_gempro.df_representative_structures.head()"
   ]
  },
  {
   "cell_type": "code",
   "execution_count": 60,
   "metadata": {
    "collapsed": true
   },
   "outputs": [],
   "source": [
    "gp_structpath_df_tmp = my_gempro.df_representative_structures\n",
    "gp_structpath_df_tmp['structure_file'] = gp_structpath_df_tmp['structure_file'].str.replace('.pdb','')"
   ]
  },
  {
   "cell_type": "code",
   "execution_count": 61,
   "metadata": {},
   "outputs": [
    {
     "name": "stderr",
     "output_type": "stream",
     "text": [
      "/home/nathan/anaconda3/lib/python3.6/site-packages/ipykernel/__main__.py:12 DeprecationWarning: \n",
      ".ix is deprecated. Please use\n",
      ".loc for label based indexing or\n",
      ".iloc for positional indexing\n",
      "\n",
      "See the documentation here:\n",
      "http://pandas.pydata.org/pandas-docs/stable/indexing.html#ix-indexer-is-deprecated\n"
     ]
    }
   ],
   "source": [
    "import numpy as np\n",
    "gp_structpath_df_tmp['structure_source'] = np.nan\n",
    "\n",
    "for i,r in gp_structpath_df_tmp.iterrows():\n",
    "    if r['structure_file'].startswith('E0'):\n",
    "        gp_structpath_df_tmp.ix[i, 'structure_source'] = 'metaTASSER'\n",
    "    elif 'ECOLI_model1' in r['structure_file']:\n",
    "        gp_structpath_df_tmp.ix[i, 'structure_source'] = 'I-TASSER'\n",
    "    elif len(r['structure_file'].split('-')[0]) == 4:\n",
    "        gp_structpath_df_tmp.ix[i, 'structure_source'] = 'Protein Data Bank'\n",
    "    else:\n",
    "        gp_structpath_df_tmp.ix[i, 'structure_source'] = 'SWISS-MODEL'"
   ]
  },
  {
   "cell_type": "code",
   "execution_count": 62,
   "metadata": {
    "collapsed": true
   },
   "outputs": [],
   "source": [
    "gp_structpath_df = gp_structpath_df_tmp.reset_index().rename(columns={'structure_file':'repstruct_path', 'structure_source':'repstruct_source'})[['gene','repstruct_path', 'repstruct_source']]"
   ]
  },
  {
   "cell_type": "code",
   "execution_count": 64,
   "metadata": {},
   "outputs": [
    {
     "data": {
      "text/html": [
       "<div>\n",
       "<style>\n",
       "    .dataframe thead tr:only-child th {\n",
       "        text-align: right;\n",
       "    }\n",
       "\n",
       "    .dataframe thead th {\n",
       "        text-align: left;\n",
       "    }\n",
       "\n",
       "    .dataframe tbody tr th {\n",
       "        vertical-align: top;\n",
       "    }\n",
       "</style>\n",
       "<table border=\"1\" class=\"dataframe\">\n",
       "  <thead>\n",
       "    <tr style=\"text-align: right;\">\n",
       "      <th></th>\n",
       "      <th>gene</th>\n",
       "      <th>representative_sequence</th>\n",
       "      <th>repseq_uniprot</th>\n",
       "      <th>repseq_gene_name</th>\n",
       "      <th>repseq_description</th>\n",
       "      <th>num_structures</th>\n",
       "      <th>experimental_structures</th>\n",
       "      <th>homology_models</th>\n",
       "      <th>representative_structure</th>\n",
       "      <th>representative_chain</th>\n",
       "      <th>representative_chain_seq_coverage</th>\n",
       "      <th>repstruct_resolution</th>\n",
       "      <th>repstruct_path</th>\n",
       "      <th>repstruct_source</th>\n",
       "    </tr>\n",
       "  </thead>\n",
       "  <tbody>\n",
       "    <tr>\n",
       "      <th>0</th>\n",
       "      <td>b0001</td>\n",
       "      <td>P0AD86</td>\n",
       "      <td>P0AD86</td>\n",
       "      <td>thrL</td>\n",
       "      <td>thr operon leader peptide</td>\n",
       "      <td>0</td>\n",
       "      <td>[]</td>\n",
       "      <td>[]</td>\n",
       "      <td>NaN</td>\n",
       "      <td>NaN</td>\n",
       "      <td>NaN</td>\n",
       "      <td>NaN</td>\n",
       "      <td>NaN</td>\n",
       "      <td>NaN</td>\n",
       "    </tr>\n",
       "    <tr>\n",
       "      <th>1</th>\n",
       "      <td>b0002</td>\n",
       "      <td>P00561</td>\n",
       "      <td>P00561</td>\n",
       "      <td>thrA</td>\n",
       "      <td>Bifunctional aspartokinase/homoserine dehydrog...</td>\n",
       "      <td>2</td>\n",
       "      <td>[]</td>\n",
       "      <td>[b0002_1_462_3c20, REP-b0002_1_462_3c20]</td>\n",
       "      <td>REP-b0002_1_462_3c20</td>\n",
       "      <td>A</td>\n",
       "      <td>56.3</td>\n",
       "      <td>NaN</td>\n",
       "      <td>b0002_1_462_3c20-A_clean</td>\n",
       "      <td>SWISS-MODEL</td>\n",
       "    </tr>\n",
       "    <tr>\n",
       "      <th>2</th>\n",
       "      <td>b0003</td>\n",
       "      <td>P00547</td>\n",
       "      <td>P00547</td>\n",
       "      <td>thrB</td>\n",
       "      <td>Homoserine kinase</td>\n",
       "      <td>2</td>\n",
       "      <td>[]</td>\n",
       "      <td>[b0003_1_308_4rpf, REP-b0003_1_308_4rpf]</td>\n",
       "      <td>REP-b0003_1_308_4rpf</td>\n",
       "      <td>A</td>\n",
       "      <td>99.4</td>\n",
       "      <td>NaN</td>\n",
       "      <td>b0003_1_308_4rpf-A_clean</td>\n",
       "      <td>SWISS-MODEL</td>\n",
       "    </tr>\n",
       "    <tr>\n",
       "      <th>3</th>\n",
       "      <td>b0004</td>\n",
       "      <td>P00934</td>\n",
       "      <td>P00934</td>\n",
       "      <td>thrC</td>\n",
       "      <td>Threonine synthase</td>\n",
       "      <td>3</td>\n",
       "      <td>[1vb3, REP-1vb3]</td>\n",
       "      <td>[b0004_1_428_1vb3]</td>\n",
       "      <td>REP-1vb3</td>\n",
       "      <td>A</td>\n",
       "      <td>100.0</td>\n",
       "      <td>2.2</td>\n",
       "      <td>1vb3-A_clean</td>\n",
       "      <td>Protein Data Bank</td>\n",
       "    </tr>\n",
       "    <tr>\n",
       "      <th>4</th>\n",
       "      <td>b0005</td>\n",
       "      <td>P75616</td>\n",
       "      <td>P75616</td>\n",
       "      <td>yaaX</td>\n",
       "      <td>Uncharacterized protein YaaX</td>\n",
       "      <td>0</td>\n",
       "      <td>[]</td>\n",
       "      <td>[]</td>\n",
       "      <td>NaN</td>\n",
       "      <td>NaN</td>\n",
       "      <td>NaN</td>\n",
       "      <td>NaN</td>\n",
       "      <td>NaN</td>\n",
       "      <td>NaN</td>\n",
       "    </tr>\n",
       "  </tbody>\n",
       "</table>\n",
       "</div>"
      ],
      "text/plain": [
       "    gene representative_sequence repseq_uniprot repseq_gene_name  \\\n",
       "0  b0001                  P0AD86         P0AD86             thrL   \n",
       "1  b0002                  P00561         P00561             thrA   \n",
       "2  b0003                  P00547         P00547             thrB   \n",
       "3  b0004                  P00934         P00934             thrC   \n",
       "4  b0005                  P75616         P75616             yaaX   \n",
       "\n",
       "                                  repseq_description  num_structures  \\\n",
       "0                          thr operon leader peptide               0   \n",
       "1  Bifunctional aspartokinase/homoserine dehydrog...               2   \n",
       "2                                  Homoserine kinase               2   \n",
       "3                                 Threonine synthase               3   \n",
       "4                       Uncharacterized protein YaaX               0   \n",
       "\n",
       "  experimental_structures                           homology_models  \\\n",
       "0                      []                                        []   \n",
       "1                      []  [b0002_1_462_3c20, REP-b0002_1_462_3c20]   \n",
       "2                      []  [b0003_1_308_4rpf, REP-b0003_1_308_4rpf]   \n",
       "3        [1vb3, REP-1vb3]                        [b0004_1_428_1vb3]   \n",
       "4                      []                                        []   \n",
       "\n",
       "  representative_structure representative_chain  \\\n",
       "0                      NaN                  NaN   \n",
       "1     REP-b0002_1_462_3c20                    A   \n",
       "2     REP-b0003_1_308_4rpf                    A   \n",
       "3                 REP-1vb3                    A   \n",
       "4                      NaN                  NaN   \n",
       "\n",
       "   representative_chain_seq_coverage  repstruct_resolution  \\\n",
       "0                                NaN                   NaN   \n",
       "1                               56.3                   NaN   \n",
       "2                               99.4                   NaN   \n",
       "3                              100.0                   2.2   \n",
       "4                                NaN                   NaN   \n",
       "\n",
       "             repstruct_path   repstruct_source  \n",
       "0                       NaN                NaN  \n",
       "1  b0002_1_462_3c20-A_clean        SWISS-MODEL  \n",
       "2  b0003_1_308_4rpf-A_clean        SWISS-MODEL  \n",
       "3              1vb3-A_clean  Protein Data Bank  \n",
       "4                       NaN                NaN  "
      ]
     },
     "execution_count": 64,
     "metadata": {},
     "output_type": "execute_result"
    }
   ],
   "source": [
    "gp_df2 = gp_df2.merge(gp_structpath_df, how='left', left_on='gene', right_on='gene')\n",
    "gp_df2.head()"
   ]
  },
  {
   "cell_type": "markdown",
   "metadata": {},
   "source": [
    "#### GEMPRO calculated MWs"
   ]
  },
  {
   "cell_type": "code",
   "execution_count": 65,
   "metadata": {},
   "outputs": [
    {
     "data": {
      "application/vnd.jupyter.widget-view+json": {
       "model_id": "cf2e6b0d7ed94ac5be48ada6e7d6c650",
       "version_major": 2,
       "version_minor": 0
      },
      "text/html": [
       "<p>Failed to display Jupyter Widget of type <code>HBox</code>.</p>\n",
       "<p>\n",
       "  If you're reading this message in Jupyter Notebook or JupyterLab, it may mean\n",
       "  that the widgets JavaScript is still loading. If this message persists, it\n",
       "  likely means that the widgets JavaScript library is either not installed or\n",
       "  not enabled. See the <a href=\"https://ipywidgets.readthedocs.io/en/stable/user_install.html\">Jupyter\n",
       "  Widgets Documentation</a> for setup instructions.\n",
       "</p>\n",
       "<p>\n",
       "  If you're reading this message in another notebook frontend (for example, a static\n",
       "  rendering on GitHub or <a href=\"https://nbviewer.jupyter.org/\">NBViewer</a>),\n",
       "  it may mean that your frontend doesn't currently support widgets.\n",
       "</p>\n"
      ],
      "text/plain": [
       "HBox(children=(IntProgress(value=0, max=4305), HTML(value='')))"
      ]
     },
     "metadata": {},
     "output_type": "display_data"
    },
    {
     "name": "stderr",
     "output_type": "stream",
     "text": [
      "[2017-12-15 18:08] [ssbio.protein.sequence.seqprop] ERROR: P76000: unable to run ProteinAnalysis module, 'X' is not a valid unambiguous letter for protein\n",
      "[2017-12-15 18:08] [ssbio.protein.sequence.seqprop] ERROR: P75901: unable to run ProteinAnalysis module, 'X' is not a valid unambiguous letter for protein\n",
      "[2017-12-15 18:08] [ssbio.protein.sequence.seqprop] ERROR: P33369: unable to run ProteinAnalysis module, 'X' is not a valid unambiguous letter for protein\n",
      "[2017-12-15 18:08] [ssbio.protein.sequence.seqprop] ERROR: P24183: unable to run ProteinAnalysis module, unknown amino acid 'U'\n",
      "[2017-12-15 18:08] [ssbio.protein.sequence.seqprop] ERROR: P07658: unable to run ProteinAnalysis module, unknown amino acid 'U'\n",
      "[2017-12-15 18:08] [ssbio.protein.sequence.seqprop] ERROR: P37003: unable to run ProteinAnalysis module, 'X' is not a valid unambiguous letter for protein\n",
      "[2017-12-15 18:08] [ssbio.protein.sequence.seqprop] ERROR: P45766: unable to run ProteinAnalysis module, 'X' is not a valid unambiguous letter for protein\n",
      "[2017-12-15 18:08] [ssbio.protein.sequence.seqprop] ERROR: P32176: unable to run ProteinAnalysis module, unknown amino acid 'U'\n",
      "[2017-12-15 18:08] [ssbio.protein.sequence.seqprop] ERROR: P58095: unable to run ProteinAnalysis module, 'X' is not a valid unambiguous letter for protein\n",
      "[2017-12-15 18:08] [ssbio.protein.sequence.seqprop] ERROR: P39901: unable to run ProteinAnalysis module, 'X' is not a valid unambiguous letter for protein\n"
     ]
    },
    {
     "name": "stdout",
     "output_type": "stream",
     "text": [
      "\n"
     ]
    }
   ],
   "source": [
    "my_gempro.get_sequence_properties()"
   ]
  },
  {
   "cell_type": "code",
   "execution_count": 66,
   "metadata": {
    "collapsed": true
   },
   "outputs": [],
   "source": [
    "gp_mw = []\n",
    "for g in my_gempro.genes_with_a_representative_sequence:\n",
    "    if 'molecular_weight' in g.protein.representative_sequence.annotations:\n",
    "        gp_mw.append({'gene':g.id, 'gempro_mw_Da':g.protein.representative_sequence.annotations['molecular_weight']})\n",
    "gp_mw_df = pd.DataFrame.from_records(gp_mw)"
   ]
  },
  {
   "cell_type": "code",
   "execution_count": 67,
   "metadata": {
    "collapsed": true
   },
   "outputs": [],
   "source": [
    "gp_df2 = gp_df2.merge(gp_mw_df, how='left')"
   ]
  },
  {
   "cell_type": "markdown",
   "metadata": {},
   "source": [
    "## Merging"
   ]
  },
  {
   "cell_type": "code",
   "execution_count": 68,
   "metadata": {},
   "outputs": [
    {
     "data": {
      "text/plain": [
       "2018"
      ]
     },
     "execution_count": 68,
     "metadata": {},
     "output_type": "execute_result"
    }
   ],
   "source": [
    "# with proteomics data\n",
    "recipe = final.merge(mw, how='left').merge(localization, how='left').drop_duplicates()\n",
    "len(recipe)"
   ]
  },
  {
   "cell_type": "code",
   "execution_count": 69,
   "metadata": {},
   "outputs": [
    {
     "data": {
      "text/html": [
       "<div>\n",
       "<style>\n",
       "    .dataframe thead tr:only-child th {\n",
       "        text-align: right;\n",
       "    }\n",
       "\n",
       "    .dataframe thead th {\n",
       "        text-align: left;\n",
       "    }\n",
       "\n",
       "    .dataframe tbody tr th {\n",
       "        vertical-align: top;\n",
       "    }\n",
       "</style>\n",
       "<table border=\"1\" class=\"dataframe\">\n",
       "  <thead>\n",
       "    <tr style=\"text-align: right;\">\n",
       "      <th></th>\n",
       "      <th>gene</th>\n",
       "      <th>representative_sequence</th>\n",
       "      <th>repseq_uniprot</th>\n",
       "      <th>repseq_gene_name</th>\n",
       "      <th>repseq_description</th>\n",
       "      <th>num_structures</th>\n",
       "      <th>experimental_structures</th>\n",
       "      <th>homology_models</th>\n",
       "      <th>representative_structure</th>\n",
       "      <th>representative_chain</th>\n",
       "      <th>repchain_seq_coverage</th>\n",
       "      <th>repstruct_resolution</th>\n",
       "      <th>repstruct_path</th>\n",
       "      <th>repstruct_source</th>\n",
       "      <th>gempro_mw_Da</th>\n",
       "      <th>echo_localization_all</th>\n",
       "      <th>echo_localization_exp</th>\n",
       "      <th>uniprot_id</th>\n",
       "      <th>copies_glucose</th>\n",
       "      <th>copies_lb</th>\n",
       "      <th>mw_Da</th>\n",
       "      <th>localization</th>\n",
       "      <th>me_localization</th>\n",
       "    </tr>\n",
       "  </thead>\n",
       "  <tbody>\n",
       "    <tr>\n",
       "      <th>0</th>\n",
       "      <td>b0001</td>\n",
       "      <td>P0AD86</td>\n",
       "      <td>P0AD86</td>\n",
       "      <td>thrL</td>\n",
       "      <td>thr operon leader peptide</td>\n",
       "      <td>0.0</td>\n",
       "      <td>[]</td>\n",
       "      <td>[]</td>\n",
       "      <td>NaN</td>\n",
       "      <td>NaN</td>\n",
       "      <td>NaN</td>\n",
       "      <td>NaN</td>\n",
       "      <td>NaN</td>\n",
       "      <td>NaN</td>\n",
       "      <td>2138.4426</td>\n",
       "      <td>Cytoplasmic</td>\n",
       "      <td>NaN</td>\n",
       "      <td>NaN</td>\n",
       "      <td>NaN</td>\n",
       "      <td>NaN</td>\n",
       "      <td>NaN</td>\n",
       "      <td>NaN</td>\n",
       "      <td>NaN</td>\n",
       "    </tr>\n",
       "    <tr>\n",
       "      <th>1</th>\n",
       "      <td>b0002</td>\n",
       "      <td>P00561</td>\n",
       "      <td>P00561</td>\n",
       "      <td>thrA</td>\n",
       "      <td>Bifunctional aspartokinase/homoserine dehydrog...</td>\n",
       "      <td>2.0</td>\n",
       "      <td>[]</td>\n",
       "      <td>[b0002_1_462_3c20, REP-b0002_1_462_3c20]</td>\n",
       "      <td>REP-b0002_1_462_3c20</td>\n",
       "      <td>A</td>\n",
       "      <td>56.3</td>\n",
       "      <td>NaN</td>\n",
       "      <td>b0002_1_462_3c20-A_clean</td>\n",
       "      <td>SWISS-MODEL</td>\n",
       "      <td>89119.2202</td>\n",
       "      <td>Cytoplasmic</td>\n",
       "      <td>Cytoplasmic</td>\n",
       "      <td>P00561</td>\n",
       "      <td>4375.0</td>\n",
       "      <td>1360.0</td>\n",
       "      <td>89045.79557</td>\n",
       "      <td>NaN</td>\n",
       "      <td>Cytosol</td>\n",
       "    </tr>\n",
       "    <tr>\n",
       "      <th>2</th>\n",
       "      <td>b0003</td>\n",
       "      <td>P00547</td>\n",
       "      <td>P00547</td>\n",
       "      <td>thrB</td>\n",
       "      <td>Homoserine kinase</td>\n",
       "      <td>2.0</td>\n",
       "      <td>[]</td>\n",
       "      <td>[b0003_1_308_4rpf, REP-b0003_1_308_4rpf]</td>\n",
       "      <td>REP-b0003_1_308_4rpf</td>\n",
       "      <td>A</td>\n",
       "      <td>99.4</td>\n",
       "      <td>NaN</td>\n",
       "      <td>b0003_1_308_4rpf-A_clean</td>\n",
       "      <td>SWISS-MODEL</td>\n",
       "      <td>33623.2905</td>\n",
       "      <td>Cytoplasmic</td>\n",
       "      <td>NaN</td>\n",
       "      <td>P00547</td>\n",
       "      <td>844.0</td>\n",
       "      <td>246.0</td>\n",
       "      <td>33583.89194</td>\n",
       "      <td>Cytoplasm</td>\n",
       "      <td>Cytosol</td>\n",
       "    </tr>\n",
       "    <tr>\n",
       "      <th>3</th>\n",
       "      <td>b0004</td>\n",
       "      <td>P00934</td>\n",
       "      <td>P00934</td>\n",
       "      <td>thrC</td>\n",
       "      <td>Threonine synthase</td>\n",
       "      <td>3.0</td>\n",
       "      <td>[1vb3, REP-1vb3]</td>\n",
       "      <td>[b0004_1_428_1vb3]</td>\n",
       "      <td>REP-1vb3</td>\n",
       "      <td>A</td>\n",
       "      <td>100.0</td>\n",
       "      <td>2.2</td>\n",
       "      <td>1vb3-A_clean</td>\n",
       "      <td>Protein Data Bank</td>\n",
       "      <td>47113.2536</td>\n",
       "      <td>Cytoplasmic</td>\n",
       "      <td>NaN</td>\n",
       "      <td>P00934</td>\n",
       "      <td>13676.0</td>\n",
       "      <td>3759.0</td>\n",
       "      <td>47066.21410</td>\n",
       "      <td>NaN</td>\n",
       "      <td>Cytosol</td>\n",
       "    </tr>\n",
       "    <tr>\n",
       "      <th>4</th>\n",
       "      <td>b0005</td>\n",
       "      <td>P75616</td>\n",
       "      <td>P75616</td>\n",
       "      <td>yaaX</td>\n",
       "      <td>Uncharacterized protein YaaX</td>\n",
       "      <td>0.0</td>\n",
       "      <td>[]</td>\n",
       "      <td>[]</td>\n",
       "      <td>NaN</td>\n",
       "      <td>NaN</td>\n",
       "      <td>NaN</td>\n",
       "      <td>NaN</td>\n",
       "      <td>NaN</td>\n",
       "      <td>NaN</td>\n",
       "      <td>11354.7994</td>\n",
       "      <td>Periplasmic</td>\n",
       "      <td>NaN</td>\n",
       "      <td>NaN</td>\n",
       "      <td>NaN</td>\n",
       "      <td>NaN</td>\n",
       "      <td>NaN</td>\n",
       "      <td>NaN</td>\n",
       "      <td>NaN</td>\n",
       "    </tr>\n",
       "  </tbody>\n",
       "</table>\n",
       "</div>"
      ],
      "text/plain": [
       "    gene representative_sequence repseq_uniprot repseq_gene_name  \\\n",
       "0  b0001                  P0AD86         P0AD86             thrL   \n",
       "1  b0002                  P00561         P00561             thrA   \n",
       "2  b0003                  P00547         P00547             thrB   \n",
       "3  b0004                  P00934         P00934             thrC   \n",
       "4  b0005                  P75616         P75616             yaaX   \n",
       "\n",
       "                                  repseq_description  num_structures  \\\n",
       "0                          thr operon leader peptide             0.0   \n",
       "1  Bifunctional aspartokinase/homoserine dehydrog...             2.0   \n",
       "2                                  Homoserine kinase             2.0   \n",
       "3                                 Threonine synthase             3.0   \n",
       "4                       Uncharacterized protein YaaX             0.0   \n",
       "\n",
       "  experimental_structures                           homology_models  \\\n",
       "0                      []                                        []   \n",
       "1                      []  [b0002_1_462_3c20, REP-b0002_1_462_3c20]   \n",
       "2                      []  [b0003_1_308_4rpf, REP-b0003_1_308_4rpf]   \n",
       "3        [1vb3, REP-1vb3]                        [b0004_1_428_1vb3]   \n",
       "4                      []                                        []   \n",
       "\n",
       "  representative_structure representative_chain  repchain_seq_coverage  \\\n",
       "0                      NaN                  NaN                    NaN   \n",
       "1     REP-b0002_1_462_3c20                    A                   56.3   \n",
       "2     REP-b0003_1_308_4rpf                    A                   99.4   \n",
       "3                 REP-1vb3                    A                  100.0   \n",
       "4                      NaN                  NaN                    NaN   \n",
       "\n",
       "   repstruct_resolution            repstruct_path   repstruct_source  \\\n",
       "0                   NaN                       NaN                NaN   \n",
       "1                   NaN  b0002_1_462_3c20-A_clean        SWISS-MODEL   \n",
       "2                   NaN  b0003_1_308_4rpf-A_clean        SWISS-MODEL   \n",
       "3                   2.2              1vb3-A_clean  Protein Data Bank   \n",
       "4                   NaN                       NaN                NaN   \n",
       "\n",
       "   gempro_mw_Da echo_localization_all echo_localization_exp uniprot_id  \\\n",
       "0     2138.4426           Cytoplasmic                   NaN        NaN   \n",
       "1    89119.2202           Cytoplasmic           Cytoplasmic     P00561   \n",
       "2    33623.2905           Cytoplasmic                   NaN     P00547   \n",
       "3    47113.2536           Cytoplasmic                   NaN     P00934   \n",
       "4    11354.7994           Periplasmic                   NaN        NaN   \n",
       "\n",
       "   copies_glucose  copies_lb        mw_Da localization me_localization  \n",
       "0             NaN        NaN          NaN          NaN             NaN  \n",
       "1          4375.0     1360.0  89045.79557          NaN         Cytosol  \n",
       "2           844.0      246.0  33583.89194    Cytoplasm         Cytosol  \n",
       "3         13676.0     3759.0  47066.21410          NaN         Cytosol  \n",
       "4             NaN        NaN          NaN          NaN             NaN  "
      ]
     },
     "execution_count": 69,
     "metadata": {},
     "output_type": "execute_result"
    }
   ],
   "source": [
    "# with echolocation\n",
    "gp_df3 = gp_df2.merge(echoloc_compartments_all, how='left', left_on='repseq_gene_name', right_on='repseq_gene_name')\n",
    "gp_df3 = gp_df3.merge(echoloc_compartments_exp, how='left', left_on='repseq_gene_name', right_on='repseq_gene_name')\n",
    "\n",
    "# with gempro and me_compartments\n",
    "recipe_final = gp_df3.merge(recipe, how='outer', left_on = 'repseq_uniprot', right_on = 'uniprot_id').merge(me_compartments, how='left')\n",
    "recipe_final = recipe_final.rename(columns={'representative_chain_seq_coverage':'repchain_seq_coverage'})\n",
    "\n",
    "recipe_final.head()"
   ]
  },
  {
   "cell_type": "code",
   "execution_count": 70,
   "metadata": {},
   "outputs": [
    {
     "data": {
      "text/plain": [
       "31"
      ]
     },
     "execution_count": 70,
     "metadata": {},
     "output_type": "execute_result"
    }
   ],
   "source": [
    "missing_in_recipe_but_has_proteomics = list(set(final.uniprot_id.unique().tolist()).difference(recipe_final.repseq_uniprot.unique().tolist()))\n",
    "len(missing_in_recipe_but_has_proteomics)"
   ]
  },
  {
   "cell_type": "markdown",
   "metadata": {},
   "source": [
    "## Obsolete UniProt IDs"
   ]
  },
  {
   "cell_type": "code",
   "execution_count": 71,
   "metadata": {},
   "outputs": [
    {
     "name": "stderr",
     "output_type": "stream",
     "text": [
      "/home/nathan/anaconda3/lib/python3.6/site-packages/ipykernel/__main__.py:7 DeprecationWarning: \n",
      ".ix is deprecated. Please use\n",
      ".loc for label based indexing or\n",
      ".iloc for positional indexing\n",
      "\n",
      "See the documentation here:\n",
      "http://pandas.pydata.org/pandas-docs/stable/indexing.html#ix-indexer-is-deprecated\n"
     ]
    },
    {
     "data": {
      "text/html": [
       "<div>\n",
       "<style>\n",
       "    .dataframe thead tr:only-child th {\n",
       "        text-align: right;\n",
       "    }\n",
       "\n",
       "    .dataframe thead th {\n",
       "        text-align: left;\n",
       "    }\n",
       "\n",
       "    .dataframe tbody tr th {\n",
       "        vertical-align: top;\n",
       "    }\n",
       "</style>\n",
       "<table border=\"1\" class=\"dataframe\">\n",
       "  <thead>\n",
       "    <tr style=\"text-align: right;\">\n",
       "      <th></th>\n",
       "      <th>gene</th>\n",
       "      <th>representative_sequence</th>\n",
       "      <th>repseq_uniprot</th>\n",
       "      <th>repseq_gene_name</th>\n",
       "      <th>repseq_description</th>\n",
       "      <th>num_structures</th>\n",
       "      <th>experimental_structures</th>\n",
       "      <th>homology_models</th>\n",
       "      <th>representative_structure</th>\n",
       "      <th>representative_chain</th>\n",
       "      <th>repchain_seq_coverage</th>\n",
       "      <th>repstruct_resolution</th>\n",
       "      <th>repstruct_path</th>\n",
       "      <th>repstruct_source</th>\n",
       "      <th>gempro_mw_Da</th>\n",
       "      <th>echo_localization_all</th>\n",
       "      <th>echo_localization_exp</th>\n",
       "      <th>uniprot_id</th>\n",
       "      <th>copies_glucose</th>\n",
       "      <th>copies_lb</th>\n",
       "      <th>mw_Da</th>\n",
       "      <th>localization</th>\n",
       "      <th>me_localization</th>\n",
       "    </tr>\n",
       "  </thead>\n",
       "  <tbody>\n",
       "    <tr>\n",
       "      <th>4171</th>\n",
       "      <td>b4488</td>\n",
       "      <td>P0DP89</td>\n",
       "      <td>P0DP89</td>\n",
       "      <td>ilvG</td>\n",
       "      <td>Putative acetolactate synthase isozyme 2 large...</td>\n",
       "      <td>2.0</td>\n",
       "      <td>[]</td>\n",
       "      <td>[b4488_2_313_3e9y, REP-b4488_2_313_3e9y]</td>\n",
       "      <td>REP-b4488_2_313_3e9y</td>\n",
       "      <td>A</td>\n",
       "      <td>95.4</td>\n",
       "      <td>NaN</td>\n",
       "      <td>b4488_2_313_3e9y-A_clean</td>\n",
       "      <td>SWISS-MODEL</td>\n",
       "      <td>34506.3816</td>\n",
       "      <td>Cytoplasmic</td>\n",
       "      <td>NaN</td>\n",
       "      <td>P00892</td>\n",
       "      <td>63.0</td>\n",
       "      <td>17.0</td>\n",
       "      <td>59228.74221</td>\n",
       "      <td>NaN</td>\n",
       "      <td>NaN</td>\n",
       "    </tr>\n",
       "  </tbody>\n",
       "</table>\n",
       "</div>"
      ],
      "text/plain": [
       "       gene representative_sequence repseq_uniprot repseq_gene_name  \\\n",
       "4171  b4488                  P0DP89         P0DP89             ilvG   \n",
       "\n",
       "                                     repseq_description  num_structures  \\\n",
       "4171  Putative acetolactate synthase isozyme 2 large...             2.0   \n",
       "\n",
       "     experimental_structures                           homology_models  \\\n",
       "4171                      []  [b4488_2_313_3e9y, REP-b4488_2_313_3e9y]   \n",
       "\n",
       "     representative_structure representative_chain  repchain_seq_coverage  \\\n",
       "4171     REP-b4488_2_313_3e9y                    A                   95.4   \n",
       "\n",
       "      repstruct_resolution            repstruct_path repstruct_source  \\\n",
       "4171                   NaN  b4488_2_313_3e9y-A_clean      SWISS-MODEL   \n",
       "\n",
       "      gempro_mw_Da echo_localization_all echo_localization_exp uniprot_id  \\\n",
       "4171    34506.3816           Cytoplasmic                   NaN     P00892   \n",
       "\n",
       "      copies_glucose  copies_lb        mw_Da localization me_localization  \n",
       "4171            63.0       17.0  59228.74221          NaN             NaN  "
      ]
     },
     "execution_count": 71,
     "metadata": {},
     "output_type": "execute_result"
    },
    {
     "data": {
      "text/html": [
       "<div>\n",
       "<style>\n",
       "    .dataframe thead tr:only-child th {\n",
       "        text-align: right;\n",
       "    }\n",
       "\n",
       "    .dataframe thead th {\n",
       "        text-align: left;\n",
       "    }\n",
       "\n",
       "    .dataframe tbody tr th {\n",
       "        vertical-align: top;\n",
       "    }\n",
       "</style>\n",
       "<table border=\"1\" class=\"dataframe\">\n",
       "  <thead>\n",
       "    <tr style=\"text-align: right;\">\n",
       "      <th></th>\n",
       "      <th>gene</th>\n",
       "      <th>representative_sequence</th>\n",
       "      <th>repseq_uniprot</th>\n",
       "      <th>repseq_gene_name</th>\n",
       "      <th>repseq_description</th>\n",
       "      <th>num_structures</th>\n",
       "      <th>experimental_structures</th>\n",
       "      <th>homology_models</th>\n",
       "      <th>representative_structure</th>\n",
       "      <th>representative_chain</th>\n",
       "      <th>repchain_seq_coverage</th>\n",
       "      <th>repstruct_resolution</th>\n",
       "      <th>repstruct_path</th>\n",
       "      <th>repstruct_source</th>\n",
       "      <th>gempro_mw_Da</th>\n",
       "      <th>echo_localization_all</th>\n",
       "      <th>echo_localization_exp</th>\n",
       "      <th>uniprot_id</th>\n",
       "      <th>copies_glucose</th>\n",
       "      <th>copies_lb</th>\n",
       "      <th>mw_Da</th>\n",
       "      <th>localization</th>\n",
       "      <th>me_localization</th>\n",
       "    </tr>\n",
       "  </thead>\n",
       "  <tbody>\n",
       "    <tr>\n",
       "      <th>2098</th>\n",
       "      <td>b2217</td>\n",
       "      <td>P0DMC7</td>\n",
       "      <td>P0DMC7</td>\n",
       "      <td>rcsB</td>\n",
       "      <td>Transcriptional regulatory protein RcsB</td>\n",
       "      <td>21.0</td>\n",
       "      <td>[5i4c, 5o8z, 5o8y, 6eo3, 6eo2, REP-5i4c]</td>\n",
       "      <td>[b2217_4_210_1p2f, b2217_2_211_3r0j, b2217_3_2...</td>\n",
       "      <td>REP-5i4c</td>\n",
       "      <td>A</td>\n",
       "      <td>60.6</td>\n",
       "      <td>2.0</td>\n",
       "      <td>5i4c-A_clean</td>\n",
       "      <td>Protein Data Bank</td>\n",
       "      <td>23670.3248</td>\n",
       "      <td>Cytoplasmic</td>\n",
       "      <td>NaN</td>\n",
       "      <td>P69407</td>\n",
       "      <td>1972.0</td>\n",
       "      <td>2623.0</td>\n",
       "      <td>23637.75191</td>\n",
       "      <td>NaN</td>\n",
       "      <td>NaN</td>\n",
       "    </tr>\n",
       "  </tbody>\n",
       "</table>\n",
       "</div>"
      ],
      "text/plain": [
       "       gene representative_sequence repseq_uniprot repseq_gene_name  \\\n",
       "2098  b2217                  P0DMC7         P0DMC7             rcsB   \n",
       "\n",
       "                           repseq_description  num_structures  \\\n",
       "2098  Transcriptional regulatory protein RcsB            21.0   \n",
       "\n",
       "                       experimental_structures  \\\n",
       "2098  [5i4c, 5o8z, 5o8y, 6eo3, 6eo2, REP-5i4c]   \n",
       "\n",
       "                                        homology_models  \\\n",
       "2098  [b2217_4_210_1p2f, b2217_2_211_3r0j, b2217_3_2...   \n",
       "\n",
       "     representative_structure representative_chain  repchain_seq_coverage  \\\n",
       "2098                 REP-5i4c                    A                   60.6   \n",
       "\n",
       "      repstruct_resolution repstruct_path   repstruct_source  gempro_mw_Da  \\\n",
       "2098                   2.0   5i4c-A_clean  Protein Data Bank    23670.3248   \n",
       "\n",
       "     echo_localization_all echo_localization_exp uniprot_id  copies_glucose  \\\n",
       "2098           Cytoplasmic                   NaN     P69407          1972.0   \n",
       "\n",
       "      copies_lb        mw_Da localization me_localization  \n",
       "2098     2623.0  23637.75191          NaN             NaN  "
      ]
     },
     "execution_count": 71,
     "metadata": {},
     "output_type": "execute_result"
    }
   ],
   "source": [
    "for g in my_gempro.genes:\n",
    "    if np.isnan(recipe_final[recipe_final.gene == g.id].copies_glucose.values[0]):\n",
    "#         print(g.protein.representative_sequence.alt_uniprots)\n",
    "        for alt_uni in g.protein.representative_sequence.alt_uniprots:\n",
    "            if alt_uni in final.uniprot_id.values.tolist():\n",
    "                idx = recipe_final[recipe_final.gene == g.id].index\n",
    "                recipe_final.ix[idx, 'uniprot_id'] = alt_uni\n",
    "                recipe_final.ix[idx, 'copies_glucose'] = final[final.uniprot_id == alt_uni].copies_glucose.values[0]\n",
    "                recipe_final.ix[idx, 'copies_lb'] = final[final.uniprot_id == alt_uni].copies_lb.values[0]\n",
    "                recipe_final.ix[idx, 'mw_Da'] = mw[mw.uniprot_id == alt_uni].mw_Da.values[0]\n",
    "                if alt_uni in localization.uniprot_id.values.tolist():\n",
    "                    recipe_final.ix[idx, 'localization'] = localization[localization.uniprot_id == alt_uni].localization.values[0]\n",
    "                recipe_final.ix[idx]"
   ]
  },
  {
   "cell_type": "code",
   "execution_count": 72,
   "metadata": {},
   "outputs": [
    {
     "data": {
      "text/html": [
       "<div>\n",
       "<style>\n",
       "    .dataframe thead tr:only-child th {\n",
       "        text-align: right;\n",
       "    }\n",
       "\n",
       "    .dataframe thead th {\n",
       "        text-align: left;\n",
       "    }\n",
       "\n",
       "    .dataframe tbody tr th {\n",
       "        vertical-align: top;\n",
       "    }\n",
       "</style>\n",
       "<table border=\"1\" class=\"dataframe\">\n",
       "  <thead>\n",
       "    <tr style=\"text-align: right;\">\n",
       "      <th></th>\n",
       "      <th>gene</th>\n",
       "      <th>representative_sequence</th>\n",
       "      <th>repseq_uniprot</th>\n",
       "      <th>repseq_gene_name</th>\n",
       "      <th>repseq_description</th>\n",
       "      <th>num_structures</th>\n",
       "      <th>experimental_structures</th>\n",
       "      <th>homology_models</th>\n",
       "      <th>representative_structure</th>\n",
       "      <th>representative_chain</th>\n",
       "      <th>repchain_seq_coverage</th>\n",
       "      <th>repstruct_resolution</th>\n",
       "      <th>repstruct_path</th>\n",
       "      <th>repstruct_source</th>\n",
       "      <th>gempro_mw_Da</th>\n",
       "      <th>echo_localization_all</th>\n",
       "      <th>echo_localization_exp</th>\n",
       "      <th>uniprot_id</th>\n",
       "      <th>copies_glucose</th>\n",
       "      <th>copies_lb</th>\n",
       "      <th>mw_Da</th>\n",
       "      <th>localization</th>\n",
       "      <th>me_localization</th>\n",
       "    </tr>\n",
       "  </thead>\n",
       "  <tbody>\n",
       "    <tr>\n",
       "      <th>0</th>\n",
       "      <td>b0001</td>\n",
       "      <td>P0AD86</td>\n",
       "      <td>P0AD86</td>\n",
       "      <td>thrL</td>\n",
       "      <td>thr operon leader peptide</td>\n",
       "      <td>0.0</td>\n",
       "      <td>[]</td>\n",
       "      <td>[]</td>\n",
       "      <td>NaN</td>\n",
       "      <td>NaN</td>\n",
       "      <td>NaN</td>\n",
       "      <td>NaN</td>\n",
       "      <td>NaN</td>\n",
       "      <td>NaN</td>\n",
       "      <td>2138.4426</td>\n",
       "      <td>Cytoplasmic</td>\n",
       "      <td>NaN</td>\n",
       "      <td>NaN</td>\n",
       "      <td>NaN</td>\n",
       "      <td>NaN</td>\n",
       "      <td>NaN</td>\n",
       "      <td>NaN</td>\n",
       "      <td>NaN</td>\n",
       "    </tr>\n",
       "    <tr>\n",
       "      <th>1</th>\n",
       "      <td>b0002</td>\n",
       "      <td>P00561</td>\n",
       "      <td>P00561</td>\n",
       "      <td>thrA</td>\n",
       "      <td>Bifunctional aspartokinase/homoserine dehydrog...</td>\n",
       "      <td>2.0</td>\n",
       "      <td>[]</td>\n",
       "      <td>[b0002_1_462_3c20, REP-b0002_1_462_3c20]</td>\n",
       "      <td>REP-b0002_1_462_3c20</td>\n",
       "      <td>A</td>\n",
       "      <td>56.3</td>\n",
       "      <td>NaN</td>\n",
       "      <td>b0002_1_462_3c20-A_clean</td>\n",
       "      <td>SWISS-MODEL</td>\n",
       "      <td>89119.2202</td>\n",
       "      <td>Cytoplasmic</td>\n",
       "      <td>Cytoplasmic</td>\n",
       "      <td>P00561</td>\n",
       "      <td>4375.0</td>\n",
       "      <td>1360.0</td>\n",
       "      <td>89045.79557</td>\n",
       "      <td>NaN</td>\n",
       "      <td>Cytosol</td>\n",
       "    </tr>\n",
       "    <tr>\n",
       "      <th>2</th>\n",
       "      <td>b0003</td>\n",
       "      <td>P00547</td>\n",
       "      <td>P00547</td>\n",
       "      <td>thrB</td>\n",
       "      <td>Homoserine kinase</td>\n",
       "      <td>2.0</td>\n",
       "      <td>[]</td>\n",
       "      <td>[b0003_1_308_4rpf, REP-b0003_1_308_4rpf]</td>\n",
       "      <td>REP-b0003_1_308_4rpf</td>\n",
       "      <td>A</td>\n",
       "      <td>99.4</td>\n",
       "      <td>NaN</td>\n",
       "      <td>b0003_1_308_4rpf-A_clean</td>\n",
       "      <td>SWISS-MODEL</td>\n",
       "      <td>33623.2905</td>\n",
       "      <td>Cytoplasmic</td>\n",
       "      <td>NaN</td>\n",
       "      <td>P00547</td>\n",
       "      <td>844.0</td>\n",
       "      <td>246.0</td>\n",
       "      <td>33583.89194</td>\n",
       "      <td>Cytoplasm</td>\n",
       "      <td>Cytosol</td>\n",
       "    </tr>\n",
       "    <tr>\n",
       "      <th>3</th>\n",
       "      <td>b0004</td>\n",
       "      <td>P00934</td>\n",
       "      <td>P00934</td>\n",
       "      <td>thrC</td>\n",
       "      <td>Threonine synthase</td>\n",
       "      <td>3.0</td>\n",
       "      <td>[1vb3, REP-1vb3]</td>\n",
       "      <td>[b0004_1_428_1vb3]</td>\n",
       "      <td>REP-1vb3</td>\n",
       "      <td>A</td>\n",
       "      <td>100.0</td>\n",
       "      <td>2.2</td>\n",
       "      <td>1vb3-A_clean</td>\n",
       "      <td>Protein Data Bank</td>\n",
       "      <td>47113.2536</td>\n",
       "      <td>Cytoplasmic</td>\n",
       "      <td>NaN</td>\n",
       "      <td>P00934</td>\n",
       "      <td>13676.0</td>\n",
       "      <td>3759.0</td>\n",
       "      <td>47066.21410</td>\n",
       "      <td>NaN</td>\n",
       "      <td>Cytosol</td>\n",
       "    </tr>\n",
       "    <tr>\n",
       "      <th>4</th>\n",
       "      <td>b0005</td>\n",
       "      <td>P75616</td>\n",
       "      <td>P75616</td>\n",
       "      <td>yaaX</td>\n",
       "      <td>Uncharacterized protein YaaX</td>\n",
       "      <td>0.0</td>\n",
       "      <td>[]</td>\n",
       "      <td>[]</td>\n",
       "      <td>NaN</td>\n",
       "      <td>NaN</td>\n",
       "      <td>NaN</td>\n",
       "      <td>NaN</td>\n",
       "      <td>NaN</td>\n",
       "      <td>NaN</td>\n",
       "      <td>11354.7994</td>\n",
       "      <td>Periplasmic</td>\n",
       "      <td>NaN</td>\n",
       "      <td>NaN</td>\n",
       "      <td>NaN</td>\n",
       "      <td>NaN</td>\n",
       "      <td>NaN</td>\n",
       "      <td>NaN</td>\n",
       "      <td>NaN</td>\n",
       "    </tr>\n",
       "  </tbody>\n",
       "</table>\n",
       "</div>"
      ],
      "text/plain": [
       "    gene representative_sequence repseq_uniprot repseq_gene_name  \\\n",
       "0  b0001                  P0AD86         P0AD86             thrL   \n",
       "1  b0002                  P00561         P00561             thrA   \n",
       "2  b0003                  P00547         P00547             thrB   \n",
       "3  b0004                  P00934         P00934             thrC   \n",
       "4  b0005                  P75616         P75616             yaaX   \n",
       "\n",
       "                                  repseq_description  num_structures  \\\n",
       "0                          thr operon leader peptide             0.0   \n",
       "1  Bifunctional aspartokinase/homoserine dehydrog...             2.0   \n",
       "2                                  Homoserine kinase             2.0   \n",
       "3                                 Threonine synthase             3.0   \n",
       "4                       Uncharacterized protein YaaX             0.0   \n",
       "\n",
       "  experimental_structures                           homology_models  \\\n",
       "0                      []                                        []   \n",
       "1                      []  [b0002_1_462_3c20, REP-b0002_1_462_3c20]   \n",
       "2                      []  [b0003_1_308_4rpf, REP-b0003_1_308_4rpf]   \n",
       "3        [1vb3, REP-1vb3]                        [b0004_1_428_1vb3]   \n",
       "4                      []                                        []   \n",
       "\n",
       "  representative_structure representative_chain  repchain_seq_coverage  \\\n",
       "0                      NaN                  NaN                    NaN   \n",
       "1     REP-b0002_1_462_3c20                    A                   56.3   \n",
       "2     REP-b0003_1_308_4rpf                    A                   99.4   \n",
       "3                 REP-1vb3                    A                  100.0   \n",
       "4                      NaN                  NaN                    NaN   \n",
       "\n",
       "   repstruct_resolution            repstruct_path   repstruct_source  \\\n",
       "0                   NaN                       NaN                NaN   \n",
       "1                   NaN  b0002_1_462_3c20-A_clean        SWISS-MODEL   \n",
       "2                   NaN  b0003_1_308_4rpf-A_clean        SWISS-MODEL   \n",
       "3                   2.2              1vb3-A_clean  Protein Data Bank   \n",
       "4                   NaN                       NaN                NaN   \n",
       "\n",
       "   gempro_mw_Da echo_localization_all echo_localization_exp uniprot_id  \\\n",
       "0     2138.4426           Cytoplasmic                   NaN        NaN   \n",
       "1    89119.2202           Cytoplasmic           Cytoplasmic     P00561   \n",
       "2    33623.2905           Cytoplasmic                   NaN     P00547   \n",
       "3    47113.2536           Cytoplasmic                   NaN     P00934   \n",
       "4    11354.7994           Periplasmic                   NaN        NaN   \n",
       "\n",
       "   copies_glucose  copies_lb        mw_Da localization me_localization  \n",
       "0             NaN        NaN          NaN          NaN             NaN  \n",
       "1          4375.0     1360.0  89045.79557          NaN         Cytosol  \n",
       "2           844.0      246.0  33583.89194    Cytoplasm         Cytosol  \n",
       "3         13676.0     3759.0  47066.21410          NaN         Cytosol  \n",
       "4             NaN        NaN          NaN          NaN             NaN  "
      ]
     },
     "execution_count": 72,
     "metadata": {},
     "output_type": "execute_result"
    }
   ],
   "source": [
    "recipe_final = recipe_final[pd.notnull(recipe_final.gene)]\n",
    "recipe_final.head()"
   ]
  },
  {
   "cell_type": "markdown",
   "metadata": {},
   "source": [
    "## Final localization assignments\n",
    "\n",
    "- 72 proteins with no localization but proteomics measurement\n",
    "    - TODO - may need to clean up gene names from EchoLOCATION\n",
    "- Just assign to cytoplasm for now?"
   ]
  },
  {
   "cell_type": "code",
   "execution_count": 73,
   "metadata": {},
   "outputs": [
    {
     "data": {
      "text/plain": [
       "array([nan, 'Cytosol', 'Inner_Membrane', 'Periplasm', 'Outer_Membrane'], dtype=object)"
      ]
     },
     "execution_count": 73,
     "metadata": {},
     "output_type": "execute_result"
    },
    {
     "data": {
      "text/plain": [
       "array([nan, 'Cytoplasm', 'Periplasm', 'Cell outer membrane',\n",
       "       'Cell inner membrane', 'Cell membrane', 'Outer Membrane',\n",
       "       'Membrane', 'Secreted'], dtype=object)"
      ]
     },
     "execution_count": 73,
     "metadata": {},
     "output_type": "execute_result"
    },
    {
     "data": {
      "text/plain": [
       "array([nan, 'Cytoplasmic', 'Periplasmic', 'Integral Membrane Protein',\n",
       "       'Membrane anchored', 'Membrane associated',\n",
       "       'Outer Membrane ß-barrel protein', 'Outer membrane Lipoprotein',\n",
       "       'Inner membrane lipoprotein',\n",
       "       'Periplasmic with N-terminal membrane anchor',\n",
       "       'Cell surface appendage', 'Secreted and released',\n",
       "       'Inner Membrane Lipoprotein', 'Membrane Anchored',\n",
       "       'Membrane Lipoprotein'], dtype=object)"
      ]
     },
     "execution_count": 73,
     "metadata": {},
     "output_type": "execute_result"
    },
    {
     "data": {
      "text/plain": [
       "array(['Cytoplasmic', 'Periplasmic', 'Integral Membrane Protein', nan,\n",
       "       'Membrane anchored', 'Membrane associated',\n",
       "       'Outer Membrane ß-barrel protein', 'Outer membrane Lipoprotein',\n",
       "       'Inner membrane lipoprotein',\n",
       "       'Periplasmic with N-terminal membrane anchor',\n",
       "       'Cell surface appendage', 'Secreted and released', 'cytoplasmic',\n",
       "       'Membrane Lipoprotein', 'Inner Membrane Lipoprotein',\n",
       "       'Membrane Anchored'], dtype=object)"
      ]
     },
     "execution_count": 73,
     "metadata": {},
     "output_type": "execute_result"
    }
   ],
   "source": [
    "recipe_final.me_localization.unique()\n",
    "recipe_final.localization.unique()\n",
    "recipe_final.echo_localization_exp.unique()\n",
    "recipe_final.echo_localization_all.unique()"
   ]
  },
  {
   "cell_type": "code",
   "execution_count": 74,
   "metadata": {
    "collapsed": true
   },
   "outputs": [],
   "source": [
    "def localization_assignment(intext):\n",
    "    cytosol = ['cytoplasmic', 'cytosol', 'cytoplasm', 'cytoplasmic', 'cytoplasmic']\n",
    "    Inner_Membrane = ['inner_membrane','cell inner membrane', 'integral membrane protein','membrane', 'membrane anchored', 'membrane associated','inner membrane lipoprotein',\n",
    "                     'periplasmic with N-terminal membrane anchor']\n",
    "    Outer_Membrane = ['outer_membrane', 'cell outer membrane', 'outer membrane', 'cell membrane', 'outer membrane ß-barrel protein', 'outer membrane lipoprotein',\n",
    "                     'cell surface appendage',  'membrane lipoprotein']\n",
    "    Periplasm = ['periplasm', 'periplasmic']\n",
    "    Extracellular = ['secreted', 'secreted and released']\n",
    "\n",
    "    if intext.lower() in cytosol:\n",
    "        return \"Cytosol\"\n",
    "    \n",
    "    if intext.lower() in Inner_Membrane:\n",
    "        return \"Inner_Membrane\"\n",
    "    \n",
    "    if intext.lower() in Outer_Membrane:\n",
    "        return \"Outer_Membrane\"\n",
    "    \n",
    "    if intext.lower() in Extracellular:\n",
    "        return \"Extracellular\"\n",
    "\n",
    "    if intext.lower() in Periplasm:\n",
    "        return \"Periplasm\""
   ]
  },
  {
   "cell_type": "code",
   "execution_count": 75,
   "metadata": {
    "collapsed": true
   },
   "outputs": [],
   "source": [
    "import pandas as pd\n",
    "pd.set_option('display.max_rows', 500)\n",
    "pd.set_option('display.max_columns', 500)"
   ]
  },
  {
   "cell_type": "code",
   "execution_count": 76,
   "metadata": {},
   "outputs": [
    {
     "name": "stderr",
     "output_type": "stream",
     "text": [
      "/home/nathan/anaconda3/lib/python3.6/site-packages/ipykernel/__main__.py:15 DeprecationWarning: \n",
      ".ix is deprecated. Please use\n",
      ".loc for label based indexing or\n",
      ".iloc for positional indexing\n",
      "\n",
      "See the documentation here:\n",
      "http://pandas.pydata.org/pandas-docs/stable/indexing.html#ix-indexer-is-deprecated\n"
     ]
    }
   ],
   "source": [
    "recipe_final['localization_final'] = np.nan\n",
    "recipe_final['localization_source'] = np.nan\n",
    "\n",
    "for i,r in recipe_final.iterrows():\n",
    "    if pd.notnull(r['me_localization']):\n",
    "        recipe_final.ix[i, 'localization_final'] = localization_assignment(r['me_localization'])\n",
    "        recipe_final.ix[i, 'localization_source'] = 'iJL1678'\n",
    "    elif pd.notnull(r['localization']):\n",
    "        recipe_final.ix[i, 'localization_final'] = localization_assignment(r['localization'])\n",
    "        recipe_final.ix[i, 'localization_source'] = 'Heinemann 2016'\n",
    "    elif pd.notnull(r['echo_localization_exp']):\n",
    "        recipe_final.ix[i, 'localization_final'] = localization_assignment(r['echo_localization_exp'])\n",
    "        recipe_final.ix[i, 'localization_source'] = 'EchoLOCATION experimental'\n",
    "    elif pd.notnull(r['echo_localization_all']):\n",
    "        recipe_final.ix[i, 'localization_final'] = localization_assignment(r['echo_localization_all'])\n",
    "        recipe_final.ix[i, 'localization_source'] = 'EchoLOCATION predicted'\n",
    "    else:\n",
    "        recipe_final.ix[i, 'localization_final'] = 'Cytosol'\n",
    "        recipe_final.ix[i, 'localization_source'] = 'Arbitrary assignment'"
   ]
  },
  {
   "cell_type": "code",
   "execution_count": 77,
   "metadata": {},
   "outputs": [
    {
     "data": {
      "text/html": [
       "<div>\n",
       "<style>\n",
       "    .dataframe thead tr:only-child th {\n",
       "        text-align: right;\n",
       "    }\n",
       "\n",
       "    .dataframe thead th {\n",
       "        text-align: left;\n",
       "    }\n",
       "\n",
       "    .dataframe tbody tr th {\n",
       "        vertical-align: top;\n",
       "    }\n",
       "</style>\n",
       "<table border=\"1\" class=\"dataframe\">\n",
       "  <thead>\n",
       "    <tr style=\"text-align: right;\">\n",
       "      <th></th>\n",
       "      <th>gene</th>\n",
       "      <th>representative_sequence</th>\n",
       "      <th>repseq_uniprot</th>\n",
       "      <th>repseq_gene_name</th>\n",
       "      <th>repseq_description</th>\n",
       "      <th>num_structures</th>\n",
       "      <th>experimental_structures</th>\n",
       "      <th>homology_models</th>\n",
       "      <th>representative_structure</th>\n",
       "      <th>representative_chain</th>\n",
       "      <th>repchain_seq_coverage</th>\n",
       "      <th>repstruct_resolution</th>\n",
       "      <th>repstruct_path</th>\n",
       "      <th>repstruct_source</th>\n",
       "      <th>gempro_mw_Da</th>\n",
       "      <th>echo_localization_all</th>\n",
       "      <th>echo_localization_exp</th>\n",
       "      <th>uniprot_id</th>\n",
       "      <th>copies_glucose</th>\n",
       "      <th>copies_lb</th>\n",
       "      <th>mw_Da</th>\n",
       "      <th>localization</th>\n",
       "      <th>me_localization</th>\n",
       "      <th>localization_final</th>\n",
       "      <th>localization_source</th>\n",
       "    </tr>\n",
       "  </thead>\n",
       "  <tbody>\n",
       "  </tbody>\n",
       "</table>\n",
       "</div>"
      ],
      "text/plain": [
       "Empty DataFrame\n",
       "Columns: [gene, representative_sequence, repseq_uniprot, repseq_gene_name, repseq_description, num_structures, experimental_structures, homology_models, representative_structure, representative_chain, repchain_seq_coverage, repstruct_resolution, repstruct_path, repstruct_source, gempro_mw_Da, echo_localization_all, echo_localization_exp, uniprot_id, copies_glucose, copies_lb, mw_Da, localization, me_localization, localization_final, localization_source]\n",
       "Index: []"
      ]
     },
     "execution_count": 77,
     "metadata": {},
     "output_type": "execute_result"
    }
   ],
   "source": [
    "recipe_final[pd.isnull(recipe_final.localization_final)]# & pd.notnull(recipe_final.copies_glucose)]"
   ]
  },
  {
   "cell_type": "markdown",
   "metadata": {},
   "source": [
    "## Molarity"
   ]
  },
  {
   "cell_type": "markdown",
   "metadata": {},
   "source": [
    "http://molbiol.edu.ru/eng/scripts/01_04.html\n",
    "https://www.novateinbio.com/techinfo/protocols/Converting%20protein%20mass%20concentration%20to%20molar%20concentration,%20or%20vice%20versa.pdf"
   ]
  },
  {
   "cell_type": "code",
   "execution_count": 78,
   "metadata": {
    "collapsed": true
   },
   "outputs": [],
   "source": [
    "import scipy.constants"
   ]
  },
  {
   "cell_type": "code",
   "execution_count": 79,
   "metadata": {
    "collapsed": true
   },
   "outputs": [],
   "source": [
    "def convert_copy_number_to_molarity(copies, volume_fl):\n",
    "    \"\"\"Convert proteomic copy numbers to a molarity measure.\n",
    "    \n",
    "    Args:\n",
    "        copies (float): Copy number of this specific protein\n",
    "        volume_fl (float): Volume of solution measured in femtoliters\n",
    "        \n",
    "    Returns:\n",
    "        float: Molarity in mol/liter\n",
    "        \n",
    "    \"\"\"\n",
    "    volume_l = volume_fl*(10**-15)\n",
    "    return (copies/scipy.constants.Avogadro)/volume_l"
   ]
  },
  {
   "cell_type": "code",
   "execution_count": 80,
   "metadata": {
    "collapsed": true
   },
   "outputs": [],
   "source": [
    "def convert_mass_concentration_to_molarity(protein_daltons, mass_fg, volume_fl):\n",
    "    \"\"\"Convert proteomic mass to a molarity measure.\n",
    "    \n",
    "    Args:\n",
    "        protein_daltons (float): Mass in Daltons of this protein\n",
    "        mass_fg (float): Mass in femtograms of this protein\n",
    "        volume_fl (float): Volume of solution measured in femtoliters\n",
    "        \n",
    "    Returns:\n",
    "        float: Molarity in mol/liter\n",
    "        \n",
    "    \"\"\"\n",
    "    return (mass_fg/volume_fl)/protein_daltons"
   ]
  },
  {
   "cell_type": "code",
   "execution_count": 81,
   "metadata": {},
   "outputs": [
    {
     "data": {
      "text/plain": [
       "1.4563649540324082e-06"
      ]
     },
     "execution_count": 81,
     "metadata": {},
     "output_type": "execute_result"
    }
   ],
   "source": [
    "convert_copy_number_to_molarity(2779, 3.1686)"
   ]
  },
  {
   "cell_type": "code",
   "execution_count": 82,
   "metadata": {},
   "outputs": [
    {
     "data": {
      "text/plain": [
       "1.4561052063838865e-06"
      ]
     },
     "execution_count": 82,
     "metadata": {},
     "output_type": "execute_result"
    }
   ],
   "source": [
    "convert_mass_concentration_to_molarity(155045, 0.71534894, 3.1686)"
   ]
  },
  {
   "cell_type": "markdown",
   "metadata": {},
   "source": [
    "### Compartment volumes\n",
    "- TODO: What to use for volume_fl? Cytoplasmic volume or whole cell?"
   ]
  },
  {
   "cell_type": "code",
   "execution_count": 83,
   "metadata": {
    "collapsed": true
   },
   "outputs": [],
   "source": [
    "volume_dict = {'Cytosol':2.799705556,\n",
    "               'Periplasm':0.368914236}\n",
    "\n",
    "i_m_sa = 625613.4409"
   ]
  },
  {
   "cell_type": "code",
   "execution_count": 84,
   "metadata": {
    "collapsed": true
   },
   "outputs": [],
   "source": [
    "# recipe_final['MOLARITY'] = np.nan\n",
    "\n",
    "recipe_final['I_inner_membrane'] = np.nan\n",
    "recipe_final['S_inner_membrane'] = np.nan\n",
    "\n",
    "for i,r in recipe_final.iterrows():\n",
    "    compartment = r['localization_final']\n",
    "    \n",
    "    if compartment == 'Inner_Membrane':\n",
    "        recipe_final.ix[i, 'S_inner_membrane'] = r['copies_glucose']/i_m_sa\n",
    "    \n",
    "    if compartment not in volume_dict:\n",
    "        continue\n",
    "        \n",
    "    volume = volume_dict[compartment]\n",
    "    recipe_final.ix[i, 'I_inner_membrane'] = convert_copy_number_to_molarity(r['copies_glucose'], volume)"
   ]
  },
  {
   "cell_type": "markdown",
   "metadata": {},
   "source": [
    "## Recipe to send to Brett"
   ]
  },
  {
   "cell_type": "markdown",
   "metadata": {},
   "source": [
    "TODO: colors?"
   ]
  },
  {
   "cell_type": "code",
   "execution_count": 85,
   "metadata": {
    "collapsed": true
   },
   "outputs": [],
   "source": [
    "recipe_final['INCLUDE'] = np.nan\n",
    "recipe_final['COLOR'] = np.nan\n",
    "recipe_final['NOTES'] = np.nan\n",
    "\n",
    "for i,r in recipe_final.iterrows():\n",
    "    # Include things only with a proteomics measurement and a structure -- and a localization? (everything should have localization for now)\n",
    "    if (not np.isnan(r['copies_glucose'])) and pd.notnull(r['representative_structure']) and r['localization_final'] in ['Cytosol', 'Inner_Membrane']:\n",
    "        recipe_final.ix[i, 'INCLUDE'] = 'x'\n",
    "        \n",
    "recipe_final.set_index('gene').to_csv('./171205-p1_raw.csv')\n",
    "\n",
    "renamer = {'representative_structure':'Structure_ID','repseq_description':'Description', 'repseq_uniprot':'UniProt',\n",
    "           'repseq_gene_name':'NAME','gempro_mw_Da':'MW','repstruct_path':'PDB', 'repstruct_source':'Structure_source',\n",
    "           'copies_glucose':'Copy number (glucose minimal media, pH 7)', 'gene':'Gene', 'localization_final':'LOCALIZATION',\n",
    "          'localization_source':'Localization_source'}\n",
    "order = ['Gene','UniProt','NAME','Description','Structure_ID','PDB','Structure_source','MW', 'I_inner_membrane', 'S_inner_membrane',\n",
    "         'Copy number (glucose minimal media, pH 7)',\n",
    "         'LOCALIZATION','Localization_source','INCLUDE','COLOR','NOTES']\n",
    "\n",
    "# rename columns before saving to match cellpack recipe\n",
    "recipe_renamed = recipe_final.rename(columns=renamer)[order].set_index('Gene')\n",
    "recipe_renamed.to_csv('./171213-p1_menu_swissmodelonly_lower_cutoffs.csv')"
   ]
  },
  {
   "cell_type": "code",
   "execution_count": 86,
   "metadata": {},
   "outputs": [
    {
     "data": {
      "text/plain": [
       "1557"
      ]
     },
     "execution_count": 86,
     "metadata": {},
     "output_type": "execute_result"
    }
   ],
   "source": [
    "len(recipe_renamed[recipe_renamed.INCLUDE == 'x'])"
   ]
  },
  {
   "cell_type": "markdown",
   "metadata": {},
   "source": [
    "## Checking structure quality?"
   ]
  },
  {
   "cell_type": "code",
   "execution_count": 139,
   "metadata": {
    "collapsed": true
   },
   "outputs": [],
   "source": [
    "import json\n",
    "import time\n",
    "import requests\n",
    "import ssbio.utils\n",
    "\n",
    "def qmean_submit(file, outdir, email='nmih@ucsd.edu', method='qmeandisco', force_rerun=False):\n",
    "    \"\"\"Submit a PDB file to the QMEAN server queue.\n",
    "    \n",
    "    Args:\n",
    "        file: (str): Path to PDB file\n",
    "        outdir: (str): Path to output directory of JSON info\n",
    "        email: (str): Email address\n",
    "        method (str, optional): Method to use - qmean, qmeandisco (default), or qmeanbrane \n",
    "        force_rerun (bool): If file should be re-queued\n",
    "        \n",
    "    Returns:\n",
    "        str: Path to JSON info file\n",
    "    \n",
    "    \"\"\"\n",
    "    protname = op.splitext(op.basename(file))[0]\n",
    "    json_info_outfile = op.join(outdir, protname + '_qmean_info.json')\n",
    "    \n",
    "    if ssbio.utils.force_rerun(flag=force_rerun, outfile=json_info_outfile):\n",
    "        url = \"https://swissmodel.expasy.org/qmean/submit/\"\n",
    "        \n",
    "        response = requests.post(url=url, data={\"email\": email, \"method\":method}, files={\"structure\": open(file,'r')})\n",
    "        with open(json_info_outfile, 'w') as f:\n",
    "            json.dump(response.json(), f)\n",
    "            \n",
    "        print('Submitted:', protname)\n",
    "        \n",
    "    else:\n",
    "        print('Already submitted:', protname)\n",
    "        \n",
    "    return json_info_outfile\n",
    "\n",
    "def qmean_status(in_json):\n",
    "    with open(in_json, 'r') as f:\n",
    "        info = json.load(f)\n",
    "        \n",
    "    to_download = requests.get(info[\"download_url\"])\n",
    "    return (info[\"download_url\"], to_download.json()['status'])\n",
    "\n",
    "def qmean_retrieve(in_json, outdir):\n",
    "    protname = op.splitext(op.basename(in_json))[0].replace('_qmean_info', '')\n",
    "    outfile2 = op.join(outdir, protname + '_qmean_results.json')\n",
    "    \n",
    "    with open(in_json, 'r') as f:\n",
    "        info = json.load(f)\n",
    "        \n",
    "    # Actually download the score\n",
    "    to_download = requests.get(info[\"download_url\"])        \n",
    "    while to_download.json()['status'] != 'COMPLETED':\n",
    "        print('.', end='')\n",
    "        time.sleep(1)\n",
    "        to_download = requests.get(info[\"download_url\"])\n",
    "        \n",
    "    with open(outfile2, 'w') as f:\n",
    "        json.dump(to_download.json(), f)\n",
    "        \n",
    "    print(\"Downloaded:\", outfile2)\n",
    "    \n",
    "    return outfile2"
   ]
  },
  {
   "cell_type": "code",
   "execution_count": 140,
   "metadata": {},
   "outputs": [
    {
     "name": "stdout",
     "output_type": "stream",
     "text": [
      "865\n"
     ]
    }
   ],
   "source": [
    "# How many?\n",
    "i = 0\n",
    "for g in my_gempro.genes_with_a_representative_structure:\n",
    "    if g.protein.representative_structure.structure_file:\n",
    "        if not g.protein.representative_structure.is_experimental and recipe_final[recipe_final.gene == g.id].INCLUDE.values[0] == 'x':\n",
    "            i+=1\n",
    "print(i)"
   ]
  },
  {
   "cell_type": "code",
   "execution_count": 141,
   "metadata": {
    "collapsed": true
   },
   "outputs": [],
   "source": [
    "import os"
   ]
  },
  {
   "cell_type": "code",
   "execution_count": 142,
   "metadata": {
    "collapsed": true
   },
   "outputs": [],
   "source": [
    "!mkdir '/home/nathan/projects_unsynced/vizrecon_tmp/all_structures_1'"
   ]
  },
  {
   "cell_type": "code",
   "execution_count": 143,
   "metadata": {},
   "outputs": [
    {
     "data": {
      "text/plain": [
       "'/home/nathan/projects_unsynced/all_structures_1/E02147_clean-X_clean.pdb'"
      ]
     },
     "execution_count": 143,
     "metadata": {},
     "output_type": "execute_result"
    },
    {
     "data": {
      "text/plain": [
       "'/home/nathan/projects_unsynced/all_structures_1/E01113_clean-X_clean.pdb'"
      ]
     },
     "execution_count": 143,
     "metadata": {},
     "output_type": "execute_result"
    },
    {
     "data": {
      "text/plain": [
       "'/home/nathan/projects_unsynced/all_structures_1/E03934_clean-X_clean.pdb'"
      ]
     },
     "execution_count": 143,
     "metadata": {},
     "output_type": "execute_result"
    },
    {
     "data": {
      "text/plain": [
       "'/home/nathan/projects_unsynced/all_structures_1/E00435_clean-X_clean.pdb'"
      ]
     },
     "execution_count": 143,
     "metadata": {},
     "output_type": "execute_result"
    },
    {
     "data": {
      "text/plain": [
       "'/home/nathan/projects_unsynced/all_structures_1/b3952_22_289_3cb8_clean.pdb'"
      ]
     },
     "execution_count": 143,
     "metadata": {},
     "output_type": "execute_result"
    },
    {
     "data": {
      "text/plain": [
       "'/home/nathan/projects_unsynced/all_structures_1/E03348_clean-X_clean.pdb'"
      ]
     },
     "execution_count": 143,
     "metadata": {},
     "output_type": "execute_result"
    },
    {
     "data": {
      "text/plain": [
       "'/home/nathan/projects_unsynced/all_structures_1/b1855_26_317_5knk_clean.pdb'"
      ]
     },
     "execution_count": 143,
     "metadata": {},
     "output_type": "execute_result"
    },
    {
     "data": {
      "text/plain": [
       "'/home/nathan/projects_unsynced/all_structures_1/E00668_clean-X_clean.pdb'"
      ]
     },
     "execution_count": 143,
     "metadata": {},
     "output_type": "execute_result"
    },
    {
     "data": {
      "text/plain": [
       "'/home/nathan/projects_unsynced/all_structures_1/b0187_3_129_1jc5_clean.pdb'"
      ]
     },
     "execution_count": 143,
     "metadata": {},
     "output_type": "execute_result"
    },
    {
     "data": {
      "text/plain": [
       "'/home/nathan/projects_unsynced/all_structures_1/b2267_2_148_1xeb_clean.pdb'"
      ]
     },
     "execution_count": 143,
     "metadata": {},
     "output_type": "execute_result"
    },
    {
     "data": {
      "text/plain": [
       "'/home/nathan/projects_unsynced/all_structures_1/E03554_clean-X_clean.pdb'"
      ]
     },
     "execution_count": 143,
     "metadata": {},
     "output_type": "execute_result"
    },
    {
     "data": {
      "text/plain": [
       "'/home/nathan/projects_unsynced/all_structures_1/b2285_9_166_5gpn_clean.pdb'"
      ]
     },
     "execution_count": 143,
     "metadata": {},
     "output_type": "execute_result"
    },
    {
     "data": {
      "text/plain": [
       "'/home/nathan/projects_unsynced/all_structures_1/b0346_12_263_5h1a_clean.pdb'"
      ]
     },
     "execution_count": 143,
     "metadata": {},
     "output_type": "execute_result"
    },
    {
     "data": {
      "text/plain": [
       "'/home/nathan/projects_unsynced/all_structures_1/b1494_33_931_4l3t_clean.pdb'"
      ]
     },
     "execution_count": 143,
     "metadata": {},
     "output_type": "execute_result"
    },
    {
     "data": {
      "text/plain": [
       "'/home/nathan/projects_unsynced/all_structures_1/E01922_clean-X_clean.pdb'"
      ]
     },
     "execution_count": 143,
     "metadata": {},
     "output_type": "execute_result"
    },
    {
     "data": {
      "text/plain": [
       "'/home/nathan/projects_unsynced/all_structures_1/b0080_1_333_4rzs_clean.pdb'"
      ]
     },
     "execution_count": 143,
     "metadata": {},
     "output_type": "execute_result"
    },
    {
     "data": {
      "text/plain": [
       "'/home/nathan/projects_unsynced/all_structures_1/b3945_1_363_5xn8_clean.pdb'"
      ]
     },
     "execution_count": 143,
     "metadata": {},
     "output_type": "execute_result"
    },
    {
     "data": {
      "text/plain": [
       "'/home/nathan/projects_unsynced/all_structures_1/b0659_1_152_1xm5_clean.pdb'"
      ]
     },
     "execution_count": 143,
     "metadata": {},
     "output_type": "execute_result"
    },
    {
     "data": {
      "text/plain": [
       "'/home/nathan/projects_unsynced/all_structures_1/b2523_12_427_1gyt_clean.pdb'"
      ]
     },
     "execution_count": 143,
     "metadata": {},
     "output_type": "execute_result"
    },
    {
     "data": {
      "text/plain": [
       "'/home/nathan/projects_unsynced/all_structures_1/E03047_clean-X_clean.pdb'"
      ]
     },
     "execution_count": 143,
     "metadata": {},
     "output_type": "execute_result"
    },
    {
     "data": {
      "text/plain": [
       "'/home/nathan/projects_unsynced/all_structures_1/b4190_2_249_1ufo_clean.pdb'"
      ]
     },
     "execution_count": 143,
     "metadata": {},
     "output_type": "execute_result"
    },
    {
     "data": {
      "text/plain": [
       "'/home/nathan/projects_unsynced/all_structures_1/E00350_clean-X_clean.pdb'"
      ]
     },
     "execution_count": 143,
     "metadata": {},
     "output_type": "execute_result"
    },
    {
     "data": {
      "text/plain": [
       "'/home/nathan/projects_unsynced/all_structures_1/b4388_2_320_3n28_clean.pdb'"
      ]
     },
     "execution_count": 143,
     "metadata": {},
     "output_type": "execute_result"
    },
    {
     "data": {
      "text/plain": [
       "'/home/nathan/projects_unsynced/all_structures_1/b2308_4_220_4yms_clean.pdb'"
      ]
     },
     "execution_count": 143,
     "metadata": {},
     "output_type": "execute_result"
    },
    {
     "data": {
      "text/plain": [
       "'/home/nathan/projects_unsynced/all_structures_1/E00742_clean-X_clean.pdb'"
      ]
     },
     "execution_count": 143,
     "metadata": {},
     "output_type": "execute_result"
    },
    {
     "data": {
      "text/plain": [
       "'/home/nathan/projects_unsynced/all_structures_1/E02586_clean-X_clean.pdb'"
      ]
     },
     "execution_count": 143,
     "metadata": {},
     "output_type": "execute_result"
    },
    {
     "data": {
      "text/plain": [
       "'/home/nathan/projects_unsynced/all_structures_1/b0915_12_310_4lkv_clean.pdb'"
      ]
     },
     "execution_count": 143,
     "metadata": {},
     "output_type": "execute_result"
    },
    {
     "data": {
      "text/plain": [
       "'/home/nathan/projects_unsynced/all_structures_1/E03401_clean-X_clean.pdb'"
      ]
     },
     "execution_count": 143,
     "metadata": {},
     "output_type": "execute_result"
    },
    {
     "data": {
      "text/plain": [
       "'/home/nathan/projects_unsynced/all_structures_1/E00883_clean-X_clean.pdb'"
      ]
     },
     "execution_count": 143,
     "metadata": {},
     "output_type": "execute_result"
    },
    {
     "data": {
      "text/plain": [
       "'/home/nathan/projects_unsynced/all_structures_1/b4323_14_484_4im7_clean.pdb'"
      ]
     },
     "execution_count": 143,
     "metadata": {},
     "output_type": "execute_result"
    },
    {
     "data": {
      "text/plain": [
       "'/home/nathan/projects_unsynced/all_structures_1/b2955_6_376_1olt_clean.pdb'"
      ]
     },
     "execution_count": 143,
     "metadata": {},
     "output_type": "execute_result"
    },
    {
     "data": {
      "text/plain": [
       "'/home/nathan/projects_unsynced/all_structures_1/b4258_1_948_1gax_clean.pdb'"
      ]
     },
     "execution_count": 143,
     "metadata": {},
     "output_type": "execute_result"
    },
    {
     "data": {
      "text/plain": [
       "'/home/nathan/projects_unsynced/all_structures_1/b0207_3_267_3up8_clean.pdb'"
      ]
     },
     "execution_count": 143,
     "metadata": {},
     "output_type": "execute_result"
    },
    {
     "data": {
      "text/plain": [
       "'/home/nathan/projects_unsynced/all_structures_1/b2284_9_424_2fug_clean.pdb'"
      ]
     },
     "execution_count": 143,
     "metadata": {},
     "output_type": "execute_result"
    },
    {
     "data": {
      "text/plain": [
       "'/home/nathan/projects_unsynced/all_structures_1/E03045_clean-X_clean.pdb'"
      ]
     },
     "execution_count": 143,
     "metadata": {},
     "output_type": "execute_result"
    },
    {
     "data": {
      "text/plain": [
       "'/home/nathan/projects_unsynced/all_structures_1/E00951_clean-X_clean.pdb'"
      ]
     },
     "execution_count": 143,
     "metadata": {},
     "output_type": "execute_result"
    },
    {
     "data": {
      "text/plain": [
       "'/home/nathan/projects_unsynced/all_structures_1/E03993_clean-X_clean.pdb'"
      ]
     },
     "execution_count": 143,
     "metadata": {},
     "output_type": "execute_result"
    },
    {
     "data": {
      "text/plain": [
       "'/home/nathan/projects_unsynced/all_structures_1/b0757_3_382_1wuu_clean.pdb'"
      ]
     },
     "execution_count": 143,
     "metadata": {},
     "output_type": "execute_result"
    },
    {
     "data": {
      "text/plain": [
       "'/home/nathan/projects_unsynced/all_structures_1/b2513_4_187_4buj_clean.pdb'"
      ]
     },
     "execution_count": 143,
     "metadata": {},
     "output_type": "execute_result"
    },
    {
     "data": {
      "text/plain": [
       "'/home/nathan/projects_unsynced/all_structures_1/E01850_clean-X_clean.pdb'"
      ]
     },
     "execution_count": 143,
     "metadata": {},
     "output_type": "execute_result"
    },
    {
     "data": {
      "text/plain": [
       "'/home/nathan/projects_unsynced/all_structures_1/b3553_1_322_5aow_clean.pdb'"
      ]
     },
     "execution_count": 143,
     "metadata": {},
     "output_type": "execute_result"
    },
    {
     "data": {
      "text/plain": [
       "'/home/nathan/projects_unsynced/all_structures_1/E03617_clean-X_clean.pdb'"
      ]
     },
     "execution_count": 143,
     "metadata": {},
     "output_type": "execute_result"
    },
    {
     "data": {
      "text/plain": [
       "'/home/nathan/projects_unsynced/all_structures_1/KEFA_ECOLI_model1_clean-X_clean.pdb'"
      ]
     },
     "execution_count": 143,
     "metadata": {},
     "output_type": "execute_result"
    },
    {
     "data": {
      "text/plain": [
       "'/home/nathan/projects_unsynced/all_structures_1/b2351_1_304_5eke_clean.pdb'"
      ]
     },
     "execution_count": 143,
     "metadata": {},
     "output_type": "execute_result"
    },
    {
     "data": {
      "text/plain": [
       "'/home/nathan/projects_unsynced/all_structures_1/E02310_clean-X_clean.pdb'"
      ]
     },
     "execution_count": 143,
     "metadata": {},
     "output_type": "execute_result"
    },
    {
     "data": {
      "text/plain": [
       "'/home/nathan/projects_unsynced/all_structures_1/b0477_32_428_3ubo_clean.pdb'"
      ]
     },
     "execution_count": 143,
     "metadata": {},
     "output_type": "execute_result"
    },
    {
     "data": {
      "text/plain": [
       "'/home/nathan/projects_unsynced/all_structures_1/b2526_23_595_4b9q_clean.pdb'"
      ]
     },
     "execution_count": 143,
     "metadata": {},
     "output_type": "execute_result"
    },
    {
     "data": {
      "text/plain": [
       "'/home/nathan/projects_unsynced/all_structures_1/b3038_1_386_2vps_clean.pdb'"
      ]
     },
     "execution_count": 143,
     "metadata": {},
     "output_type": "execute_result"
    },
    {
     "data": {
      "text/plain": [
       "'/home/nathan/projects_unsynced/all_structures_1/E01527_clean-X_clean.pdb'"
      ]
     },
     "execution_count": 143,
     "metadata": {},
     "output_type": "execute_result"
    },
    {
     "data": {
      "text/plain": [
       "'/home/nathan/projects_unsynced/all_structures_1/E04133_clean-X_clean.pdb'"
      ]
     },
     "execution_count": 143,
     "metadata": {},
     "output_type": "execute_result"
    },
    {
     "data": {
      "text/plain": [
       "'/home/nathan/projects_unsynced/all_structures_1/E02206_clean-X_clean.pdb'"
      ]
     },
     "execution_count": 143,
     "metadata": {},
     "output_type": "execute_result"
    },
    {
     "data": {
      "text/plain": [
       "'/home/nathan/projects_unsynced/all_structures_1/GLNE_ECOLI_model1_clean-X_clean.pdb'"
      ]
     },
     "execution_count": 143,
     "metadata": {},
     "output_type": "execute_result"
    },
    {
     "data": {
      "text/plain": [
       "'/home/nathan/projects_unsynced/all_structures_1/b2398_1_103_3op9_clean.pdb'"
      ]
     },
     "execution_count": 143,
     "metadata": {},
     "output_type": "execute_result"
    },
    {
     "data": {
      "text/plain": [
       "'/home/nathan/projects_unsynced/all_structures_1/b3540_11_327_4fwi_clean.pdb'"
      ]
     },
     "execution_count": 143,
     "metadata": {},
     "output_type": "execute_result"
    },
    {
     "data": {
      "text/plain": [
       "'/home/nathan/projects_unsynced/all_structures_1/b0868_3_336_3wj7_clean.pdb'"
      ]
     },
     "execution_count": 143,
     "metadata": {},
     "output_type": "execute_result"
    },
    {
     "data": {
      "text/plain": [
       "'/home/nathan/projects_unsynced/all_structures_1/E03263_clean-X_clean.pdb'"
      ]
     },
     "execution_count": 143,
     "metadata": {},
     "output_type": "execute_result"
    },
    {
     "data": {
      "text/plain": [
       "'/home/nathan/projects_unsynced/all_structures_1/RNE_ECOLI_model1_clean-X_clean.pdb'"
      ]
     },
     "execution_count": 143,
     "metadata": {},
     "output_type": "execute_result"
    },
    {
     "data": {
      "text/plain": [
       "'/home/nathan/projects_unsynced/all_structures_1/b3105_4_297_2esn_clean.pdb'"
      ]
     },
     "execution_count": 143,
     "metadata": {},
     "output_type": "execute_result"
    },
    {
     "data": {
      "text/plain": [
       "'/home/nathan/projects_unsynced/all_structures_1/b0304_3_439_5u8v_clean.pdb'"
      ]
     },
     "execution_count": 143,
     "metadata": {},
     "output_type": "execute_result"
    },
    {
     "data": {
      "text/plain": [
       "'/home/nathan/projects_unsynced/all_structures_1/YGAM_ECOLI_model1_clean-X_clean.pdb'"
      ]
     },
     "execution_count": 143,
     "metadata": {},
     "output_type": "execute_result"
    },
    {
     "data": {
      "text/plain": [
       "'/home/nathan/projects_unsynced/all_structures_1/E02347_clean-X_clean.pdb'"
      ]
     },
     "execution_count": 143,
     "metadata": {},
     "output_type": "execute_result"
    },
    {
     "data": {
      "text/plain": [
       "'/home/nathan/projects_unsynced/all_structures_1/E02441_clean-X_clean.pdb'"
      ]
     },
     "execution_count": 143,
     "metadata": {},
     "output_type": "execute_result"
    },
    {
     "data": {
      "text/plain": [
       "'/home/nathan/projects_unsynced/all_structures_1/E02169_clean-X_clean.pdb'"
      ]
     },
     "execution_count": 143,
     "metadata": {},
     "output_type": "execute_result"
    },
    {
     "data": {
      "text/plain": [
       "'/home/nathan/projects_unsynced/all_structures_1/b1624_1_345_3kux_clean.pdb'"
      ]
     },
     "execution_count": 143,
     "metadata": {},
     "output_type": "execute_result"
    },
    {
     "data": {
      "text/plain": [
       "'/home/nathan/projects_unsynced/all_structures_1/b3498_2_678_4ka8_clean.pdb'"
      ]
     },
     "execution_count": 143,
     "metadata": {},
     "output_type": "execute_result"
    },
    {
     "data": {
      "text/plain": [
       "'/home/nathan/projects_unsynced/all_structures_1/b2977_4_134_2a2l_clean.pdb'"
      ]
     },
     "execution_count": 143,
     "metadata": {},
     "output_type": "execute_result"
    },
    {
     "data": {
      "text/plain": [
       "'/home/nathan/projects_unsynced/all_structures_1/E01452_clean-X_clean.pdb'"
      ]
     },
     "execution_count": 143,
     "metadata": {},
     "output_type": "execute_result"
    },
    {
     "data": {
      "text/plain": [
       "'/home/nathan/projects_unsynced/all_structures_1/b1939_2_322_3hjl_clean.pdb'"
      ]
     },
     "execution_count": 143,
     "metadata": {},
     "output_type": "execute_result"
    },
    {
     "data": {
      "text/plain": [
       "'/home/nathan/projects_unsynced/all_structures_1/E00119_clean-X_clean.pdb'"
      ]
     },
     "execution_count": 143,
     "metadata": {},
     "output_type": "execute_result"
    },
    {
     "data": {
      "text/plain": [
       "'/home/nathan/projects_unsynced/all_structures_1/b2426_1_255_3uve_clean.pdb'"
      ]
     },
     "execution_count": 143,
     "metadata": {},
     "output_type": "execute_result"
    },
    {
     "data": {
      "text/plain": [
       "'/home/nathan/projects_unsynced/all_structures_1/E02891_clean-X_clean.pdb'"
      ]
     },
     "execution_count": 143,
     "metadata": {},
     "output_type": "execute_result"
    },
    {
     "data": {
      "text/plain": [
       "'/home/nathan/projects_unsynced/all_structures_1/E01175_clean-X_clean.pdb'"
      ]
     },
     "execution_count": 143,
     "metadata": {},
     "output_type": "execute_result"
    },
    {
     "data": {
      "text/plain": [
       "'/home/nathan/projects_unsynced/all_structures_1/b1427_1_176_1s7f_clean.pdb'"
      ]
     },
     "execution_count": 143,
     "metadata": {},
     "output_type": "execute_result"
    },
    {
     "data": {
      "text/plain": [
       "'/home/nathan/projects_unsynced/all_structures_1/E01799_clean-X_clean.pdb'"
      ]
     },
     "execution_count": 143,
     "metadata": {},
     "output_type": "execute_result"
    },
    {
     "data": {
      "text/plain": [
       "'/home/nathan/projects_unsynced/all_structures_1/b3912_1_230_5ed4_clean.pdb'"
      ]
     },
     "execution_count": 143,
     "metadata": {},
     "output_type": "execute_result"
    },
    {
     "data": {
      "text/plain": [
       "'/home/nathan/projects_unsynced/all_structures_1/ACFD_ECOLI_model1_clean-X_clean.pdb'"
      ]
     },
     "execution_count": 143,
     "metadata": {},
     "output_type": "execute_result"
    },
    {
     "data": {
      "text/plain": [
       "'/home/nathan/projects_unsynced/all_structures_1/b4479_2_227_1h9t_clean.pdb'"
      ]
     },
     "execution_count": 143,
     "metadata": {},
     "output_type": "execute_result"
    },
    {
     "data": {
      "text/plain": [
       "'/home/nathan/projects_unsynced/all_structures_1/E02445_clean-X_clean.pdb'"
      ]
     },
     "execution_count": 143,
     "metadata": {},
     "output_type": "execute_result"
    },
    {
     "data": {
      "text/plain": [
       "'/home/nathan/projects_unsynced/all_structures_1/b3032_10_262_3ib7_clean.pdb'"
      ]
     },
     "execution_count": 143,
     "metadata": {},
     "output_type": "execute_result"
    },
    {
     "data": {
      "text/plain": [
       "'/home/nathan/projects_unsynced/all_structures_1/b2149_13_494_5kpd_clean.pdb'"
      ]
     },
     "execution_count": 143,
     "metadata": {},
     "output_type": "execute_result"
    },
    {
     "data": {
      "text/plain": [
       "'/home/nathan/projects_unsynced/all_structures_1/E00630_clean-X_clean.pdb'"
      ]
     },
     "execution_count": 143,
     "metadata": {},
     "output_type": "execute_result"
    },
    {
     "data": {
      "text/plain": [
       "'/home/nathan/projects_unsynced/all_structures_1/b1275_1_293_4x6g_clean.pdb'"
      ]
     },
     "execution_count": 143,
     "metadata": {},
     "output_type": "execute_result"
    },
    {
     "data": {
      "text/plain": [
       "'/home/nathan/projects_unsynced/all_structures_1/b3934_11_341_1vpw_clean.pdb'"
      ]
     },
     "execution_count": 143,
     "metadata": {},
     "output_type": "execute_result"
    },
    {
     "data": {
      "text/plain": [
       "'/home/nathan/projects_unsynced/all_structures_1/b0742_40_260_4bt8_clean.pdb'"
      ]
     },
     "execution_count": 143,
     "metadata": {},
     "output_type": "execute_result"
    },
    {
     "data": {
      "text/plain": [
       "'/home/nathan/projects_unsynced/all_structures_1/b2684_7_164_2fbk_clean.pdb'"
      ]
     },
     "execution_count": 143,
     "metadata": {},
     "output_type": "execute_result"
    },
    {
     "data": {
      "text/plain": [
       "'/home/nathan/projects_unsynced/all_structures_1/E03593_clean-X_clean.pdb'"
      ]
     },
     "execution_count": 143,
     "metadata": {},
     "output_type": "execute_result"
    },
    {
     "data": {
      "text/plain": [
       "'/home/nathan/projects_unsynced/all_structures_1/b3957_6_382_2qyv_clean.pdb'"
      ]
     },
     "execution_count": 143,
     "metadata": {},
     "output_type": "execute_result"
    },
    {
     "data": {
      "text/plain": [
       "'/home/nathan/projects_unsynced/all_structures_1/RNR_ECOLI_model1_clean-X_clean.pdb'"
      ]
     },
     "execution_count": 143,
     "metadata": {},
     "output_type": "execute_result"
    },
    {
     "data": {
      "text/plain": [
       "'/home/nathan/projects_unsynced/all_structures_1/b3608_8_331_3k96_clean.pdb'"
      ]
     },
     "execution_count": 143,
     "metadata": {},
     "output_type": "execute_result"
    },
    {
     "data": {
      "text/plain": [
       "'/home/nathan/projects_unsynced/all_structures_1/b4006_6_529_1thz_clean.pdb'"
      ]
     },
     "execution_count": 143,
     "metadata": {},
     "output_type": "execute_result"
    },
    {
     "data": {
      "text/plain": [
       "'/home/nathan/projects_unsynced/all_structures_1/b2193_6_213_2gwr_clean.pdb'"
      ]
     },
     "execution_count": 143,
     "metadata": {},
     "output_type": "execute_result"
    },
    {
     "data": {
      "text/plain": [
       "'/home/nathan/projects_unsynced/all_structures_1/E02212_clean-X_clean.pdb'"
      ]
     },
     "execution_count": 143,
     "metadata": {},
     "output_type": "execute_result"
    },
    {
     "data": {
      "text/plain": [
       "'/home/nathan/projects_unsynced/all_structures_1/b0887_7_587_5mkk_clean.pdb'"
      ]
     },
     "execution_count": 143,
     "metadata": {},
     "output_type": "execute_result"
    },
    {
     "data": {
      "text/plain": [
       "'/home/nathan/projects_unsynced/all_structures_1/E03203_clean-X_clean.pdb'"
      ]
     },
     "execution_count": 143,
     "metadata": {},
     "output_type": "execute_result"
    },
    {
     "data": {
      "text/plain": [
       "'/home/nathan/projects_unsynced/all_structures_1/b4280_2_364_4gqa_clean.pdb'"
      ]
     },
     "execution_count": 143,
     "metadata": {},
     "output_type": "execute_result"
    },
    {
     "data": {
      "text/plain": [
       "'/home/nathan/projects_unsynced/all_structures_1/b0662_5_391_4n9x_clean.pdb'"
      ]
     },
     "execution_count": 143,
     "metadata": {},
     "output_type": "execute_result"
    },
    {
     "data": {
      "text/plain": [
       "'/home/nathan/projects_unsynced/all_structures_1/E01725_clean-X_clean.pdb'"
      ]
     },
     "execution_count": 143,
     "metadata": {},
     "output_type": "execute_result"
    },
    {
     "data": {
      "text/plain": [
       "'/home/nathan/projects_unsynced/all_structures_1/b1251_1_98_1mwq_clean.pdb'"
      ]
     },
     "execution_count": 143,
     "metadata": {},
     "output_type": "execute_result"
    },
    {
     "data": {
      "text/plain": [
       "'/home/nathan/projects_unsynced/all_structures_1/b3820_2_155_3e8p_clean.pdb'"
      ]
     },
     "execution_count": 143,
     "metadata": {},
     "output_type": "execute_result"
    },
    {
     "data": {
      "text/plain": [
       "'/home/nathan/projects_unsynced/all_structures_1/E01394_clean-X_clean.pdb'"
      ]
     },
     "execution_count": 143,
     "metadata": {},
     "output_type": "execute_result"
    },
    {
     "data": {
      "text/plain": [
       "'/home/nathan/projects_unsynced/all_structures_2/E03225_clean-X_clean.pdb'"
      ]
     },
     "execution_count": 143,
     "metadata": {},
     "output_type": "execute_result"
    },
    {
     "data": {
      "text/plain": [
       "'/home/nathan/projects_unsynced/all_structures_2/E02982_clean-X_clean.pdb'"
      ]
     },
     "execution_count": 143,
     "metadata": {},
     "output_type": "execute_result"
    },
    {
     "data": {
      "text/plain": [
       "'/home/nathan/projects_unsynced/all_structures_2/E00615_clean-X_clean.pdb'"
      ]
     },
     "execution_count": 143,
     "metadata": {},
     "output_type": "execute_result"
    },
    {
     "data": {
      "text/plain": [
       "'/home/nathan/projects_unsynced/all_structures_2/YJIY_ECOLI_model1_clean-X_clean.pdb'"
      ]
     },
     "execution_count": 143,
     "metadata": {},
     "output_type": "execute_result"
    },
    {
     "data": {
      "text/plain": [
       "'/home/nathan/projects_unsynced/all_structures_2/E02058_clean-X_clean.pdb'"
      ]
     },
     "execution_count": 143,
     "metadata": {},
     "output_type": "execute_result"
    },
    {
     "data": {
      "text/plain": [
       "'/home/nathan/projects_unsynced/all_structures_2/b0571_1_224_4s04_clean.pdb'"
      ]
     },
     "execution_count": 143,
     "metadata": {},
     "output_type": "execute_result"
    },
    {
     "data": {
      "text/plain": [
       "'/home/nathan/projects_unsynced/all_structures_2/b2567_6_225_4m2z_clean.pdb'"
      ]
     },
     "execution_count": 143,
     "metadata": {},
     "output_type": "execute_result"
    },
    {
     "data": {
      "text/plain": [
       "'/home/nathan/projects_unsynced/all_structures_2/b4383_2_407_4lre_clean.pdb'"
      ]
     },
     "execution_count": 143,
     "metadata": {},
     "output_type": "execute_result"
    },
    {
     "data": {
      "text/plain": [
       "'/home/nathan/projects_unsynced/all_structures_2/b3942_12_725_5cjh_clean.pdb'"
      ]
     },
     "execution_count": 143,
     "metadata": {},
     "output_type": "execute_result"
    },
    {
     "data": {
      "text/plain": [
       "'/home/nathan/projects_unsynced/all_structures_2/E00531_clean-X_clean.pdb'"
      ]
     },
     "execution_count": 143,
     "metadata": {},
     "output_type": "execute_result"
    },
    {
     "data": {
      "text/plain": [
       "'/home/nathan/projects_unsynced/all_structures_2/E01866_clean-X_clean.pdb'"
      ]
     },
     "execution_count": 143,
     "metadata": {},
     "output_type": "execute_result"
    },
    {
     "data": {
      "text/plain": [
       "'/home/nathan/projects_unsynced/all_structures_2/b4135_2_183_3g7r_clean.pdb'"
      ]
     },
     "execution_count": 143,
     "metadata": {},
     "output_type": "execute_result"
    },
    {
     "data": {
      "text/plain": [
       "'/home/nathan/projects_unsynced/all_structures_2/YDIJ_ECOLI_model1_clean-X_clean.pdb'"
      ]
     },
     "execution_count": 143,
     "metadata": {},
     "output_type": "execute_result"
    },
    {
     "data": {
      "text/plain": [
       "'/home/nathan/projects_unsynced/all_structures_2/E02911_clean-X_clean.pdb'"
      ]
     },
     "execution_count": 143,
     "metadata": {},
     "output_type": "execute_result"
    },
    {
     "data": {
      "text/plain": [
       "'/home/nathan/projects_unsynced/all_structures_2/b4077_3_419_4ky0_clean.pdb'"
      ]
     },
     "execution_count": 143,
     "metadata": {},
     "output_type": "execute_result"
    },
    {
     "data": {
      "text/plain": [
       "'/home/nathan/projects_unsynced/all_structures_2/E03036_clean-X_clean.pdb'"
      ]
     },
     "execution_count": 143,
     "metadata": {},
     "output_type": "execute_result"
    },
    {
     "data": {
      "text/plain": [
       "'/home/nathan/projects_unsynced/all_structures_2/b0737_4_222_5sv0_clean.pdb'"
      ]
     },
     "execution_count": 143,
     "metadata": {},
     "output_type": "execute_result"
    },
    {
     "data": {
      "text/plain": [
       "'/home/nathan/projects_unsynced/all_structures_2/E00885_clean-X_clean.pdb'"
      ]
     },
     "execution_count": 143,
     "metadata": {},
     "output_type": "execute_result"
    },
    {
     "data": {
      "text/plain": [
       "'/home/nathan/projects_unsynced/all_structures_2/E02915_clean-X_clean.pdb'"
      ]
     },
     "execution_count": 143,
     "metadata": {},
     "output_type": "execute_result"
    },
    {
     "data": {
      "text/plain": [
       "'/home/nathan/projects_unsynced/all_structures_2/b1108_2_179_4fle_clean.pdb'"
      ]
     },
     "execution_count": 143,
     "metadata": {},
     "output_type": "execute_result"
    },
    {
     "data": {
      "text/plain": [
       "'/home/nathan/projects_unsynced/all_structures_2/b2171_1_189_1ueb_clean.pdb'"
      ]
     },
     "execution_count": 143,
     "metadata": {},
     "output_type": "execute_result"
    },
    {
     "data": {
      "text/plain": [
       "'/home/nathan/projects_unsynced/all_structures_2/E01911_clean-X_clean.pdb'"
      ]
     },
     "execution_count": 143,
     "metadata": {},
     "output_type": "execute_result"
    },
    {
     "data": {
      "text/plain": [
       "'/home/nathan/projects_unsynced/all_structures_2/E02240_clean-X_clean.pdb'"
      ]
     },
     "execution_count": 143,
     "metadata": {},
     "output_type": "execute_result"
    },
    {
     "data": {
      "text/plain": [
       "'/home/nathan/projects_unsynced/all_structures_2/E02887_clean-X_clean.pdb'"
      ]
     },
     "execution_count": 143,
     "metadata": {},
     "output_type": "execute_result"
    },
    {
     "data": {
      "text/plain": [
       "'/home/nathan/projects_unsynced/all_structures_2/b0810_1_217_4yms_clean.pdb'"
      ]
     },
     "execution_count": 143,
     "metadata": {},
     "output_type": "execute_result"
    },
    {
     "data": {
      "text/plain": [
       "'/home/nathan/projects_unsynced/all_structures_2/E03143_clean-X_clean.pdb'"
      ]
     },
     "execution_count": 143,
     "metadata": {},
     "output_type": "execute_result"
    },
    {
     "data": {
      "text/plain": [
       "'/home/nathan/projects_unsynced/all_structures_2/b1086_8_316_2ist_clean.pdb'"
      ]
     },
     "execution_count": 143,
     "metadata": {},
     "output_type": "execute_result"
    },
    {
     "data": {
      "text/plain": [
       "'/home/nathan/projects_unsynced/all_structures_2/E00895_clean-X_clean.pdb'"
      ]
     },
     "execution_count": 143,
     "metadata": {},
     "output_type": "execute_result"
    },
    {
     "data": {
      "text/plain": [
       "'/home/nathan/projects_unsynced/all_structures_2/E02702_clean-X_clean.pdb'"
      ]
     },
     "execution_count": 143,
     "metadata": {},
     "output_type": "execute_result"
    },
    {
     "data": {
      "text/plain": [
       "'/home/nathan/projects_unsynced/all_structures_2/b3164_1_695_4aim_clean.pdb'"
      ]
     },
     "execution_count": 143,
     "metadata": {},
     "output_type": "execute_result"
    },
    {
     "data": {
      "text/plain": [
       "'/home/nathan/projects_unsynced/all_structures_2/E01321_clean-X_clean.pdb'"
      ]
     },
     "execution_count": 143,
     "metadata": {},
     "output_type": "execute_result"
    },
    {
     "data": {
      "text/plain": [
       "'/home/nathan/projects_unsynced/all_structures_2/E01248_clean-X_clean.pdb'"
      ]
     },
     "execution_count": 143,
     "metadata": {},
     "output_type": "execute_result"
    },
    {
     "data": {
      "text/plain": [
       "'/home/nathan/projects_unsynced/all_structures_2/b1778_3_131_2k8d_clean.pdb'"
      ]
     },
     "execution_count": 143,
     "metadata": {},
     "output_type": "execute_result"
    },
    {
     "data": {
      "text/plain": [
       "'/home/nathan/projects_unsynced/all_structures_2/E02789_clean-X_clean.pdb'"
      ]
     },
     "execution_count": 143,
     "metadata": {},
     "output_type": "execute_result"
    },
    {
     "data": {
      "text/plain": [
       "'/home/nathan/projects_unsynced/all_structures_2/b1810_1_99_2jn8_clean.pdb'"
      ]
     },
     "execution_count": 143,
     "metadata": {},
     "output_type": "execute_result"
    },
    {
     "data": {
      "text/plain": [
       "'/home/nathan/projects_unsynced/all_structures_2/E01971_clean-X_clean.pdb'"
      ]
     },
     "execution_count": 143,
     "metadata": {},
     "output_type": "execute_result"
    },
    {
     "data": {
      "text/plain": [
       "'/home/nathan/projects_unsynced/all_structures_2/DPO1_ECOLI_model1_clean-X_clean.pdb'"
      ]
     },
     "execution_count": 143,
     "metadata": {},
     "output_type": "execute_result"
    },
    {
     "data": {
      "text/plain": [
       "'/home/nathan/projects_unsynced/all_structures_2/E00856_clean-X_clean.pdb'"
      ]
     },
     "execution_count": 143,
     "metadata": {},
     "output_type": "execute_result"
    },
    {
     "data": {
      "text/plain": [
       "'/home/nathan/projects_unsynced/all_structures_2/E00443_clean-X_clean.pdb'"
      ]
     },
     "execution_count": 143,
     "metadata": {},
     "output_type": "execute_result"
    },
    {
     "data": {
      "text/plain": [
       "'/home/nathan/projects_unsynced/all_structures_2/b3461_12_283_5uh6_clean.pdb'"
      ]
     },
     "execution_count": 143,
     "metadata": {},
     "output_type": "execute_result"
    },
    {
     "data": {
      "text/plain": [
       "'/home/nathan/projects_unsynced/all_structures_2/b0506_22_266_2xrn_clean.pdb'"
      ]
     },
     "execution_count": 143,
     "metadata": {},
     "output_type": "execute_result"
    },
    {
     "data": {
      "text/plain": [
       "'/home/nathan/projects_unsynced/all_structures_2/b2515_6_356_3noy_clean.pdb'"
      ]
     },
     "execution_count": 143,
     "metadata": {},
     "output_type": "execute_result"
    },
    {
     "data": {
      "text/plain": [
       "'/home/nathan/projects_unsynced/all_structures_2/b2012_3_75_1jdq_clean.pdb'"
      ]
     },
     "execution_count": 143,
     "metadata": {},
     "output_type": "execute_result"
    },
    {
     "data": {
      "text/plain": [
       "'/home/nathan/projects_unsynced/all_structures_2/E02381_clean-X_clean.pdb'"
      ]
     },
     "execution_count": 143,
     "metadata": {},
     "output_type": "execute_result"
    },
    {
     "data": {
      "text/plain": [
       "'/home/nathan/projects_unsynced/all_structures_2/E03020_clean-X_clean.pdb'"
      ]
     },
     "execution_count": 143,
     "metadata": {},
     "output_type": "execute_result"
    },
    {
     "data": {
      "text/plain": [
       "'/home/nathan/projects_unsynced/all_structures_2/b2608_15_182_3h9n_clean.pdb'"
      ]
     },
     "execution_count": 143,
     "metadata": {},
     "output_type": "execute_result"
    },
    {
     "data": {
      "text/plain": [
       "'/home/nathan/projects_unsynced/all_structures_2/HYFR_ECOLI_model1_clean-X_clean.pdb'"
      ]
     },
     "execution_count": 143,
     "metadata": {},
     "output_type": "execute_result"
    },
    {
     "data": {
      "text/plain": [
       "'/home/nathan/projects_unsynced/all_structures_2/b0356_1_368_3qj5_clean.pdb'"
      ]
     },
     "execution_count": 143,
     "metadata": {},
     "output_type": "execute_result"
    },
    {
     "data": {
      "text/plain": [
       "'/home/nathan/projects_unsynced/all_structures_2/b0472_3_199_3vdp_clean.pdb'"
      ]
     },
     "execution_count": 143,
     "metadata": {},
     "output_type": "execute_result"
    },
    {
     "data": {
      "text/plain": [
       "'/home/nathan/projects_unsynced/all_structures_2/E02521_clean-X_clean.pdb'"
      ]
     },
     "execution_count": 143,
     "metadata": {},
     "output_type": "execute_result"
    },
    {
     "data": {
      "text/plain": [
       "'/home/nathan/projects_unsynced/all_structures_2/b2922_27_233_4hvz_clean.pdb'"
      ]
     },
     "execution_count": 143,
     "metadata": {},
     "output_type": "execute_result"
    },
    {
     "data": {
      "text/plain": [
       "'/home/nathan/projects_unsynced/all_structures_2/E00405_clean-X_clean.pdb'"
      ]
     },
     "execution_count": 143,
     "metadata": {},
     "output_type": "execute_result"
    },
    {
     "data": {
      "text/plain": [
       "'/home/nathan/projects_unsynced/all_structures_2/b2124_5_150_4e53_clean.pdb'"
      ]
     },
     "execution_count": 143,
     "metadata": {},
     "output_type": "execute_result"
    },
    {
     "data": {
      "text/plain": [
       "'/home/nathan/projects_unsynced/all_structures_2/E00345_clean-X_clean.pdb'"
      ]
     },
     "execution_count": 143,
     "metadata": {},
     "output_type": "execute_result"
    },
    {
     "data": {
      "text/plain": [
       "'/home/nathan/projects_unsynced/all_structures_2/b0809_1_239_4u02_clean.pdb'"
      ]
     },
     "execution_count": 143,
     "metadata": {},
     "output_type": "execute_result"
    },
    {
     "data": {
      "text/plain": [
       "'/home/nathan/projects_unsynced/all_structures_2/E01115_clean-X_clean.pdb'"
      ]
     },
     "execution_count": 143,
     "metadata": {},
     "output_type": "execute_result"
    },
    {
     "data": {
      "text/plain": [
       "'/home/nathan/projects_unsynced/all_structures_2/GYRB_ECOLI_model1_clean-X_clean.pdb'"
      ]
     },
     "execution_count": 143,
     "metadata": {},
     "output_type": "execute_result"
    },
    {
     "data": {
      "text/plain": [
       "'/home/nathan/projects_unsynced/all_structures_2/b2472_6_374_4ppz_clean.pdb'"
      ]
     },
     "execution_count": 143,
     "metadata": {},
     "output_type": "execute_result"
    },
    {
     "data": {
      "text/plain": [
       "'/home/nathan/projects_unsynced/all_structures_2/b3260_15_320_1vhn_clean.pdb'"
      ]
     },
     "execution_count": 143,
     "metadata": {},
     "output_type": "execute_result"
    },
    {
     "data": {
      "text/plain": [
       "'/home/nathan/projects_unsynced/all_structures_2/b0072_3_462_4kp2_clean.pdb'"
      ]
     },
     "execution_count": 143,
     "metadata": {},
     "output_type": "execute_result"
    },
    {
     "data": {
      "text/plain": [
       "'/home/nathan/projects_unsynced/all_structures_2/E02092_clean-X_clean.pdb'"
      ]
     },
     "execution_count": 143,
     "metadata": {},
     "output_type": "execute_result"
    },
    {
     "data": {
      "text/plain": [
       "'/home/nathan/projects_unsynced/all_structures_2/b0183_6_195_3o3f_clean.pdb'"
      ]
     },
     "execution_count": 143,
     "metadata": {},
     "output_type": "execute_result"
    },
    {
     "data": {
      "text/plain": [
       "'/home/nathan/projects_unsynced/all_structures_2/ATZN_ECOLI_model1_clean-X_clean.pdb'"
      ]
     },
     "execution_count": 143,
     "metadata": {},
     "output_type": "execute_result"
    },
    {
     "data": {
      "text/plain": [
       "'/home/nathan/projects_unsynced/all_structures_2/b3755_10_228_4p96_clean.pdb'"
      ]
     },
     "execution_count": 143,
     "metadata": {},
     "output_type": "execute_result"
    },
    {
     "data": {
      "text/plain": [
       "'/home/nathan/projects_unsynced/all_structures_2/E00002_clean-X_clean.pdb'"
      ]
     },
     "execution_count": 143,
     "metadata": {},
     "output_type": "execute_result"
    },
    {
     "data": {
      "text/plain": [
       "'/home/nathan/projects_unsynced/all_structures_2/b3075_3_327_1vpw_clean.pdb'"
      ]
     },
     "execution_count": 143,
     "metadata": {},
     "output_type": "execute_result"
    },
    {
     "data": {
      "text/plain": [
       "'/home/nathan/projects_unsynced/all_structures_2/b2783_2_76_1ub4_clean.pdb'"
      ]
     },
     "execution_count": 143,
     "metadata": {},
     "output_type": "execute_result"
    },
    {
     "data": {
      "text/plain": [
       "'/home/nathan/projects_unsynced/all_structures_2/b4403_2_227_3ilk_clean.pdb'"
      ]
     },
     "execution_count": 143,
     "metadata": {},
     "output_type": "execute_result"
    },
    {
     "data": {
      "text/plain": [
       "'/home/nathan/projects_unsynced/all_structures_2/E04111_clean-X_clean.pdb'"
      ]
     },
     "execution_count": 143,
     "metadata": {},
     "output_type": "execute_result"
    },
    {
     "data": {
      "text/plain": [
       "'/home/nathan/projects_unsynced/all_structures_2/b3385_10_236_2hsz_clean.pdb'"
      ]
     },
     "execution_count": 143,
     "metadata": {},
     "output_type": "execute_result"
    },
    {
     "data": {
      "text/plain": [
       "'/home/nathan/projects_unsynced/all_structures_2/E01697_clean-X_clean.pdb'"
      ]
     },
     "execution_count": 143,
     "metadata": {},
     "output_type": "execute_result"
    },
    {
     "data": {
      "text/plain": [
       "'/home/nathan/projects_unsynced/all_structures_2/E02167_clean-X_clean.pdb'"
      ]
     },
     "execution_count": 143,
     "metadata": {},
     "output_type": "execute_result"
    },
    {
     "data": {
      "text/plain": [
       "'/home/nathan/projects_unsynced/all_structures_2/b2480_3_156_5iph_clean.pdb'"
      ]
     },
     "execution_count": 143,
     "metadata": {},
     "output_type": "execute_result"
    },
    {
     "data": {
      "text/plain": [
       "'/home/nathan/projects_unsynced/all_structures_2/E00845_clean-X_clean.pdb'"
      ]
     },
     "execution_count": 143,
     "metadata": {},
     "output_type": "execute_result"
    },
    {
     "data": {
      "text/plain": [
       "'/home/nathan/projects_unsynced/all_structures_2/b2697_7_849_3wqy_clean.pdb'"
      ]
     },
     "execution_count": 143,
     "metadata": {},
     "output_type": "execute_result"
    },
    {
     "data": {
      "text/plain": [
       "'/home/nathan/projects_unsynced/all_structures_2/E02163_clean-X_clean.pdb'"
      ]
     },
     "execution_count": 143,
     "metadata": {},
     "output_type": "execute_result"
    },
    {
     "data": {
      "text/plain": [
       "'/home/nathan/projects_unsynced/all_structures_2/E01365_clean-X_clean.pdb'"
      ]
     },
     "execution_count": 143,
     "metadata": {},
     "output_type": "execute_result"
    },
    {
     "data": {
      "text/plain": [
       "'/home/nathan/projects_unsynced/all_structures_2/E01849_clean-X_clean.pdb'"
      ]
     },
     "execution_count": 143,
     "metadata": {},
     "output_type": "execute_result"
    },
    {
     "data": {
      "text/plain": [
       "'/home/nathan/projects_unsynced/all_structures_2/E01756_clean-X_clean.pdb'"
      ]
     },
     "execution_count": 143,
     "metadata": {},
     "output_type": "execute_result"
    },
    {
     "data": {
      "text/plain": [
       "'/home/nathan/projects_unsynced/all_structures_2/E00939_clean-X_clean.pdb'"
      ]
     },
     "execution_count": 143,
     "metadata": {},
     "output_type": "execute_result"
    },
    {
     "data": {
      "text/plain": [
       "'/home/nathan/projects_unsynced/all_structures_2/b3961_1_291_4x6g_clean.pdb'"
      ]
     },
     "execution_count": 143,
     "metadata": {},
     "output_type": "execute_result"
    },
    {
     "data": {
      "text/plain": [
       "'/home/nathan/projects_unsynced/all_structures_2/E00169_clean-X_clean.pdb'"
      ]
     },
     "execution_count": 143,
     "metadata": {},
     "output_type": "execute_result"
    },
    {
     "data": {
      "text/plain": [
       "'/home/nathan/projects_unsynced/all_structures_2/RCSD_ECOLI_model1_clean-X_clean.pdb'"
      ]
     },
     "execution_count": 143,
     "metadata": {},
     "output_type": "execute_result"
    },
    {
     "data": {
      "text/plain": [
       "'/home/nathan/projects_unsynced/all_structures_2/b3221_1_153_1s4c_clean.pdb'"
      ]
     },
     "execution_count": 143,
     "metadata": {},
     "output_type": "execute_result"
    },
    {
     "data": {
      "text/plain": [
       "'/home/nathan/projects_unsynced/all_structures_2/b2470_1_1030_3w9j_clean.pdb'"
      ]
     },
     "execution_count": 143,
     "metadata": {},
     "output_type": "execute_result"
    },
    {
     "data": {
      "text/plain": [
       "'/home/nathan/projects_unsynced/all_structures_2/T1RK_ECOLI_model1_clean-X_clean.pdb'"
      ]
     },
     "execution_count": 143,
     "metadata": {},
     "output_type": "execute_result"
    },
    {
     "data": {
      "text/plain": [
       "'/home/nathan/projects_unsynced/all_structures_2/b1854_5_480_2e28_clean.pdb'"
      ]
     },
     "execution_count": 143,
     "metadata": {},
     "output_type": "execute_result"
    },
    {
     "data": {
      "text/plain": [
       "'/home/nathan/projects_unsynced/all_structures_2/b0930_1_465_4wj3_clean.pdb'"
      ]
     },
     "execution_count": 143,
     "metadata": {},
     "output_type": "execute_result"
    },
    {
     "data": {
      "text/plain": [
       "'/home/nathan/projects_unsynced/all_structures_2/E00555_clean-X_clean.pdb'"
      ]
     },
     "execution_count": 143,
     "metadata": {},
     "output_type": "execute_result"
    },
    {
     "data": {
      "text/plain": [
       "'/home/nathan/projects_unsynced/all_structures_2/E00365_clean-X_clean.pdb'"
      ]
     },
     "execution_count": 143,
     "metadata": {},
     "output_type": "execute_result"
    },
    {
     "data": {
      "text/plain": [
       "'/home/nathan/projects_unsynced/all_structures_2/b3541_2_320_4fwi_clean.pdb'"
      ]
     },
     "execution_count": 143,
     "metadata": {},
     "output_type": "execute_result"
    },
    {
     "data": {
      "text/plain": [
       "'/home/nathan/projects_unsynced/all_structures_2/b1702_7_791_5jvl_clean.pdb'"
      ]
     },
     "execution_count": 143,
     "metadata": {},
     "output_type": "execute_result"
    },
    {
     "data": {
      "text/plain": [
       "'/home/nathan/projects_unsynced/all_structures_2/b0886_5_571_4ksc_clean.pdb'"
      ]
     },
     "execution_count": 143,
     "metadata": {},
     "output_type": "execute_result"
    },
    {
     "data": {
      "text/plain": [
       "'/home/nathan/projects_unsynced/all_structures_2/b2329_1_354_4lj2_clean.pdb'"
      ]
     },
     "execution_count": 143,
     "metadata": {},
     "output_type": "execute_result"
    },
    {
     "data": {
      "text/plain": [
       "'/home/nathan/projects_unsynced/all_structures_2/b1397_3_399_1ulq_clean.pdb'"
      ]
     },
     "execution_count": 143,
     "metadata": {},
     "output_type": "execute_result"
    },
    {
     "data": {
      "text/plain": [
       "'/home/nathan/projects_unsynced/all_structures_2/b3724_11_220_4q25_clean.pdb'"
      ]
     },
     "execution_count": 143,
     "metadata": {},
     "output_type": "execute_result"
    },
    {
     "data": {
      "text/plain": [
       "'/home/nathan/projects_unsynced/all_structures_2/b0652_1_241_4u02_clean.pdb'"
      ]
     },
     "execution_count": 143,
     "metadata": {},
     "output_type": "execute_result"
    },
    {
     "data": {
      "text/plain": [
       "'/home/nathan/projects_unsynced/all_structures_2/E02641_clean-X_clean.pdb'"
      ]
     },
     "execution_count": 143,
     "metadata": {},
     "output_type": "execute_result"
    },
    {
     "data": {
      "text/plain": [
       "'/home/nathan/projects_unsynced/all_structures_2/b2393_2_400_5l27_clean.pdb'"
      ]
     },
     "execution_count": 143,
     "metadata": {},
     "output_type": "execute_result"
    },
    {
     "data": {
      "text/plain": [
       "'/home/nathan/projects_unsynced/all_structures_2/AAS_ECOLI_model1_clean-X_clean.pdb'"
      ]
     },
     "execution_count": 143,
     "metadata": {},
     "output_type": "execute_result"
    },
    {
     "data": {
      "text/plain": [
       "'/home/nathan/projects_unsynced/all_structures_3/b2818_9_442_3d2p_clean.pdb'"
      ]
     },
     "execution_count": 143,
     "metadata": {},
     "output_type": "execute_result"
    },
    {
     "data": {
      "text/plain": [
       "'/home/nathan/projects_unsynced/all_structures_3/E02452_clean-X_clean.pdb'"
      ]
     },
     "execution_count": 143,
     "metadata": {},
     "output_type": "execute_result"
    },
    {
     "data": {
      "text/plain": [
       "'/home/nathan/projects_unsynced/all_structures_3/PTM3C_ECOLI_model1_clean-X_clean.pdb'"
      ]
     },
     "execution_count": 143,
     "metadata": {},
     "output_type": "execute_result"
    },
    {
     "data": {
      "text/plain": [
       "'/home/nathan/projects_unsynced/all_structures_3/b1426_1_72_1zhc_clean.pdb'"
      ]
     },
     "execution_count": 143,
     "metadata": {},
     "output_type": "execute_result"
    },
    {
     "data": {
      "text/plain": [
       "'/home/nathan/projects_unsynced/all_structures_3/E00681_clean-X_clean.pdb'"
      ]
     },
     "execution_count": 143,
     "metadata": {},
     "output_type": "execute_result"
    },
    {
     "data": {
      "text/plain": [
       "'/home/nathan/projects_unsynced/all_structures_3/E01247_clean-X_clean.pdb'"
      ]
     },
     "execution_count": 143,
     "metadata": {},
     "output_type": "execute_result"
    },
    {
     "data": {
      "text/plain": [
       "'/home/nathan/projects_unsynced/all_structures_3/b4013_2_297_2h2w_clean.pdb'"
      ]
     },
     "execution_count": 143,
     "metadata": {},
     "output_type": "execute_result"
    },
    {
     "data": {
      "text/plain": [
       "'/home/nathan/projects_unsynced/all_structures_3/b2400_2_466_2cfo_clean.pdb'"
      ]
     },
     "execution_count": 143,
     "metadata": {},
     "output_type": "execute_result"
    },
    {
     "data": {
      "text/plain": [
       "'/home/nathan/projects_unsynced/all_structures_3/b0766_2_271_4dw8_clean.pdb'"
      ]
     },
     "execution_count": 143,
     "metadata": {},
     "output_type": "execute_result"
    },
    {
     "data": {
      "text/plain": [
       "'/home/nathan/projects_unsynced/all_structures_3/b2319_2_336_2r00_clean.pdb'"
      ]
     },
     "execution_count": 143,
     "metadata": {},
     "output_type": "execute_result"
    },
    {
     "data": {
      "text/plain": [
       "'/home/nathan/projects_unsynced/all_structures_3/E01889_clean-X_clean.pdb'"
      ]
     },
     "execution_count": 143,
     "metadata": {},
     "output_type": "execute_result"
    },
    {
     "data": {
      "text/plain": [
       "'/home/nathan/projects_unsynced/all_structures_3/E01515_clean-X_clean.pdb'"
      ]
     },
     "execution_count": 143,
     "metadata": {},
     "output_type": "execute_result"
    },
    {
     "data": {
      "text/plain": [
       "'/home/nathan/projects_unsynced/all_structures_3/E02122_clean-X_clean.pdb'"
      ]
     },
     "execution_count": 143,
     "metadata": {},
     "output_type": "execute_result"
    },
    {
     "data": {
      "text/plain": [
       "'/home/nathan/projects_unsynced/all_structures_3/E00583_clean-X_clean.pdb'"
      ]
     },
     "execution_count": 143,
     "metadata": {},
     "output_type": "execute_result"
    },
    {
     "data": {
      "text/plain": [
       "'/home/nathan/projects_unsynced/all_structures_3/E03630_clean-X_clean.pdb'"
      ]
     },
     "execution_count": 143,
     "metadata": {},
     "output_type": "execute_result"
    },
    {
     "data": {
      "text/plain": [
       "'/home/nathan/projects_unsynced/all_structures_3/E02168_clean-X_clean.pdb'"
      ]
     },
     "execution_count": 143,
     "metadata": {},
     "output_type": "execute_result"
    },
    {
     "data": {
      "text/plain": [
       "'/home/nathan/projects_unsynced/all_structures_3/b3725_9_256_2q0h_clean.pdb'"
      ]
     },
     "execution_count": 143,
     "metadata": {},
     "output_type": "execute_result"
    },
    {
     "data": {
      "text/plain": [
       "'/home/nathan/projects_unsynced/all_structures_3/E00110_clean-X_clean.pdb'"
      ]
     },
     "execution_count": 143,
     "metadata": {},
     "output_type": "execute_result"
    },
    {
     "data": {
      "text/plain": [
       "'/home/nathan/projects_unsynced/all_structures_3/E02806_clean-X_clean.pdb'"
      ]
     },
     "execution_count": 143,
     "metadata": {},
     "output_type": "execute_result"
    },
    {
     "data": {
      "text/plain": [
       "'/home/nathan/projects_unsynced/all_structures_3/b2582_1_139_3p2a_clean.pdb'"
      ]
     },
     "execution_count": 143,
     "metadata": {},
     "output_type": "execute_result"
    },
    {
     "data": {
      "text/plain": [
       "'/home/nathan/projects_unsynced/all_structures_3/E01536_clean-X_clean.pdb'"
      ]
     },
     "execution_count": 143,
     "metadata": {},
     "output_type": "execute_result"
    },
    {
     "data": {
      "text/plain": [
       "'/home/nathan/projects_unsynced/all_structures_3/E01842_clean-X_clean.pdb'"
      ]
     },
     "execution_count": 143,
     "metadata": {},
     "output_type": "execute_result"
    },
    {
     "data": {
      "text/plain": [
       "'/home/nathan/projects_unsynced/all_structures_3/E02202_clean-X_clean.pdb'"
      ]
     },
     "execution_count": 143,
     "metadata": {},
     "output_type": "execute_result"
    },
    {
     "data": {
      "text/plain": [
       "'/home/nathan/projects_unsynced/all_structures_3/b1090_5_326_4jqp_clean.pdb'"
      ]
     },
     "execution_count": 143,
     "metadata": {},
     "output_type": "execute_result"
    },
    {
     "data": {
      "text/plain": [
       "'/home/nathan/projects_unsynced/all_structures_3/b2777_2_222_4njg_clean.pdb'"
      ]
     },
     "execution_count": 143,
     "metadata": {},
     "output_type": "execute_result"
    },
    {
     "data": {
      "text/plain": [
       "'/home/nathan/projects_unsynced/all_structures_3/b1787_8_165_1vjf_clean.pdb'"
      ]
     },
     "execution_count": 143,
     "metadata": {},
     "output_type": "execute_result"
    },
    {
     "data": {
      "text/plain": [
       "'/home/nathan/projects_unsynced/all_structures_3/b3212_12_1473_2vdc_clean.pdb'"
      ]
     },
     "execution_count": 143,
     "metadata": {},
     "output_type": "execute_result"
    },
    {
     "data": {
      "text/plain": [
       "'/home/nathan/projects_unsynced/all_structures_3/b3195_9_267_1g29_clean.pdb'"
      ]
     },
     "execution_count": 143,
     "metadata": {},
     "output_type": "execute_result"
    },
    {
     "data": {
      "text/plain": [
       "'/home/nathan/projects_unsynced/all_structures_3/E03409_clean-X_clean.pdb'"
      ]
     },
     "execution_count": 143,
     "metadata": {},
     "output_type": "execute_result"
    },
    {
     "data": {
      "text/plain": [
       "'/home/nathan/projects_unsynced/all_structures_3/b2937_9_305_4dz4_clean.pdb'"
      ]
     },
     "execution_count": 143,
     "metadata": {},
     "output_type": "execute_result"
    },
    {
     "data": {
      "text/plain": [
       "'/home/nathan/projects_unsynced/all_structures_3/b3525_22_254_5mf5_clean.pdb'"
      ]
     },
     "execution_count": 143,
     "metadata": {},
     "output_type": "execute_result"
    },
    {
     "data": {
      "text/plain": [
       "'/home/nathan/projects_unsynced/all_structures_3/E01535_clean-X_clean.pdb'"
      ]
     },
     "execution_count": 143,
     "metadata": {},
     "output_type": "execute_result"
    },
    {
     "data": {
      "text/plain": [
       "'/home/nathan/projects_unsynced/all_structures_3/b3830_28_265_3f67_clean.pdb'"
      ]
     },
     "execution_count": 143,
     "metadata": {},
     "output_type": "execute_result"
    },
    {
     "data": {
      "text/plain": [
       "'/home/nathan/projects_unsynced/all_structures_3/b2784_16_742_5kpv_clean.pdb'"
      ]
     },
     "execution_count": 143,
     "metadata": {},
     "output_type": "execute_result"
    },
    {
     "data": {
      "text/plain": [
       "'/home/nathan/projects_unsynced/all_structures_3/YJEP_ECOLI_model1_clean-X_clean.pdb'"
      ]
     },
     "execution_count": 143,
     "metadata": {},
     "output_type": "execute_result"
    },
    {
     "data": {
      "text/plain": [
       "'/home/nathan/projects_unsynced/all_structures_3/b1664_4_385_4kh3_clean.pdb'"
      ]
     },
     "execution_count": 143,
     "metadata": {},
     "output_type": "execute_result"
    },
    {
     "data": {
      "text/plain": [
       "'/home/nathan/projects_unsynced/all_structures_3/GYRA_ECOLI_model1_clean-X_clean.pdb'"
      ]
     },
     "execution_count": 143,
     "metadata": {},
     "output_type": "execute_result"
    },
    {
     "data": {
      "text/plain": [
       "'/home/nathan/projects_unsynced/all_structures_3/E03044_clean-X_clean.pdb'"
      ]
     },
     "execution_count": 143,
     "metadata": {},
     "output_type": "execute_result"
    },
    {
     "data": {
      "text/plain": [
       "'/home/nathan/projects_unsynced/all_structures_3/b0030_2_303_3g5i_clean.pdb'"
      ]
     },
     "execution_count": 143,
     "metadata": {},
     "output_type": "execute_result"
    },
    {
     "data": {
      "text/plain": [
       "'/home/nathan/projects_unsynced/all_structures_3/b0820_1_524_3j5s_clean.pdb'"
      ]
     },
     "execution_count": 143,
     "metadata": {},
     "output_type": "execute_result"
    },
    {
     "data": {
      "text/plain": [
       "'/home/nathan/projects_unsynced/all_structures_3/b4287_3_255_4g1u_clean.pdb'"
      ]
     },
     "execution_count": 143,
     "metadata": {},
     "output_type": "execute_result"
    },
    {
     "data": {
      "text/plain": [
       "'/home/nathan/projects_unsynced/all_structures_3/b3780_9_383_2vso_clean.pdb'"
      ]
     },
     "execution_count": 143,
     "metadata": {},
     "output_type": "execute_result"
    },
    {
     "data": {
      "text/plain": [
       "'/home/nathan/projects_unsynced/all_structures_3/E01202_clean-X_clean.pdb'"
      ]
     },
     "execution_count": 143,
     "metadata": {},
     "output_type": "execute_result"
    },
    {
     "data": {
      "text/plain": [
       "'/home/nathan/projects_unsynced/all_structures_3/b1130_1_219_1kgs_clean.pdb'"
      ]
     },
     "execution_count": 143,
     "metadata": {},
     "output_type": "execute_result"
    },
    {
     "data": {
      "text/plain": [
       "'/home/nathan/projects_unsynced/all_structures_3/E01612_clean-X_clean.pdb'"
      ]
     },
     "execution_count": 143,
     "metadata": {},
     "output_type": "execute_result"
    },
    {
     "data": {
      "text/plain": [
       "'/home/nathan/projects_unsynced/all_structures_3/b0490_7_214_3d31_clean.pdb'"
      ]
     },
     "execution_count": 143,
     "metadata": {},
     "output_type": "execute_result"
    },
    {
     "data": {
      "text/plain": [
       "'/home/nathan/projects_unsynced/all_structures_3/E01968_clean-X_clean.pdb'"
      ]
     },
     "execution_count": 143,
     "metadata": {},
     "output_type": "execute_result"
    },
    {
     "data": {
      "text/plain": [
       "'/home/nathan/projects_unsynced/all_structures_3/b4241_4_314_4rzs_clean.pdb'"
      ]
     },
     "execution_count": 143,
     "metadata": {},
     "output_type": "execute_result"
    },
    {
     "data": {
      "text/plain": [
       "'/home/nathan/projects_unsynced/all_structures_3/b3828_1_290_3fxu_clean.pdb'"
      ]
     },
     "execution_count": 143,
     "metadata": {},
     "output_type": "execute_result"
    },
    {
     "data": {
      "text/plain": [
       "'/home/nathan/projects_unsynced/all_structures_3/E01915_clean-X_clean.pdb'"
      ]
     },
     "execution_count": 143,
     "metadata": {},
     "output_type": "execute_result"
    },
    {
     "data": {
      "text/plain": [
       "'/home/nathan/projects_unsynced/all_structures_3/b4040_15_286_4od5_clean.pdb'"
      ]
     },
     "execution_count": 143,
     "metadata": {},
     "output_type": "execute_result"
    },
    {
     "data": {
      "text/plain": [
       "'/home/nathan/projects_unsynced/all_structures_3/E01811_clean-X_clean.pdb'"
      ]
     },
     "execution_count": 143,
     "metadata": {},
     "output_type": "execute_result"
    },
    {
     "data": {
      "text/plain": [
       "'/home/nathan/projects_unsynced/all_structures_3/E01798_clean-X_clean.pdb'"
      ]
     },
     "execution_count": 143,
     "metadata": {},
     "output_type": "execute_result"
    },
    {
     "data": {
      "text/plain": [
       "'/home/nathan/projects_unsynced/all_structures_3/E04114_clean-X_clean.pdb'"
      ]
     },
     "execution_count": 143,
     "metadata": {},
     "output_type": "execute_result"
    },
    {
     "data": {
      "text/plain": [
       "'/home/nathan/projects_unsynced/all_structures_3/b3923_2_141_1jmv_clean.pdb'"
      ]
     },
     "execution_count": 143,
     "metadata": {},
     "output_type": "execute_result"
    },
    {
     "data": {
      "text/plain": [
       "'/home/nathan/projects_unsynced/all_structures_3/b1335_4_170_4bhc_clean.pdb'"
      ]
     },
     "execution_count": 143,
     "metadata": {},
     "output_type": "execute_result"
    },
    {
     "data": {
      "text/plain": [
       "'/home/nathan/projects_unsynced/all_structures_3/E03449_clean-X_clean.pdb'"
      ]
     },
     "execution_count": 143,
     "metadata": {},
     "output_type": "execute_result"
    },
    {
     "data": {
      "text/plain": [
       "'/home/nathan/projects_unsynced/all_structures_3/E01163_clean-X_clean.pdb'"
      ]
     },
     "execution_count": 143,
     "metadata": {},
     "output_type": "execute_result"
    },
    {
     "data": {
      "text/plain": [
       "'/home/nathan/projects_unsynced/all_structures_3/E02597_clean-X_clean.pdb'"
      ]
     },
     "execution_count": 143,
     "metadata": {},
     "output_type": "execute_result"
    },
    {
     "data": {
      "text/plain": [
       "'/home/nathan/projects_unsynced/all_structures_3/E03826_clean-X_clean.pdb'"
      ]
     },
     "execution_count": 143,
     "metadata": {},
     "output_type": "execute_result"
    },
    {
     "data": {
      "text/plain": [
       "'/home/nathan/projects_unsynced/all_structures_3/b2428_5_297_4lzj_clean.pdb'"
      ]
     },
     "execution_count": 143,
     "metadata": {},
     "output_type": "execute_result"
    },
    {
     "data": {
      "text/plain": [
       "'/home/nathan/projects_unsynced/all_structures_3/b0388_1_164_1e6c_clean.pdb'"
      ]
     },
     "execution_count": 143,
     "metadata": {},
     "output_type": "execute_result"
    },
    {
     "data": {
      "text/plain": [
       "'/home/nathan/projects_unsynced/all_structures_3/E02570_clean-X_clean.pdb'"
      ]
     },
     "execution_count": 143,
     "metadata": {},
     "output_type": "execute_result"
    },
    {
     "data": {
      "text/plain": [
       "'/home/nathan/projects_unsynced/all_structures_3/b4398_6_224_4b09_clean.pdb'"
      ]
     },
     "execution_count": 143,
     "metadata": {},
     "output_type": "execute_result"
    },
    {
     "data": {
      "text/plain": [
       "'/home/nathan/projects_unsynced/all_structures_3/b3291_3_133_4y7k_clean.pdb'"
      ]
     },
     "execution_count": 143,
     "metadata": {},
     "output_type": "execute_result"
    },
    {
     "data": {
      "text/plain": [
       "'/home/nathan/projects_unsynced/all_structures_3/b3804_1_246_3mw8_clean.pdb'"
      ]
     },
     "execution_count": 143,
     "metadata": {},
     "output_type": "execute_result"
    },
    {
     "data": {
      "text/plain": [
       "'/home/nathan/projects_unsynced/all_structures_3/b3251_8_338_1jcg_clean.pdb'"
      ]
     },
     "execution_count": 143,
     "metadata": {},
     "output_type": "execute_result"
    },
    {
     "data": {
      "text/plain": [
       "'/home/nathan/projects_unsynced/all_structures_3/E02828_clean-X_clean.pdb'"
      ]
     },
     "execution_count": 143,
     "metadata": {},
     "output_type": "execute_result"
    },
    {
     "data": {
      "text/plain": [
       "'/home/nathan/projects_unsynced/all_structures_3/E01222_clean-X_clean.pdb'"
      ]
     },
     "execution_count": 143,
     "metadata": {},
     "output_type": "execute_result"
    },
    {
     "data": {
      "text/plain": [
       "'/home/nathan/projects_unsynced/all_structures_3/b0493_15_259_1iol_clean.pdb'"
      ]
     },
     "execution_count": 143,
     "metadata": {},
     "output_type": "execute_result"
    },
    {
     "data": {
      "text/plain": [
       "'/home/nathan/projects_unsynced/all_structures_3/b3454_4_236_1ji0_clean.pdb'"
      ]
     },
     "execution_count": 143,
     "metadata": {},
     "output_type": "execute_result"
    },
    {
     "data": {
      "text/plain": [
       "'/home/nathan/projects_unsynced/all_structures_3/b3492_3_398_3p4s_clean.pdb'"
      ]
     },
     "execution_count": 143,
     "metadata": {},
     "output_type": "execute_result"
    },
    {
     "data": {
      "text/plain": [
       "'/home/nathan/projects_unsynced/all_structures_3/E03150_clean-X_clean.pdb'"
      ]
     },
     "execution_count": 143,
     "metadata": {},
     "output_type": "execute_result"
    },
    {
     "data": {
      "text/plain": [
       "'/home/nathan/projects_unsynced/all_structures_3/b0419_1_312_4aub_clean.pdb'"
      ]
     },
     "execution_count": 143,
     "metadata": {},
     "output_type": "execute_result"
    },
    {
     "data": {
      "text/plain": [
       "'/home/nathan/projects_unsynced/all_structures_3/E03428_clean-X_clean.pdb'"
      ]
     },
     "execution_count": 143,
     "metadata": {},
     "output_type": "execute_result"
    },
    {
     "data": {
      "text/plain": [
       "'/home/nathan/projects_unsynced/all_structures_3/E01110_clean-X_clean.pdb'"
      ]
     },
     "execution_count": 143,
     "metadata": {},
     "output_type": "execute_result"
    },
    {
     "data": {
      "text/plain": [
       "'/home/nathan/projects_unsynced/all_structures_3/E02914_clean-X_clean.pdb'"
      ]
     },
     "execution_count": 143,
     "metadata": {},
     "output_type": "execute_result"
    },
    {
     "data": {
      "text/plain": [
       "'/home/nathan/projects_unsynced/all_structures_3/b0127_1_303_4yer_clean.pdb'"
      ]
     },
     "execution_count": 143,
     "metadata": {},
     "output_type": "execute_result"
    },
    {
     "data": {
      "text/plain": [
       "'/home/nathan/projects_unsynced/all_structures_3/MALT_ECOLI_model1_clean-X_clean.pdb'"
      ]
     },
     "execution_count": 143,
     "metadata": {},
     "output_type": "execute_result"
    },
    {
     "data": {
      "text/plain": [
       "'/home/nathan/projects_unsynced/all_structures_3/E02530_clean-X_clean.pdb'"
      ]
     },
     "execution_count": 143,
     "metadata": {},
     "output_type": "execute_result"
    },
    {
     "data": {
      "text/plain": [
       "'/home/nathan/projects_unsynced/all_structures_3/E03967_clean-X_clean.pdb'"
      ]
     },
     "execution_count": 143,
     "metadata": {},
     "output_type": "execute_result"
    },
    {
     "data": {
      "text/plain": [
       "'/home/nathan/projects_unsynced/all_structures_3/b1612_5_537_5l2r_clean.pdb'"
      ]
     },
     "execution_count": 143,
     "metadata": {},
     "output_type": "execute_result"
    },
    {
     "data": {
      "text/plain": [
       "'/home/nathan/projects_unsynced/all_structures_3/b2903_1_954_4lgl_clean.pdb'"
      ]
     },
     "execution_count": 143,
     "metadata": {},
     "output_type": "execute_result"
    },
    {
     "data": {
      "text/plain": [
       "'/home/nathan/projects_unsynced/all_structures_3/b1770_18_249_3h5t_clean.pdb'"
      ]
     },
     "execution_count": 143,
     "metadata": {},
     "output_type": "execute_result"
    },
    {
     "data": {
      "text/plain": [
       "'/home/nathan/projects_unsynced/all_structures_3/b4395_1_209_2yn0_clean.pdb'"
      ]
     },
     "execution_count": 143,
     "metadata": {},
     "output_type": "execute_result"
    },
    {
     "data": {
      "text/plain": [
       "'/home/nathan/projects_unsynced/all_structures_3/b1398_7_433_2y27_clean.pdb'"
      ]
     },
     "execution_count": 143,
     "metadata": {},
     "output_type": "execute_result"
    },
    {
     "data": {
      "text/plain": [
       "'/home/nathan/projects_unsynced/all_structures_3/E01800_clean-X_clean.pdb'"
      ]
     },
     "execution_count": 143,
     "metadata": {},
     "output_type": "execute_result"
    },
    {
     "data": {
      "text/plain": [
       "'/home/nathan/projects_unsynced/all_structures_3/E04132_clean-X_clean.pdb'"
      ]
     },
     "execution_count": 143,
     "metadata": {},
     "output_type": "execute_result"
    },
    {
     "data": {
      "text/plain": [
       "'/home/nathan/projects_unsynced/all_structures_3/b3396_40_833_5u2g_clean.pdb'"
      ]
     },
     "execution_count": 143,
     "metadata": {},
     "output_type": "execute_result"
    },
    {
     "data": {
      "text/plain": [
       "'/home/nathan/projects_unsynced/all_structures_3/E01122_clean-X_clean.pdb'"
      ]
     },
     "execution_count": 143,
     "metadata": {},
     "output_type": "execute_result"
    },
    {
     "data": {
      "text/plain": [
       "'/home/nathan/projects_unsynced/all_structures_3/b0880_1_67_3cam_clean.pdb'"
      ]
     },
     "execution_count": 143,
     "metadata": {},
     "output_type": "execute_result"
    },
    {
     "data": {
      "text/plain": [
       "'/home/nathan/projects_unsynced/all_structures_3/E02072_clean-X_clean.pdb'"
      ]
     },
     "execution_count": 143,
     "metadata": {},
     "output_type": "execute_result"
    },
    {
     "data": {
      "text/plain": [
       "'/home/nathan/projects_unsynced/all_structures_3/E02945_clean-X_clean.pdb'"
      ]
     },
     "execution_count": 143,
     "metadata": {},
     "output_type": "execute_result"
    },
    {
     "data": {
      "text/plain": [
       "'/home/nathan/projects_unsynced/all_structures_3/b1232_4_280_3o1l_clean.pdb'"
      ]
     },
     "execution_count": 143,
     "metadata": {},
     "output_type": "execute_result"
    },
    {
     "data": {
      "text/plain": [
       "'/home/nathan/projects_unsynced/all_structures_3/E04020_clean-X_clean.pdb'"
      ]
     },
     "execution_count": 143,
     "metadata": {},
     "output_type": "execute_result"
    },
    {
     "data": {
      "text/plain": [
       "'/home/nathan/projects_unsynced/all_structures_3/E02892_clean-X_clean.pdb'"
      ]
     },
     "execution_count": 143,
     "metadata": {},
     "output_type": "execute_result"
    },
    {
     "data": {
      "text/plain": [
       "'/home/nathan/projects_unsynced/all_structures_3/b0630_3_208_1w66_clean.pdb'"
      ]
     },
     "execution_count": 143,
     "metadata": {},
     "output_type": "execute_result"
    },
    {
     "data": {
      "text/plain": [
       "'/home/nathan/projects_unsynced/all_structures_3/b2241_7_506_2rgo_clean.pdb'"
      ]
     },
     "execution_count": 143,
     "metadata": {},
     "output_type": "execute_result"
    },
    {
     "data": {
      "text/plain": [
       "'/home/nathan/projects_unsynced/all_structures_3/b3463_1_221_3dhw_clean.pdb'"
      ]
     },
     "execution_count": 143,
     "metadata": {},
     "output_type": "execute_result"
    },
    {
     "data": {
      "text/plain": [
       "'/home/nathan/projects_unsynced/all_structures_3/NIRB_ECOLI_model1_clean-X_clean.pdb'"
      ]
     },
     "execution_count": 143,
     "metadata": {},
     "output_type": "execute_result"
    },
    {
     "data": {
      "text/plain": [
       "'/home/nathan/projects_unsynced/all_structures_4/YHDP_ECOLI_model1_clean-X_clean.pdb'"
      ]
     },
     "execution_count": 143,
     "metadata": {},
     "output_type": "execute_result"
    },
    {
     "data": {
      "text/plain": [
       "'/home/nathan/projects_unsynced/all_structures_4/b0607_2_142_4r2l_clean.pdb'"
      ]
     },
     "execution_count": 143,
     "metadata": {},
     "output_type": "execute_result"
    },
    {
     "data": {
      "text/plain": [
       "'/home/nathan/projects_unsynced/all_structures_4/E02280_clean-X_clean.pdb'"
      ]
     },
     "execution_count": 143,
     "metadata": {},
     "output_type": "execute_result"
    },
    {
     "data": {
      "text/plain": [
       "'/home/nathan/projects_unsynced/all_structures_4/OPGB_ECOLI_model1_clean-X_clean.pdb'"
      ]
     },
     "execution_count": 143,
     "metadata": {},
     "output_type": "execute_result"
    },
    {
     "data": {
      "text/plain": [
       "'/home/nathan/projects_unsynced/all_structures_4/b3560_7_292_3ufg_clean.pdb'"
      ]
     },
     "execution_count": 143,
     "metadata": {},
     "output_type": "execute_result"
    },
    {
     "data": {
      "text/plain": [
       "'/home/nathan/projects_unsynced/all_structures_4/b1438_1_132_4p7d_clean.pdb'"
      ]
     },
     "execution_count": 143,
     "metadata": {},
     "output_type": "execute_result"
    },
    {
     "data": {
      "text/plain": [
       "'/home/nathan/projects_unsynced/all_structures_4/b1925_22_126_1vh6_clean.pdb'"
      ]
     },
     "execution_count": 143,
     "metadata": {},
     "output_type": "execute_result"
    },
    {
     "data": {
      "text/plain": [
       "'/home/nathan/projects_unsynced/all_structures_4/b1176_6_231_1hf2_clean.pdb'"
      ]
     },
     "execution_count": 143,
     "metadata": {},
     "output_type": "execute_result"
    },
    {
     "data": {
      "text/plain": [
       "'/home/nathan/projects_unsynced/all_structures_4/b3612_5_513_5vpu_clean.pdb'"
      ]
     },
     "execution_count": 143,
     "metadata": {},
     "output_type": "execute_result"
    },
    {
     "data": {
      "text/plain": [
       "'/home/nathan/projects_unsynced/all_structures_4/b0760_1_477_4fin_clean.pdb'"
      ]
     },
     "execution_count": 143,
     "metadata": {},
     "output_type": "execute_result"
    },
    {
     "data": {
      "text/plain": [
       "'/home/nathan/projects_unsynced/all_structures_4/E03825_clean-X_clean.pdb'"
      ]
     },
     "execution_count": 143,
     "metadata": {},
     "output_type": "execute_result"
    },
    {
     "data": {
      "text/plain": [
       "'/home/nathan/projects_unsynced/all_structures_4/b4146_11_338_2a5h_clean.pdb'"
      ]
     },
     "execution_count": 143,
     "metadata": {},
     "output_type": "execute_result"
    },
    {
     "data": {
      "text/plain": [
       "'/home/nathan/projects_unsynced/all_structures_4/E03261_clean-X_clean.pdb'"
      ]
     },
     "execution_count": 143,
     "metadata": {},
     "output_type": "execute_result"
    },
    {
     "data": {
      "text/plain": [
       "'/home/nathan/projects_unsynced/all_structures_4/E04099_clean-X_clean.pdb'"
      ]
     },
     "execution_count": 143,
     "metadata": {},
     "output_type": "execute_result"
    },
    {
     "data": {
      "text/plain": [
       "'/home/nathan/projects_unsynced/all_structures_4/E02460_clean-X_clean.pdb'"
      ]
     },
     "execution_count": 143,
     "metadata": {},
     "output_type": "execute_result"
    },
    {
     "data": {
      "text/plain": [
       "'/home/nathan/projects_unsynced/all_structures_4/E01167_clean-X_clean.pdb'"
      ]
     },
     "execution_count": 143,
     "metadata": {},
     "output_type": "execute_result"
    },
    {
     "data": {
      "text/plain": [
       "'/home/nathan/projects_unsynced/all_structures_4/E01232_clean-X_clean.pdb'"
      ]
     },
     "execution_count": 143,
     "metadata": {},
     "output_type": "execute_result"
    },
    {
     "data": {
      "text/plain": [
       "'/home/nathan/projects_unsynced/all_structures_4/b3650_3_701_5kpw_clean.pdb'"
      ]
     },
     "execution_count": 143,
     "metadata": {},
     "output_type": "execute_result"
    },
    {
     "data": {
      "text/plain": [
       "'/home/nathan/projects_unsynced/all_structures_4/E01795_clean-X_clean.pdb'"
      ]
     },
     "execution_count": 143,
     "metadata": {},
     "output_type": "execute_result"
    },
    {
     "data": {
      "text/plain": [
       "'/home/nathan/projects_unsynced/all_structures_4/b0104_2_338_2a7r_clean.pdb'"
      ]
     },
     "execution_count": 143,
     "metadata": {},
     "output_type": "execute_result"
    },
    {
     "data": {
      "text/plain": [
       "'/home/nathan/projects_unsynced/all_structures_4/E00170_clean-X_clean.pdb'"
      ]
     },
     "execution_count": 143,
     "metadata": {},
     "output_type": "execute_result"
    },
    {
     "data": {
      "text/plain": [
       "'/home/nathan/projects_unsynced/all_structures_4/b3779_6_493_2flo_clean.pdb'"
      ]
     },
     "execution_count": 143,
     "metadata": {},
     "output_type": "execute_result"
    },
    {
     "data": {
      "text/plain": [
       "'/home/nathan/projects_unsynced/all_structures_4/E01209_clean-X_clean.pdb'"
      ]
     },
     "execution_count": 143,
     "metadata": {},
     "output_type": "execute_result"
    },
    {
     "data": {
      "text/plain": [
       "'/home/nathan/projects_unsynced/all_structures_4/E01817_clean-X_clean.pdb'"
      ]
     },
     "execution_count": 143,
     "metadata": {},
     "output_type": "execute_result"
    },
    {
     "data": {
      "text/plain": [
       "'/home/nathan/projects_unsynced/all_structures_4/b3455_4_253_5l75_clean.pdb'"
      ]
     },
     "execution_count": 143,
     "metadata": {},
     "output_type": "execute_result"
    },
    {
     "data": {
      "text/plain": [
       "'/home/nathan/projects_unsynced/all_structures_4/b1914_2_209_2oqr_clean.pdb'"
      ]
     },
     "execution_count": 143,
     "metadata": {},
     "output_type": "execute_result"
    },
    {
     "data": {
      "text/plain": [
       "'/home/nathan/projects_unsynced/all_structures_4/b3869_5_348_4gcz_clean.pdb'"
      ]
     },
     "execution_count": 143,
     "metadata": {},
     "output_type": "execute_result"
    },
    {
     "data": {
      "text/plain": [
       "'/home/nathan/projects_unsynced/all_structures_4/b3839_11_238_4hts_clean.pdb'"
      ]
     },
     "execution_count": 143,
     "metadata": {},
     "output_type": "execute_result"
    },
    {
     "data": {
      "text/plain": [
       "'/home/nathan/projects_unsynced/all_structures_4/b3892_2_211_1kqf_clean.pdb'"
      ]
     },
     "execution_count": 143,
     "metadata": {},
     "output_type": "execute_result"
    },
    {
     "data": {
      "text/plain": [
       "'/home/nathan/projects_unsynced/all_structures_4/b1247_10_333_4fwi_clean.pdb'"
      ]
     },
     "execution_count": 143,
     "metadata": {},
     "output_type": "execute_result"
    },
    {
     "data": {
      "text/plain": [
       "'/home/nathan/projects_unsynced/all_structures_4/E00674_clean-X_clean.pdb'"
      ]
     },
     "execution_count": 143,
     "metadata": {},
     "output_type": "execute_result"
    },
    {
     "data": {
      "text/plain": [
       "'/home/nathan/projects_unsynced/all_structures_4/b1685_4_61_2odm_clean.pdb'"
      ]
     },
     "execution_count": 143,
     "metadata": {},
     "output_type": "execute_result"
    },
    {
     "data": {
      "text/plain": [
       "'/home/nathan/projects_unsynced/all_structures_4/b3829_3_751_4ztx_clean.pdb'"
      ]
     },
     "execution_count": 143,
     "metadata": {},
     "output_type": "execute_result"
    },
    {
     "data": {
      "text/plain": [
       "'/home/nathan/projects_unsynced/all_structures_4/b3665_15_587_3t81_clean.pdb'"
      ]
     },
     "execution_count": 143,
     "metadata": {},
     "output_type": "execute_result"
    },
    {
     "data": {
      "text/plain": [
       "'/home/nathan/projects_unsynced/all_structures_4/b1631_29_194_3lwx_clean.pdb'"
      ]
     },
     "execution_count": 143,
     "metadata": {},
     "output_type": "execute_result"
    },
    {
     "data": {
      "text/plain": [
       "'/home/nathan/projects_unsynced/all_structures_4/b0676_13_405_1z05_clean.pdb'"
      ]
     },
     "execution_count": 143,
     "metadata": {},
     "output_type": "execute_result"
    },
    {
     "data": {
      "text/plain": [
       "'/home/nathan/projects_unsynced/all_structures_4/b2795_2_454_3gh1_clean.pdb'"
      ]
     },
     "execution_count": 143,
     "metadata": {},
     "output_type": "execute_result"
    },
    {
     "data": {
      "text/plain": [
       "'/home/nathan/projects_unsynced/all_structures_4/b1704_7_347_1n8f_clean.pdb'"
      ]
     },
     "execution_count": 143,
     "metadata": {},
     "output_type": "execute_result"
    },
    {
     "data": {
      "text/plain": [
       "'/home/nathan/projects_unsynced/all_structures_4/b3405_6_230_2oqr_clean.pdb'"
      ]
     },
     "execution_count": 143,
     "metadata": {},
     "output_type": "execute_result"
    },
    {
     "data": {
      "text/plain": [
       "'/home/nathan/projects_unsynced/all_structures_4/FEOB_ECOLI_model1_clean-X_clean.pdb'"
      ]
     },
     "execution_count": 143,
     "metadata": {},
     "output_type": "execute_result"
    },
    {
     "data": {
      "text/plain": [
       "'/home/nathan/projects_unsynced/all_structures_4/E03255_clean-X_clean.pdb'"
      ]
     },
     "execution_count": 143,
     "metadata": {},
     "output_type": "execute_result"
    },
    {
     "data": {
      "text/plain": [
       "'/home/nathan/projects_unsynced/all_structures_4/b2660_2_393_4x9m_clean.pdb'"
      ]
     },
     "execution_count": 143,
     "metadata": {},
     "output_type": "execute_result"
    },
    {
     "data": {
      "text/plain": [
       "'/home/nathan/projects_unsynced/all_structures_4/b0864_3_240_4u02_clean.pdb'"
      ]
     },
     "execution_count": 143,
     "metadata": {},
     "output_type": "execute_result"
    },
    {
     "data": {
      "text/plain": [
       "'/home/nathan/projects_unsynced/all_structures_4/b1192_1_298_3tlz_clean.pdb'"
      ]
     },
     "execution_count": 143,
     "metadata": {},
     "output_type": "execute_result"
    },
    {
     "data": {
      "text/plain": [
       "'/home/nathan/projects_unsynced/all_structures_4/b1593_3_220_1byi_clean.pdb'"
      ]
     },
     "execution_count": 143,
     "metadata": {},
     "output_type": "execute_result"
    },
    {
     "data": {
      "text/plain": [
       "'/home/nathan/projects_unsynced/all_structures_4/E00264_clean-X_clean.pdb'"
      ]
     },
     "execution_count": 143,
     "metadata": {},
     "output_type": "execute_result"
    },
    {
     "data": {
      "text/plain": [
       "'/home/nathan/projects_unsynced/all_structures_4/E00449_clean-X_clean.pdb'"
      ]
     },
     "execution_count": 143,
     "metadata": {},
     "output_type": "execute_result"
    },
    {
     "data": {
      "text/plain": [
       "'/home/nathan/projects_unsynced/all_structures_4/E03007_clean-X_clean.pdb'"
      ]
     },
     "execution_count": 143,
     "metadata": {},
     "output_type": "execute_result"
    },
    {
     "data": {
      "text/plain": [
       "'/home/nathan/projects_unsynced/all_structures_4/b3018_1_236_5kym_clean.pdb'"
      ]
     },
     "execution_count": 143,
     "metadata": {},
     "output_type": "execute_result"
    },
    {
     "data": {
      "text/plain": [
       "'/home/nathan/projects_unsynced/all_structures_4/b2464_4_316_2e1d_clean.pdb'"
      ]
     },
     "execution_count": 143,
     "metadata": {},
     "output_type": "execute_result"
    },
    {
     "data": {
      "text/plain": [
       "'/home/nathan/projects_unsynced/all_structures_4/E01794_clean-X_clean.pdb'"
      ]
     },
     "execution_count": 143,
     "metadata": {},
     "output_type": "execute_result"
    },
    {
     "data": {
      "text/plain": [
       "'/home/nathan/projects_unsynced/all_structures_4/b1233_4_152_2i9w_clean.pdb'"
      ]
     },
     "execution_count": 143,
     "metadata": {},
     "output_type": "execute_result"
    },
    {
     "data": {
      "text/plain": [
       "'/home/nathan/projects_unsynced/all_structures_4/CHEA_ECOLI_model1_clean-X_clean.pdb'"
      ]
     },
     "execution_count": 143,
     "metadata": {},
     "output_type": "execute_result"
    },
    {
     "data": {
      "text/plain": [
       "'/home/nathan/projects_unsynced/all_structures_4/b3967_20_285_2jfn_clean.pdb'"
      ]
     },
     "execution_count": 143,
     "metadata": {},
     "output_type": "execute_result"
    },
    {
     "data": {
      "text/plain": [
       "'/home/nathan/projects_unsynced/all_structures_4/b0835_9_439_4jc0_clean.pdb'"
      ]
     },
     "execution_count": 143,
     "metadata": {},
     "output_type": "execute_result"
    },
    {
     "data": {
      "text/plain": [
       "'/home/nathan/projects_unsynced/all_structures_4/E00675_clean-X_clean.pdb'"
      ]
     },
     "execution_count": 143,
     "metadata": {},
     "output_type": "execute_result"
    },
    {
     "data": {
      "text/plain": [
       "'/home/nathan/projects_unsynced/all_structures_4/b1922_11_237_4ylo_clean.pdb'"
      ]
     },
     "execution_count": 143,
     "metadata": {},
     "output_type": "execute_result"
    },
    {
     "data": {
      "text/plain": [
       "'/home/nathan/projects_unsynced/all_structures_4/b1623_2_332_3km8_clean.pdb'"
      ]
     },
     "execution_count": 143,
     "metadata": {},
     "output_type": "execute_result"
    },
    {
     "data": {
      "text/plain": [
       "'/home/nathan/projects_unsynced/all_structures_4/E01901_clean-X_clean.pdb'"
      ]
     },
     "execution_count": 143,
     "metadata": {},
     "output_type": "execute_result"
    },
    {
     "data": {
      "text/plain": [
       "'/home/nathan/projects_unsynced/all_structures_4/E03425_clean-X_clean.pdb'"
      ]
     },
     "execution_count": 143,
     "metadata": {},
     "output_type": "execute_result"
    },
    {
     "data": {
      "text/plain": [
       "'/home/nathan/projects_unsynced/all_structures_4/b1718_12_179_5lmn_clean.pdb'"
      ]
     },
     "execution_count": 143,
     "metadata": {},
     "output_type": "execute_result"
    },
    {
     "data": {
      "text/plain": [
       "'/home/nathan/projects_unsynced/all_structures_4/NUOG_ECOLI_model1_clean-X_clean.pdb'"
      ]
     },
     "execution_count": 143,
     "metadata": {},
     "output_type": "execute_result"
    },
    {
     "data": {
      "text/plain": [
       "'/home/nathan/projects_unsynced/all_structures_4/E01724_clean-X_clean.pdb'"
      ]
     },
     "execution_count": 143,
     "metadata": {},
     "output_type": "execute_result"
    },
    {
     "data": {
      "text/plain": [
       "'/home/nathan/projects_unsynced/all_structures_4/E03969_clean-X_clean.pdb'"
      ]
     },
     "execution_count": 143,
     "metadata": {},
     "output_type": "execute_result"
    },
    {
     "data": {
      "text/plain": [
       "'/home/nathan/projects_unsynced/all_structures_4/E02211_clean-X_clean.pdb'"
      ]
     },
     "execution_count": 143,
     "metadata": {},
     "output_type": "execute_result"
    },
    {
     "data": {
      "text/plain": [
       "'/home/nathan/projects_unsynced/all_structures_4/E03315_clean-X_clean.pdb'"
      ]
     },
     "execution_count": 143,
     "metadata": {},
     "output_type": "execute_result"
    },
    {
     "data": {
      "text/plain": [
       "'/home/nathan/projects_unsynced/all_structures_4/b3963_20_220_3lsj_clean.pdb'"
      ]
     },
     "execution_count": 143,
     "metadata": {},
     "output_type": "execute_result"
    },
    {
     "data": {
      "text/plain": [
       "'/home/nathan/projects_unsynced/all_structures_4/E02052_clean-X_clean.pdb'"
      ]
     },
     "execution_count": 143,
     "metadata": {},
     "output_type": "execute_result"
    },
    {
     "data": {
      "text/plain": [
       "'/home/nathan/projects_unsynced/all_structures_4/E02790_clean-X_clean.pdb'"
      ]
     },
     "execution_count": 143,
     "metadata": {},
     "output_type": "execute_result"
    },
    {
     "data": {
      "text/plain": [
       "'/home/nathan/projects_unsynced/all_structures_4/b2791_4_234_1v9k_clean.pdb'"
      ]
     },
     "execution_count": 143,
     "metadata": {},
     "output_type": "execute_result"
    },
    {
     "data": {
      "text/plain": [
       "'/home/nathan/projects_unsynced/all_structures_4/MNMG_ECOLI_model1_clean-X_clean.pdb'"
      ]
     },
     "execution_count": 143,
     "metadata": {},
     "output_type": "execute_result"
    },
    {
     "data": {
      "text/plain": [
       "'/home/nathan/projects_unsynced/all_structures_4/E03871_clean-X_clean.pdb'"
      ]
     },
     "execution_count": 143,
     "metadata": {},
     "output_type": "execute_result"
    },
    {
     "data": {
      "text/plain": [
       "'/home/nathan/projects_unsynced/all_structures_4/b0653_5_222_4yms_clean.pdb'"
      ]
     },
     "execution_count": 143,
     "metadata": {},
     "output_type": "execute_result"
    },
    {
     "data": {
      "text/plain": [
       "'/home/nathan/projects_unsynced/all_structures_4/b2837_3_330_1vpw_clean.pdb'"
      ]
     },
     "execution_count": 143,
     "metadata": {},
     "output_type": "execute_result"
    },
    {
     "data": {
      "text/plain": [
       "'/home/nathan/projects_unsynced/all_structures_4/b2289_11_291_4x6g_clean.pdb'"
      ]
     },
     "execution_count": 143,
     "metadata": {},
     "output_type": "execute_result"
    },
    {
     "data": {
      "text/plain": [
       "'/home/nathan/projects_unsynced/all_structures_4/E00881_clean-X_clean.pdb'"
      ]
     },
     "execution_count": 143,
     "metadata": {},
     "output_type": "execute_result"
    },
    {
     "data": {
      "text/plain": [
       "'/home/nathan/projects_unsynced/all_structures_4/b4207_8_206_1fd9_clean.pdb'"
      ]
     },
     "execution_count": 143,
     "metadata": {},
     "output_type": "execute_result"
    },
    {
     "data": {
      "text/plain": [
       "'/home/nathan/projects_unsynced/all_structures_4/b3633_31_414_2xci_clean.pdb'"
      ]
     },
     "execution_count": 143,
     "metadata": {},
     "output_type": "execute_result"
    },
    {
     "data": {
      "text/plain": [
       "'/home/nathan/projects_unsynced/all_structures_4/E01754_clean-X_clean.pdb'"
      ]
     },
     "execution_count": 143,
     "metadata": {},
     "output_type": "execute_result"
    },
    {
     "data": {
      "text/plain": [
       "'/home/nathan/projects_unsynced/all_structures_4/b1851_2_598_2gp4_clean.pdb'"
      ]
     },
     "execution_count": 143,
     "metadata": {},
     "output_type": "execute_result"
    },
    {
     "data": {
      "text/plain": [
       "'/home/nathan/projects_unsynced/all_structures_4/E00290_clean-X_clean.pdb'"
      ]
     },
     "execution_count": 143,
     "metadata": {},
     "output_type": "execute_result"
    },
    {
     "data": {
      "text/plain": [
       "'/home/nathan/projects_unsynced/all_structures_4/b3604_3_233_3c7j_clean.pdb'"
      ]
     },
     "execution_count": 143,
     "metadata": {},
     "output_type": "execute_result"
    },
    {
     "data": {
      "text/plain": [
       "'/home/nathan/projects_unsynced/all_structures_4/b0003_1_308_4rpf_clean.pdb'"
      ]
     },
     "execution_count": 143,
     "metadata": {},
     "output_type": "execute_result"
    },
    {
     "data": {
      "text/plain": [
       "'/home/nathan/projects_unsynced/all_structures_4/b3428_14_815_5iko_clean.pdb'"
      ]
     },
     "execution_count": 143,
     "metadata": {},
     "output_type": "execute_result"
    },
    {
     "data": {
      "text/plain": [
       "'/home/nathan/projects_unsynced/all_structures_4/E03619_clean-X_clean.pdb'"
      ]
     },
     "execution_count": 143,
     "metadata": {},
     "output_type": "execute_result"
    },
    {
     "data": {
      "text/plain": [
       "'/home/nathan/projects_unsynced/all_structures_4/E00209_clean-X_clean.pdb'"
      ]
     },
     "execution_count": 143,
     "metadata": {},
     "output_type": "execute_result"
    },
    {
     "data": {
      "text/plain": [
       "'/home/nathan/projects_unsynced/all_structures_4/E01231_clean-X_clean.pdb'"
      ]
     },
     "execution_count": 143,
     "metadata": {},
     "output_type": "execute_result"
    },
    {
     "data": {
      "text/plain": [
       "'/home/nathan/projects_unsynced/all_structures_4/E01916_clean-X_clean.pdb'"
      ]
     },
     "execution_count": 143,
     "metadata": {},
     "output_type": "execute_result"
    },
    {
     "data": {
      "text/plain": [
       "'/home/nathan/projects_unsynced/all_structures_4/b4470_35_423_4rqo_clean.pdb'"
      ]
     },
     "execution_count": 143,
     "metadata": {},
     "output_type": "execute_result"
    },
    {
     "data": {
      "text/plain": [
       "'/home/nathan/projects_unsynced/all_structures_4/b3962_6_462_5u8u_clean.pdb'"
      ]
     },
     "execution_count": 143,
     "metadata": {},
     "output_type": "execute_result"
    },
    {
     "data": {
      "text/plain": [
       "'/home/nathan/projects_unsynced/all_structures_4/E02919_clean-X_clean.pdb'"
      ]
     },
     "execution_count": 143,
     "metadata": {},
     "output_type": "execute_result"
    },
    {
     "data": {
      "text/plain": [
       "'/home/nathan/projects_unsynced/all_structures_4/E02984_clean-X_clean.pdb'"
      ]
     },
     "execution_count": 143,
     "metadata": {},
     "output_type": "execute_result"
    },
    {
     "data": {
      "text/plain": [
       "'/home/nathan/projects_unsynced/all_structures_4/b4269_4_338_5vkt_clean.pdb'"
      ]
     },
     "execution_count": 143,
     "metadata": {},
     "output_type": "execute_result"
    },
    {
     "data": {
      "text/plain": [
       "'/home/nathan/projects_unsynced/all_structures_4/b3226_28_257_3c7j_clean.pdb'"
      ]
     },
     "execution_count": 143,
     "metadata": {},
     "output_type": "execute_result"
    },
    {
     "data": {
      "text/plain": [
       "'/home/nathan/projects_unsynced/all_structures_4/E00114_clean-X_clean.pdb'"
      ]
     },
     "execution_count": 143,
     "metadata": {},
     "output_type": "execute_result"
    },
    {
     "data": {
      "text/plain": [
       "'/home/nathan/projects_unsynced/all_structures_4/b3946_1_220_1l6w_clean.pdb'"
      ]
     },
     "execution_count": 143,
     "metadata": {},
     "output_type": "execute_result"
    },
    {
     "data": {
      "text/plain": [
       "'/home/nathan/projects_unsynced/all_structures_4/b1449_6_341_4b7c_clean.pdb'"
      ]
     },
     "execution_count": 143,
     "metadata": {},
     "output_type": "execute_result"
    },
    {
     "data": {
      "text/plain": [
       "'/home/nathan/projects_unsynced/all_structures_4/b4233_1_449_3hn7_clean.pdb'"
      ]
     },
     "execution_count": 143,
     "metadata": {},
     "output_type": "execute_result"
    },
    {
     "data": {
      "text/plain": [
       "'/home/nathan/projects_unsynced/all_structures_4/b0855_18_376_2d62_clean.pdb'"
      ]
     },
     "execution_count": 143,
     "metadata": {},
     "output_type": "execute_result"
    },
    {
     "data": {
      "text/plain": [
       "'/home/nathan/projects_unsynced/all_structures_4/b4200_1_135_3ja1_clean.pdb'"
      ]
     },
     "execution_count": 143,
     "metadata": {},
     "output_type": "execute_result"
    },
    {
     "data": {
      "text/plain": [
       "'/home/nathan/projects_unsynced/all_structures_5/E03065_clean-X_clean.pdb'"
      ]
     },
     "execution_count": 143,
     "metadata": {},
     "output_type": "execute_result"
    },
    {
     "data": {
      "text/plain": [
       "'/home/nathan/projects_unsynced/all_structures_5/E01017_clean-X_clean.pdb'"
      ]
     },
     "execution_count": 143,
     "metadata": {},
     "output_type": "execute_result"
    },
    {
     "data": {
      "text/plain": [
       "'/home/nathan/projects_unsynced/all_structures_5/b4018_23_246_2ia2_clean.pdb'"
      ]
     },
     "execution_count": 143,
     "metadata": {},
     "output_type": "execute_result"
    },
    {
     "data": {
      "text/plain": [
       "'/home/nathan/projects_unsynced/all_structures_5/E02535_clean-X_clean.pdb'"
      ]
     },
     "execution_count": 143,
     "metadata": {},
     "output_type": "execute_result"
    },
    {
     "data": {
      "text/plain": [
       "'/home/nathan/projects_unsynced/all_structures_5/E01835_clean-X_clean.pdb'"
      ]
     },
     "execution_count": 143,
     "metadata": {},
     "output_type": "execute_result"
    },
    {
     "data": {
      "text/plain": [
       "'/home/nathan/projects_unsynced/all_structures_5/b3687_11_137_3w1z_clean.pdb'"
      ]
     },
     "execution_count": 143,
     "metadata": {},
     "output_type": "execute_result"
    },
    {
     "data": {
      "text/plain": [
       "'/home/nathan/projects_unsynced/all_structures_5/b4261_1_349_5x5y_clean.pdb'"
      ]
     },
     "execution_count": 143,
     "metadata": {},
     "output_type": "execute_result"
    },
    {
     "data": {
      "text/plain": [
       "'/home/nathan/projects_unsynced/all_structures_5/YEAG_ECOLI_model1_clean-X_clean.pdb'"
      ]
     },
     "execution_count": 143,
     "metadata": {},
     "output_type": "execute_result"
    },
    {
     "data": {
      "text/plain": [
       "'/home/nathan/projects_unsynced/all_structures_5/E01026_clean-X_clean.pdb'"
      ]
     },
     "execution_count": 143,
     "metadata": {},
     "output_type": "execute_result"
    },
    {
     "data": {
      "text/plain": [
       "'/home/nathan/projects_unsynced/all_structures_5/b2105_9_90_5lbm_clean.pdb'"
      ]
     },
     "execution_count": 143,
     "metadata": {},
     "output_type": "execute_result"
    },
    {
     "data": {
      "text/plain": [
       "'/home/nathan/projects_unsynced/all_structures_5/b0094_6_389_3wt0_clean.pdb'"
      ]
     },
     "execution_count": 143,
     "metadata": {},
     "output_type": "execute_result"
    },
    {
     "data": {
      "text/plain": [
       "'/home/nathan/projects_unsynced/all_structures_5/E00686_clean-X_clean.pdb'"
      ]
     },
     "execution_count": 143,
     "metadata": {},
     "output_type": "execute_result"
    },
    {
     "data": {
      "text/plain": [
       "'/home/nathan/projects_unsynced/all_structures_5/E01130_clean-X_clean.pdb'"
      ]
     },
     "execution_count": 143,
     "metadata": {},
     "output_type": "execute_result"
    },
    {
     "data": {
      "text/plain": [
       "'/home/nathan/projects_unsynced/all_structures_5/b4108_2_110_2akl_clean.pdb'"
      ]
     },
     "execution_count": 143,
     "metadata": {},
     "output_type": "execute_result"
    },
    {
     "data": {
      "text/plain": [
       "'/home/nathan/projects_unsynced/all_structures_5/b0081_1_147_1n0f_clean.pdb'"
      ]
     },
     "execution_count": 143,
     "metadata": {},
     "output_type": "execute_result"
    },
    {
     "data": {
      "text/plain": [
       "'/home/nathan/projects_unsynced/all_structures_5/YTFN_ECOLI_model1_clean-X_clean.pdb'"
      ]
     },
     "execution_count": 143,
     "metadata": {},
     "output_type": "execute_result"
    },
    {
     "data": {
      "text/plain": [
       "'/home/nathan/projects_unsynced/all_structures_5/E00106_clean-X_clean.pdb'"
      ]
     },
     "execution_count": 143,
     "metadata": {},
     "output_type": "execute_result"
    },
    {
     "data": {
      "text/plain": [
       "'/home/nathan/projects_unsynced/all_structures_5/b3070_13_254_4yhb_clean.pdb'"
      ]
     },
     "execution_count": 143,
     "metadata": {},
     "output_type": "execute_result"
    },
    {
     "data": {
      "text/plain": [
       "'/home/nathan/projects_unsynced/all_structures_5/YHES_ECOLI_model1_clean-X_clean.pdb'"
      ]
     },
     "execution_count": 143,
     "metadata": {},
     "output_type": "execute_result"
    },
    {
     "data": {
      "text/plain": [
       "'/home/nathan/projects_unsynced/all_structures_5/b3355_2_288_1a7j_clean.pdb'"
      ]
     },
     "execution_count": 143,
     "metadata": {},
     "output_type": "execute_result"
    },
    {
     "data": {
      "text/plain": [
       "'/home/nathan/projects_unsynced/all_structures_5/E02485_clean-X_clean.pdb'"
      ]
     },
     "execution_count": 143,
     "metadata": {},
     "output_type": "execute_result"
    },
    {
     "data": {
      "text/plain": [
       "'/home/nathan/projects_unsynced/all_structures_5/b3247_2_488_2vrt_clean.pdb'"
      ]
     },
     "execution_count": 143,
     "metadata": {},
     "output_type": "execute_result"
    },
    {
     "data": {
      "text/plain": [
       "'/home/nathan/projects_unsynced/all_structures_5/E03437_clean-X_clean.pdb'"
      ]
     },
     "execution_count": 143,
     "metadata": {},
     "output_type": "execute_result"
    },
    {
     "data": {
      "text/plain": [
       "'/home/nathan/projects_unsynced/all_structures_5/E01900_clean-X_clean.pdb'"
      ]
     },
     "execution_count": 143,
     "metadata": {},
     "output_type": "execute_result"
    },
    {
     "data": {
      "text/plain": [
       "'/home/nathan/projects_unsynced/all_structures_5/b3495_3_141_1jmv_clean.pdb'"
      ]
     },
     "execution_count": 143,
     "metadata": {},
     "output_type": "execute_result"
    },
    {
     "data": {
      "text/plain": [
       "'/home/nathan/projects_unsynced/all_structures_5/ARCB_ECOLI_model1_clean-X_clean.pdb'"
      ]
     },
     "execution_count": 143,
     "metadata": {},
     "output_type": "execute_result"
    },
    {
     "data": {
      "text/plain": [
       "'/home/nathan/projects_unsynced/all_structures_5/b3030_18_624_4i3h_clean.pdb'"
      ]
     },
     "execution_count": 143,
     "metadata": {},
     "output_type": "execute_result"
    },
    {
     "data": {
      "text/plain": [
       "'/home/nathan/projects_unsynced/all_structures_5/b0355_3_271_4b6g_clean.pdb'"
      ]
     },
     "execution_count": 143,
     "metadata": {},
     "output_type": "execute_result"
    },
    {
     "data": {
      "text/plain": [
       "'/home/nathan/projects_unsynced/all_structures_5/b0151_6_250_4g1u_clean.pdb'"
      ]
     },
     "execution_count": 143,
     "metadata": {},
     "output_type": "execute_result"
    },
    {
     "data": {
      "text/plain": [
       "'/home/nathan/projects_unsynced/all_structures_5/E01195_clean-X_clean.pdb'"
      ]
     },
     "execution_count": 143,
     "metadata": {},
     "output_type": "execute_result"
    },
    {
     "data": {
      "text/plain": [
       "'/home/nathan/projects_unsynced/all_structures_5/E03783_clean-X_clean.pdb'"
      ]
     },
     "execution_count": 143,
     "metadata": {},
     "output_type": "execute_result"
    },
    {
     "data": {
      "text/plain": [
       "'/home/nathan/projects_unsynced/all_structures_5/b3787_4_420_1mfz_clean.pdb'"
      ]
     },
     "execution_count": 143,
     "metadata": {},
     "output_type": "execute_result"
    },
    {
     "data": {
      "text/plain": [
       "'/home/nathan/projects_unsynced/all_structures_5/E01999_clean-X_clean.pdb'"
      ]
     },
     "execution_count": 143,
     "metadata": {},
     "output_type": "execute_result"
    },
    {
     "data": {
      "text/plain": [
       "'/home/nathan/projects_unsynced/all_structures_5/E03686_clean-X_clean.pdb'"
      ]
     },
     "execution_count": 143,
     "metadata": {},
     "output_type": "execute_result"
    },
    {
     "data": {
      "text/plain": [
       "'/home/nathan/projects_unsynced/all_structures_5/b1392_3_350_2pia_clean.pdb'"
      ]
     },
     "execution_count": 143,
     "metadata": {},
     "output_type": "execute_result"
    },
    {
     "data": {
      "text/plain": [
       "'/home/nathan/projects_unsynced/all_structures_5/E01186_clean-X_clean.pdb'"
      ]
     },
     "execution_count": 143,
     "metadata": {},
     "output_type": "execute_result"
    },
    {
     "data": {
      "text/plain": [
       "'/home/nathan/projects_unsynced/all_structures_5/E02971_clean-X_clean.pdb'"
      ]
     },
     "execution_count": 143,
     "metadata": {},
     "output_type": "execute_result"
    },
    {
     "data": {
      "text/plain": [
       "'/home/nathan/projects_unsynced/all_structures_5/E00092_clean-X_clean.pdb'"
      ]
     },
     "execution_count": 143,
     "metadata": {},
     "output_type": "execute_result"
    },
    {
     "data": {
      "text/plain": [
       "'/home/nathan/projects_unsynced/all_structures_5/b0495_6_227_1f3o_clean.pdb'"
      ]
     },
     "execution_count": 143,
     "metadata": {},
     "output_type": "execute_result"
    },
    {
     "data": {
      "text/plain": [
       "'/home/nathan/projects_unsynced/all_structures_5/E02031_clean-X_clean.pdb'"
      ]
     },
     "execution_count": 143,
     "metadata": {},
     "output_type": "execute_result"
    },
    {
     "data": {
      "text/plain": [
       "'/home/nathan/projects_unsynced/all_structures_5/b0599_11_361_4p53_clean.pdb'"
      ]
     },
     "execution_count": 143,
     "metadata": {},
     "output_type": "execute_result"
    },
    {
     "data": {
      "text/plain": [
       "'/home/nathan/projects_unsynced/all_structures_5/E00623_clean-X_clean.pdb'"
      ]
     },
     "execution_count": 143,
     "metadata": {},
     "output_type": "execute_result"
    },
    {
     "data": {
      "text/plain": [
       "'/home/nathan/projects_unsynced/all_structures_5/E02988_clean-X_clean.pdb'"
      ]
     },
     "execution_count": 143,
     "metadata": {},
     "output_type": "execute_result"
    },
    {
     "data": {
      "text/plain": [
       "'/home/nathan/projects_unsynced/all_structures_5/b2471_2_117_1jzd_clean.pdb'"
      ]
     },
     "execution_count": 143,
     "metadata": {},
     "output_type": "execute_result"
    },
    {
     "data": {
      "text/plain": [
       "'/home/nathan/projects_unsynced/all_structures_5/b2293_2_203_3qu2_clean.pdb'"
      ]
     },
     "execution_count": 143,
     "metadata": {},
     "output_type": "execute_result"
    },
    {
     "data": {
      "text/plain": [
       "'/home/nathan/projects_unsynced/all_structures_5/b0071_2_181_3q3w_clean.pdb'"
      ]
     },
     "execution_count": 143,
     "metadata": {},
     "output_type": "execute_result"
    },
    {
     "data": {
      "text/plain": [
       "'/home/nathan/projects_unsynced/all_structures_5/SPPA_ECOLI_model1_clean-X_clean.pdb'"
      ]
     },
     "execution_count": 143,
     "metadata": {},
     "output_type": "execute_result"
    },
    {
     "data": {
      "text/plain": [
       "'/home/nathan/projects_unsynced/all_structures_5/E03582_clean-X_clean.pdb'"
      ]
     },
     "execution_count": 143,
     "metadata": {},
     "output_type": "execute_result"
    },
    {
     "data": {
      "text/plain": [
       "'/home/nathan/projects_unsynced/all_structures_5/b1917_2_248_1b0u_clean.pdb'"
      ]
     },
     "execution_count": 143,
     "metadata": {},
     "output_type": "execute_result"
    },
    {
     "data": {
      "text/plain": [
       "'/home/nathan/projects_unsynced/all_structures_5/b1210_1_418_5che_clean.pdb'"
      ]
     },
     "execution_count": 143,
     "metadata": {},
     "output_type": "execute_result"
    },
    {
     "data": {
      "text/plain": [
       "'/home/nathan/projects_unsynced/all_structures_5/b2146_9_406_5vj7_clean.pdb'"
      ]
     },
     "execution_count": 143,
     "metadata": {},
     "output_type": "execute_result"
    },
    {
     "data": {
      "text/plain": [
       "'/home/nathan/projects_unsynced/all_structures_5/E00376_clean-X_clean.pdb'"
      ]
     },
     "execution_count": 143,
     "metadata": {},
     "output_type": "execute_result"
    },
    {
     "data": {
      "text/plain": [
       "'/home/nathan/projects_unsynced/all_structures_5/E00241_clean-X_clean.pdb'"
      ]
     },
     "execution_count": 143,
     "metadata": {},
     "output_type": "execute_result"
    },
    {
     "data": {
      "text/plain": [
       "'/home/nathan/projects_unsynced/all_structures_5/E02529_clean-X_clean.pdb'"
      ]
     },
     "execution_count": 143,
     "metadata": {},
     "output_type": "execute_result"
    },
    {
     "data": {
      "text/plain": [
       "'/home/nathan/projects_unsynced/all_structures_5/E02918_clean-X_clean.pdb'"
      ]
     },
     "execution_count": 143,
     "metadata": {},
     "output_type": "execute_result"
    },
    {
     "data": {
      "text/plain": [
       "'/home/nathan/projects_unsynced/all_structures_5/b0893_1_423_2dq3_clean.pdb'"
      ]
     },
     "execution_count": 143,
     "metadata": {},
     "output_type": "execute_result"
    },
    {
     "data": {
      "text/plain": [
       "'/home/nathan/projects_unsynced/all_structures_5/b2601_9_343_1n8f_clean.pdb'"
      ]
     },
     "execution_count": 143,
     "metadata": {},
     "output_type": "execute_result"
    },
    {
     "data": {
      "text/plain": [
       "'/home/nathan/projects_unsynced/all_structures_5/E00999_clean-X_clean.pdb'"
      ]
     },
     "execution_count": 143,
     "metadata": {},
     "output_type": "execute_result"
    },
    {
     "data": {
      "text/plain": [
       "'/home/nathan/projects_unsynced/all_structures_5/b1710_3_182_1gp1_clean.pdb'"
      ]
     },
     "execution_count": 143,
     "metadata": {},
     "output_type": "execute_result"
    },
    {
     "data": {
      "text/plain": [
       "'/home/nathan/projects_unsynced/all_structures_5/E02468_clean-X_clean.pdb'"
      ]
     },
     "execution_count": 143,
     "metadata": {},
     "output_type": "execute_result"
    },
    {
     "data": {
      "text/plain": [
       "'/home/nathan/projects_unsynced/all_structures_5/b0084_49_570_5ksh_clean.pdb'"
      ]
     },
     "execution_count": 143,
     "metadata": {},
     "output_type": "execute_result"
    },
    {
     "data": {
      "text/plain": [
       "'/home/nathan/projects_unsynced/all_structures_5/E00115_clean-X_clean.pdb'"
      ]
     },
     "execution_count": 143,
     "metadata": {},
     "output_type": "execute_result"
    },
    {
     "data": {
      "text/plain": [
       "'/home/nathan/projects_unsynced/all_structures_5/E00996_clean-X_clean.pdb'"
      ]
     },
     "execution_count": 143,
     "metadata": {},
     "output_type": "execute_result"
    },
    {
     "data": {
      "text/plain": [
       "'/home/nathan/projects_unsynced/all_structures_5/b0422_6_75_1vp7_clean.pdb'"
      ]
     },
     "execution_count": 143,
     "metadata": {},
     "output_type": "execute_result"
    },
    {
     "data": {
      "text/plain": [
       "'/home/nathan/projects_unsynced/all_structures_5/b1853_2_274_4ivn_clean.pdb'"
      ]
     },
     "execution_count": 143,
     "metadata": {},
     "output_type": "execute_result"
    },
    {
     "data": {
      "text/plain": [
       "'/home/nathan/projects_unsynced/all_structures_5/E03937_clean-X_clean.pdb'"
      ]
     },
     "execution_count": 143,
     "metadata": {},
     "output_type": "execute_result"
    },
    {
     "data": {
      "text/plain": [
       "'/home/nathan/projects_unsynced/all_structures_5/b2892_18_576_5f56_clean.pdb'"
      ]
     },
     "execution_count": 143,
     "metadata": {},
     "output_type": "execute_result"
    },
    {
     "data": {
      "text/plain": [
       "'/home/nathan/projects_unsynced/all_structures_5/E01574_clean-X_clean.pdb'"
      ]
     },
     "execution_count": 143,
     "metadata": {},
     "output_type": "execute_result"
    },
    {
     "data": {
      "text/plain": [
       "'/home/nathan/projects_unsynced/all_structures_5/b1991_3_350_1l5l_clean.pdb'"
      ]
     },
     "execution_count": 143,
     "metadata": {},
     "output_type": "execute_result"
    },
    {
     "data": {
      "text/plain": [
       "'/home/nathan/projects_unsynced/all_structures_5/b3213_27_469_2vdc_clean.pdb'"
      ]
     },
     "execution_count": 143,
     "metadata": {},
     "output_type": "execute_result"
    },
    {
     "data": {
      "text/plain": [
       "'/home/nathan/projects_unsynced/all_structures_5/b3160_7_331_4us5_clean.pdb'"
      ]
     },
     "execution_count": 143,
     "metadata": {},
     "output_type": "execute_result"
    },
    {
     "data": {
      "text/plain": [
       "'/home/nathan/projects_unsynced/all_structures_5/E02960_clean-X_clean.pdb'"
      ]
     },
     "execution_count": 143,
     "metadata": {},
     "output_type": "execute_result"
    },
    {
     "data": {
      "text/plain": [
       "'/home/nathan/projects_unsynced/all_structures_5/b0050_2_123_1xvs_clean.pdb'"
      ]
     },
     "execution_count": 143,
     "metadata": {},
     "output_type": "execute_result"
    },
    {
     "data": {
      "text/plain": [
       "'/home/nathan/projects_unsynced/all_structures_5/WZC_ECOLI_model1_clean-X_clean.pdb'"
      ]
     },
     "execution_count": 143,
     "metadata": {},
     "output_type": "execute_result"
    },
    {
     "data": {
      "text/plain": [
       "'/home/nathan/projects_unsynced/all_structures_5/b2797_2_454_4rqo_clean.pdb'"
      ]
     },
     "execution_count": 143,
     "metadata": {},
     "output_type": "execute_result"
    },
    {
     "data": {
      "text/plain": [
       "'/home/nathan/projects_unsynced/all_structures_5/E01353_clean-X_clean.pdb'"
      ]
     },
     "execution_count": 143,
     "metadata": {},
     "output_type": "execute_result"
    },
    {
     "data": {
      "text/plain": [
       "'/home/nathan/projects_unsynced/all_structures_5/E02553_clean-X_clean.pdb'"
      ]
     },
     "execution_count": 143,
     "metadata": {},
     "output_type": "execute_result"
    },
    {
     "data": {
      "text/plain": [
       "'/home/nathan/projects_unsynced/all_structures_5/b0243_10_416_1o20_clean.pdb'"
      ]
     },
     "execution_count": 143,
     "metadata": {},
     "output_type": "execute_result"
    },
    {
     "data": {
      "text/plain": [
       "'/home/nathan/projects_unsynced/all_structures_5/E03979_clean-X_clean.pdb'"
      ]
     },
     "execution_count": 143,
     "metadata": {},
     "output_type": "execute_result"
    },
    {
     "data": {
      "text/plain": [
       "'/home/nathan/projects_unsynced/all_structures_5/b2690_3_186_3l5k_clean.pdb'"
      ]
     },
     "execution_count": 143,
     "metadata": {},
     "output_type": "execute_result"
    },
    {
     "data": {
      "text/plain": [
       "'/home/nathan/projects_unsynced/all_structures_5/b4058_1_940_3uwx_clean.pdb'"
      ]
     },
     "execution_count": 143,
     "metadata": {},
     "output_type": "execute_result"
    },
    {
     "data": {
      "text/plain": [
       "'/home/nathan/projects_unsynced/all_structures_5/b1422_9_305_2esn_clean.pdb'"
      ]
     },
     "execution_count": 143,
     "metadata": {},
     "output_type": "execute_result"
    },
    {
     "data": {
      "text/plain": [
       "'/home/nathan/projects_unsynced/all_structures_5/E03663_clean-X_clean.pdb'"
      ]
     },
     "execution_count": 143,
     "metadata": {},
     "output_type": "execute_result"
    },
    {
     "data": {
      "text/plain": [
       "'/home/nathan/projects_unsynced/all_structures_5/b3259_4_292_3egv_clean.pdb'"
      ]
     },
     "execution_count": 143,
     "metadata": {},
     "output_type": "execute_result"
    },
    {
     "data": {
      "text/plain": [
       "'/home/nathan/projects_unsynced/all_structures_5/b3170_1_150_1ib8_clean.pdb'"
      ]
     },
     "execution_count": 143,
     "metadata": {},
     "output_type": "execute_result"
    },
    {
     "data": {
      "text/plain": [
       "'/home/nathan/projects_unsynced/all_structures_5/E03924_clean-X_clean.pdb'"
      ]
     },
     "execution_count": 143,
     "metadata": {},
     "output_type": "execute_result"
    },
    {
     "data": {
      "text/plain": [
       "'/home/nathan/projects_unsynced/all_structures_5/E01308_clean-X_clean.pdb'"
      ]
     },
     "execution_count": 143,
     "metadata": {},
     "output_type": "execute_result"
    },
    {
     "data": {
      "text/plain": [
       "'/home/nathan/projects_unsynced/all_structures_5/b0074_3_501_3fig_clean.pdb'"
      ]
     },
     "execution_count": 143,
     "metadata": {},
     "output_type": "execute_result"
    },
    {
     "data": {
      "text/plain": [
       "'/home/nathan/projects_unsynced/all_structures_5/E02609_clean-X_clean.pdb'"
      ]
     },
     "execution_count": 143,
     "metadata": {},
     "output_type": "execute_result"
    },
    {
     "data": {
      "text/plain": [
       "'/home/nathan/projects_unsynced/all_structures_5/b0394_1_301_4db3_clean.pdb'"
      ]
     },
     "execution_count": 143,
     "metadata": {},
     "output_type": "execute_result"
    },
    {
     "data": {
      "text/plain": [
       "'/home/nathan/projects_unsynced/all_structures_5/E01840_clean-X_clean.pdb'"
      ]
     },
     "execution_count": 143,
     "metadata": {},
     "output_type": "execute_result"
    },
    {
     "data": {
      "text/plain": [
       "'/home/nathan/projects_unsynced/all_structures_5/E02320_clean-X_clean.pdb'"
      ]
     },
     "execution_count": 143,
     "metadata": {},
     "output_type": "execute_result"
    },
    {
     "data": {
      "text/plain": [
       "'/home/nathan/projects_unsynced/all_structures_5/b0391_2_94_2oyz_clean.pdb'"
      ]
     },
     "execution_count": 143,
     "metadata": {},
     "output_type": "execute_result"
    },
    {
     "data": {
      "text/plain": [
       "'/home/nathan/projects_unsynced/all_structures_5/E01520_clean-X_clean.pdb'"
      ]
     },
     "execution_count": 143,
     "metadata": {},
     "output_type": "execute_result"
    },
    {
     "data": {
      "text/plain": [
       "'/home/nathan/projects_unsynced/all_structures_5/E01920_clean-X_clean.pdb'"
      ]
     },
     "execution_count": 143,
     "metadata": {},
     "output_type": "execute_result"
    },
    {
     "data": {
      "text/plain": [
       "'/home/nathan/projects_unsynced/all_structures_5/E01161_clean-X_clean.pdb'"
      ]
     },
     "execution_count": 143,
     "metadata": {},
     "output_type": "execute_result"
    },
    {
     "data": {
      "text/plain": [
       "'/home/nathan/projects_unsynced/all_structures_5/b1519_6_248_2p35_clean.pdb'"
      ]
     },
     "execution_count": 143,
     "metadata": {},
     "output_type": "execute_result"
    },
    {
     "data": {
      "text/plain": [
       "'/home/nathan/projects_unsynced/all_structures_5/E03319_clean-X_clean.pdb'"
      ]
     },
     "execution_count": 143,
     "metadata": {},
     "output_type": "execute_result"
    },
    {
     "data": {
      "text/plain": [
       "'/home/nathan/projects_unsynced/all_structures_5/b4052_26_462_2vye_clean.pdb'"
      ]
     },
     "execution_count": 143,
     "metadata": {},
     "output_type": "execute_result"
    },
    {
     "data": {
      "text/plain": [
       "'/home/nathan/projects_unsynced/all_structures_5/CYAA_ECOLI_model1_clean-X_clean.pdb'"
      ]
     },
     "execution_count": 143,
     "metadata": {},
     "output_type": "execute_result"
    },
    {
     "data": {
      "text/plain": [
       "'/home/nathan/projects_unsynced/all_structures_6/E01270_clean-X_clean.pdb'"
      ]
     },
     "execution_count": 143,
     "metadata": {},
     "output_type": "execute_result"
    },
    {
     "data": {
      "text/plain": [
       "'/home/nathan/projects_unsynced/all_structures_6/E01875_clean-X_clean.pdb'"
      ]
     },
     "execution_count": 143,
     "metadata": {},
     "output_type": "execute_result"
    },
    {
     "data": {
      "text/plain": [
       "'/home/nathan/projects_unsynced/all_structures_6/b3551_9_777_1e60_clean.pdb'"
      ]
     },
     "execution_count": 143,
     "metadata": {},
     "output_type": "execute_result"
    },
    {
     "data": {
      "text/plain": [
       "'/home/nathan/projects_unsynced/all_structures_6/b1264_5_516_1i1q_clean.pdb'"
      ]
     },
     "execution_count": 143,
     "metadata": {},
     "output_type": "execute_result"
    },
    {
     "data": {
      "text/plain": [
       "'/home/nathan/projects_unsynced/all_structures_6/b4168_8_153_1htw_clean.pdb'"
      ]
     },
     "execution_count": 143,
     "metadata": {},
     "output_type": "execute_result"
    },
    {
     "data": {
      "text/plain": [
       "'/home/nathan/projects_unsynced/all_structures_6/b2508_1_484_4fxs_clean.pdb'"
      ]
     },
     "execution_count": 143,
     "metadata": {},
     "output_type": "execute_result"
    },
    {
     "data": {
      "text/plain": [
       "'/home/nathan/projects_unsynced/all_structures_6/E00284_clean-X_clean.pdb'"
      ]
     },
     "execution_count": 143,
     "metadata": {},
     "output_type": "execute_result"
    },
    {
     "data": {
      "text/plain": [
       "'/home/nathan/projects_unsynced/all_structures_6/b1378_1_1165_1b0p_clean.pdb'"
      ]
     },
     "execution_count": 143,
     "metadata": {},
     "output_type": "execute_result"
    },
    {
     "data": {
      "text/plain": [
       "'/home/nathan/projects_unsynced/all_structures_6/b3893_2_283_1kqf_clean.pdb'"
      ]
     },
     "execution_count": 143,
     "metadata": {},
     "output_type": "execute_result"
    },
    {
     "data": {
      "text/plain": [
       "'/home/nathan/projects_unsynced/all_structures_6/E03340_clean-X_clean.pdb'"
      ]
     },
     "execution_count": 143,
     "metadata": {},
     "output_type": "execute_result"
    },
    {
     "data": {
      "text/plain": [
       "'/home/nathan/projects_unsynced/all_structures_6/b3432_5_723_5gqw_clean.pdb'"
      ]
     },
     "execution_count": 143,
     "metadata": {},
     "output_type": "execute_result"
    },
    {
     "data": {
      "text/plain": [
       "'/home/nathan/projects_unsynced/all_structures_6/YEBT_ECOLI_model1_clean-X_clean.pdb'"
      ]
     },
     "execution_count": 143,
     "metadata": {},
     "output_type": "execute_result"
    },
    {
     "data": {
      "text/plain": [
       "'/home/nathan/projects_unsynced/all_structures_6/E03900_clean-X_clean.pdb'"
      ]
     },
     "execution_count": 143,
     "metadata": {},
     "output_type": "execute_result"
    },
    {
     "data": {
      "text/plain": [
       "'/home/nathan/projects_unsynced/all_structures_6/E01964_clean-X_clean.pdb'"
      ]
     },
     "execution_count": 143,
     "metadata": {},
     "output_type": "execute_result"
    },
    {
     "data": {
      "text/plain": [
       "'/home/nathan/projects_unsynced/all_structures_6/E01921_clean-X_clean.pdb'"
      ]
     },
     "execution_count": 143,
     "metadata": {},
     "output_type": "execute_result"
    },
    {
     "data": {
      "text/plain": [
       "'/home/nathan/projects_unsynced/all_structures_6/b3407_4_726_2oce_clean.pdb'"
      ]
     },
     "execution_count": 143,
     "metadata": {},
     "output_type": "execute_result"
    },
    {
     "data": {
      "text/plain": [
       "'/home/nathan/projects_unsynced/all_structures_6/AK2H_ECOLI_model1_clean-X_clean.pdb'"
      ]
     },
     "execution_count": 143,
     "metadata": {},
     "output_type": "execute_result"
    },
    {
     "data": {
      "text/plain": [
       "'/home/nathan/projects_unsynced/all_structures_6/b2980_6_236_2di3_clean.pdb'"
      ]
     },
     "execution_count": 143,
     "metadata": {},
     "output_type": "execute_result"
    },
    {
     "data": {
      "text/plain": [
       "'/home/nathan/projects_unsynced/all_structures_6/b1356_6_153_2xsd_clean.pdb'"
      ]
     },
     "execution_count": 143,
     "metadata": {},
     "output_type": "execute_result"
    },
    {
     "data": {
      "text/plain": [
       "'/home/nathan/projects_unsynced/all_structures_6/b1300_3_493_4lih_clean.pdb'"
      ]
     },
     "execution_count": 143,
     "metadata": {},
     "output_type": "execute_result"
    },
    {
     "data": {
      "text/plain": [
       "'/home/nathan/projects_unsynced/all_structures_6/b2343_1_94_2k3i_clean.pdb'"
      ]
     },
     "execution_count": 143,
     "metadata": {},
     "output_type": "execute_result"
    },
    {
     "data": {
      "text/plain": [
       "'/home/nathan/projects_unsynced/all_structures_6/E01192_clean-X_clean.pdb'"
      ]
     },
     "execution_count": 143,
     "metadata": {},
     "output_type": "execute_result"
    },
    {
     "data": {
      "text/plain": [
       "'/home/nathan/projects_unsynced/all_structures_6/b0208_2_296_5ae5_clean.pdb'"
      ]
     },
     "execution_count": 143,
     "metadata": {},
     "output_type": "execute_result"
    },
    {
     "data": {
      "text/plain": [
       "'/home/nathan/projects_unsynced/all_structures_6/FLHA_ECOLI_model1_clean-X_clean.pdb'"
      ]
     },
     "execution_count": 143,
     "metadata": {},
     "output_type": "execute_result"
    },
    {
     "data": {
      "text/plain": [
       "'/home/nathan/projects_unsynced/all_structures_6/b1124_8_253_2onk_clean.pdb'"
      ]
     },
     "execution_count": 143,
     "metadata": {},
     "output_type": "execute_result"
    },
    {
     "data": {
      "text/plain": [
       "'/home/nathan/projects_unsynced/all_structures_6/b2495_5_119_2h0i_clean.pdb'"
      ]
     },
     "execution_count": 143,
     "metadata": {},
     "output_type": "execute_result"
    },
    {
     "data": {
      "text/plain": [
       "'/home/nathan/projects_unsynced/all_structures_6/IF2_ECOLI_model1_clean-X_clean.pdb'"
      ]
     },
     "execution_count": 143,
     "metadata": {},
     "output_type": "execute_result"
    },
    {
     "data": {
      "text/plain": [
       "'/home/nathan/projects_unsynced/all_structures_6/E00158_clean-X_clean.pdb'"
      ]
     },
     "execution_count": 143,
     "metadata": {},
     "output_type": "execute_result"
    },
    {
     "data": {
      "text/plain": [
       "'/home/nathan/projects_unsynced/all_structures_6/b1120_12_269_4iao_clean.pdb'"
      ]
     },
     "execution_count": 143,
     "metadata": {},
     "output_type": "execute_result"
    },
    {
     "data": {
      "text/plain": [
       "'/home/nathan/projects_unsynced/all_structures_6/E01509_clean-X_clean.pdb'"
      ]
     },
     "execution_count": 143,
     "metadata": {},
     "output_type": "execute_result"
    },
    {
     "data": {
      "text/plain": [
       "'/home/nathan/projects_unsynced/all_structures_6/b1125_2_270_4tqv_clean.pdb'"
      ]
     },
     "execution_count": 143,
     "metadata": {},
     "output_type": "execute_result"
    },
    {
     "data": {
      "text/plain": [
       "'/home/nathan/projects_unsynced/all_structures_6/E00812_clean-X_clean.pdb'"
      ]
     },
     "execution_count": 143,
     "metadata": {},
     "output_type": "execute_result"
    },
    {
     "data": {
      "text/plain": [
       "'/home/nathan/projects_unsynced/all_structures_6/b1927_3_490_1ud3_clean.pdb'"
      ]
     },
     "execution_count": 143,
     "metadata": {},
     "output_type": "execute_result"
    },
    {
     "data": {
      "text/plain": [
       "'/home/nathan/projects_unsynced/all_structures_6/b1320_4_332_1vpw_clean.pdb'"
      ]
     },
     "execution_count": 143,
     "metadata": {},
     "output_type": "execute_result"
    },
    {
     "data": {
      "text/plain": [
       "'/home/nathan/projects_unsynced/all_structures_6/E03886_clean-X_clean.pdb'"
      ]
     },
     "execution_count": 143,
     "metadata": {},
     "output_type": "execute_result"
    },
    {
     "data": {
      "text/plain": [
       "'/home/nathan/projects_unsynced/all_structures_6/b2704_3_120_2f9h_clean.pdb'"
      ]
     },
     "execution_count": 143,
     "metadata": {},
     "output_type": "execute_result"
    },
    {
     "data": {
      "text/plain": [
       "'/home/nathan/projects_unsynced/all_structures_6/b2619_14_157_1t17_clean.pdb'"
      ]
     },
     "execution_count": 143,
     "metadata": {},
     "output_type": "execute_result"
    },
    {
     "data": {
      "text/plain": [
       "'/home/nathan/projects_unsynced/all_structures_6/E01682_clean-X_clean.pdb'"
      ]
     },
     "execution_count": 143,
     "metadata": {},
     "output_type": "execute_result"
    },
    {
     "data": {
      "text/plain": [
       "'/home/nathan/projects_unsynced/all_structures_6/b2424_15_268_2onk_clean.pdb'"
      ]
     },
     "execution_count": 143,
     "metadata": {},
     "output_type": "execute_result"
    },
    {
     "data": {
      "text/plain": [
       "'/home/nathan/projects_unsynced/all_structures_6/b2311_3_188_1sbz_clean.pdb'"
      ]
     },
     "execution_count": 143,
     "metadata": {},
     "output_type": "execute_result"
    },
    {
     "data": {
      "text/plain": [
       "'/home/nathan/projects_unsynced/all_structures_6/b3087_1_321_4iq0_clean.pdb'"
      ]
     },
     "execution_count": 143,
     "metadata": {},
     "output_type": "execute_result"
    },
    {
     "data": {
      "text/plain": [
       "'/home/nathan/projects_unsynced/all_structures_6/E03692_clean-X_clean.pdb'"
      ]
     },
     "execution_count": 143,
     "metadata": {},
     "output_type": "execute_result"
    },
    {
     "data": {
      "text/plain": [
       "'/home/nathan/projects_unsynced/all_structures_6/b1299_19_185_2uya_clean.pdb'"
      ]
     },
     "execution_count": 143,
     "metadata": {},
     "output_type": "execute_result"
    },
    {
     "data": {
      "text/plain": [
       "'/home/nathan/projects_unsynced/all_structures_6/E01723_clean-X_clean.pdb'"
      ]
     },
     "execution_count": 143,
     "metadata": {},
     "output_type": "execute_result"
    },
    {
     "data": {
      "text/plain": [
       "'/home/nathan/projects_unsynced/all_structures_6/b1126_17_373_3d31_clean.pdb'"
      ]
     },
     "execution_count": 143,
     "metadata": {},
     "output_type": "execute_result"
    },
    {
     "data": {
      "text/plain": [
       "'/home/nathan/projects_unsynced/all_structures_6/b2927_2_339_2x5k_clean.pdb'"
      ]
     },
     "execution_count": 143,
     "metadata": {},
     "output_type": "execute_result"
    },
    {
     "data": {
      "text/plain": [
       "'/home/nathan/projects_unsynced/all_structures_6/b1983_4_237_4f3q_clean.pdb'"
      ]
     },
     "execution_count": 143,
     "metadata": {},
     "output_type": "execute_result"
    },
    {
     "data": {
      "text/plain": [
       "'/home/nathan/projects_unsynced/all_structures_6/E00979_clean-X_clean.pdb'"
      ]
     },
     "execution_count": 143,
     "metadata": {},
     "output_type": "execute_result"
    },
    {
     "data": {
      "text/plain": [
       "'/home/nathan/projects_unsynced/all_structures_6/E02587_clean-X_clean.pdb'"
      ]
     },
     "execution_count": 143,
     "metadata": {},
     "output_type": "execute_result"
    },
    {
     "data": {
      "text/plain": [
       "'/home/nathan/projects_unsynced/all_structures_6/b3223_5_225_4fir_clean.pdb'"
      ]
     },
     "execution_count": 143,
     "metadata": {},
     "output_type": "execute_result"
    },
    {
     "data": {
      "text/plain": [
       "'/home/nathan/projects_unsynced/all_structures_6/E00054_clean-X_clean.pdb'"
      ]
     },
     "execution_count": 143,
     "metadata": {},
     "output_type": "execute_result"
    },
    {
     "data": {
      "text/plain": [
       "'/home/nathan/projects_unsynced/all_structures_6/E03598_clean-X_clean.pdb'"
      ]
     },
     "execution_count": 143,
     "metadata": {},
     "output_type": "execute_result"
    },
    {
     "data": {
      "text/plain": [
       "'/home/nathan/projects_unsynced/all_structures_6/E02176_clean-X_clean.pdb'"
      ]
     },
     "execution_count": 143,
     "metadata": {},
     "output_type": "execute_result"
    },
    {
     "data": {
      "text/plain": [
       "'/home/nathan/projects_unsynced/all_structures_6/E01171_clean-X_clean.pdb'"
      ]
     },
     "execution_count": 143,
     "metadata": {},
     "output_type": "execute_result"
    },
    {
     "data": {
      "text/plain": [
       "'/home/nathan/projects_unsynced/all_structures_6/b2023_2_196_4gud_clean.pdb'"
      ]
     },
     "execution_count": 143,
     "metadata": {},
     "output_type": "execute_result"
    },
    {
     "data": {
      "text/plain": [
       "'/home/nathan/projects_unsynced/all_structures_6/E03010_clean-X_clean.pdb'"
      ]
     },
     "execution_count": 143,
     "metadata": {},
     "output_type": "execute_result"
    },
    {
     "data": {
      "text/plain": [
       "'/home/nathan/projects_unsynced/all_structures_6/UVRC_ECOLI_model1_clean-X_clean.pdb'"
      ]
     },
     "execution_count": 143,
     "metadata": {},
     "output_type": "execute_result"
    },
    {
     "data": {
      "text/plain": [
       "'/home/nathan/projects_unsynced/all_structures_6/b0306_1_239_5odc_clean.pdb'"
      ]
     },
     "execution_count": 143,
     "metadata": {},
     "output_type": "execute_result"
    },
    {
     "data": {
      "text/plain": [
       "'/home/nathan/projects_unsynced/all_structures_6/b3124_1_378_3cwc_clean.pdb'"
      ]
     },
     "execution_count": 143,
     "metadata": {},
     "output_type": "execute_result"
    },
    {
     "data": {
      "text/plain": [
       "'/home/nathan/projects_unsynced/all_structures_6/E02996_clean-X_clean.pdb'"
      ]
     },
     "execution_count": 143,
     "metadata": {},
     "output_type": "execute_result"
    },
    {
     "data": {
      "text/plain": [
       "'/home/nathan/projects_unsynced/all_structures_6/b2554_6_436_5m7o_clean.pdb'"
      ]
     },
     "execution_count": 143,
     "metadata": {},
     "output_type": "execute_result"
    },
    {
     "data": {
      "text/plain": [
       "'/home/nathan/projects_unsynced/all_structures_6/E00080_clean-X_clean.pdb'"
      ]
     },
     "execution_count": 143,
     "metadata": {},
     "output_type": "execute_result"
    },
    {
     "data": {
      "text/plain": [
       "'/home/nathan/projects_unsynced/all_structures_6/E01629_clean-X_clean.pdb'"
      ]
     },
     "execution_count": 143,
     "metadata": {},
     "output_type": "execute_result"
    },
    {
     "data": {
      "text/plain": [
       "'/home/nathan/projects_unsynced/all_structures_6/E03012_clean-X_clean.pdb'"
      ]
     },
     "execution_count": 143,
     "metadata": {},
     "output_type": "execute_result"
    },
    {
     "data": {
      "text/plain": [
       "'/home/nathan/projects_unsynced/all_structures_6/b2909_10_177_1izm_clean.pdb'"
      ]
     },
     "execution_count": 143,
     "metadata": {},
     "output_type": "execute_result"
    },
    {
     "data": {
      "text/plain": [
       "'/home/nathan/projects_unsynced/all_structures_6/b1987_1_300_3k1m_clean.pdb'"
      ]
     },
     "execution_count": 143,
     "metadata": {},
     "output_type": "execute_result"
    },
    {
     "data": {
      "text/plain": [
       "'/home/nathan/projects_unsynced/all_structures_6/b4242_43_896_3w5a_clean.pdb'"
      ]
     },
     "execution_count": 143,
     "metadata": {},
     "output_type": "execute_result"
    },
    {
     "data": {
      "text/plain": [
       "'/home/nathan/projects_unsynced/all_structures_6/E03061_clean-X_clean.pdb'"
      ]
     },
     "execution_count": 143,
     "metadata": {},
     "output_type": "execute_result"
    },
    {
     "data": {
      "text/plain": [
       "'/home/nathan/projects_unsynced/all_structures_6/b0750_26_342_4hhe_clean.pdb'"
      ]
     },
     "execution_count": 143,
     "metadata": {},
     "output_type": "execute_result"
    },
    {
     "data": {
      "text/plain": [
       "'/home/nathan/projects_unsynced/all_structures_6/b0588_5_258_4g1u_clean.pdb'"
      ]
     },
     "execution_count": 143,
     "metadata": {},
     "output_type": "execute_result"
    },
    {
     "data": {
      "text/plain": [
       "'/home/nathan/projects_unsynced/all_structures_6/SYM_ECOLI_model1_clean-X_clean.pdb'"
      ]
     },
     "execution_count": 143,
     "metadata": {},
     "output_type": "execute_result"
    },
    {
     "data": {
      "text/plain": [
       "'/home/nathan/projects_unsynced/all_structures_6/b2094_6_144_1xiz_clean.pdb'"
      ]
     },
     "execution_count": 143,
     "metadata": {},
     "output_type": "execute_result"
    },
    {
     "data": {
      "text/plain": [
       "'/home/nathan/projects_unsynced/all_structures_6/b1608_3_236_4s04_clean.pdb'"
      ]
     },
     "execution_count": 143,
     "metadata": {},
     "output_type": "execute_result"
    },
    {
     "data": {
      "text/plain": [
       "'/home/nathan/projects_unsynced/all_structures_6/E02467_clean-X_clean.pdb'"
      ]
     },
     "execution_count": 143,
     "metadata": {},
     "output_type": "execute_result"
    },
    {
     "data": {
      "text/plain": [
       "'/home/nathan/projects_unsynced/all_structures_6/E00582_clean-X_clean.pdb'"
      ]
     },
     "execution_count": 143,
     "metadata": {},
     "output_type": "execute_result"
    },
    {
     "data": {
      "text/plain": [
       "'/home/nathan/projects_unsynced/all_structures_6/b0780_8_300_2ppv_clean.pdb'"
      ]
     },
     "execution_count": 143,
     "metadata": {},
     "output_type": "execute_result"
    },
    {
     "data": {
      "text/plain": [
       "'/home/nathan/projects_unsynced/all_structures_6/b4401_6_233_2oqr_clean.pdb'"
      ]
     },
     "execution_count": 143,
     "metadata": {},
     "output_type": "execute_result"
    },
    {
     "data": {
      "text/plain": [
       "'/home/nathan/projects_unsynced/all_structures_6/E03558_clean-X_clean.pdb'"
      ]
     },
     "execution_count": 143,
     "metadata": {},
     "output_type": "execute_result"
    },
    {
     "data": {
      "text/plain": [
       "'/home/nathan/projects_unsynced/all_structures_6/E03829_clean-X_clean.pdb'"
      ]
     },
     "execution_count": 143,
     "metadata": {},
     "output_type": "execute_result"
    },
    {
     "data": {
      "text/plain": [
       "'/home/nathan/projects_unsynced/all_structures_6/b2750_7_199_2ofx_clean.pdb'"
      ]
     },
     "execution_count": 143,
     "metadata": {},
     "output_type": "execute_result"
    },
    {
     "data": {
      "text/plain": [
       "'/home/nathan/projects_unsynced/all_structures_6/b2422_2_347_3fvq_clean.pdb'"
      ]
     },
     "execution_count": 143,
     "metadata": {},
     "output_type": "execute_result"
    },
    {
     "data": {
      "text/plain": [
       "'/home/nathan/projects_unsynced/all_structures_6/b2907_1_390_4n9x_clean.pdb'"
      ]
     },
     "execution_count": 143,
     "metadata": {},
     "output_type": "execute_result"
    },
    {
     "data": {
      "text/plain": [
       "'/home/nathan/projects_unsynced/all_structures_6/b0796_1_220_1t33_clean.pdb'"
      ]
     },
     "execution_count": 143,
     "metadata": {},
     "output_type": "execute_result"
    },
    {
     "data": {
      "text/plain": [
       "'/home/nathan/projects_unsynced/all_structures_6/E01030_clean-X_clean.pdb'"
      ]
     },
     "execution_count": 143,
     "metadata": {},
     "output_type": "execute_result"
    },
    {
     "data": {
      "text/plain": [
       "'/home/nathan/projects_unsynced/all_structures_6/E03148_clean-X_clean.pdb'"
      ]
     },
     "execution_count": 143,
     "metadata": {},
     "output_type": "execute_result"
    },
    {
     "data": {
      "text/plain": [
       "'/home/nathan/projects_unsynced/all_structures_6/E00373_clean-X_clean.pdb'"
      ]
     },
     "execution_count": 143,
     "metadata": {},
     "output_type": "execute_result"
    },
    {
     "data": {
      "text/plain": [
       "'/home/nathan/projects_unsynced/all_structures_6/b3669_1_194_1a04_clean.pdb'"
      ]
     },
     "execution_count": 143,
     "metadata": {},
     "output_type": "execute_result"
    },
    {
     "data": {
      "text/plain": [
       "'/home/nathan/projects_unsynced/all_structures_6/b2168_4_312_2jg5_clean.pdb'"
      ]
     },
     "execution_count": 143,
     "metadata": {},
     "output_type": "execute_result"
    },
    {
     "data": {
      "text/plain": [
       "'/home/nathan/projects_unsynced/all_structures_6/E03424_clean-X_clean.pdb'"
      ]
     },
     "execution_count": 143,
     "metadata": {},
     "output_type": "execute_result"
    },
    {
     "data": {
      "text/plain": [
       "'/home/nathan/projects_unsynced/all_structures_6/E01957_clean-X_clean.pdb'"
      ]
     },
     "execution_count": 143,
     "metadata": {},
     "output_type": "execute_result"
    },
    {
     "data": {
      "text/plain": [
       "'/home/nathan/projects_unsynced/all_structures_6/E00984_clean-X_clean.pdb'"
      ]
     },
     "execution_count": 143,
     "metadata": {},
     "output_type": "execute_result"
    },
    {
     "data": {
      "text/plain": [
       "'/home/nathan/projects_unsynced/all_structures_6/E00404_clean-X_clean.pdb'"
      ]
     },
     "execution_count": 143,
     "metadata": {},
     "output_type": "execute_result"
    },
    {
     "data": {
      "text/plain": [
       "'/home/nathan/projects_unsynced/all_structures_6/E02403_clean-X_clean.pdb'"
      ]
     },
     "execution_count": 143,
     "metadata": {},
     "output_type": "execute_result"
    },
    {
     "data": {
      "text/plain": [
       "'/home/nathan/projects_unsynced/all_structures_6/b2916_4_296_3k1m_clean.pdb'"
      ]
     },
     "execution_count": 143,
     "metadata": {},
     "output_type": "execute_result"
    },
    {
     "data": {
      "text/plain": [
       "'/home/nathan/projects_unsynced/all_structures_6/b3056_1_403_3h38_clean.pdb'"
      ]
     },
     "execution_count": 143,
     "metadata": {},
     "output_type": "execute_result"
    },
    {
     "data": {
      "text/plain": [
       "'/home/nathan/projects_unsynced/all_structures_6/E03320_clean-X_clean.pdb'"
      ]
     },
     "execution_count": 143,
     "metadata": {},
     "output_type": "execute_result"
    },
    {
     "data": {
      "text/plain": [
       "'/home/nathan/projects_unsynced/all_structures_6/b0840_21_249_4rzs_clean.pdb'"
      ]
     },
     "execution_count": 143,
     "metadata": {},
     "output_type": "execute_result"
    },
    {
     "data": {
      "text/plain": [
       "'/home/nathan/projects_unsynced/all_structures_6/b3588_28_507_5l13_clean.pdb'"
      ]
     },
     "execution_count": 143,
     "metadata": {},
     "output_type": "execute_result"
    },
    {
     "data": {
      "text/plain": [
       "'/home/nathan/projects_unsynced/all_structures_6/E02162_clean-X_clean.pdb'"
      ]
     },
     "execution_count": 143,
     "metadata": {},
     "output_type": "execute_result"
    },
    {
     "data": {
      "text/plain": [
       "'/home/nathan/projects_unsynced/all_structures_6/E01855_clean-X_clean.pdb'"
      ]
     },
     "execution_count": 143,
     "metadata": {},
     "output_type": "execute_result"
    },
    {
     "data": {
      "text/plain": [
       "'/home/nathan/projects_unsynced/all_structures_7/b1606_6_240_3gem_clean.pdb'"
      ]
     },
     "execution_count": 143,
     "metadata": {},
     "output_type": "execute_result"
    },
    {
     "data": {
      "text/plain": [
       "'/home/nathan/projects_unsynced/all_structures_7/b2096_2_283_1gvf_clean.pdb'"
      ]
     },
     "execution_count": 143,
     "metadata": {},
     "output_type": "execute_result"
    },
    {
     "data": {
      "text/plain": [
       "'/home/nathan/projects_unsynced/all_structures_7/b0087_20_360_5ckr_clean.pdb'"
      ]
     },
     "execution_count": 143,
     "metadata": {},
     "output_type": "execute_result"
    },
    {
     "data": {
      "text/plain": [
       "'/home/nathan/projects_unsynced/all_structures_7/b2341_6_706_1wdl_clean.pdb'"
      ]
     },
     "execution_count": 143,
     "metadata": {},
     "output_type": "execute_result"
    },
    {
     "data": {
      "text/plain": [
       "'/home/nathan/projects_unsynced/all_structures_7/b1521_12_483_1m2w_clean.pdb'"
      ]
     },
     "execution_count": 143,
     "metadata": {},
     "output_type": "execute_result"
    },
    {
     "data": {
      "text/plain": [
       "'/home/nathan/projects_unsynced/all_structures_7/MUTL_ECOLI_model1_clean-X_clean.pdb'"
      ]
     },
     "execution_count": 143,
     "metadata": {},
     "output_type": "execute_result"
    },
    {
     "data": {
      "text/plain": [
       "'/home/nathan/projects_unsynced/all_structures_7/E04095_clean-X_clean.pdb'"
      ]
     },
     "execution_count": 143,
     "metadata": {},
     "output_type": "execute_result"
    },
    {
     "data": {
      "text/plain": [
       "'/home/nathan/projects_unsynced/all_structures_7/b2154_1_276_3s8y_clean.pdb'"
      ]
     },
     "execution_count": 143,
     "metadata": {},
     "output_type": "execute_result"
    },
    {
     "data": {
      "text/plain": [
       "'/home/nathan/projects_unsynced/all_structures_7/b0779_3_662_2nmv_clean.pdb'"
      ]
     },
     "execution_count": 143,
     "metadata": {},
     "output_type": "execute_result"
    },
    {
     "data": {
      "text/plain": [
       "'/home/nathan/projects_unsynced/all_structures_7/E00395_clean-X_clean.pdb'"
      ]
     },
     "execution_count": 143,
     "metadata": {},
     "output_type": "execute_result"
    },
    {
     "data": {
      "text/plain": [
       "'/home/nathan/projects_unsynced/all_structures_7/b0931_3_394_3os4_clean.pdb'"
      ]
     },
     "execution_count": 143,
     "metadata": {},
     "output_type": "execute_result"
    },
    {
     "data": {
      "text/plain": [
       "'/home/nathan/projects_unsynced/all_structures_7/E00397_clean-X_clean.pdb'"
      ]
     },
     "execution_count": 143,
     "metadata": {},
     "output_type": "execute_result"
    },
    {
     "data": {
      "text/plain": [
       "'/home/nathan/projects_unsynced/all_structures_7/E00981_clean-X_clean.pdb'"
      ]
     },
     "execution_count": 143,
     "metadata": {},
     "output_type": "execute_result"
    },
    {
     "data": {
      "text/plain": [
       "'/home/nathan/projects_unsynced/all_structures_7/E03616_clean-X_clean.pdb'"
      ]
     },
     "execution_count": 143,
     "metadata": {},
     "output_type": "execute_result"
    },
    {
     "data": {
      "text/plain": [
       "'/home/nathan/projects_unsynced/all_structures_7/b1406_3_284_5dan_clean.pdb'"
      ]
     },
     "execution_count": 143,
     "metadata": {},
     "output_type": "execute_result"
    },
    {
     "data": {
      "text/plain": [
       "'/home/nathan/projects_unsynced/all_structures_7/E03998_clean-X_clean.pdb'"
      ]
     },
     "execution_count": 143,
     "metadata": {},
     "output_type": "execute_result"
    },
    {
     "data": {
      "text/plain": [
       "'/home/nathan/projects_unsynced/all_structures_7/E00908_clean-X_clean.pdb'"
      ]
     },
     "execution_count": 143,
     "metadata": {},
     "output_type": "execute_result"
    },
    {
     "data": {
      "text/plain": [
       "'/home/nathan/projects_unsynced/all_structures_7/b3591_6_454_3w1k_clean.pdb'"
      ]
     },
     "execution_count": 143,
     "metadata": {},
     "output_type": "execute_result"
    },
    {
     "data": {
      "text/plain": [
       "'/home/nathan/projects_unsynced/all_structures_7/E01620_clean-X_clean.pdb'"
      ]
     },
     "execution_count": 143,
     "metadata": {},
     "output_type": "execute_result"
    },
    {
     "data": {
      "text/plain": [
       "'/home/nathan/projects_unsynced/all_structures_7/b3671_15_562_3e9y_clean.pdb'"
      ]
     },
     "execution_count": 143,
     "metadata": {},
     "output_type": "execute_result"
    },
    {
     "data": {
      "text/plain": [
       "'/home/nathan/projects_unsynced/all_structures_7/E03216_clean-X_clean.pdb'"
      ]
     },
     "execution_count": 143,
     "metadata": {},
     "output_type": "execute_result"
    },
    {
     "data": {
      "text/plain": [
       "'/home/nathan/projects_unsynced/all_structures_7/E02394_clean-X_clean.pdb'"
      ]
     },
     "execution_count": 143,
     "metadata": {},
     "output_type": "execute_result"
    },
    {
     "data": {
      "text/plain": [
       "'/home/nathan/projects_unsynced/all_structures_7/b1852_8_488_5ukw_clean.pdb'"
      ]
     },
     "execution_count": 143,
     "metadata": {},
     "output_type": "execute_result"
    },
    {
     "data": {
      "text/plain": [
       "'/home/nathan/projects_unsynced/all_structures_7/E01249_clean-X_clean.pdb'"
      ]
     },
     "execution_count": 143,
     "metadata": {},
     "output_type": "execute_result"
    },
    {
     "data": {
      "text/plain": [
       "'/home/nathan/projects_unsynced/all_structures_7/E02876_clean-X_clean.pdb'"
      ]
     },
     "execution_count": 143,
     "metadata": {},
     "output_type": "execute_result"
    },
    {
     "data": {
      "text/plain": [
       "'/home/nathan/projects_unsynced/all_structures_7/E04105_clean-X_clean.pdb'"
      ]
     },
     "execution_count": 143,
     "metadata": {},
     "output_type": "execute_result"
    },
    {
     "data": {
      "text/plain": [
       "'/home/nathan/projects_unsynced/all_structures_7/b1479_8_563_3wja_clean.pdb'"
      ]
     },
     "execution_count": 143,
     "metadata": {},
     "output_type": "execute_result"
    },
    {
     "data": {
      "text/plain": [
       "'/home/nathan/projects_unsynced/all_structures_7/b3846_1_714_1wdl_clean.pdb'"
      ]
     },
     "execution_count": 143,
     "metadata": {},
     "output_type": "execute_result"
    },
    {
     "data": {
      "text/plain": [
       "'/home/nathan/projects_unsynced/all_structures_7/E02454_clean-X_clean.pdb'"
      ]
     },
     "execution_count": 143,
     "metadata": {},
     "output_type": "execute_result"
    },
    {
     "data": {
      "text/plain": [
       "'/home/nathan/projects_unsynced/all_structures_7/b3632_5_334_3tov_clean.pdb'"
      ]
     },
     "execution_count": 143,
     "metadata": {},
     "output_type": "execute_result"
    },
    {
     "data": {
      "text/plain": [
       "'/home/nathan/projects_unsynced/all_structures_7/b3574_21_270_5h1a_clean.pdb'"
      ]
     },
     "execution_count": 143,
     "metadata": {},
     "output_type": "execute_result"
    },
    {
     "data": {
      "text/plain": [
       "'/home/nathan/projects_unsynced/all_structures_7/b2423_20_270_3d31_clean.pdb'"
      ]
     },
     "execution_count": 143,
     "metadata": {},
     "output_type": "execute_result"
    },
    {
     "data": {
      "text/plain": [
       "'/home/nathan/projects_unsynced/all_structures_7/E01000_clean-X_clean.pdb'"
      ]
     },
     "execution_count": 143,
     "metadata": {},
     "output_type": "execute_result"
    },
    {
     "data": {
      "text/plain": [
       "'/home/nathan/projects_unsynced/all_structures_7/b3833_32_250_4obw_clean.pdb'"
      ]
     },
     "execution_count": 143,
     "metadata": {},
     "output_type": "execute_result"
    },
    {
     "data": {
      "text/plain": [
       "'/home/nathan/projects_unsynced/all_structures_7/E02804_clean-X_clean.pdb'"
      ]
     },
     "execution_count": 143,
     "metadata": {},
     "output_type": "execute_result"
    },
    {
     "data": {
      "text/plain": [
       "'/home/nathan/projects_unsynced/all_structures_7/E01581_clean-X_clean.pdb'"
      ]
     },
     "execution_count": 143,
     "metadata": {},
     "output_type": "execute_result"
    },
    {
     "data": {
      "text/plain": [
       "'/home/nathan/projects_unsynced/all_structures_7/METH_ECOLI_model1_clean-X_clean.pdb'"
      ]
     },
     "execution_count": 143,
     "metadata": {},
     "output_type": "execute_result"
    },
    {
     "data": {
      "text/plain": [
       "'/home/nathan/projects_unsynced/all_structures_7/b2751_19_434_1zun_clean.pdb'"
      ]
     },
     "execution_count": 143,
     "metadata": {},
     "output_type": "execute_result"
    },
    {
     "data": {
      "text/plain": [
       "'/home/nathan/projects_unsynced/all_structures_7/b4295_12_323_2w48_clean.pdb'"
      ]
     },
     "execution_count": 143,
     "metadata": {},
     "output_type": "execute_result"
    },
    {
     "data": {
      "text/plain": [
       "'/home/nathan/projects_unsynced/all_structures_7/E01532_clean-X_clean.pdb'"
      ]
     },
     "execution_count": 143,
     "metadata": {},
     "output_type": "execute_result"
    },
    {
     "data": {
      "text/plain": [
       "'/home/nathan/projects_unsynced/all_structures_7/b4178_2_132_5n07_clean.pdb'"
      ]
     },
     "execution_count": 143,
     "metadata": {},
     "output_type": "execute_result"
    },
    {
     "data": {
      "text/plain": [
       "'/home/nathan/projects_unsynced/all_structures_7/b4324_8_236_2hs5_clean.pdb'"
      ]
     },
     "execution_count": 143,
     "metadata": {},
     "output_type": "execute_result"
    },
    {
     "data": {
      "text/plain": [
       "'/home/nathan/projects_unsynced/all_structures_7/E00598_clean-X_clean.pdb'"
      ]
     },
     "execution_count": 143,
     "metadata": {},
     "output_type": "execute_result"
    },
    {
     "data": {
      "text/plain": [
       "'/home/nathan/projects_unsynced/all_structures_7/PTA_ECOLI_model1_clean-X_clean.pdb'"
      ]
     },
     "execution_count": 143,
     "metadata": {},
     "output_type": "execute_result"
    },
    {
     "data": {
      "text/plain": [
       "'/home/nathan/projects_unsynced/all_structures_7/b2948_3_187_2mui_clean.pdb'"
      ]
     },
     "execution_count": 143,
     "metadata": {},
     "output_type": "execute_result"
    },
    {
     "data": {
      "text/plain": [
       "'/home/nathan/projects_unsynced/all_structures_7/E00896_clean-X_clean.pdb'"
      ]
     },
     "execution_count": 143,
     "metadata": {},
     "output_type": "execute_result"
    },
    {
     "data": {
      "text/plain": [
       "'/home/nathan/projects_unsynced/all_structures_7/b2473_15_210_4fhz_clean.pdb'"
      ]
     },
     "execution_count": 143,
     "metadata": {},
     "output_type": "execute_result"
    },
    {
     "data": {
      "text/plain": [
       "'/home/nathan/projects_unsynced/all_structures_7/E01847_clean-X_clean.pdb'"
      ]
     },
     "execution_count": 143,
     "metadata": {},
     "output_type": "execute_result"
    },
    {
     "data": {
      "text/plain": [
       "'/home/nathan/projects_unsynced/all_structures_7/E01569_clean-X_clean.pdb'"
      ]
     },
     "execution_count": 143,
     "metadata": {},
     "output_type": "execute_result"
    },
    {
     "data": {
      "text/plain": [
       "'/home/nathan/projects_unsynced/all_structures_7/E03872_clean-X_clean.pdb'"
      ]
     },
     "execution_count": 143,
     "metadata": {},
     "output_type": "execute_result"
    },
    {
     "data": {
      "text/plain": [
       "'/home/nathan/projects_unsynced/all_structures_7/b1703_4_271_5d1f_clean.pdb'"
      ]
     },
     "execution_count": 143,
     "metadata": {},
     "output_type": "execute_result"
    },
    {
     "data": {
      "text/plain": [
       "'/home/nathan/projects_unsynced/all_structures_7/E03040_clean-X_clean.pdb'"
      ]
     },
     "execution_count": 143,
     "metadata": {},
     "output_type": "execute_result"
    },
    {
     "data": {
      "text/plain": [
       "'/home/nathan/projects_unsynced/all_structures_7/E03570_clean-X_clean.pdb'"
      ]
     },
     "execution_count": 143,
     "metadata": {},
     "output_type": "execute_result"
    },
    {
     "data": {
      "text/plain": [
       "'/home/nathan/projects_unsynced/all_structures_7/E03217_clean-X_clean.pdb'"
      ]
     },
     "execution_count": 143,
     "metadata": {},
     "output_type": "execute_result"
    },
    {
     "data": {
      "text/plain": [
       "'/home/nathan/projects_unsynced/all_structures_7/b3450_3_349_3d31_clean.pdb'"
      ]
     },
     "execution_count": 143,
     "metadata": {},
     "output_type": "execute_result"
    },
    {
     "data": {
      "text/plain": [
       "'/home/nathan/projects_unsynced/all_structures_7/b0853_1_142_5fr7_clean.pdb'"
      ]
     },
     "execution_count": 143,
     "metadata": {},
     "output_type": "execute_result"
    },
    {
     "data": {
      "text/plain": [
       "'/home/nathan/projects_unsynced/all_structures_7/E03511_clean-X_clean.pdb'"
      ]
     },
     "execution_count": 143,
     "metadata": {},
     "output_type": "execute_result"
    },
    {
     "data": {
      "text/plain": [
       "'/home/nathan/projects_unsynced/all_structures_7/E03936_clean-X_clean.pdb'"
      ]
     },
     "execution_count": 143,
     "metadata": {},
     "output_type": "execute_result"
    },
    {
     "data": {
      "text/plain": [
       "'/home/nathan/projects_unsynced/all_structures_7/b3628_1_357_2bis_clean.pdb'"
      ]
     },
     "execution_count": 143,
     "metadata": {},
     "output_type": "execute_result"
    },
    {
     "data": {
      "text/plain": [
       "'/home/nathan/projects_unsynced/all_structures_7/b3706_5_454_1xzp_clean.pdb'"
      ]
     },
     "execution_count": 143,
     "metadata": {},
     "output_type": "execute_result"
    },
    {
     "data": {
      "text/plain": [
       "'/home/nathan/projects_unsynced/all_structures_7/E01845_clean-X_clean.pdb'"
      ]
     },
     "execution_count": 143,
     "metadata": {},
     "output_type": "execute_result"
    },
    {
     "data": {
      "text/plain": [
       "'/home/nathan/projects_unsynced/all_structures_7/E01214_clean-X_clean.pdb'"
      ]
     },
     "execution_count": 143,
     "metadata": {},
     "output_type": "execute_result"
    },
    {
     "data": {
      "text/plain": [
       "'/home/nathan/projects_unsynced/all_structures_7/E01340_clean-X_clean.pdb'"
      ]
     },
     "execution_count": 143,
     "metadata": {},
     "output_type": "execute_result"
    },
    {
     "data": {
      "text/plain": [
       "'/home/nathan/projects_unsynced/all_structures_7/b0195_1_228_1xqb_clean.pdb'"
      ]
     },
     "execution_count": 143,
     "metadata": {},
     "output_type": "execute_result"
    },
    {
     "data": {
      "text/plain": [
       "'/home/nathan/projects_unsynced/all_structures_7/E02608_clean-X_clean.pdb'"
      ]
     },
     "execution_count": 143,
     "metadata": {},
     "output_type": "execute_result"
    },
    {
     "data": {
      "text/plain": [
       "'/home/nathan/projects_unsynced/all_structures_7/b0386_1_268_4wji_clean.pdb'"
      ]
     },
     "execution_count": 143,
     "metadata": {},
     "output_type": "execute_result"
    },
    {
     "data": {
      "text/plain": [
       "'/home/nathan/projects_unsynced/all_structures_7/b0387_14_147_4xsr_clean.pdb'"
      ]
     },
     "execution_count": 143,
     "metadata": {},
     "output_type": "execute_result"
    },
    {
     "data": {
      "text/plain": [
       "'/home/nathan/projects_unsynced/all_structures_7/b3237_6_153_3v4g_clean.pdb'"
      ]
     },
     "execution_count": 143,
     "metadata": {},
     "output_type": "execute_result"
    },
    {
     "data": {
      "text/plain": [
       "'/home/nathan/projects_unsynced/all_structures_7/FTSH_ECOLI_model1_clean-X_clean.pdb'"
      ]
     },
     "execution_count": 143,
     "metadata": {},
     "output_type": "execute_result"
    },
    {
     "data": {
      "text/plain": [
       "'/home/nathan/projects_unsynced/all_structures_7/E00904_clean-X_clean.pdb'"
      ]
     },
     "execution_count": 143,
     "metadata": {},
     "output_type": "execute_result"
    },
    {
     "data": {
      "text/plain": [
       "'/home/nathan/projects_unsynced/all_structures_7/b0113_6_238_3c7j_clean.pdb'"
      ]
     },
     "execution_count": 143,
     "metadata": {},
     "output_type": "execute_result"
    },
    {
     "data": {
      "text/plain": [
       "'/home/nathan/projects_unsynced/all_structures_7/E02552_clean-X_clean.pdb'"
      ]
     },
     "execution_count": 143,
     "metadata": {},
     "output_type": "execute_result"
    },
    {
     "data": {
      "text/plain": [
       "'/home/nathan/projects_unsynced/all_structures_7/b2173_1_324_1nij_clean.pdb'"
      ]
     },
     "execution_count": 143,
     "metadata": {},
     "output_type": "execute_result"
    },
    {
     "data": {
      "text/plain": [
       "'/home/nathan/projects_unsynced/all_structures_7/b1725_1_284_3jr1_clean.pdb'"
      ]
     },
     "execution_count": 143,
     "metadata": {},
     "output_type": "execute_result"
    },
    {
     "data": {
      "text/plain": [
       "'/home/nathan/projects_unsynced/all_structures_7/b1794_7_335_4zmu_clean.pdb'"
      ]
     },
     "execution_count": 143,
     "metadata": {},
     "output_type": "execute_result"
    },
    {
     "data": {
      "text/plain": [
       "'/home/nathan/projects_unsynced/all_structures_7/b2620_12_154_4v8q_clean.pdb'"
      ]
     },
     "execution_count": 143,
     "metadata": {},
     "output_type": "execute_result"
    },
    {
     "data": {
      "text/plain": [
       "'/home/nathan/projects_unsynced/all_structures_7/b3438_5_331_4rzs_clean.pdb'"
      ]
     },
     "execution_count": 143,
     "metadata": {},
     "output_type": "execute_result"
    },
    {
     "data": {
      "text/plain": [
       "'/home/nathan/projects_unsynced/all_structures_7/E00364_clean-X_clean.pdb'"
      ]
     },
     "execution_count": 143,
     "metadata": {},
     "output_type": "execute_result"
    },
    {
     "data": {
      "text/plain": [
       "'/home/nathan/projects_unsynced/all_structures_7/b1540_11_215_2di3_clean.pdb'"
      ]
     },
     "execution_count": 143,
     "metadata": {},
     "output_type": "execute_result"
    },
    {
     "data": {
      "text/plain": [
       "'/home/nathan/projects_unsynced/all_structures_7/b2794_23_282_4iqi_clean.pdb'"
      ]
     },
     "execution_count": 143,
     "metadata": {},
     "output_type": "execute_result"
    },
    {
     "data": {
      "text/plain": [
       "'/home/nathan/projects_unsynced/all_structures_7/b1235_6_327_3eq2_clean.pdb'"
      ]
     },
     "execution_count": 143,
     "metadata": {},
     "output_type": "execute_result"
    },
    {
     "data": {
      "text/plain": [
       "'/home/nathan/projects_unsynced/all_structures_7/b2465_2_662_5hht_clean.pdb'"
      ]
     },
     "execution_count": 143,
     "metadata": {},
     "output_type": "execute_result"
    },
    {
     "data": {
      "text/plain": [
       "'/home/nathan/projects_unsynced/all_structures_7/E01737_clean-X_clean.pdb'"
      ]
     },
     "execution_count": 143,
     "metadata": {},
     "output_type": "execute_result"
    },
    {
     "data": {
      "text/plain": [
       "'/home/nathan/projects_unsynced/all_structures_7/b1117_5_231_1f3o_clean.pdb'"
      ]
     },
     "execution_count": 143,
     "metadata": {},
     "output_type": "execute_result"
    },
    {
     "data": {
      "text/plain": [
       "'/home/nathan/projects_unsynced/all_structures_7/E01739_clean-X_clean.pdb'"
      ]
     },
     "execution_count": 143,
     "metadata": {},
     "output_type": "execute_result"
    },
    {
     "data": {
      "text/plain": [
       "'/home/nathan/projects_unsynced/all_structures_7/b0405_4_343_1yy3_clean.pdb'"
      ]
     },
     "execution_count": 143,
     "metadata": {},
     "output_type": "execute_result"
    },
    {
     "data": {
      "text/plain": [
       "'/home/nathan/projects_unsynced/all_structures_7/E01894_clean-X_clean.pdb'"
      ]
     },
     "execution_count": 143,
     "metadata": {},
     "output_type": "execute_result"
    },
    {
     "data": {
      "text/plain": [
       "'/home/nathan/projects_unsynced/all_structures_7/E01821_clean-X_clean.pdb'"
      ]
     },
     "execution_count": 143,
     "metadata": {},
     "output_type": "execute_result"
    },
    {
     "data": {
      "text/plain": [
       "'/home/nathan/projects_unsynced/all_structures_7/E02857_clean-X_clean.pdb'"
      ]
     },
     "execution_count": 143,
     "metadata": {},
     "output_type": "execute_result"
    },
    {
     "data": {
      "text/plain": [
       "'/home/nathan/projects_unsynced/all_structures_7/b2249_1_371_4ct8_clean.pdb'"
      ]
     },
     "execution_count": 143,
     "metadata": {},
     "output_type": "execute_result"
    },
    {
     "data": {
      "text/plain": [
       "'/home/nathan/projects_unsynced/all_structures_7/b0804_1_225_3dkq_clean.pdb'"
      ]
     },
     "execution_count": 143,
     "metadata": {},
     "output_type": "execute_result"
    },
    {
     "data": {
      "text/plain": [
       "'/home/nathan/projects_unsynced/all_structures_7/b0917_1_59_2js4_clean.pdb'"
      ]
     },
     "execution_count": 143,
     "metadata": {},
     "output_type": "execute_result"
    },
    {
     "data": {
      "text/plain": [
       "'/home/nathan/projects_unsynced/all_structures_7/b0635_56_613_5lp5_clean.pdb'"
      ]
     },
     "execution_count": 143,
     "metadata": {},
     "output_type": "execute_result"
    },
    {
     "data": {
      "text/plain": [
       "'/home/nathan/projects_unsynced/all_structures_7/b0223_2_252_1te5_clean.pdb'"
      ]
     },
     "execution_count": 143,
     "metadata": {},
     "output_type": "execute_result"
    },
    {
     "data": {
      "text/plain": [
       "'/home/nathan/projects_unsynced/all_structures_7/b2097_21_345_4moz_clean.pdb'"
      ]
     },
     "execution_count": 143,
     "metadata": {},
     "output_type": "execute_result"
    },
    {
     "data": {
      "text/plain": [
       "'/home/nathan/projects_unsynced/all_structures_7/b1246_18_333_4fwi_clean.pdb'"
      ]
     },
     "execution_count": 143,
     "metadata": {},
     "output_type": "execute_result"
    },
    {
     "data": {
      "text/plain": [
       "'/home/nathan/projects_unsynced/all_structures_7/b3389_12_358_5fb3_clean.pdb'"
      ]
     },
     "execution_count": 143,
     "metadata": {},
     "output_type": "execute_result"
    },
    {
     "data": {
      "text/plain": [
       "'/home/nathan/projects_unsynced/all_structures_7/b3176_5_444_3pdk_clean.pdb'"
      ]
     },
     "execution_count": 143,
     "metadata": {},
     "output_type": "execute_result"
    },
    {
     "data": {
      "text/plain": [
       "'/home/nathan/projects_unsynced/all_structures_7/E00107_clean-X_clean.pdb'"
      ]
     },
     "execution_count": 143,
     "metadata": {},
     "output_type": "execute_result"
    },
    {
     "data": {
      "text/plain": [
       "'/home/nathan/projects_unsynced/all_structures_7/SYGB_ECOLI_model1_clean-X_clean.pdb'"
      ]
     },
     "execution_count": 143,
     "metadata": {},
     "output_type": "execute_result"
    },
    {
     "data": {
      "text/plain": [
       "'/home/nathan/projects_unsynced/all_structures_8/E00157_clean-X_clean.pdb'"
      ]
     },
     "execution_count": 143,
     "metadata": {},
     "output_type": "execute_result"
    },
    {
     "data": {
      "text/plain": [
       "'/home/nathan/projects_unsynced/all_structures_8/b2157_3_288_4x6g_clean.pdb'"
      ]
     },
     "execution_count": 143,
     "metadata": {},
     "output_type": "execute_result"
    },
    {
     "data": {
      "text/plain": [
       "'/home/nathan/projects_unsynced/all_structures_8/E03006_clean-X_clean.pdb'"
      ]
     },
     "execution_count": 143,
     "metadata": {},
     "output_type": "execute_result"
    },
    {
     "data": {
      "text/plain": [
       "'/home/nathan/projects_unsynced/all_structures_8/b0475_2_320_4kmm_clean.pdb'"
      ]
     },
     "execution_count": 143,
     "metadata": {},
     "output_type": "execute_result"
    },
    {
     "data": {
      "text/plain": [
       "'/home/nathan/projects_unsynced/all_structures_8/b1768_2_211_2wta_clean.pdb'"
      ]
     },
     "execution_count": 143,
     "metadata": {},
     "output_type": "execute_result"
    },
    {
     "data": {
      "text/plain": [
       "'/home/nathan/projects_unsynced/all_structures_8/E03453_clean-X_clean.pdb'"
      ]
     },
     "execution_count": 143,
     "metadata": {},
     "output_type": "execute_result"
    },
    {
     "data": {
      "text/plain": [
       "'/home/nathan/projects_unsynced/all_structures_8/b1814_2_451_4rqo_clean.pdb'"
      ]
     },
     "execution_count": 143,
     "metadata": {},
     "output_type": "execute_result"
    },
    {
     "data": {
      "text/plain": [
       "'/home/nathan/projects_unsynced/all_structures_8/b0237_2_485_3mru_clean.pdb'"
      ]
     },
     "execution_count": 143,
     "metadata": {},
     "output_type": "execute_result"
    },
    {
     "data": {
      "text/plain": [
       "'/home/nathan/projects_unsynced/all_structures_8/E03535_clean-X_clean.pdb'"
      ]
     },
     "execution_count": 143,
     "metadata": {},
     "output_type": "execute_result"
    },
    {
     "data": {
      "text/plain": [
       "'/home/nathan/projects_unsynced/all_structures_8/b3652_16_658_1gm5_clean.pdb'"
      ]
     },
     "execution_count": 143,
     "metadata": {},
     "output_type": "execute_result"
    },
    {
     "data": {
      "text/plain": [
       "'/home/nathan/projects_unsynced/all_structures_8/E01095_clean-X_clean.pdb'"
      ]
     },
     "execution_count": 143,
     "metadata": {},
     "output_type": "execute_result"
    },
    {
     "data": {
      "text/plain": [
       "'/home/nathan/projects_unsynced/all_structures_8/b2705_2_258_1geg_clean.pdb'"
      ]
     },
     "execution_count": 143,
     "metadata": {},
     "output_type": "execute_result"
    },
    {
     "data": {
      "text/plain": [
       "'/home/nathan/projects_unsynced/all_structures_8/PLSB_ECOLI_model1_clean-X_clean.pdb'"
      ]
     },
     "execution_count": 143,
     "metadata": {},
     "output_type": "execute_result"
    },
    {
     "data": {
      "text/plain": [
       "'/home/nathan/projects_unsynced/all_structures_8/NRDD_ECOLI_model1_clean-X_clean.pdb'"
      ]
     },
     "execution_count": 143,
     "metadata": {},
     "output_type": "execute_result"
    },
    {
     "data": {
      "text/plain": [
       "'/home/nathan/projects_unsynced/all_structures_8/b0417_5_323_5dd7_clean.pdb'"
      ]
     },
     "execution_count": 143,
     "metadata": {},
     "output_type": "execute_result"
    },
    {
     "data": {
      "text/plain": [
       "'/home/nathan/projects_unsynced/all_structures_8/b1238_1_189_2b8t_clean.pdb'"
      ]
     },
     "execution_count": 143,
     "metadata": {},
     "output_type": "execute_result"
    },
    {
     "data": {
      "text/plain": [
       "'/home/nathan/projects_unsynced/all_structures_8/E00176_clean-X_clean.pdb'"
      ]
     },
     "execution_count": 143,
     "metadata": {},
     "output_type": "execute_result"
    },
    {
     "data": {
      "text/plain": [
       "'/home/nathan/projects_unsynced/all_structures_8/E03423_clean-X_clean.pdb'"
      ]
     },
     "execution_count": 143,
     "metadata": {},
     "output_type": "execute_result"
    },
    {
     "data": {
      "text/plain": [
       "'/home/nathan/projects_unsynced/all_structures_8/E01166_clean-X_clean.pdb'"
      ]
     },
     "execution_count": 143,
     "metadata": {},
     "output_type": "execute_result"
    },
    {
     "data": {
      "text/plain": [
       "'/home/nathan/projects_unsynced/all_structures_8/b1946_5_137_4yxc_clean.pdb'"
      ]
     },
     "execution_count": 143,
     "metadata": {},
     "output_type": "execute_result"
    },
    {
     "data": {
      "text/plain": [
       "'/home/nathan/projects_unsynced/all_structures_8/E01310_clean-X_clean.pdb'"
      ]
     },
     "execution_count": 143,
     "metadata": {},
     "output_type": "execute_result"
    },
    {
     "data": {
      "text/plain": [
       "'/home/nathan/projects_unsynced/all_structures_8/E02788_clean-X_clean.pdb'"
      ]
     },
     "execution_count": 143,
     "metadata": {},
     "output_type": "execute_result"
    },
    {
     "data": {
      "text/plain": [
       "'/home/nathan/projects_unsynced/all_structures_8/b4374_2_222_3qnm_clean.pdb'"
      ]
     },
     "execution_count": 143,
     "metadata": {},
     "output_type": "execute_result"
    },
    {
     "data": {
      "text/plain": [
       "'/home/nathan/projects_unsynced/all_structures_8/E02548_clean-X_clean.pdb'"
      ]
     },
     "execution_count": 143,
     "metadata": {},
     "output_type": "execute_result"
    },
    {
     "data": {
      "text/plain": [
       "'/home/nathan/projects_unsynced/all_structures_8/b2585_6_431_3hsi_clean.pdb'"
      ]
     },
     "execution_count": 143,
     "metadata": {},
     "output_type": "execute_result"
    },
    {
     "data": {
      "text/plain": [
       "'/home/nathan/projects_unsynced/all_structures_8/b4468_5_347_3pm9_clean.pdb'"
      ]
     },
     "execution_count": 143,
     "metadata": {},
     "output_type": "execute_result"
    },
    {
     "data": {
      "text/plain": [
       "'/home/nathan/projects_unsynced/all_structures_8/E02070_clean-X_clean.pdb'"
      ]
     },
     "execution_count": 143,
     "metadata": {},
     "output_type": "execute_result"
    },
    {
     "data": {
      "text/plain": [
       "'/home/nathan/projects_unsynced/all_structures_8/b3749_4_484_5kpi_clean.pdb'"
      ]
     },
     "execution_count": 143,
     "metadata": {},
     "output_type": "execute_result"
    },
    {
     "data": {
      "text/plain": [
       "'/home/nathan/projects_unsynced/all_structures_8/E03498_clean-X_clean.pdb'"
      ]
     },
     "execution_count": 143,
     "metadata": {},
     "output_type": "execute_result"
    },
    {
     "data": {
      "text/plain": [
       "'/home/nathan/projects_unsynced/all_structures_8/E00161_clean-X_clean.pdb'"
      ]
     },
     "execution_count": 143,
     "metadata": {},
     "output_type": "execute_result"
    },
    {
     "data": {
      "text/plain": [
       "'/home/nathan/projects_unsynced/all_structures_8/E00613_clean-X_clean.pdb'"
      ]
     },
     "execution_count": 143,
     "metadata": {},
     "output_type": "execute_result"
    },
    {
     "data": {
      "text/plain": [
       "'/home/nathan/projects_unsynced/all_structures_8/b3868_4_467_5m7o_clean.pdb'"
      ]
     },
     "execution_count": 143,
     "metadata": {},
     "output_type": "execute_result"
    },
    {
     "data": {
      "text/plain": [
       "'/home/nathan/projects_unsynced/all_structures_8/E03953_clean-X_clean.pdb'"
      ]
     },
     "execution_count": 143,
     "metadata": {},
     "output_type": "execute_result"
    },
    {
     "data": {
      "text/plain": [
       "'/home/nathan/projects_unsynced/all_structures_8/E03442_clean-X_clean.pdb'"
      ]
     },
     "execution_count": 143,
     "metadata": {},
     "output_type": "execute_result"
    },
    {
     "data": {
      "text/plain": [
       "'/home/nathan/projects_unsynced/all_structures_8/b0406_1_366_1ozm_clean.pdb'"
      ]
     },
     "execution_count": 143,
     "metadata": {},
     "output_type": "execute_result"
    },
    {
     "data": {
      "text/plain": [
       "'/home/nathan/projects_unsynced/all_structures_8/E01045_clean-X_clean.pdb'"
      ]
     },
     "execution_count": 143,
     "metadata": {},
     "output_type": "execute_result"
    },
    {
     "data": {
      "text/plain": [
       "'/home/nathan/projects_unsynced/all_structures_8/E01479_clean-X_clean.pdb'"
      ]
     },
     "execution_count": 143,
     "metadata": {},
     "output_type": "execute_result"
    },
    {
     "data": {
      "text/plain": [
       "'/home/nathan/projects_unsynced/all_structures_8/E03339_clean-X_clean.pdb'"
      ]
     },
     "execution_count": 143,
     "metadata": {},
     "output_type": "execute_result"
    },
    {
     "data": {
      "text/plain": [
       "'/home/nathan/projects_unsynced/all_structures_8/E03547_clean-X_clean.pdb'"
      ]
     },
     "execution_count": 143,
     "metadata": {},
     "output_type": "execute_result"
    },
    {
     "data": {
      "text/plain": [
       "'/home/nathan/projects_unsynced/all_structures_8/b0015_4_348_4j80_clean.pdb'"
      ]
     },
     "execution_count": 143,
     "metadata": {},
     "output_type": "execute_result"
    },
    {
     "data": {
      "text/plain": [
       "'/home/nathan/projects_unsynced/all_structures_8/b3661_30_272_4yah_clean.pdb'"
      ]
     },
     "execution_count": 143,
     "metadata": {},
     "output_type": "execute_result"
    },
    {
     "data": {
      "text/plain": [
       "'/home/nathan/projects_unsynced/all_structures_8/E00407_clean-X_clean.pdb'"
      ]
     },
     "execution_count": 143,
     "metadata": {},
     "output_type": "execute_result"
    },
    {
     "data": {
      "text/plain": [
       "'/home/nathan/projects_unsynced/all_structures_8/DNLJ_ECOLI_model1_clean-X_clean.pdb'"
      ]
     },
     "execution_count": 143,
     "metadata": {},
     "output_type": "execute_result"
    },
    {
     "data": {
      "text/plain": [
       "'/home/nathan/projects_unsynced/all_structures_8/IGAA_ECOLI_model1_clean-X_clean.pdb'"
      ]
     },
     "execution_count": 143,
     "metadata": {},
     "output_type": "execute_result"
    },
    {
     "data": {
      "text/plain": [
       "'/home/nathan/projects_unsynced/all_structures_8/b2038_1_179_1dzr_clean.pdb'"
      ]
     },
     "execution_count": 143,
     "metadata": {},
     "output_type": "execute_result"
    },
    {
     "data": {
      "text/plain": [
       "'/home/nathan/projects_unsynced/all_structures_8/b4488_2_313_3e9y_clean.pdb'"
      ]
     },
     "execution_count": 143,
     "metadata": {},
     "output_type": "execute_result"
    },
    {
     "data": {
      "text/plain": [
       "'/home/nathan/projects_unsynced/all_structures_8/b4256_7_167_5c82_clean.pdb'"
      ]
     },
     "execution_count": 143,
     "metadata": {},
     "output_type": "execute_result"
    },
    {
     "data": {
      "text/plain": [
       "'/home/nathan/projects_unsynced/all_structures_8/E03585_clean-X_clean.pdb'"
      ]
     },
     "execution_count": 143,
     "metadata": {},
     "output_type": "execute_result"
    },
    {
     "data": {
      "text/plain": [
       "'/home/nathan/projects_unsynced/all_structures_8/b2066_8_211_1vhl_clean.pdb'"
      ]
     },
     "execution_count": 143,
     "metadata": {},
     "output_type": "execute_result"
    },
    {
     "data": {
      "text/plain": [
       "'/home/nathan/projects_unsynced/all_structures_8/E03586_clean-X_clean.pdb'"
      ]
     },
     "execution_count": 143,
     "metadata": {},
     "output_type": "execute_result"
    },
    {
     "data": {
      "text/plain": [
       "'/home/nathan/projects_unsynced/all_structures_8/b0026_2_930_1ffy_clean.pdb'"
      ]
     },
     "execution_count": 143,
     "metadata": {},
     "output_type": "execute_result"
    },
    {
     "data": {
      "text/plain": [
       "'/home/nathan/projects_unsynced/all_structures_8/b3999_3_194_2q9r_clean.pdb'"
      ]
     },
     "execution_count": 143,
     "metadata": {},
     "output_type": "execute_result"
    },
    {
     "data": {
      "text/plain": [
       "'/home/nathan/projects_unsynced/all_structures_8/E02481_clean-X_clean.pdb'"
      ]
     },
     "execution_count": 143,
     "metadata": {},
     "output_type": "execute_result"
    },
    {
     "data": {
      "text/plain": [
       "'/home/nathan/projects_unsynced/all_structures_8/SBCC_ECOLI_model1_clean-X_clean.pdb'"
      ]
     },
     "execution_count": 143,
     "metadata": {},
     "output_type": "execute_result"
    },
    {
     "data": {
      "text/plain": [
       "'/home/nathan/projects_unsynced/all_structures_8/b4049_27_341_3b0v_clean.pdb'"
      ]
     },
     "execution_count": 143,
     "metadata": {},
     "output_type": "execute_result"
    },
    {
     "data": {
      "text/plain": [
       "'/home/nathan/projects_unsynced/all_structures_8/PT1P_ECOLI_model1_clean-X_clean.pdb'"
      ]
     },
     "execution_count": 143,
     "metadata": {},
     "output_type": "execute_result"
    },
    {
     "data": {
      "text/plain": [
       "'/home/nathan/projects_unsynced/all_structures_8/E04012_clean-X_clean.pdb'"
      ]
     },
     "execution_count": 143,
     "metadata": {},
     "output_type": "execute_result"
    },
    {
     "data": {
      "text/plain": [
       "'/home/nathan/projects_unsynced/all_structures_8/b0426_2_148_5n9g_clean.pdb'"
      ]
     },
     "execution_count": 143,
     "metadata": {},
     "output_type": "execute_result"
    },
    {
     "data": {
      "text/plain": [
       "'/home/nathan/projects_unsynced/all_structures_8/E03618_clean-X_clean.pdb'"
      ]
     },
     "execution_count": 143,
     "metadata": {},
     "output_type": "execute_result"
    },
    {
     "data": {
      "text/plain": [
       "'/home/nathan/projects_unsynced/all_structures_8/b0786_14_231_4pgs_clean.pdb'"
      ]
     },
     "execution_count": 143,
     "metadata": {},
     "output_type": "execute_result"
    },
    {
     "data": {
      "text/plain": [
       "'/home/nathan/projects_unsynced/all_structures_8/E03506_clean-X_clean.pdb'"
      ]
     },
     "execution_count": 143,
     "metadata": {},
     "output_type": "execute_result"
    },
    {
     "data": {
      "text/plain": [
       "'/home/nathan/projects_unsynced/all_structures_8/E02388_clean-X_clean.pdb'"
      ]
     },
     "execution_count": 143,
     "metadata": {},
     "output_type": "execute_result"
    },
    {
     "data": {
      "text/plain": [
       "'/home/nathan/projects_unsynced/all_structures_8/E01320_clean-X_clean.pdb'"
      ]
     },
     "execution_count": 143,
     "metadata": {},
     "output_type": "execute_result"
    },
    {
     "data": {
      "text/plain": [
       "'/home/nathan/projects_unsynced/all_structures_8/E00532_clean-X_clean.pdb'"
      ]
     },
     "execution_count": 143,
     "metadata": {},
     "output_type": "execute_result"
    },
    {
     "data": {
      "text/plain": [
       "'/home/nathan/projects_unsynced/all_structures_8/b1194_6_234_3kyf_clean.pdb'"
      ]
     },
     "execution_count": 143,
     "metadata": {},
     "output_type": "execute_result"
    },
    {
     "data": {
      "text/plain": [
       "'/home/nathan/projects_unsynced/all_structures_8/E00423_clean-X_clean.pdb'"
      ]
     },
     "execution_count": 143,
     "metadata": {},
     "output_type": "execute_result"
    },
    {
     "data": {
      "text/plain": [
       "'/home/nathan/projects_unsynced/all_structures_8/E02520_clean-X_clean.pdb'"
      ]
     },
     "execution_count": 143,
     "metadata": {},
     "output_type": "execute_result"
    },
    {
     "data": {
      "text/plain": [
       "'/home/nathan/projects_unsynced/all_structures_8/E02050_clean-X_clean.pdb'"
      ]
     },
     "execution_count": 143,
     "metadata": {},
     "output_type": "execute_result"
    },
    {
     "data": {
      "text/plain": [
       "'/home/nathan/projects_unsynced/all_structures_8/b1805_21_553_5bsr_clean.pdb'"
      ]
     },
     "execution_count": 143,
     "metadata": {},
     "output_type": "execute_result"
    },
    {
     "data": {
      "text/plain": [
       "'/home/nathan/projects_unsynced/all_structures_8/b3616_1_340_5kia_clean.pdb'"
      ]
     },
     "execution_count": 143,
     "metadata": {},
     "output_type": "execute_result"
    },
    {
     "data": {
      "text/plain": [
       "'/home/nathan/projects_unsynced/all_structures_8/b1276_37_891_2b3y_clean.pdb'"
      ]
     },
     "execution_count": 143,
     "metadata": {},
     "output_type": "execute_result"
    },
    {
     "data": {
      "text/plain": [
       "'/home/nathan/projects_unsynced/all_structures_8/b3354_1_70_1y0n_clean.pdb'"
      ]
     },
     "execution_count": 143,
     "metadata": {},
     "output_type": "execute_result"
    },
    {
     "data": {
      "text/plain": [
       "'/home/nathan/projects_unsynced/all_structures_8/b2844_1_391_4wys_clean.pdb'"
      ]
     },
     "execution_count": 143,
     "metadata": {},
     "output_type": "execute_result"
    },
    {
     "data": {
      "text/plain": [
       "'/home/nathan/projects_unsynced/all_structures_8/b3487_35_340_4tko_clean.pdb'"
      ]
     },
     "execution_count": 143,
     "metadata": {},
     "output_type": "execute_result"
    },
    {
     "data": {
      "text/plain": [
       "'/home/nathan/projects_unsynced/all_structures_8/E02449_clean-X_clean.pdb'"
      ]
     },
     "execution_count": 143,
     "metadata": {},
     "output_type": "execute_result"
    },
    {
     "data": {
      "text/plain": [
       "'/home/nathan/projects_unsynced/all_structures_8/b2700_1_164_5v01_clean.pdb'"
      ]
     },
     "execution_count": 143,
     "metadata": {},
     "output_type": "execute_result"
    },
    {
     "data": {
      "text/plain": [
       "'/home/nathan/projects_unsynced/all_structures_8/b0312_2_490_2xdr_clean.pdb'"
      ]
     },
     "execution_count": 143,
     "metadata": {},
     "output_type": "execute_result"
    },
    {
     "data": {
      "text/plain": [
       "'/home/nathan/projects_unsynced/all_structures_8/E02944_clean-X_clean.pdb'"
      ]
     },
     "execution_count": 143,
     "metadata": {},
     "output_type": "execute_result"
    },
    {
     "data": {
      "text/plain": [
       "'/home/nathan/projects_unsynced/all_structures_8/b0194_2_570_5ucm_clean.pdb'"
      ]
     },
     "execution_count": 143,
     "metadata": {},
     "output_type": "execute_result"
    },
    {
     "data": {
      "text/plain": [
       "'/home/nathan/projects_unsynced/all_structures_8/b1602_4_462_4o9u_clean.pdb'"
      ]
     },
     "execution_count": 143,
     "metadata": {},
     "output_type": "execute_result"
    },
    {
     "data": {
      "text/plain": [
       "'/home/nathan/projects_unsynced/all_structures_8/E01477_clean-X_clean.pdb'"
      ]
     },
     "execution_count": 143,
     "metadata": {},
     "output_type": "execute_result"
    },
    {
     "data": {
      "text/plain": [
       "'/home/nathan/projects_unsynced/all_structures_8/E00309_clean-X_clean.pdb'"
      ]
     },
     "execution_count": 143,
     "metadata": {},
     "output_type": "execute_result"
    },
    {
     "data": {
      "text/plain": [
       "'/home/nathan/projects_unsynced/all_structures_8/E02195_clean-X_clean.pdb'"
      ]
     },
     "execution_count": 143,
     "metadata": {},
     "output_type": "execute_result"
    },
    {
     "data": {
      "text/plain": [
       "'/home/nathan/projects_unsynced/all_structures_8/b0955_12_564_3k1j_clean.pdb'"
      ]
     },
     "execution_count": 143,
     "metadata": {},
     "output_type": "execute_result"
    },
    {
     "data": {
      "text/plain": [
       "'/home/nathan/projects_unsynced/all_structures_8/b2211_5_537_5mkk_clean.pdb'"
      ]
     },
     "execution_count": 143,
     "metadata": {},
     "output_type": "execute_result"
    },
    {
     "data": {
      "text/plain": [
       "'/home/nathan/projects_unsynced/all_structures_8/FTSK_ECOLI_model1_clean-X_clean.pdb'"
      ]
     },
     "execution_count": 143,
     "metadata": {},
     "output_type": "execute_result"
    },
    {
     "data": {
      "text/plain": [
       "'/home/nathan/projects_unsynced/all_structures_8/b4251_18_191_2i10_clean.pdb'"
      ]
     },
     "execution_count": 143,
     "metadata": {},
     "output_type": "execute_result"
    },
    {
     "data": {
      "text/plain": [
       "'/home/nathan/projects_unsynced/all_structures_8/E02121_clean-X_clean.pdb'"
      ]
     },
     "execution_count": 143,
     "metadata": {},
     "output_type": "execute_result"
    },
    {
     "data": {
      "text/plain": [
       "'/home/nathan/projects_unsynced/all_structures_8/DEAD_ECOLI_model1_clean-X_clean.pdb'"
      ]
     },
     "execution_count": 143,
     "metadata": {},
     "output_type": "execute_result"
    },
    {
     "data": {
      "text/plain": [
       "'/home/nathan/projects_unsynced/all_structures_8/b2042_5_293_2e3d_clean.pdb'"
      ]
     },
     "execution_count": 143,
     "metadata": {},
     "output_type": "execute_result"
    },
    {
     "data": {
      "text/plain": [
       "'/home/nathan/projects_unsynced/all_structures_8/E04106_clean-X_clean.pdb'"
      ]
     },
     "execution_count": 143,
     "metadata": {},
     "output_type": "execute_result"
    },
    {
     "data": {
      "text/plain": [
       "'/home/nathan/projects_unsynced/all_structures_8/b3605_3_377_2a7n_clean.pdb'"
      ]
     },
     "execution_count": 143,
     "metadata": {},
     "output_type": "execute_result"
    },
    {
     "data": {
      "text/plain": [
       "'/home/nathan/projects_unsynced/all_structures_8/b2965_3_702_1ord_clean.pdb'"
      ]
     },
     "execution_count": 143,
     "metadata": {},
     "output_type": "execute_result"
    },
    {
     "data": {
      "text/plain": [
       "'/home/nathan/projects_unsynced/all_structures_8/E02282_clean-X_clean.pdb'"
      ]
     },
     "execution_count": 143,
     "metadata": {},
     "output_type": "execute_result"
    },
    {
     "data": {
      "text/plain": [
       "'/home/nathan/projects_unsynced/all_structures_8/E03728_clean-X_clean.pdb'"
      ]
     },
     "execution_count": 143,
     "metadata": {},
     "output_type": "execute_result"
    },
    {
     "data": {
      "text/plain": [
       "'/home/nathan/projects_unsynced/all_structures_8/b3771_4_612_5j83_clean.pdb'"
      ]
     },
     "execution_count": 143,
     "metadata": {},
     "output_type": "execute_result"
    },
    {
     "data": {
      "text/plain": [
       "'/home/nathan/projects_unsynced/all_structures_8/b0239_15_414_4i4c_clean.pdb'"
      ]
     },
     "execution_count": 143,
     "metadata": {},
     "output_type": "execute_result"
    },
    {
     "data": {
      "text/plain": [
       "'/home/nathan/projects_unsynced/all_structures_8/b3812_10_237_3vay_clean.pdb'"
      ]
     },
     "execution_count": 143,
     "metadata": {},
     "output_type": "execute_result"
    },
    {
     "data": {
      "text/plain": [
       "'/home/nathan/projects_unsynced/all_structures_8/E03399_clean-X_clean.pdb'"
      ]
     },
     "execution_count": 143,
     "metadata": {},
     "output_type": "execute_result"
    },
    {
     "data": {
      "text/plain": [
       "'/home/nathan/projects_unsynced/all_structures_8/E02593_clean-X_clean.pdb'"
      ]
     },
     "execution_count": 143,
     "metadata": {},
     "output_type": "execute_result"
    },
    {
     "data": {
      "text/plain": [
       "'/home/nathan/projects_unsynced/all_structures_9/b2025_1_257_1gpw_clean.pdb'"
      ]
     },
     "execution_count": 143,
     "metadata": {},
     "output_type": "execute_result"
    },
    {
     "data": {
      "text/plain": [
       "'/home/nathan/projects_unsynced/all_structures_9/b2479_6_171_2dtj_clean.pdb'"
      ]
     },
     "execution_count": 143,
     "metadata": {},
     "output_type": "execute_result"
    },
    {
     "data": {
      "text/plain": [
       "'/home/nathan/projects_unsynced/all_structures_9/b4252_1_150_1s4c_clean.pdb'"
      ]
     },
     "execution_count": 143,
     "metadata": {},
     "output_type": "execute_result"
    },
    {
     "data": {
      "text/plain": [
       "'/home/nathan/projects_unsynced/all_structures_9/b3689_26_412_1z68_clean.pdb'"
      ]
     },
     "execution_count": 143,
     "metadata": {},
     "output_type": "execute_result"
    },
    {
     "data": {
      "text/plain": [
       "'/home/nathan/projects_unsynced/all_structures_9/E03571_clean-X_clean.pdb'"
      ]
     },
     "execution_count": 143,
     "metadata": {},
     "output_type": "execute_result"
    },
    {
     "data": {
      "text/plain": [
       "'/home/nathan/projects_unsynced/all_structures_9/E03004_clean-X_clean.pdb'"
      ]
     },
     "execution_count": 143,
     "metadata": {},
     "output_type": "execute_result"
    },
    {
     "data": {
      "text/plain": [
       "'/home/nathan/projects_unsynced/all_structures_9/b2342_17_434_4wys_clean.pdb'"
      ]
     },
     "execution_count": 143,
     "metadata": {},
     "output_type": "execute_result"
    },
    {
     "data": {
      "text/plain": [
       "'/home/nathan/projects_unsynced/all_structures_9/b4054_1_397_3tat_clean.pdb'"
      ]
     },
     "execution_count": 143,
     "metadata": {},
     "output_type": "execute_result"
    },
    {
     "data": {
      "text/plain": [
       "'/home/nathan/projects_unsynced/all_structures_9/E00327_clean-X_clean.pdb'"
      ]
     },
     "execution_count": 143,
     "metadata": {},
     "output_type": "execute_result"
    },
    {
     "data": {
      "text/plain": [
       "'/home/nathan/projects_unsynced/all_structures_9/E01744_clean-X_clean.pdb'"
      ]
     },
     "execution_count": 143,
     "metadata": {},
     "output_type": "execute_result"
    },
    {
     "data": {
      "text/plain": [
       "'/home/nathan/projects_unsynced/all_structures_9/E01827_clean-X_clean.pdb'"
      ]
     },
     "execution_count": 143,
     "metadata": {},
     "output_type": "execute_result"
    },
    {
     "data": {
      "text/plain": [
       "'/home/nathan/projects_unsynced/all_structures_9/b1827_13_258_1mkm_clean.pdb'"
      ]
     },
     "execution_count": 143,
     "metadata": {},
     "output_type": "execute_result"
    },
    {
     "data": {
      "text/plain": [
       "'/home/nathan/projects_unsynced/all_structures_9/E00525_clean-X_clean.pdb'"
      ]
     },
     "execution_count": 143,
     "metadata": {},
     "output_type": "execute_result"
    },
    {
     "data": {
      "text/plain": [
       "'/home/nathan/projects_unsynced/all_structures_9/E03325_clean-X_clean.pdb'"
      ]
     },
     "execution_count": 143,
     "metadata": {},
     "output_type": "execute_result"
    },
    {
     "data": {
      "text/plain": [
       "'/home/nathan/projects_unsynced/all_structures_9/E01839_clean-X_clean.pdb'"
      ]
     },
     "execution_count": 143,
     "metadata": {},
     "output_type": "execute_result"
    },
    {
     "data": {
      "text/plain": [
       "'/home/nathan/projects_unsynced/all_structures_9/b1035_3_181_1n1c_clean.pdb'"
      ]
     },
     "execution_count": 143,
     "metadata": {},
     "output_type": "execute_result"
    },
    {
     "data": {
      "text/plain": [
       "'/home/nathan/projects_unsynced/all_structures_9/b4119_4_450_1vjt_clean.pdb'"
      ]
     },
     "execution_count": 143,
     "metadata": {},
     "output_type": "execute_result"
    },
    {
     "data": {
      "text/plain": [
       "'/home/nathan/projects_unsynced/all_structures_9/MAO2_ECOLI_model1_clean-X_clean.pdb'"
      ]
     },
     "execution_count": 143,
     "metadata": {},
     "output_type": "execute_result"
    },
    {
     "data": {
      "text/plain": [
       "'/home/nathan/projects_unsynced/all_structures_9/b4046_3_148_4lmy_clean.pdb'"
      ]
     },
     "execution_count": 143,
     "metadata": {},
     "output_type": "execute_result"
    },
    {
     "data": {
      "text/plain": [
       "'/home/nathan/projects_unsynced/all_structures_9/E01153_clean-X_clean.pdb'"
      ]
     },
     "execution_count": 143,
     "metadata": {},
     "output_type": "execute_result"
    },
    {
     "data": {
      "text/plain": [
       "'/home/nathan/projects_unsynced/all_structures_9/b1550_1_57_4xo2_clean.pdb'"
      ]
     },
     "execution_count": 143,
     "metadata": {},
     "output_type": "execute_result"
    },
    {
     "data": {
      "text/plain": [
       "'/home/nathan/projects_unsynced/all_structures_9/E03707_clean-X_clean.pdb'"
      ]
     },
     "execution_count": 143,
     "metadata": {},
     "output_type": "execute_result"
    },
    {
     "data": {
      "text/plain": [
       "'/home/nathan/projects_unsynced/all_structures_9/b0025_1_312_4uze_clean.pdb'"
      ]
     },
     "execution_count": 143,
     "metadata": {},
     "output_type": "execute_result"
    },
    {
     "data": {
      "text/plain": [
       "'/home/nathan/projects_unsynced/all_structures_9/b1640_1_368_3cqy_clean.pdb'"
      ]
     },
     "execution_count": 143,
     "metadata": {},
     "output_type": "execute_result"
    },
    {
     "data": {
      "text/plain": [
       "'/home/nathan/projects_unsynced/all_structures_9/E00389_clean-X_clean.pdb'"
      ]
     },
     "execution_count": 143,
     "metadata": {},
     "output_type": "execute_result"
    },
    {
     "data": {
      "text/plain": [
       "'/home/nathan/projects_unsynced/all_structures_9/b0765_1_351_3d31_clean.pdb'"
      ]
     },
     "execution_count": 143,
     "metadata": {},
     "output_type": "execute_result"
    },
    {
     "data": {
      "text/plain": [
       "'/home/nathan/projects_unsynced/all_structures_9/b0661_4_440_4jc0_clean.pdb'"
      ]
     },
     "execution_count": 143,
     "metadata": {},
     "output_type": "execute_result"
    },
    {
     "data": {
      "text/plain": [
       "'/home/nathan/projects_unsynced/all_structures_9/E03784_clean-X_clean.pdb'"
      ]
     },
     "execution_count": 143,
     "metadata": {},
     "output_type": "execute_result"
    },
    {
     "data": {
      "text/plain": [
       "'/home/nathan/projects_unsynced/all_structures_9/E02650_clean-X_clean.pdb'"
      ]
     },
     "execution_count": 143,
     "metadata": {},
     "output_type": "execute_result"
    },
    {
     "data": {
      "text/plain": [
       "'/home/nathan/projects_unsynced/all_structures_9/E02687_clean-X_clean.pdb'"
      ]
     },
     "execution_count": 143,
     "metadata": {},
     "output_type": "execute_result"
    },
    {
     "data": {
      "text/plain": [
       "'/home/nathan/projects_unsynced/all_structures_9/E03821_clean-X_clean.pdb'"
      ]
     },
     "execution_count": 143,
     "metadata": {},
     "output_type": "execute_result"
    },
    {
     "data": {
      "text/plain": [
       "'/home/nathan/projects_unsynced/all_structures_9/HRPA_ECOLI_model1_clean-X_clean.pdb'"
      ]
     },
     "execution_count": 143,
     "metadata": {},
     "output_type": "execute_result"
    },
    {
     "data": {
      "text/plain": [
       "'/home/nathan/projects_unsynced/all_structures_9/E01173_clean-X_clean.pdb'"
      ]
     },
     "execution_count": 143,
     "metadata": {},
     "output_type": "execute_result"
    },
    {
     "data": {
      "text/plain": [
       "'/home/nathan/projects_unsynced/all_structures_9/b0219_1_255_2e11_clean.pdb'"
      ]
     },
     "execution_count": 143,
     "metadata": {},
     "output_type": "execute_result"
    },
    {
     "data": {
      "text/plain": [
       "'/home/nathan/projects_unsynced/all_structures_9/E03421_clean-X_clean.pdb'"
      ]
     },
     "execution_count": 143,
     "metadata": {},
     "output_type": "execute_result"
    },
    {
     "data": {
      "text/plain": [
       "'/home/nathan/projects_unsynced/all_structures_9/b0077_4_566_1t9b_clean.pdb'"
      ]
     },
     "execution_count": 143,
     "metadata": {},
     "output_type": "execute_result"
    },
    {
     "data": {
      "text/plain": [
       "'/home/nathan/projects_unsynced/all_structures_9/b3643_2_222_1r6m_clean.pdb'"
      ]
     },
     "execution_count": 143,
     "metadata": {},
     "output_type": "execute_result"
    },
    {
     "data": {
      "text/plain": [
       "'/home/nathan/projects_unsynced/all_structures_9/b4214_9_243_3b8b_clean.pdb'"
      ]
     },
     "execution_count": 143,
     "metadata": {},
     "output_type": "execute_result"
    },
    {
     "data": {
      "text/plain": [
       "'/home/nathan/projects_unsynced/all_structures_9/b1109_5_426_5jwa_clean.pdb'"
      ]
     },
     "execution_count": 143,
     "metadata": {},
     "output_type": "execute_result"
    },
    {
     "data": {
      "text/plain": [
       "'/home/nathan/projects_unsynced/all_structures_9/b1014_85_1318_5kf6_clean.pdb'"
      ]
     },
     "execution_count": 143,
     "metadata": {},
     "output_type": "execute_result"
    },
    {
     "data": {
      "text/plain": [
       "'/home/nathan/projects_unsynced/all_structures_9/b1190_3_354_1rcq_clean.pdb'"
      ]
     },
     "execution_count": 143,
     "metadata": {},
     "output_type": "execute_result"
    },
    {
     "data": {
      "text/plain": [
       "'/home/nathan/projects_unsynced/all_structures_9/b3891_24_307_2fiy_clean.pdb'"
      ]
     },
     "execution_count": 143,
     "metadata": {},
     "output_type": "execute_result"
    },
    {
     "data": {
      "text/plain": [
       "'/home/nathan/projects_unsynced/all_structures_9/b3811_4_293_4a8e_clean.pdb'"
      ]
     },
     "execution_count": 143,
     "metadata": {},
     "output_type": "execute_result"
    },
    {
     "data": {
      "text/plain": [
       "'/home/nathan/projects_unsynced/all_structures_9/E00680_clean-X_clean.pdb'"
      ]
     },
     "execution_count": 143,
     "metadata": {},
     "output_type": "execute_result"
    },
    {
     "data": {
      "text/plain": [
       "'/home/nathan/projects_unsynced/all_structures_9/E01726_clean-X_clean.pdb'"
      ]
     },
     "execution_count": 143,
     "metadata": {},
     "output_type": "execute_result"
    },
    {
     "data": {
      "text/plain": [
       "'/home/nathan/projects_unsynced/all_structures_9/b2304_1_295_4b4o_clean.pdb'"
      ]
     },
     "execution_count": 143,
     "metadata": {},
     "output_type": "execute_result"
    },
    {
     "data": {
      "text/plain": [
       "'/home/nathan/projects_unsynced/all_structures_9/E02873_clean-X_clean.pdb'"
      ]
     },
     "execution_count": 143,
     "metadata": {},
     "output_type": "execute_result"
    },
    {
     "data": {
      "text/plain": [
       "'/home/nathan/projects_unsynced/all_structures_9/b3092_2_468_3iac_clean.pdb'"
      ]
     },
     "execution_count": 143,
     "metadata": {},
     "output_type": "execute_result"
    },
    {
     "data": {
      "text/plain": [
       "'/home/nathan/projects_unsynced/all_structures_9/b1860_22_334_1hqc_clean.pdb'"
      ]
     },
     "execution_count": 143,
     "metadata": {},
     "output_type": "execute_result"
    },
    {
     "data": {
      "text/plain": [
       "'/home/nathan/projects_unsynced/all_structures_9/b2180_5_509_2iwh_clean.pdb'"
      ]
     },
     "execution_count": 143,
     "metadata": {},
     "output_type": "execute_result"
    },
    {
     "data": {
      "text/plain": [
       "'/home/nathan/projects_unsynced/all_structures_9/E02862_clean-X_clean.pdb'"
      ]
     },
     "execution_count": 143,
     "metadata": {},
     "output_type": "execute_result"
    },
    {
     "data": {
      "text/plain": [
       "'/home/nathan/projects_unsynced/all_structures_9/E03640_clean-X_clean.pdb'"
      ]
     },
     "execution_count": 143,
     "metadata": {},
     "output_type": "execute_result"
    },
    {
     "data": {
      "text/plain": [
       "'/home/nathan/projects_unsynced/all_structures_9/b0674_2_517_1ct9_clean.pdb'"
      ]
     },
     "execution_count": 143,
     "metadata": {},
     "output_type": "execute_result"
    },
    {
     "data": {
      "text/plain": [
       "'/home/nathan/projects_unsynced/all_structures_9/MUKB_ECOLI_model1_clean-X_clean.pdb'"
      ]
     },
     "execution_count": 143,
     "metadata": {},
     "output_type": "execute_result"
    },
    {
     "data": {
      "text/plain": [
       "'/home/nathan/projects_unsynced/all_structures_9/E00732_clean-X_clean.pdb'"
      ]
     },
     "execution_count": 143,
     "metadata": {},
     "output_type": "execute_result"
    },
    {
     "data": {
      "text/plain": [
       "'/home/nathan/projects_unsynced/all_structures_9/b0637_1_105_3ups_clean.pdb'"
      ]
     },
     "execution_count": 143,
     "metadata": {},
     "output_type": "execute_result"
    },
    {
     "data": {
      "text/plain": [
       "'/home/nathan/projects_unsynced/all_structures_9/E03290_clean-X_clean.pdb'"
      ]
     },
     "execution_count": 143,
     "metadata": {},
     "output_type": "execute_result"
    }
   ],
   "source": [
    "# zip up models for QMEAN\n",
    "f1 = '/home/nathan/projects_unsynced/vizrecon_tmp/all_structures_1'\n",
    "counter = 0\n",
    "other_counter = 1\n",
    "for g in my_gempro.genes_with_a_representative_structure:\n",
    "    if g.protein.representative_structure.structure_file:\n",
    "        if not g.protein.representative_structure.is_experimental and recipe_final[recipe_final.gene == g.id].INCLUDE.values[0] == 'x':\n",
    "            to_submit = op.join('/home/nathan/projects_unsynced/vizrecon_tmp/all_structures/', g.protein.representative_structure.structure_file)\n",
    "            if counter < 100:\n",
    "                counter += 1\n",
    "                shutil.copy(to_submit, f1)\n",
    "            else:\n",
    "                counter = 0\n",
    "                other_counter += 1\n",
    "                os.mkdir('/home/nathan/projects_unsynced/vizrecon_tmp/all_structures_{}'.format(other_counter))\n",
    "                f1 = '/home/nathan/projects_unsynced/vizrecon_tmp/all_structures_{}'.format(other_counter)"
   ]
  },
  {
   "cell_type": "markdown",
   "metadata": {},
   "source": [
    "* just submitted them thru the web interface"
   ]
  },
  {
   "cell_type": "code",
   "execution_count": 147,
   "metadata": {},
   "outputs": [
    {
     "name": "stdout",
     "output_type": "stream",
     "text": [
      "1\n"
     ]
    },
    {
     "ename": "UnicodeDecodeError",
     "evalue": "'utf-8' codec can't decode byte 0x89 in position 10: invalid start byte",
     "output_type": "error",
     "traceback": [
      "\u001b[0;31m---------------------------------------------------------------------------\u001b[0m",
      "\u001b[0;31mUnicodeDecodeError\u001b[0m                        Traceback (most recent call last)",
      "\u001b[0;32m<ipython-input-147-529f6bc34cb3>\u001b[0m in \u001b[0;36m<module>\u001b[0;34m()\u001b[0m\n\u001b[1;32m      3\u001b[0m     \u001b[0mprint\u001b[0m\u001b[0;34m(\u001b[0m\u001b[0mi\u001b[0m\u001b[0;34m)\u001b[0m\u001b[0;34m\u001b[0m\u001b[0m\n\u001b[1;32m      4\u001b[0m     \u001b[0mto_submit\u001b[0m \u001b[0;34m=\u001b[0m \u001b[0mop\u001b[0m\u001b[0;34m.\u001b[0m\u001b[0mjoin\u001b[0m\u001b[0;34m(\u001b[0m\u001b[0;34m'/home/nathan/projects_unsynced/all_structures_{}.zip'\u001b[0m\u001b[0;34m.\u001b[0m\u001b[0mformat\u001b[0m\u001b[0;34m(\u001b[0m\u001b[0mi\u001b[0m\u001b[0;34m)\u001b[0m\u001b[0;34m)\u001b[0m\u001b[0;34m\u001b[0m\u001b[0m\n\u001b[0;32m----> 5\u001b[0;31m     \u001b[0moutfile\u001b[0m \u001b[0;34m=\u001b[0m \u001b[0mqmean_submit\u001b[0m\u001b[0;34m(\u001b[0m\u001b[0mto_submit\u001b[0m\u001b[0;34m,\u001b[0m \u001b[0;34m'/home/nathan/projects_unsynced/'\u001b[0m\u001b[0;34m)\u001b[0m\u001b[0;34m\u001b[0m\u001b[0m\n\u001b[0m\u001b[1;32m      6\u001b[0m     \u001b[0moutfile\u001b[0m\u001b[0;34m\u001b[0m\u001b[0m\n",
      "\u001b[0;32m<ipython-input-139-34a1722332a6>\u001b[0m in \u001b[0;36mqmean_submit\u001b[0;34m(file, outdir, email, method, force_rerun)\u001b[0m\n\u001b[1;32m     24\u001b[0m         \u001b[0murl\u001b[0m \u001b[0;34m=\u001b[0m \u001b[0;34m\"https://swissmodel.expasy.org/qmean/submit/\"\u001b[0m\u001b[0;34m\u001b[0m\u001b[0m\n\u001b[1;32m     25\u001b[0m \u001b[0;34m\u001b[0m\u001b[0m\n\u001b[0;32m---> 26\u001b[0;31m         \u001b[0mresponse\u001b[0m \u001b[0;34m=\u001b[0m \u001b[0mrequests\u001b[0m\u001b[0;34m.\u001b[0m\u001b[0mpost\u001b[0m\u001b[0;34m(\u001b[0m\u001b[0murl\u001b[0m\u001b[0;34m=\u001b[0m\u001b[0murl\u001b[0m\u001b[0;34m,\u001b[0m \u001b[0mdata\u001b[0m\u001b[0;34m=\u001b[0m\u001b[0;34m{\u001b[0m\u001b[0;34m\"email\"\u001b[0m\u001b[0;34m:\u001b[0m \u001b[0memail\u001b[0m\u001b[0;34m,\u001b[0m \u001b[0;34m\"method\"\u001b[0m\u001b[0;34m:\u001b[0m\u001b[0mmethod\u001b[0m\u001b[0;34m}\u001b[0m\u001b[0;34m,\u001b[0m \u001b[0mfiles\u001b[0m\u001b[0;34m=\u001b[0m\u001b[0;34m{\u001b[0m\u001b[0;34m\"structure\"\u001b[0m\u001b[0;34m:\u001b[0m \u001b[0mopen\u001b[0m\u001b[0;34m(\u001b[0m\u001b[0mfile\u001b[0m\u001b[0;34m,\u001b[0m\u001b[0;34m'r'\u001b[0m\u001b[0;34m)\u001b[0m\u001b[0;34m}\u001b[0m\u001b[0;34m)\u001b[0m\u001b[0;34m\u001b[0m\u001b[0m\n\u001b[0m\u001b[1;32m     27\u001b[0m         \u001b[0;32mwith\u001b[0m \u001b[0mopen\u001b[0m\u001b[0;34m(\u001b[0m\u001b[0mjson_info_outfile\u001b[0m\u001b[0;34m,\u001b[0m \u001b[0;34m'w'\u001b[0m\u001b[0;34m)\u001b[0m \u001b[0;32mas\u001b[0m \u001b[0mf\u001b[0m\u001b[0;34m:\u001b[0m\u001b[0;34m\u001b[0m\u001b[0m\n\u001b[1;32m     28\u001b[0m             \u001b[0mjson\u001b[0m\u001b[0;34m.\u001b[0m\u001b[0mdump\u001b[0m\u001b[0;34m(\u001b[0m\u001b[0mresponse\u001b[0m\u001b[0;34m.\u001b[0m\u001b[0mjson\u001b[0m\u001b[0;34m(\u001b[0m\u001b[0;34m)\u001b[0m\u001b[0;34m,\u001b[0m \u001b[0mf\u001b[0m\u001b[0;34m)\u001b[0m\u001b[0;34m\u001b[0m\u001b[0m\n",
      "\u001b[0;32m~/anaconda3/lib/python3.6/site-packages/requests/api.py\u001b[0m in \u001b[0;36mpost\u001b[0;34m(url, data, json, **kwargs)\u001b[0m\n\u001b[1;32m    110\u001b[0m     \"\"\"\n\u001b[1;32m    111\u001b[0m \u001b[0;34m\u001b[0m\u001b[0m\n\u001b[0;32m--> 112\u001b[0;31m     \u001b[0;32mreturn\u001b[0m \u001b[0mrequest\u001b[0m\u001b[0;34m(\u001b[0m\u001b[0;34m'post'\u001b[0m\u001b[0;34m,\u001b[0m \u001b[0murl\u001b[0m\u001b[0;34m,\u001b[0m \u001b[0mdata\u001b[0m\u001b[0;34m=\u001b[0m\u001b[0mdata\u001b[0m\u001b[0;34m,\u001b[0m \u001b[0mjson\u001b[0m\u001b[0;34m=\u001b[0m\u001b[0mjson\u001b[0m\u001b[0;34m,\u001b[0m \u001b[0;34m**\u001b[0m\u001b[0mkwargs\u001b[0m\u001b[0;34m)\u001b[0m\u001b[0;34m\u001b[0m\u001b[0m\n\u001b[0m\u001b[1;32m    113\u001b[0m \u001b[0;34m\u001b[0m\u001b[0m\n\u001b[1;32m    114\u001b[0m \u001b[0;34m\u001b[0m\u001b[0m\n",
      "\u001b[0;32m~/anaconda3/lib/python3.6/site-packages/requests/api.py\u001b[0m in \u001b[0;36mrequest\u001b[0;34m(method, url, **kwargs)\u001b[0m\n\u001b[1;32m     56\u001b[0m     \u001b[0;31m# cases, and look like a memory leak in others.\u001b[0m\u001b[0;34m\u001b[0m\u001b[0;34m\u001b[0m\u001b[0m\n\u001b[1;32m     57\u001b[0m     \u001b[0;32mwith\u001b[0m \u001b[0msessions\u001b[0m\u001b[0;34m.\u001b[0m\u001b[0mSession\u001b[0m\u001b[0;34m(\u001b[0m\u001b[0;34m)\u001b[0m \u001b[0;32mas\u001b[0m \u001b[0msession\u001b[0m\u001b[0;34m:\u001b[0m\u001b[0;34m\u001b[0m\u001b[0m\n\u001b[0;32m---> 58\u001b[0;31m         \u001b[0;32mreturn\u001b[0m \u001b[0msession\u001b[0m\u001b[0;34m.\u001b[0m\u001b[0mrequest\u001b[0m\u001b[0;34m(\u001b[0m\u001b[0mmethod\u001b[0m\u001b[0;34m=\u001b[0m\u001b[0mmethod\u001b[0m\u001b[0;34m,\u001b[0m \u001b[0murl\u001b[0m\u001b[0;34m=\u001b[0m\u001b[0murl\u001b[0m\u001b[0;34m,\u001b[0m \u001b[0;34m**\u001b[0m\u001b[0mkwargs\u001b[0m\u001b[0;34m)\u001b[0m\u001b[0;34m\u001b[0m\u001b[0m\n\u001b[0m\u001b[1;32m     59\u001b[0m \u001b[0;34m\u001b[0m\u001b[0m\n\u001b[1;32m     60\u001b[0m \u001b[0;34m\u001b[0m\u001b[0m\n",
      "\u001b[0;32m~/anaconda3/lib/python3.6/site-packages/requests/sessions.py\u001b[0m in \u001b[0;36mrequest\u001b[0;34m(self, method, url, params, data, headers, cookies, files, auth, timeout, allow_redirects, proxies, hooks, stream, verify, cert, json)\u001b[0m\n\u001b[1;32m    492\u001b[0m             \u001b[0mhooks\u001b[0m\u001b[0;34m=\u001b[0m\u001b[0mhooks\u001b[0m\u001b[0;34m,\u001b[0m\u001b[0;34m\u001b[0m\u001b[0m\n\u001b[1;32m    493\u001b[0m         )\n\u001b[0;32m--> 494\u001b[0;31m         \u001b[0mprep\u001b[0m \u001b[0;34m=\u001b[0m \u001b[0mself\u001b[0m\u001b[0;34m.\u001b[0m\u001b[0mprepare_request\u001b[0m\u001b[0;34m(\u001b[0m\u001b[0mreq\u001b[0m\u001b[0;34m)\u001b[0m\u001b[0;34m\u001b[0m\u001b[0m\n\u001b[0m\u001b[1;32m    495\u001b[0m \u001b[0;34m\u001b[0m\u001b[0m\n\u001b[1;32m    496\u001b[0m         \u001b[0mproxies\u001b[0m \u001b[0;34m=\u001b[0m \u001b[0mproxies\u001b[0m \u001b[0;32mor\u001b[0m \u001b[0;34m{\u001b[0m\u001b[0;34m}\u001b[0m\u001b[0;34m\u001b[0m\u001b[0m\n",
      "\u001b[0;32m~/anaconda3/lib/python3.6/site-packages/requests/sessions.py\u001b[0m in \u001b[0;36mprepare_request\u001b[0;34m(self, request)\u001b[0m\n\u001b[1;32m    435\u001b[0m             \u001b[0mauth\u001b[0m\u001b[0;34m=\u001b[0m\u001b[0mmerge_setting\u001b[0m\u001b[0;34m(\u001b[0m\u001b[0mauth\u001b[0m\u001b[0;34m,\u001b[0m \u001b[0mself\u001b[0m\u001b[0;34m.\u001b[0m\u001b[0mauth\u001b[0m\u001b[0;34m)\u001b[0m\u001b[0;34m,\u001b[0m\u001b[0;34m\u001b[0m\u001b[0m\n\u001b[1;32m    436\u001b[0m             \u001b[0mcookies\u001b[0m\u001b[0;34m=\u001b[0m\u001b[0mmerged_cookies\u001b[0m\u001b[0;34m,\u001b[0m\u001b[0;34m\u001b[0m\u001b[0m\n\u001b[0;32m--> 437\u001b[0;31m             \u001b[0mhooks\u001b[0m\u001b[0;34m=\u001b[0m\u001b[0mmerge_hooks\u001b[0m\u001b[0;34m(\u001b[0m\u001b[0mrequest\u001b[0m\u001b[0;34m.\u001b[0m\u001b[0mhooks\u001b[0m\u001b[0;34m,\u001b[0m \u001b[0mself\u001b[0m\u001b[0;34m.\u001b[0m\u001b[0mhooks\u001b[0m\u001b[0;34m)\u001b[0m\u001b[0;34m,\u001b[0m\u001b[0;34m\u001b[0m\u001b[0m\n\u001b[0m\u001b[1;32m    438\u001b[0m         )\n\u001b[1;32m    439\u001b[0m         \u001b[0;32mreturn\u001b[0m \u001b[0mp\u001b[0m\u001b[0;34m\u001b[0m\u001b[0m\n",
      "\u001b[0;32m~/anaconda3/lib/python3.6/site-packages/requests/models.py\u001b[0m in \u001b[0;36mprepare\u001b[0;34m(self, method, url, headers, files, data, params, auth, cookies, hooks, json)\u001b[0m\n\u001b[1;32m    306\u001b[0m         \u001b[0mself\u001b[0m\u001b[0;34m.\u001b[0m\u001b[0mprepare_headers\u001b[0m\u001b[0;34m(\u001b[0m\u001b[0mheaders\u001b[0m\u001b[0;34m)\u001b[0m\u001b[0;34m\u001b[0m\u001b[0m\n\u001b[1;32m    307\u001b[0m         \u001b[0mself\u001b[0m\u001b[0;34m.\u001b[0m\u001b[0mprepare_cookies\u001b[0m\u001b[0;34m(\u001b[0m\u001b[0mcookies\u001b[0m\u001b[0;34m)\u001b[0m\u001b[0;34m\u001b[0m\u001b[0m\n\u001b[0;32m--> 308\u001b[0;31m         \u001b[0mself\u001b[0m\u001b[0;34m.\u001b[0m\u001b[0mprepare_body\u001b[0m\u001b[0;34m(\u001b[0m\u001b[0mdata\u001b[0m\u001b[0;34m,\u001b[0m \u001b[0mfiles\u001b[0m\u001b[0;34m,\u001b[0m \u001b[0mjson\u001b[0m\u001b[0;34m)\u001b[0m\u001b[0;34m\u001b[0m\u001b[0m\n\u001b[0m\u001b[1;32m    309\u001b[0m         \u001b[0mself\u001b[0m\u001b[0;34m.\u001b[0m\u001b[0mprepare_auth\u001b[0m\u001b[0;34m(\u001b[0m\u001b[0mauth\u001b[0m\u001b[0;34m,\u001b[0m \u001b[0murl\u001b[0m\u001b[0;34m)\u001b[0m\u001b[0;34m\u001b[0m\u001b[0m\n\u001b[1;32m    310\u001b[0m \u001b[0;34m\u001b[0m\u001b[0m\n",
      "\u001b[0;32m~/anaconda3/lib/python3.6/site-packages/requests/models.py\u001b[0m in \u001b[0;36mprepare_body\u001b[0;34m(self, data, files, json)\u001b[0m\n\u001b[1;32m    494\u001b[0m             \u001b[0;31m# Multi-part file uploads.\u001b[0m\u001b[0;34m\u001b[0m\u001b[0;34m\u001b[0m\u001b[0m\n\u001b[1;32m    495\u001b[0m             \u001b[0;32mif\u001b[0m \u001b[0mfiles\u001b[0m\u001b[0;34m:\u001b[0m\u001b[0;34m\u001b[0m\u001b[0m\n\u001b[0;32m--> 496\u001b[0;31m                 \u001b[0;34m(\u001b[0m\u001b[0mbody\u001b[0m\u001b[0;34m,\u001b[0m \u001b[0mcontent_type\u001b[0m\u001b[0;34m)\u001b[0m \u001b[0;34m=\u001b[0m \u001b[0mself\u001b[0m\u001b[0;34m.\u001b[0m\u001b[0m_encode_files\u001b[0m\u001b[0;34m(\u001b[0m\u001b[0mfiles\u001b[0m\u001b[0;34m,\u001b[0m \u001b[0mdata\u001b[0m\u001b[0;34m)\u001b[0m\u001b[0;34m\u001b[0m\u001b[0m\n\u001b[0m\u001b[1;32m    497\u001b[0m             \u001b[0;32melse\u001b[0m\u001b[0;34m:\u001b[0m\u001b[0;34m\u001b[0m\u001b[0m\n\u001b[1;32m    498\u001b[0m                 \u001b[0;32mif\u001b[0m \u001b[0mdata\u001b[0m\u001b[0;34m:\u001b[0m\u001b[0;34m\u001b[0m\u001b[0m\n",
      "\u001b[0;32m~/anaconda3/lib/python3.6/site-packages/requests/models.py\u001b[0m in \u001b[0;36m_encode_files\u001b[0;34m(files, data)\u001b[0m\n\u001b[1;32m    157\u001b[0m                 \u001b[0mfdata\u001b[0m \u001b[0;34m=\u001b[0m \u001b[0mfp\u001b[0m\u001b[0;34m\u001b[0m\u001b[0m\n\u001b[1;32m    158\u001b[0m             \u001b[0;32melse\u001b[0m\u001b[0;34m:\u001b[0m\u001b[0;34m\u001b[0m\u001b[0m\n\u001b[0;32m--> 159\u001b[0;31m                 \u001b[0mfdata\u001b[0m \u001b[0;34m=\u001b[0m \u001b[0mfp\u001b[0m\u001b[0;34m.\u001b[0m\u001b[0mread\u001b[0m\u001b[0;34m(\u001b[0m\u001b[0;34m)\u001b[0m\u001b[0;34m\u001b[0m\u001b[0m\n\u001b[0m\u001b[1;32m    160\u001b[0m \u001b[0;34m\u001b[0m\u001b[0m\n\u001b[1;32m    161\u001b[0m             \u001b[0mrf\u001b[0m \u001b[0;34m=\u001b[0m \u001b[0mRequestField\u001b[0m\u001b[0;34m(\u001b[0m\u001b[0mname\u001b[0m\u001b[0;34m=\u001b[0m\u001b[0mk\u001b[0m\u001b[0;34m,\u001b[0m \u001b[0mdata\u001b[0m\u001b[0;34m=\u001b[0m\u001b[0mfdata\u001b[0m\u001b[0;34m,\u001b[0m \u001b[0mfilename\u001b[0m\u001b[0;34m=\u001b[0m\u001b[0mfn\u001b[0m\u001b[0;34m,\u001b[0m \u001b[0mheaders\u001b[0m\u001b[0;34m=\u001b[0m\u001b[0mfh\u001b[0m\u001b[0;34m)\u001b[0m\u001b[0;34m\u001b[0m\u001b[0m\n",
      "\u001b[0;32m~/anaconda3/lib/python3.6/codecs.py\u001b[0m in \u001b[0;36mdecode\u001b[0;34m(self, input, final)\u001b[0m\n\u001b[1;32m    319\u001b[0m         \u001b[0;31m# decode input (taking the buffer into account)\u001b[0m\u001b[0;34m\u001b[0m\u001b[0;34m\u001b[0m\u001b[0m\n\u001b[1;32m    320\u001b[0m         \u001b[0mdata\u001b[0m \u001b[0;34m=\u001b[0m \u001b[0mself\u001b[0m\u001b[0;34m.\u001b[0m\u001b[0mbuffer\u001b[0m \u001b[0;34m+\u001b[0m \u001b[0minput\u001b[0m\u001b[0;34m\u001b[0m\u001b[0m\n\u001b[0;32m--> 321\u001b[0;31m         \u001b[0;34m(\u001b[0m\u001b[0mresult\u001b[0m\u001b[0;34m,\u001b[0m \u001b[0mconsumed\u001b[0m\u001b[0;34m)\u001b[0m \u001b[0;34m=\u001b[0m \u001b[0mself\u001b[0m\u001b[0;34m.\u001b[0m\u001b[0m_buffer_decode\u001b[0m\u001b[0;34m(\u001b[0m\u001b[0mdata\u001b[0m\u001b[0;34m,\u001b[0m \u001b[0mself\u001b[0m\u001b[0;34m.\u001b[0m\u001b[0merrors\u001b[0m\u001b[0;34m,\u001b[0m \u001b[0mfinal\u001b[0m\u001b[0;34m)\u001b[0m\u001b[0;34m\u001b[0m\u001b[0m\n\u001b[0m\u001b[1;32m    322\u001b[0m         \u001b[0;31m# keep undecoded input until the next call\u001b[0m\u001b[0;34m\u001b[0m\u001b[0;34m\u001b[0m\u001b[0m\n\u001b[1;32m    323\u001b[0m         \u001b[0mself\u001b[0m\u001b[0;34m.\u001b[0m\u001b[0mbuffer\u001b[0m \u001b[0;34m=\u001b[0m \u001b[0mdata\u001b[0m\u001b[0;34m[\u001b[0m\u001b[0mconsumed\u001b[0m\u001b[0;34m:\u001b[0m\u001b[0;34m]\u001b[0m\u001b[0;34m\u001b[0m\u001b[0m\n",
      "\u001b[0;31mUnicodeDecodeError\u001b[0m: 'utf-8' codec can't decode byte 0x89 in position 10: invalid start byte"
     ]
    }
   ],
   "source": [
    "# Submit models for QMEAN\n",
    "for i in range(1,2):\n",
    "    print(i)\n",
    "    to_submit = op.join('/home/nathan/projects_unsynced/all_structures_{}.zip'.format(i))\n",
    "    outfile = qmean_submit(to_submit, '/home/nathan/projects_unsynced/')\n",
    "    outfile"
   ]
  },
  {
   "cell_type": "code",
   "execution_count": 93,
   "metadata": {},
   "outputs": [
    {
     "name": "stdout",
     "output_type": "stream",
     "text": [
      "Already submitted: E02147_clean-X_clean\n",
      "Already submitted: E01113_clean-X_clean\n",
      "Already submitted: E03934_clean-X_clean\n",
      "Already submitted: E00435_clean-X_clean\n",
      "Already submitted: b3952_22_289_3cb8_clean\n",
      "Already submitted: E03348_clean-X_clean\n",
      "Already submitted: b1855_26_317_5knk_clean\n",
      "Already submitted: E00668_clean-X_clean\n",
      "Already submitted: b0187_3_129_1jc5_clean\n",
      "Already submitted: b2267_2_148_1xeb_clean\n",
      "Already submitted: E03554_clean-X_clean\n",
      "Already submitted: b2285_9_166_5gpn_clean\n",
      "Already submitted: b0346_12_263_5h1a_clean\n",
      "Already submitted: b1494_33_931_4l3t_clean\n",
      "Already submitted: E01922_clean-X_clean\n",
      "Already submitted: b0080_1_333_4rzs_clean\n",
      "Already submitted: b3945_1_363_5xn8_clean\n",
      "Already submitted: b0659_1_152_1xm5_clean\n",
      "Already submitted: b2523_12_427_1gyt_clean\n",
      "Already submitted: E03047_clean-X_clean\n",
      "Already submitted: b4190_2_249_1ufo_clean\n",
      "Already submitted: E00350_clean-X_clean\n",
      "Already submitted: b4388_2_320_3n28_clean\n",
      "Already submitted: b2308_4_220_4yms_clean\n",
      "Already submitted: E00742_clean-X_clean\n",
      "Already submitted: E02586_clean-X_clean\n"
     ]
    }
   ],
   "source": [
    "# Submit models for QMEAN\n",
    "qmean_info_dict = {}\n",
    "for g in my_gempro.genes_with_a_representative_structure[:100]:\n",
    "    if g.protein.representative_structure.structure_file:\n",
    "        if not g.protein.representative_structure.is_experimental and recipe_final[recipe_final.gene == g.id].INCLUDE.values[0] == 'x':\n",
    "            to_submit = op.join('/home/nathan/projects_unsynced/all_structures/', g.protein.representative_structure.structure_file)\n",
    "            outfile = qmean_submit(to_submit, outdir=g.protein.structure_dir)\n",
    "            qmean_info_dict[g.id] = outfile"
   ]
  },
  {
   "cell_type": "code",
   "execution_count": 97,
   "metadata": {},
   "outputs": [
    {
     "name": "stdout",
     "output_type": "stream",
     "text": [
      "b2266 ('https://swissmodel.expasy.org/qmean/project/mRtKt7.json', 'COMPLETED')\n",
      "b1189 ('https://swissmodel.expasy.org/qmean/project/MaVasM.json', 'COMPLETED')\n",
      "b4172 ('https://swissmodel.expasy.org/qmean/project/DnZFaR.json', 'COMPLETED')\n",
      "b0470 ('https://swissmodel.expasy.org/qmean/project/ms2w8H.json', 'COMPLETED')\n",
      "b3952 ('https://swissmodel.expasy.org/qmean/project/CwJpCU.json', 'COMPLETED')\n",
      "b3552 ('https://swissmodel.expasy.org/qmean/project/EhMSUJ.json', 'COMPLETED')\n",
      "b1855 ('https://swissmodel.expasy.org/qmean/project/phWB6B.json', 'COMPLETED')\n",
      "b0727 ('https://swissmodel.expasy.org/qmean/project/VCRR7e.json', 'COMPLETED')\n",
      "b0187 ('https://swissmodel.expasy.org/qmean/project/aZ3rgR.json', 'COMPLETED')\n",
      "b2267 ('https://swissmodel.expasy.org/qmean/project/qztJxe.json', 'COMPLETED')\n",
      "b3764 ('https://swissmodel.expasy.org/qmean/project/m5Xmmp.json', 'COMPLETED')\n",
      "b2285 ('https://swissmodel.expasy.org/qmean/project/cNDGud.json', 'COMPLETED')\n",
      "b0346 ('https://swissmodel.expasy.org/qmean/project/8GvVBJ.json', 'COMPLETED')\n",
      "b1494 ('https://swissmodel.expasy.org/qmean/project/cG6sjV.json', 'COMPLETED')\n",
      "b2034 ('https://swissmodel.expasy.org/qmean/project/EWrrMy.json', 'COMPLETED')\n",
      "b0080 ('https://swissmodel.expasy.org/qmean/project/t8KgjE.json', 'COMPLETED')\n",
      "b3945 ('https://swissmodel.expasy.org/qmean/project/QSsQRM.json', 'COMPLETED')\n",
      "b0659 ('https://swissmodel.expasy.org/qmean/project/uVtK9m.json', 'COMPLETED')\n",
      "b2523 ('https://swissmodel.expasy.org/qmean/project/5fCGuD.json', 'COMPLETED')\n",
      "b3235 ('https://swissmodel.expasy.org/qmean/project/rNBK5a.json', 'COMPLETED')\n",
      "b4190 ('https://swissmodel.expasy.org/qmean/project/cAAWL6.json', 'COMPLETED')\n",
      "b0382 ('https://swissmodel.expasy.org/qmean/project/k6M2ME.json', 'COMPLETED')\n",
      "b4388 ('https://swissmodel.expasy.org/qmean/project/q4Y9cw.json', 'COMPLETED')\n",
      "b2308 ('https://swissmodel.expasy.org/qmean/project/KzTPYV.json', 'COMPLETED')\n",
      "b0807 ('https://swissmodel.expasy.org/qmean/project/fE5ddm.json', 'COMPLETED')\n",
      "b2741 ('https://swissmodel.expasy.org/qmean/project/ttqLTn.json', 'COMPLETED')\n"
     ]
    }
   ],
   "source": [
    "# Status of results\n",
    "for g in my_gempro.genes_with_a_representative_structure[:100]:\n",
    "    if not g.protein.representative_structure.is_experimental and recipe_final[recipe_final.gene == g.id].INCLUDE.values[0] == 'x':\n",
    "        print(g.id, qmean_status(qmean_info_dict[g.id]))"
   ]
  },
  {
   "cell_type": "code",
   "execution_count": 99,
   "metadata": {},
   "outputs": [
    {
     "name": "stdout",
     "output_type": "stream",
     "text": [
      "Downloaded: /home/nathan/projects_unsynced/ecoli_gp/genes/b2266/b2266_protein/structures/E02147_clean-X_clean_qmean_results.json\n",
      "Downloaded: /home/nathan/projects_unsynced/ecoli_gp/genes/b1189/b1189_protein/structures/E01113_clean-X_clean_qmean_results.json\n",
      "Downloaded: /home/nathan/projects_unsynced/ecoli_gp/genes/b4172/b4172_protein/structures/E03934_clean-X_clean_qmean_results.json\n",
      "Downloaded: /home/nathan/projects_unsynced/ecoli_gp/genes/b0470/b0470_protein/structures/E00435_clean-X_clean_qmean_results.json\n",
      "Downloaded: /home/nathan/projects_unsynced/ecoli_gp/genes/b3952/b3952_protein/structures/b3952_22_289_3cb8_clean_qmean_results.json\n",
      "Downloaded: /home/nathan/projects_unsynced/ecoli_gp/genes/b3552/b3552_protein/structures/E03348_clean-X_clean_qmean_results.json\n",
      "Downloaded: /home/nathan/projects_unsynced/ecoli_gp/genes/b1855/b1855_protein/structures/b1855_26_317_5knk_clean_qmean_results.json\n",
      "Downloaded: /home/nathan/projects_unsynced/ecoli_gp/genes/b0727/b0727_protein/structures/E00668_clean-X_clean_qmean_results.json\n",
      "Downloaded: /home/nathan/projects_unsynced/ecoli_gp/genes/b0187/b0187_protein/structures/b0187_3_129_1jc5_clean_qmean_results.json\n",
      "Downloaded: /home/nathan/projects_unsynced/ecoli_gp/genes/b2267/b2267_protein/structures/b2267_2_148_1xeb_clean_qmean_results.json\n",
      "Downloaded: /home/nathan/projects_unsynced/ecoli_gp/genes/b3764/b3764_protein/structures/E03554_clean-X_clean_qmean_results.json\n",
      "Downloaded: /home/nathan/projects_unsynced/ecoli_gp/genes/b2285/b2285_protein/structures/b2285_9_166_5gpn_clean_qmean_results.json\n",
      "Downloaded: /home/nathan/projects_unsynced/ecoli_gp/genes/b0346/b0346_protein/structures/b0346_12_263_5h1a_clean_qmean_results.json\n",
      "Downloaded: /home/nathan/projects_unsynced/ecoli_gp/genes/b1494/b1494_protein/structures/b1494_33_931_4l3t_clean_qmean_results.json\n",
      "Downloaded: /home/nathan/projects_unsynced/ecoli_gp/genes/b2034/b2034_protein/structures/E01922_clean-X_clean_qmean_results.json\n",
      "Downloaded: /home/nathan/projects_unsynced/ecoli_gp/genes/b0080/b0080_protein/structures/b0080_1_333_4rzs_clean_qmean_results.json\n",
      "Downloaded: /home/nathan/projects_unsynced/ecoli_gp/genes/b3945/b3945_protein/structures/b3945_1_363_5xn8_clean_qmean_results.json\n",
      "Downloaded: /home/nathan/projects_unsynced/ecoli_gp/genes/b0659/b0659_protein/structures/b0659_1_152_1xm5_clean_qmean_results.json\n",
      "Downloaded: /home/nathan/projects_unsynced/ecoli_gp/genes/b2523/b2523_protein/structures/b2523_12_427_1gyt_clean_qmean_results.json\n",
      "Downloaded: /home/nathan/projects_unsynced/ecoli_gp/genes/b3235/b3235_protein/structures/E03047_clean-X_clean_qmean_results.json\n",
      "Downloaded: /home/nathan/projects_unsynced/ecoli_gp/genes/b4190/b4190_protein/structures/b4190_2_249_1ufo_clean_qmean_results.json\n",
      "Downloaded: /home/nathan/projects_unsynced/ecoli_gp/genes/b0382/b0382_protein/structures/E00350_clean-X_clean_qmean_results.json\n",
      "Downloaded: /home/nathan/projects_unsynced/ecoli_gp/genes/b4388/b4388_protein/structures/b4388_2_320_3n28_clean_qmean_results.json\n",
      "Downloaded: /home/nathan/projects_unsynced/ecoli_gp/genes/b2308/b2308_protein/structures/b2308_4_220_4yms_clean_qmean_results.json\n",
      "Downloaded: /home/nathan/projects_unsynced/ecoli_gp/genes/b0807/b0807_protein/structures/E00742_clean-X_clean_qmean_results.json\n",
      "Downloaded: /home/nathan/projects_unsynced/ecoli_gp/genes/b2741/b2741_protein/structures/E02586_clean-X_clean_qmean_results.json\n"
     ]
    }
   ],
   "source": [
    "# Retrieve results\n",
    "for g in my_gempro.genes_with_a_representative_structure[:100]:\n",
    "    if g.protein.representative_structure.structure_file:\n",
    "        if not g.protein.representative_structure.is_experimental and recipe_final[recipe_final.gene == g.id].INCLUDE.values[0] == 'x':\n",
    "            finalfile = qmean_retrieve(qmean_info_dict[g.id], outdir=g.protein.structure_dir)"
   ]
  },
  {
   "cell_type": "code",
   "execution_count": null,
   "metadata": {
    "collapsed": true
   },
   "outputs": [],
   "source": []
  }
 ],
 "metadata": {
  "kernelspec": {
   "display_name": "Python [default]",
   "language": "python",
   "name": "python3"
  },
  "language_info": {
   "codemirror_mode": {
    "name": "ipython",
    "version": 3
   },
   "file_extension": ".py",
   "mimetype": "text/x-python",
   "name": "python",
   "nbconvert_exporter": "python",
   "pygments_lexer": "ipython3",
   "version": "3.6.3"
  }
 },
 "nbformat": 4,
 "nbformat_minor": 2
}
