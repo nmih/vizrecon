{
 "cells": [
  {
   "cell_type": "markdown",
   "metadata": {},
   "source": [
    "## E. coli GEM-PRO for all proteins using UniProt proteome FASTA file"
   ]
  },
  {
   "cell_type": "markdown",
   "metadata": {},
   "source": [
    "- Also includes SWISS-MODELs"
   ]
  },
  {
   "cell_type": "code",
   "execution_count": 20,
   "metadata": {
    "collapsed": true
   },
   "outputs": [],
   "source": [
    "import sys\n",
    "import logging\n",
    "import os.path as op\n",
    "import pandas as pd\n",
    "from ssbio.pipeline.gempro import GEMPRO\n",
    "import ssbio.protein.sequence.utils.fasta\n",
    "\n",
    "# Logging\n",
    "logger = logging.getLogger()\n",
    "logger.setLevel(logging.INFO)\n",
    "handler = logging.StreamHandler(sys.stderr)\n",
    "formatter = logging.Formatter('[%(asctime)s] [%(name)s] %(levelname)s: %(message)s', datefmt=\"%Y-%m-%d %H:%M\")\n",
    "handler.setFormatter(formatter)\n",
    "logger.handlers = [handler]\n",
    "\n",
    "# Printing multiple outputs per cell\n",
    "from IPython.core.interactiveshell import InteractiveShell\n",
    "InteractiveShell.ast_node_interactivity = \"all\""
   ]
  },
  {
   "cell_type": "markdown",
   "metadata": {},
   "source": [
    "### Use the UniProt E. coli FASTA file"
   ]
  },
  {
   "cell_type": "code",
   "execution_count": 3,
   "metadata": {
    "collapsed": true
   },
   "outputs": [],
   "source": [
    "FASTA_FILE = './171205-uniprot_ecoli_proteome.fasta'\n",
    "ss = ssbio.protein.sequence.utils.fasta.load_fasta_file(FASTA_FILE)"
   ]
  },
  {
   "cell_type": "code",
   "execution_count": 4,
   "metadata": {},
   "outputs": [
    {
     "data": {
      "text/plain": [
       "4306"
      ]
     },
     "execution_count": 4,
     "metadata": {},
     "output_type": "execute_result"
    }
   ],
   "source": [
    "len(ss)"
   ]
  },
  {
   "cell_type": "markdown",
   "metadata": {},
   "source": [
    "#### Convert UniProt IDs to bnumbers"
   ]
  },
  {
   "cell_type": "code",
   "execution_count": 5,
   "metadata": {
    "collapsed": true
   },
   "outputs": [],
   "source": [
    "uniprot_to_bnumber = {}\n",
    "\n",
    "for i, r in pd.read_csv('./171205-uniprot_ecoli_mapping_to_bnum_extra1.tab', sep='\\t')[['Entry', 'Gene names  (ordered locus )']].iterrows():\n",
    "    bnum = r['Gene names  (ordered locus )'].split(' ')[0]\n",
    "    if bnum.startswith('b'):\n",
    "        uniprot_to_bnumber[r['Entry']] = bnum\n",
    "    \n",
    "for i, r in pd.read_csv('./171205-uniprot_ecoli_mapping_to_bnum_extra2.tab', sep='\\t')[['Entry', 'Gene names  (ordered locus )']].iterrows():\n",
    "    if r['Entry'] in uniprot_to_bnumber:\n",
    "        print(r['Entry'])\n",
    "    bnum = r['Gene names  (ordered locus )'].split(' ')[0]\n",
    "    if bnum.startswith('b'):\n",
    "        uniprot_to_bnumber[r['Entry']] = bnum\n",
    "    \n",
    "for i, r in pd.read_csv('./171205-uniprot_ecoli_mapping_to_bnum_extra3.tab', sep='\\t')[['Entry', 'Gene names  (ordered locus )']].iterrows():\n",
    "    if r['Entry'] in uniprot_to_bnumber:\n",
    "        print(r['Entry'])\n",
    "    try:\n",
    "        bnum = r['Gene names  (ordered locus )'].split(' ')[0]\n",
    "        if bnum.startswith('b'):\n",
    "            uniprot_to_bnumber[r['Entry']] = bnum\n",
    "    except:\n",
    "        continue"
   ]
  },
  {
   "cell_type": "code",
   "execution_count": 6,
   "metadata": {
    "collapsed": true
   },
   "outputs": [],
   "source": [
    "from bioservices import UniProt\n",
    "bs_unip = UniProt()\n",
    "uniprot_to_kegg = bs_unip.mapping(fr='ACC', to='KEGG_ID', query=[x.id.split('|')[1] for x in ss])\n",
    "\n",
    "for k,v in uniprot_to_kegg.items():\n",
    "    for x in v:\n",
    "        if 'eco' in x:\n",
    "            if k in uniprot_to_bnumber:\n",
    "                continue\n",
    "            else:\n",
    "                uniprot_to_bnumber[k] = x.split(':')[1]"
   ]
  },
  {
   "cell_type": "markdown",
   "metadata": {},
   "source": [
    "#### Convert FASTA file to dict of seqs with the bnumber"
   ]
  },
  {
   "cell_type": "code",
   "execution_count": 7,
   "metadata": {
    "collapsed": true
   },
   "outputs": [],
   "source": [
    "sss = ssbio.protein.sequence.utils.fasta.load_fasta_file_as_dict_of_seqs(FASTA_FILE)"
   ]
  },
  {
   "cell_type": "code",
   "execution_count": 8,
   "metadata": {
    "collapsed": true
   },
   "outputs": [],
   "source": [
    "final = {}\n",
    "\n",
    "for k,v in sss.items():\n",
    "    unip = k.split('|')[1]\n",
    "    if unip not in uniprot_to_bnumber:\n",
    "        print(unip)\n",
    "    else:\n",
    "        final[uniprot_to_bnumber[unip]] = v"
   ]
  },
  {
   "cell_type": "markdown",
   "metadata": {},
   "source": [
    "#### Make GEM-PRO"
   ]
  },
  {
   "cell_type": "code",
   "execution_count": 9,
   "metadata": {
    "collapsed": true
   },
   "outputs": [],
   "source": [
    "GEM_NAME = 'ecoli_gp'\n",
    "ROOT_DIR = '/home/nathan/projects_unsynced/'"
   ]
  },
  {
   "cell_type": "code",
   "execution_count": 10,
   "metadata": {
    "collapsed": true
   },
   "outputs": [],
   "source": [
    "# Create the GEM-PRO project\n",
    "my_gempro = GEMPRO(gem_name=GEM_NAME, root_dir=ROOT_DIR, genes_and_sequences=final, pdb_file_type='mmtf')"
   ]
  },
  {
   "cell_type": "code",
   "execution_count": 11,
   "metadata": {},
   "outputs": [
    {
     "data": {
      "application/vnd.jupyter.widget-view+json": {
       "model_id": "42b7073de36e4be1830f41e478df31bb",
       "version_major": 2,
       "version_minor": 0
      },
      "text/html": [
       "<p>Failed to display Jupyter Widget of type <code>HBox</code>.</p>\n",
       "<p>\n",
       "  If you're reading this message in Jupyter Notebook or JupyterLab, it may mean\n",
       "  that the widgets JavaScript is still loading. If this message persists, it\n",
       "  likely means that the widgets JavaScript library is either not installed or\n",
       "  not enabled. See the <a href=\"https://ipywidgets.readthedocs.io/en/stable/user_install.html\">Jupyter\n",
       "  Widgets Documentation</a> for setup instructions.\n",
       "</p>\n",
       "<p>\n",
       "  If you're reading this message in another notebook frontend (for example, a static\n",
       "  rendering on GitHub or <a href=\"https://nbviewer.jupyter.org/\">NBViewer</a>),\n",
       "  it may mean that your frontend doesn't currently support widgets.\n",
       "</p>\n"
      ],
      "text/plain": [
       "HBox(children=(IntProgress(value=0, max=4305), HTML(value='')))"
      ]
     },
     "metadata": {},
     "output_type": "display_data"
    },
    {
     "name": "stdout",
     "output_type": "stream",
     "text": [
      "\n"
     ]
    },
    {
     "data": {
      "application/vnd.jupyter.widget-view+json": {
       "model_id": "d230aaa03ab74f38b1401f941952ec6d",
       "version_major": 2,
       "version_minor": 0
      },
      "text/html": [
       "<p>Failed to display Jupyter Widget of type <code>HBox</code>.</p>\n",
       "<p>\n",
       "  If you're reading this message in Jupyter Notebook or JupyterLab, it may mean\n",
       "  that the widgets JavaScript is still loading. If this message persists, it\n",
       "  likely means that the widgets JavaScript library is either not installed or\n",
       "  not enabled. See the <a href=\"https://ipywidgets.readthedocs.io/en/stable/user_install.html\">Jupyter\n",
       "  Widgets Documentation</a> for setup instructions.\n",
       "</p>\n",
       "<p>\n",
       "  If you're reading this message in another notebook frontend (for example, a static\n",
       "  rendering on GitHub or <a href=\"https://nbviewer.jupyter.org/\">NBViewer</a>),\n",
       "  it may mean that your frontend doesn't currently support widgets.\n",
       "</p>\n"
      ],
      "text/plain": [
       "HBox(children=(IntProgress(value=0, max=4305), HTML(value='')))"
      ]
     },
     "metadata": {},
     "output_type": "display_data"
    },
    {
     "name": "stdout",
     "output_type": "stream",
     "text": [
      "\n"
     ]
    }
   ],
   "source": [
    "# Remap back to uniprot\n",
    "bnumber_to_uniprot = {v:k for k,v in uniprot_to_bnumber.items()}\n",
    "my_gempro.manual_uniprot_mapping(bnumber_to_uniprot)\n",
    "my_gempro.set_representative_sequence()"
   ]
  },
  {
   "cell_type": "code",
   "execution_count": 12,
   "metadata": {},
   "outputs": [
    {
     "data": {
      "application/vnd.jupyter.widget-view+json": {
       "model_id": "b859e7333db3434b88f1b56869decee6",
       "version_major": 2,
       "version_minor": 0
      },
      "text/html": [
       "<p>Failed to display Jupyter Widget of type <code>HBox</code>.</p>\n",
       "<p>\n",
       "  If you're reading this message in Jupyter Notebook or JupyterLab, it may mean\n",
       "  that the widgets JavaScript is still loading. If this message persists, it\n",
       "  likely means that the widgets JavaScript library is either not installed or\n",
       "  not enabled. See the <a href=\"https://ipywidgets.readthedocs.io/en/stable/user_install.html\">Jupyter\n",
       "  Widgets Documentation</a> for setup instructions.\n",
       "</p>\n",
       "<p>\n",
       "  If you're reading this message in another notebook frontend (for example, a static\n",
       "  rendering on GitHub or <a href=\"https://nbviewer.jupyter.org/\">NBViewer</a>),\n",
       "  it may mean that your frontend doesn't currently support widgets.\n",
       "</p>\n"
      ],
      "text/plain": [
       "HBox(children=(IntProgress(value=0, max=4305), HTML(value='')))"
      ]
     },
     "metadata": {},
     "output_type": "display_data"
    },
    {
     "name": "stdout",
     "output_type": "stream",
     "text": [
      "\n"
     ]
    },
    {
     "data": {
      "application/vnd.jupyter.widget-view+json": {
       "model_id": "4d5e59afb3784fdea6c91ae52b43ff50",
       "version_major": 2,
       "version_minor": 0
      },
      "text/html": [
       "<p>Failed to display Jupyter Widget of type <code>HBox</code>.</p>\n",
       "<p>\n",
       "  If you're reading this message in Jupyter Notebook or JupyterLab, it may mean\n",
       "  that the widgets JavaScript is still loading. If this message persists, it\n",
       "  likely means that the widgets JavaScript library is either not installed or\n",
       "  not enabled. See the <a href=\"https://ipywidgets.readthedocs.io/en/stable/user_install.html\">Jupyter\n",
       "  Widgets Documentation</a> for setup instructions.\n",
       "</p>\n",
       "<p>\n",
       "  If you're reading this message in another notebook frontend (for example, a static\n",
       "  rendering on GitHub or <a href=\"https://nbviewer.jupyter.org/\">NBViewer</a>),\n",
       "  it may mean that your frontend doesn't currently support widgets.\n",
       "</p>\n"
      ],
      "text/plain": [
       "HBox(children=(IntProgress(value=0, max=4305), HTML(value='')))"
      ]
     },
     "metadata": {},
     "output_type": "display_data"
    },
    {
     "name": "stdout",
     "output_type": "stream",
     "text": [
      "\n"
     ]
    }
   ],
   "source": [
    "my_gempro.map_uniprot_to_pdb()\n",
    "my_gempro.blast_seqs_to_pdb(all_genes=True, seq_ident_cutoff=.75, evalue=0.00001)"
   ]
  },
  {
   "cell_type": "code",
   "execution_count": 13,
   "metadata": {
    "collapsed": true
   },
   "outputs": [],
   "source": [
    "import shutil"
   ]
  },
  {
   "cell_type": "code",
   "execution_count": 14,
   "metadata": {},
   "outputs": [
    {
     "data": {
      "application/vnd.jupyter.widget-view+json": {
       "model_id": "c934ed8c68db4f939df468e3c47230f8",
       "version_major": 2,
       "version_minor": 0
      },
      "text/html": [
       "<p>Failed to display Jupyter Widget of type <code>HBox</code>.</p>\n",
       "<p>\n",
       "  If you're reading this message in Jupyter Notebook or JupyterLab, it may mean\n",
       "  that the widgets JavaScript is still loading. If this message persists, it\n",
       "  likely means that the widgets JavaScript library is either not installed or\n",
       "  not enabled. See the <a href=\"https://ipywidgets.readthedocs.io/en/stable/user_install.html\">Jupyter\n",
       "  Widgets Documentation</a> for setup instructions.\n",
       "</p>\n",
       "<p>\n",
       "  If you're reading this message in another notebook frontend (for example, a static\n",
       "  rendering on GitHub or <a href=\"https://nbviewer.jupyter.org/\">NBViewer</a>),\n",
       "  it may mean that your frontend doesn't currently support widgets.\n",
       "</p>\n"
      ],
      "text/plain": [
       "HBox(children=(IntProgress(value=0, max=4305), HTML(value='')))"
      ]
     },
     "metadata": {},
     "output_type": "display_data"
    },
    {
     "name": "stdout",
     "output_type": "stream",
     "text": [
      "\n"
     ]
    }
   ],
   "source": [
    "# Downloading and loading SWISS-MODEL models\n",
    "from tqdm import tqdm_notebook as tqdm\n",
    "\n",
    "import json\n",
    "with open('/home/nathan/projects_archive/homology_models/ECOLI/SWISS-MODEL_Repository/INDEX_JSON') as f:\n",
    "    loaded = json.load(f)\n",
    "    \n",
    "from collections import defaultdict\n",
    "uniprot_to_swissmodel = defaultdict(list)\n",
    "\n",
    "for x in loaded:\n",
    "    uni = x['uniprot_ac']\n",
    "    file_path = op.join('/home/nathan/projects_archive/homology_models/ECOLI/SWISS-MODEL_Repository/', \n",
    "                        uni[:2], uni[2:4], uni[4:], 'swissmodel', \n",
    "                        '{}_{}_{}_{}.pdb'.format(x['from'], x['to'], x['template'], x['coordinate_id']))\n",
    "    if op.exists(file_path):\n",
    "        uniprot_to_swissmodel[uni].append(file_path)\n",
    "        \n",
    "        \n",
    "# Load models into gempro\n",
    "for g in tqdm(my_gempro.genes_with_a_representative_sequence):\n",
    "    if g.protein.representative_sequence.uniprot in uniprot_to_swissmodel:\n",
    "        for m in uniprot_to_swissmodel[g.protein.representative_sequence.uniprot]:\n",
    "            \n",
    "            ident = '{}_{}'.format(g.id, op.basename(m).split('.')[0])\n",
    "            \n",
    "            # Copy and rename files...\n",
    "            new_folder = '/home/nathan/projects_archive/homology_models/ECOLI/SWISS-MODEL_renamed'\n",
    "            renamer = '{}.pdb'.format(ident)\n",
    "            new_file = op.join(new_folder, renamer)\n",
    "            _ = shutil.copy(m, new_file)\n",
    "            \n",
    "            new_homology = g.protein.load_pdb(pdb_id=ident, pdb_file=new_file, file_type='pdb', is_experimental=False)"
   ]
  },
  {
   "cell_type": "code",
   "execution_count": null,
   "metadata": {
    "scrolled": true
   },
   "outputs": [
    {
     "data": {
      "application/vnd.jupyter.widget-view+json": {
       "model_id": "d74152172b62487b9e2ae64a68b528dd",
       "version_major": 2,
       "version_minor": 0
      },
      "text/html": [
       "<p>Failed to display Jupyter Widget of type <code>HBox</code>.</p>\n",
       "<p>\n",
       "  If you're reading this message in Jupyter Notebook or JupyterLab, it may mean\n",
       "  that the widgets JavaScript is still loading. If this message persists, it\n",
       "  likely means that the widgets JavaScript library is either not installed or\n",
       "  not enabled. See the <a href=\"https://ipywidgets.readthedocs.io/en/stable/user_install.html\">Jupyter\n",
       "  Widgets Documentation</a> for setup instructions.\n",
       "</p>\n",
       "<p>\n",
       "  If you're reading this message in another notebook frontend (for example, a static\n",
       "  rendering on GitHub or <a href=\"https://nbviewer.jupyter.org/\">NBViewer</a>),\n",
       "  it may mean that your frontend doesn't currently support widgets.\n",
       "</p>\n"
      ],
      "text/plain": [
       "HBox(children=(IntProgress(value=0, max=4305), HTML(value='')))"
      ]
     },
     "metadata": {},
     "output_type": "display_data"
    },
    {
     "name": "stderr",
     "output_type": "stream",
     "text": [
      "ERROR:ssbio.core.protein:b4252_1_150_1s4c-_: alignment failed to run, unable to check structure\n",
      "ERROR:ssbio.protein.structure.utils.structureio:/home/nathan/projects_unsynced/ecoli_gp/genes/b3303/b3303_protein/structures/4v9o.mmtf: unable to save structure in PDB file format\n"
     ]
    },
    {
     "name": "stdout",
     "output_type": "stream",
     "text": [
      "%c requires int or char\n"
     ]
    },
    {
     "name": "stderr",
     "output_type": "stream",
     "text": [
      "ERROR:root:Unknown error with PDB ID 4v9o\n",
      "Traceback (most recent call last):\n",
      "  File \"/mnt/projects/ssbio/ssbio/core/protein.py\", line 1675, in set_representative_structure\n",
      "    force_rerun=force_rerun)\n",
      "  File \"/mnt/projects/ssbio/ssbio/core/protein.py\", line 1506, in _representative_structure_setter\n",
      "    self.representative_structure.parse_structure()\n",
      "  File \"/mnt/projects/ssbio/ssbio/protein/structure/structprop.py\", line 138, in parse_structure\n",
      "    if not self.structure_path:\n",
      "  File \"/mnt/projects/ssbio/ssbio/protein/structure/structprop.py\", line 105, in structure_path\n",
      "    raise OSError('{}: structure file not available'.format(self.id))\n",
      "OSError: REP-4v9o: structure file not available\n",
      "ERROR:ssbio.protein.structure.utils.structureio:/home/nathan/projects_unsynced/ecoli_gp/genes/b3303/b3303_protein/structures/4v9p.mmtf: unable to save structure in PDB file format\n"
     ]
    },
    {
     "name": "stdout",
     "output_type": "stream",
     "text": [
      "%c requires int or char\n"
     ]
    },
    {
     "name": "stderr",
     "output_type": "stream",
     "text": [
      "ERROR:root:Unknown error with PDB ID 4v9p\n",
      "Traceback (most recent call last):\n",
      "  File \"/mnt/projects/ssbio/ssbio/core/protein.py\", line 1675, in set_representative_structure\n",
      "    force_rerun=force_rerun)\n",
      "  File \"/mnt/projects/ssbio/ssbio/core/protein.py\", line 1506, in _representative_structure_setter\n",
      "    self.representative_structure.parse_structure()\n",
      "  File \"/mnt/projects/ssbio/ssbio/protein/structure/structprop.py\", line 138, in parse_structure\n",
      "    if not self.structure_path:\n",
      "  File \"/mnt/projects/ssbio/ssbio/protein/structure/structprop.py\", line 105, in structure_path\n",
      "    raise OSError('{}: structure file not available'.format(self.id))\n",
      "OSError: REP-4v9p: structure file not available\n",
      "ERROR:ssbio.protein.structure.utils.structureio:/home/nathan/projects_unsynced/ecoli_gp/genes/b2606/b2606_protein/structures/4v9o.mmtf: unable to save structure in PDB file format\n"
     ]
    },
    {
     "name": "stdout",
     "output_type": "stream",
     "text": [
      "%c requires int or char\n"
     ]
    },
    {
     "name": "stderr",
     "output_type": "stream",
     "text": [
      "ERROR:root:Unknown error with PDB ID 4v9o\n",
      "Traceback (most recent call last):\n",
      "  File \"/mnt/projects/ssbio/ssbio/core/protein.py\", line 1675, in set_representative_structure\n",
      "    force_rerun=force_rerun)\n",
      "  File \"/mnt/projects/ssbio/ssbio/core/protein.py\", line 1506, in _representative_structure_setter\n",
      "    self.representative_structure.parse_structure()\n",
      "  File \"/mnt/projects/ssbio/ssbio/protein/structure/structprop.py\", line 138, in parse_structure\n",
      "    if not self.structure_path:\n",
      "  File \"/mnt/projects/ssbio/ssbio/protein/structure/structprop.py\", line 105, in structure_path\n",
      "    raise OSError('{}: structure file not available'.format(self.id))\n",
      "OSError: REP-4v9o: structure file not available\n",
      "ERROR:ssbio.protein.structure.utils.structureio:/home/nathan/projects_unsynced/ecoli_gp/genes/b2606/b2606_protein/structures/4v9p.mmtf: unable to save structure in PDB file format\n"
     ]
    },
    {
     "name": "stdout",
     "output_type": "stream",
     "text": [
      "%c requires int or char\n"
     ]
    },
    {
     "name": "stderr",
     "output_type": "stream",
     "text": [
      "ERROR:root:Unknown error with PDB ID 4v9p\n",
      "Traceback (most recent call last):\n",
      "  File \"/mnt/projects/ssbio/ssbio/core/protein.py\", line 1675, in set_representative_structure\n",
      "    force_rerun=force_rerun)\n",
      "  File \"/mnt/projects/ssbio/ssbio/core/protein.py\", line 1506, in _representative_structure_setter\n",
      "    self.representative_structure.parse_structure()\n",
      "  File \"/mnt/projects/ssbio/ssbio/protein/structure/structprop.py\", line 138, in parse_structure\n",
      "    if not self.structure_path:\n",
      "  File \"/mnt/projects/ssbio/ssbio/protein/structure/structprop.py\", line 105, in structure_path\n",
      "    raise OSError('{}: structure file not available'.format(self.id))\n",
      "OSError: REP-4v9p: structure file not available\n",
      "ERROR:ssbio.protein.structure.utils.structureio:/home/nathan/projects_unsynced/ecoli_gp/genes/b3307/b3307_protein/structures/4v9o.mmtf: unable to save structure in PDB file format\n"
     ]
    },
    {
     "name": "stdout",
     "output_type": "stream",
     "text": [
      "%c requires int or char\n"
     ]
    },
    {
     "name": "stderr",
     "output_type": "stream",
     "text": [
      "ERROR:root:Unknown error with PDB ID 4v9o\n",
      "Traceback (most recent call last):\n",
      "  File \"/mnt/projects/ssbio/ssbio/core/protein.py\", line 1675, in set_representative_structure\n",
      "    force_rerun=force_rerun)\n",
      "  File \"/mnt/projects/ssbio/ssbio/core/protein.py\", line 1506, in _representative_structure_setter\n",
      "    self.representative_structure.parse_structure()\n",
      "  File \"/mnt/projects/ssbio/ssbio/protein/structure/structprop.py\", line 138, in parse_structure\n",
      "    if not self.structure_path:\n",
      "  File \"/mnt/projects/ssbio/ssbio/protein/structure/structprop.py\", line 105, in structure_path\n",
      "    raise OSError('{}: structure file not available'.format(self.id))\n",
      "OSError: REP-4v9o: structure file not available\n",
      "ERROR:ssbio.protein.structure.utils.structureio:/home/nathan/projects_unsynced/ecoli_gp/genes/b3307/b3307_protein/structures/4v9p.mmtf: unable to save structure in PDB file format\n"
     ]
    },
    {
     "name": "stdout",
     "output_type": "stream",
     "text": [
      "%c requires int or char\n"
     ]
    },
    {
     "name": "stderr",
     "output_type": "stream",
     "text": [
      "ERROR:root:Unknown error with PDB ID 4v9p\n",
      "Traceback (most recent call last):\n",
      "  File \"/mnt/projects/ssbio/ssbio/core/protein.py\", line 1675, in set_representative_structure\n",
      "    force_rerun=force_rerun)\n",
      "  File \"/mnt/projects/ssbio/ssbio/core/protein.py\", line 1506, in _representative_structure_setter\n",
      "    self.representative_structure.parse_structure()\n",
      "  File \"/mnt/projects/ssbio/ssbio/protein/structure/structprop.py\", line 138, in parse_structure\n",
      "    if not self.structure_path:\n",
      "  File \"/mnt/projects/ssbio/ssbio/protein/structure/structprop.py\", line 105, in structure_path\n",
      "    raise OSError('{}: structure file not available'.format(self.id))\n",
      "OSError: REP-4v9p: structure file not available\n",
      "ERROR:ssbio.core.protein:b1337_5_463_3ram-_: alignment failed to run, unable to check structure\n",
      "ERROR:ssbio.core.protein:b1802_17_373_2b1x-_: alignment failed to run, unable to check structure\n",
      "ERROR:ssbio.core.protein:b3454_4_236_1ji0-_: alignment failed to run, unable to check structure\n",
      "ERROR:ssbio.protein.structure.utils.structureio:/home/nathan/projects_unsynced/ecoli_gp/genes/b2597/b2597_protein/structures/4y4o.mmtf: unable to save structure in PDB file format\n"
     ]
    },
    {
     "name": "stdout",
     "output_type": "stream",
     "text": [
      "%c requires int or char\n"
     ]
    },
    {
     "name": "stderr",
     "output_type": "stream",
     "text": [
      "ERROR:root:Unknown error with PDB ID 4y4o\n",
      "Traceback (most recent call last):\n",
      "  File \"/mnt/projects/ssbio/ssbio/core/protein.py\", line 1675, in set_representative_structure\n",
      "    force_rerun=force_rerun)\n",
      "  File \"/mnt/projects/ssbio/ssbio/core/protein.py\", line 1506, in _representative_structure_setter\n",
      "    self.representative_structure.parse_structure()\n",
      "  File \"/mnt/projects/ssbio/ssbio/protein/structure/structprop.py\", line 138, in parse_structure\n",
      "    if not self.structure_path:\n",
      "  File \"/mnt/projects/ssbio/ssbio/protein/structure/structprop.py\", line 105, in structure_path\n",
      "    raise OSError('{}: structure file not available'.format(self.id))\n",
      "OSError: REP-4y4o: structure file not available\n",
      "ERROR:ssbio.protein.structure.utils.structureio:/home/nathan/projects_unsynced/ecoli_gp/genes/b2597/b2597_protein/structures/4v8i.mmtf: unable to save structure in PDB file format\n"
     ]
    },
    {
     "name": "stdout",
     "output_type": "stream",
     "text": [
      "%c requires int or char\n"
     ]
    },
    {
     "name": "stderr",
     "output_type": "stream",
     "text": [
      "ERROR:root:Unknown error with PDB ID 4v8i\n",
      "Traceback (most recent call last):\n",
      "  File \"/mnt/projects/ssbio/ssbio/core/protein.py\", line 1675, in set_representative_structure\n",
      "    force_rerun=force_rerun)\n",
      "  File \"/mnt/projects/ssbio/ssbio/core/protein.py\", line 1506, in _representative_structure_setter\n",
      "    self.representative_structure.parse_structure()\n",
      "  File \"/mnt/projects/ssbio/ssbio/protein/structure/structprop.py\", line 138, in parse_structure\n",
      "    if not self.structure_path:\n",
      "  File \"/mnt/projects/ssbio/ssbio/protein/structure/structprop.py\", line 105, in structure_path\n",
      "    raise OSError('{}: structure file not available'.format(self.id))\n",
      "OSError: REP-4v8i: structure file not available\n",
      "ERROR:ssbio.protein.structure.utils.structureio:/home/nathan/projects_unsynced/ecoli_gp/genes/b3311/b3311_protein/structures/4v9o.mmtf: unable to save structure in PDB file format\n"
     ]
    },
    {
     "name": "stdout",
     "output_type": "stream",
     "text": [
      "%c requires int or char\n"
     ]
    },
    {
     "name": "stderr",
     "output_type": "stream",
     "text": [
      "ERROR:root:Unknown error with PDB ID 4v9o\n",
      "Traceback (most recent call last):\n",
      "  File \"/mnt/projects/ssbio/ssbio/core/protein.py\", line 1675, in set_representative_structure\n",
      "    force_rerun=force_rerun)\n",
      "  File \"/mnt/projects/ssbio/ssbio/core/protein.py\", line 1506, in _representative_structure_setter\n",
      "    self.representative_structure.parse_structure()\n",
      "  File \"/mnt/projects/ssbio/ssbio/protein/structure/structprop.py\", line 138, in parse_structure\n",
      "    if not self.structure_path:\n",
      "  File \"/mnt/projects/ssbio/ssbio/protein/structure/structprop.py\", line 105, in structure_path\n",
      "    raise OSError('{}: structure file not available'.format(self.id))\n",
      "OSError: REP-4v9o: structure file not available\n",
      "ERROR:ssbio.protein.structure.utils.structureio:/home/nathan/projects_unsynced/ecoli_gp/genes/b3311/b3311_protein/structures/4v9p.mmtf: unable to save structure in PDB file format\n"
     ]
    },
    {
     "name": "stdout",
     "output_type": "stream",
     "text": [
      "%c requires int or char\n"
     ]
    },
    {
     "name": "stderr",
     "output_type": "stream",
     "text": [
      "ERROR:root:Unknown error with PDB ID 4v9p\n",
      "Traceback (most recent call last):\n",
      "  File \"/mnt/projects/ssbio/ssbio/core/protein.py\", line 1675, in set_representative_structure\n",
      "    force_rerun=force_rerun)\n",
      "  File \"/mnt/projects/ssbio/ssbio/core/protein.py\", line 1506, in _representative_structure_setter\n",
      "    self.representative_structure.parse_structure()\n",
      "  File \"/mnt/projects/ssbio/ssbio/protein/structure/structprop.py\", line 138, in parse_structure\n",
      "    if not self.structure_path:\n",
      "  File \"/mnt/projects/ssbio/ssbio/protein/structure/structprop.py\", line 105, in structure_path\n",
      "    raise OSError('{}: structure file not available'.format(self.id))\n",
      "OSError: REP-4v9p: structure file not available\n",
      "ERROR:ssbio.core.protein:b2413_7_249_3tx3-_: alignment failed to run, unable to check structure\n",
      "ERROR:ssbio.protein.structure.utils.structureio:/home/nathan/projects_unsynced/ecoli_gp/genes/b3203/b3203_protein/structures/4v8h.mmtf: unable to save structure in PDB file format\n"
     ]
    },
    {
     "name": "stdout",
     "output_type": "stream",
     "text": [
      "%c requires int or char\n"
     ]
    },
    {
     "name": "stderr",
     "output_type": "stream",
     "text": [
      "ERROR:root:Unknown error with PDB ID 4v8h\n",
      "Traceback (most recent call last):\n",
      "  File \"/mnt/projects/ssbio/ssbio/core/protein.py\", line 1675, in set_representative_structure\n",
      "    force_rerun=force_rerun)\n",
      "  File \"/mnt/projects/ssbio/ssbio/core/protein.py\", line 1506, in _representative_structure_setter\n",
      "    self.representative_structure.parse_structure()\n",
      "  File \"/mnt/projects/ssbio/ssbio/protein/structure/structprop.py\", line 138, in parse_structure\n",
      "    if not self.structure_path:\n",
      "  File \"/mnt/projects/ssbio/ssbio/protein/structure/structprop.py\", line 105, in structure_path\n",
      "    raise OSError('{}: structure file not available'.format(self.id))\n",
      "OSError: REP-4v8h: structure file not available\n",
      "ERROR:ssbio.protein.structure.utils.structureio:/home/nathan/projects_unsynced/ecoli_gp/genes/b3308/b3308_protein/structures/4v9o.mmtf: unable to save structure in PDB file format\n"
     ]
    },
    {
     "name": "stdout",
     "output_type": "stream",
     "text": [
      "%c requires int or char\n"
     ]
    },
    {
     "name": "stderr",
     "output_type": "stream",
     "text": [
      "ERROR:root:Unknown error with PDB ID 4v9o\n",
      "Traceback (most recent call last):\n",
      "  File \"/mnt/projects/ssbio/ssbio/core/protein.py\", line 1675, in set_representative_structure\n",
      "    force_rerun=force_rerun)\n",
      "  File \"/mnt/projects/ssbio/ssbio/core/protein.py\", line 1506, in _representative_structure_setter\n",
      "    self.representative_structure.parse_structure()\n",
      "  File \"/mnt/projects/ssbio/ssbio/protein/structure/structprop.py\", line 138, in parse_structure\n",
      "    if not self.structure_path:\n",
      "  File \"/mnt/projects/ssbio/ssbio/protein/structure/structprop.py\", line 105, in structure_path\n",
      "    raise OSError('{}: structure file not available'.format(self.id))\n",
      "OSError: REP-4v9o: structure file not available\n",
      "ERROR:ssbio.protein.structure.utils.structureio:/home/nathan/projects_unsynced/ecoli_gp/genes/b3308/b3308_protein/structures/4v9p.mmtf: unable to save structure in PDB file format\n"
     ]
    },
    {
     "name": "stdout",
     "output_type": "stream",
     "text": [
      "%c requires int or char\n"
     ]
    },
    {
     "name": "stderr",
     "output_type": "stream",
     "text": [
      "ERROR:root:Unknown error with PDB ID 4v9p\n",
      "Traceback (most recent call last):\n",
      "  File \"/mnt/projects/ssbio/ssbio/core/protein.py\", line 1675, in set_representative_structure\n",
      "    force_rerun=force_rerun)\n",
      "  File \"/mnt/projects/ssbio/ssbio/core/protein.py\", line 1506, in _representative_structure_setter\n",
      "    self.representative_structure.parse_structure()\n",
      "  File \"/mnt/projects/ssbio/ssbio/protein/structure/structprop.py\", line 138, in parse_structure\n",
      "    if not self.structure_path:\n",
      "  File \"/mnt/projects/ssbio/ssbio/protein/structure/structprop.py\", line 105, in structure_path\n",
      "    raise OSError('{}: structure file not available'.format(self.id))\n",
      "OSError: REP-4v9p: structure file not available\n",
      "ERROR:ssbio.core.protein:b2503_392_736_3gfx-_: alignment failed to run, unable to check structure\n",
      "ERROR:ssbio.core.protein:P77172_b2503_392_736_3gfx-_: structure alignment not found, please run the alignment first\n",
      "ERROR:ssbio.core.protein:b2503_490_742_4hjf-_: alignment failed to run, unable to check structure\n",
      "ERROR:ssbio.core.protein:P77172_b2503_490_742_4hjf-_: structure alignment not found, please run the alignment first\n",
      "ERROR:ssbio.core.protein:b2872_7_402_3pfo-_: alignment failed to run, unable to check structure\n",
      "ERROR:ssbio.core.protein:b3715_3_214_2fdr-_: alignment failed to run, unable to check structure\n",
      "ERROR:ssbio.core.protein:b0732_1_877_2wyi-_: alignment failed to run, unable to check structure\n",
      "ERROR:ssbio.core.protein:b3422_158_426_1ny5-_: alignment failed to run, unable to check structure\n",
      "ERROR:ssbio.core.protein:b2955_4_229_5l7l-_: alignment failed to run, unable to check structure\n",
      "ERROR:ssbio.core.protein:b1316_3_729_3wir-_: alignment failed to run, unable to check structure\n",
      "ERROR:ssbio.core.protein:b3551_9_777_1e60-_: alignment failed to run, unable to check structure\n",
      "ERROR:ssbio.core.protein:b0339_1_211_5swc-_: alignment failed to run, unable to check structure\n",
      "ERROR:ssbio.core.protein:b1623_2_332_3km8-_: alignment failed to run, unable to check structure\n",
      "ERROR:ssbio.protein.structure.utils.structureio:/home/nathan/projects_unsynced/ecoli_gp/genes/b3231/b3231_protein/structures/4ybb.mmtf: unable to save structure in PDB file format\n"
     ]
    },
    {
     "name": "stdout",
     "output_type": "stream",
     "text": [
      "%c requires int or char\n"
     ]
    },
    {
     "name": "stderr",
     "output_type": "stream",
     "text": [
      "ERROR:root:Unknown error with PDB ID 4ybb\n",
      "Traceback (most recent call last):\n",
      "  File \"/mnt/projects/ssbio/ssbio/core/protein.py\", line 1675, in set_representative_structure\n",
      "    force_rerun=force_rerun)\n",
      "  File \"/mnt/projects/ssbio/ssbio/core/protein.py\", line 1506, in _representative_structure_setter\n",
      "    self.representative_structure.parse_structure()\n",
      "  File \"/mnt/projects/ssbio/ssbio/protein/structure/structprop.py\", line 138, in parse_structure\n",
      "    if not self.structure_path:\n",
      "  File \"/mnt/projects/ssbio/ssbio/protein/structure/structprop.py\", line 105, in structure_path\n",
      "    raise OSError('{}: structure file not available'.format(self.id))\n",
      "OSError: REP-4ybb: structure file not available\n",
      "ERROR:ssbio.protein.structure.utils.structureio:/home/nathan/projects_unsynced/ecoli_gp/genes/b3231/b3231_protein/structures/4u26.mmtf: unable to save structure in PDB file format\n"
     ]
    },
    {
     "name": "stdout",
     "output_type": "stream",
     "text": [
      "%c requires int or char\n"
     ]
    },
    {
     "name": "stderr",
     "output_type": "stream",
     "text": [
      "ERROR:root:Unknown error with PDB ID 4u26\n",
      "Traceback (most recent call last):\n",
      "  File \"/mnt/projects/ssbio/ssbio/core/protein.py\", line 1675, in set_representative_structure\n",
      "    force_rerun=force_rerun)\n",
      "  File \"/mnt/projects/ssbio/ssbio/core/protein.py\", line 1506, in _representative_structure_setter\n",
      "    self.representative_structure.parse_structure()\n",
      "  File \"/mnt/projects/ssbio/ssbio/protein/structure/structprop.py\", line 138, in parse_structure\n",
      "    if not self.structure_path:\n",
      "  File \"/mnt/projects/ssbio/ssbio/protein/structure/structprop.py\", line 105, in structure_path\n",
      "    raise OSError('{}: structure file not available'.format(self.id))\n",
      "OSError: REP-4u26: structure file not available\n",
      "ERROR:ssbio.protein.structure.utils.structureio:/home/nathan/projects_unsynced/ecoli_gp/genes/b3231/b3231_protein/structures/4u27.mmtf: unable to save structure in PDB file format\n"
     ]
    },
    {
     "name": "stdout",
     "output_type": "stream",
     "text": [
      "%c requires int or char\n"
     ]
    },
    {
     "name": "stderr",
     "output_type": "stream",
     "text": [
      "ERROR:root:Unknown error with PDB ID 4u27\n",
      "Traceback (most recent call last):\n",
      "  File \"/mnt/projects/ssbio/ssbio/core/protein.py\", line 1675, in set_representative_structure\n",
      "    force_rerun=force_rerun)\n",
      "  File \"/mnt/projects/ssbio/ssbio/core/protein.py\", line 1506, in _representative_structure_setter\n",
      "    self.representative_structure.parse_structure()\n",
      "  File \"/mnt/projects/ssbio/ssbio/protein/structure/structprop.py\", line 138, in parse_structure\n",
      "    if not self.structure_path:\n",
      "  File \"/mnt/projects/ssbio/ssbio/protein/structure/structprop.py\", line 105, in structure_path\n",
      "    raise OSError('{}: structure file not available'.format(self.id))\n",
      "OSError: REP-4u27: structure file not available\n",
      "ERROR:ssbio.protein.structure.utils.structureio:/home/nathan/projects_unsynced/ecoli_gp/genes/b3231/b3231_protein/structures/5j5b.mmtf: unable to save structure in PDB file format\n"
     ]
    },
    {
     "name": "stdout",
     "output_type": "stream",
     "text": [
      "%c requires int or char\n"
     ]
    },
    {
     "name": "stderr",
     "output_type": "stream",
     "text": [
      "ERROR:root:Unknown error with PDB ID 5j5b\n",
      "Traceback (most recent call last):\n",
      "  File \"/mnt/projects/ssbio/ssbio/core/protein.py\", line 1675, in set_representative_structure\n",
      "    force_rerun=force_rerun)\n",
      "  File \"/mnt/projects/ssbio/ssbio/core/protein.py\", line 1506, in _representative_structure_setter\n",
      "    self.representative_structure.parse_structure()\n",
      "  File \"/mnt/projects/ssbio/ssbio/protein/structure/structprop.py\", line 138, in parse_structure\n",
      "    if not self.structure_path:\n",
      "  File \"/mnt/projects/ssbio/ssbio/protein/structure/structprop.py\", line 105, in structure_path\n",
      "    raise OSError('{}: structure file not available'.format(self.id))\n",
      "OSError: REP-5j5b: structure file not available\n",
      "ERROR:ssbio.protein.structure.utils.structureio:/home/nathan/projects_unsynced/ecoli_gp/genes/b3231/b3231_protein/structures/4u20.mmtf: unable to save structure in PDB file format\n"
     ]
    },
    {
     "name": "stdout",
     "output_type": "stream",
     "text": [
      "%c requires int or char\n"
     ]
    },
    {
     "name": "stderr",
     "output_type": "stream",
     "text": [
      "ERROR:root:Unknown error with PDB ID 4u20\n",
      "Traceback (most recent call last):\n",
      "  File \"/mnt/projects/ssbio/ssbio/core/protein.py\", line 1675, in set_representative_structure\n",
      "    force_rerun=force_rerun)\n",
      "  File \"/mnt/projects/ssbio/ssbio/core/protein.py\", line 1506, in _representative_structure_setter\n",
      "    self.representative_structure.parse_structure()\n",
      "  File \"/mnt/projects/ssbio/ssbio/protein/structure/structprop.py\", line 138, in parse_structure\n",
      "    if not self.structure_path:\n",
      "  File \"/mnt/projects/ssbio/ssbio/protein/structure/structprop.py\", line 105, in structure_path\n",
      "    raise OSError('{}: structure file not available'.format(self.id))\n",
      "OSError: REP-4u20: structure file not available\n",
      "ERROR:ssbio.protein.structure.utils.structureio:/home/nathan/projects_unsynced/ecoli_gp/genes/b3231/b3231_protein/structures/4u24.mmtf: unable to save structure in PDB file format\n"
     ]
    },
    {
     "name": "stdout",
     "output_type": "stream",
     "text": [
      "%c requires int or char\n"
     ]
    },
    {
     "name": "stderr",
     "output_type": "stream",
     "text": [
      "ERROR:root:Unknown error with PDB ID 4u24\n",
      "Traceback (most recent call last):\n",
      "  File \"/mnt/projects/ssbio/ssbio/core/protein.py\", line 1675, in set_representative_structure\n",
      "    force_rerun=force_rerun)\n",
      "  File \"/mnt/projects/ssbio/ssbio/core/protein.py\", line 1506, in _representative_structure_setter\n",
      "    self.representative_structure.parse_structure()\n",
      "  File \"/mnt/projects/ssbio/ssbio/protein/structure/structprop.py\", line 138, in parse_structure\n",
      "    if not self.structure_path:\n",
      "  File \"/mnt/projects/ssbio/ssbio/protein/structure/structprop.py\", line 105, in structure_path\n",
      "    raise OSError('{}: structure file not available'.format(self.id))\n",
      "OSError: REP-4u24: structure file not available\n",
      "ERROR:ssbio.protein.structure.utils.structureio:/home/nathan/projects_unsynced/ecoli_gp/genes/b3231/b3231_protein/structures/4u25.mmtf: unable to save structure in PDB file format\n"
     ]
    },
    {
     "name": "stdout",
     "output_type": "stream",
     "text": [
      "%c requires int or char\n"
     ]
    },
    {
     "name": "stderr",
     "output_type": "stream",
     "text": [
      "ERROR:root:Unknown error with PDB ID 4u25\n",
      "Traceback (most recent call last):\n",
      "  File \"/mnt/projects/ssbio/ssbio/core/protein.py\", line 1675, in set_representative_structure\n",
      "    force_rerun=force_rerun)\n",
      "  File \"/mnt/projects/ssbio/ssbio/core/protein.py\", line 1506, in _representative_structure_setter\n",
      "    self.representative_structure.parse_structure()\n",
      "  File \"/mnt/projects/ssbio/ssbio/protein/structure/structprop.py\", line 138, in parse_structure\n",
      "    if not self.structure_path:\n",
      "  File \"/mnt/projects/ssbio/ssbio/protein/structure/structprop.py\", line 105, in structure_path\n",
      "    raise OSError('{}: structure file not available'.format(self.id))\n",
      "OSError: REP-4u25: structure file not available\n",
      "ERROR:ssbio.protein.structure.utils.structureio:/home/nathan/projects_unsynced/ecoli_gp/genes/b3231/b3231_protein/structures/4v9o.mmtf: unable to save structure in PDB file format\n"
     ]
    },
    {
     "name": "stdout",
     "output_type": "stream",
     "text": [
      "%c requires int or char\n"
     ]
    },
    {
     "name": "stderr",
     "output_type": "stream",
     "text": [
      "ERROR:root:Unknown error with PDB ID 4v9o\n",
      "Traceback (most recent call last):\n",
      "  File \"/mnt/projects/ssbio/ssbio/core/protein.py\", line 1675, in set_representative_structure\n",
      "    force_rerun=force_rerun)\n",
      "  File \"/mnt/projects/ssbio/ssbio/core/protein.py\", line 1506, in _representative_structure_setter\n",
      "    self.representative_structure.parse_structure()\n",
      "  File \"/mnt/projects/ssbio/ssbio/protein/structure/structprop.py\", line 138, in parse_structure\n",
      "    if not self.structure_path:\n",
      "  File \"/mnt/projects/ssbio/ssbio/protein/structure/structprop.py\", line 105, in structure_path\n",
      "    raise OSError('{}: structure file not available'.format(self.id))\n",
      "OSError: REP-4v9o: structure file not available\n",
      "ERROR:ssbio.protein.structure.utils.structureio:/home/nathan/projects_unsynced/ecoli_gp/genes/b3231/b3231_protein/structures/4v9p.mmtf: unable to save structure in PDB file format\n"
     ]
    },
    {
     "name": "stdout",
     "output_type": "stream",
     "text": [
      "%c requires int or char\n"
     ]
    },
    {
     "name": "stderr",
     "output_type": "stream",
     "text": [
      "ERROR:root:Unknown error with PDB ID 4v9p\n",
      "Traceback (most recent call last):\n",
      "  File \"/mnt/projects/ssbio/ssbio/core/protein.py\", line 1675, in set_representative_structure\n",
      "    force_rerun=force_rerun)\n",
      "  File \"/mnt/projects/ssbio/ssbio/core/protein.py\", line 1506, in _representative_structure_setter\n",
      "    self.representative_structure.parse_structure()\n",
      "  File \"/mnt/projects/ssbio/ssbio/protein/structure/structprop.py\", line 138, in parse_structure\n",
      "    if not self.structure_path:\n",
      "  File \"/mnt/projects/ssbio/ssbio/protein/structure/structprop.py\", line 105, in structure_path\n",
      "    raise OSError('{}: structure file not available'.format(self.id))\n",
      "OSError: REP-4v9p: structure file not available\n",
      "ERROR:ssbio.core.protein:b4133_2_107_5ju7-_: alignment failed to run, unable to check structure\n",
      "ERROR:ssbio.core.protein:P23890_b4133_2_107_5ju7-_: structure alignment not found, please run the alignment first\n",
      "ERROR:ssbio.core.protein:b3652_16_658_1gm5-_: alignment failed to run, unable to check structure\n",
      "ERROR:ssbio.core.protein:b0219_1_255_2e11-_: alignment failed to run, unable to check structure\n",
      "ERROR:ssbio.core.protein:b1251_1_98_1mwq-_: alignment failed to run, unable to check structure\n",
      "ERROR:ssbio.core.protein:b1129_265_480_4jas-_: alignment failed to run, unable to check structure\n",
      "ERROR:ssbio.core.protein:P23837_b1129_265_480_4jas-_: structure alignment not found, please run the alignment first\n",
      "ERROR:ssbio.core.protein:b1129_335_480_1id0-_: alignment failed to run, unable to check structure\n",
      "ERROR:ssbio.core.protein:P23837_b1129_335_480_1id0-_: structure alignment not found, please run the alignment first\n",
      "ERROR:ssbio.core.protein:b4113_1_219_4s05-_: alignment failed to run, unable to check structure\n",
      "ERROR:ssbio.core.protein:b4168_8_153_1htw-_: alignment failed to run, unable to check structure\n",
      "ERROR:ssbio.core.protein:b3616_1_340_5kia-_: alignment failed to run, unable to check structure\n",
      "ERROR:ssbio.core.protein:b4058_268_940_2vf7-_: alignment failed to run, unable to check structure\n",
      "ERROR:ssbio.core.protein:b0472_3_199_3vdp-_: alignment failed to run, unable to check structure\n",
      "ERROR:ssbio.core.protein:b2464_4_316_2e1d-_: alignment failed to run, unable to check structure\n",
      "ERROR:ssbio.core.protein:b2465_2_662_5hht-_: alignment failed to run, unable to check structure\n",
      "ERROR:ssbio.core.protein:b1398_7_433_2y27-_: alignment failed to run, unable to check structure\n",
      "ERROR:ssbio.protein.structure.utils.structureio:/home/nathan/projects_unsynced/ecoli_gp/genes/b3309/b3309_protein/structures/4v9o.mmtf: unable to save structure in PDB file format\n"
     ]
    },
    {
     "name": "stdout",
     "output_type": "stream",
     "text": [
      "%c requires int or char\n"
     ]
    },
    {
     "name": "stderr",
     "output_type": "stream",
     "text": [
      "ERROR:root:Unknown error with PDB ID 4v9o\n",
      "Traceback (most recent call last):\n",
      "  File \"/mnt/projects/ssbio/ssbio/core/protein.py\", line 1675, in set_representative_structure\n",
      "    force_rerun=force_rerun)\n",
      "  File \"/mnt/projects/ssbio/ssbio/core/protein.py\", line 1506, in _representative_structure_setter\n",
      "    self.representative_structure.parse_structure()\n",
      "  File \"/mnt/projects/ssbio/ssbio/protein/structure/structprop.py\", line 138, in parse_structure\n",
      "    if not self.structure_path:\n",
      "  File \"/mnt/projects/ssbio/ssbio/protein/structure/structprop.py\", line 105, in structure_path\n",
      "    raise OSError('{}: structure file not available'.format(self.id))\n",
      "OSError: REP-4v9o: structure file not available\n",
      "ERROR:ssbio.protein.structure.utils.structureio:/home/nathan/projects_unsynced/ecoli_gp/genes/b3309/b3309_protein/structures/4v9p.mmtf: unable to save structure in PDB file format\n"
     ]
    },
    {
     "name": "stdout",
     "output_type": "stream",
     "text": [
      "%c requires int or char\n"
     ]
    },
    {
     "name": "stderr",
     "output_type": "stream",
     "text": [
      "ERROR:root:Unknown error with PDB ID 4v9p\n",
      "Traceback (most recent call last):\n",
      "  File \"/mnt/projects/ssbio/ssbio/core/protein.py\", line 1675, in set_representative_structure\n",
      "    force_rerun=force_rerun)\n",
      "  File \"/mnt/projects/ssbio/ssbio/core/protein.py\", line 1506, in _representative_structure_setter\n",
      "    self.representative_structure.parse_structure()\n",
      "  File \"/mnt/projects/ssbio/ssbio/protein/structure/structprop.py\", line 138, in parse_structure\n",
      "    if not self.structure_path:\n",
      "  File \"/mnt/projects/ssbio/ssbio/protein/structure/structprop.py\", line 105, in structure_path\n",
      "    raise OSError('{}: structure file not available'.format(self.id))\n",
      "OSError: REP-4v9p: structure file not available\n",
      "ERROR:ssbio.core.protein:b2463_5_407_5cee-_: alignment failed to run, unable to check structure\n",
      "ERROR:ssbio.core.protein:b3994_23_629_4s2a-_: alignment failed to run, unable to check structure\n",
      "ERROR:ssbio.core.protein:b3213_27_469_2vdc-_: alignment failed to run, unable to check structure\n",
      "ERROR:ssbio.core.protein:b1488_4_181_1r44-_: alignment failed to run, unable to check structure\n",
      "ERROR:ssbio.protein.structure.utils.structureio:/home/nathan/projects_unsynced/ecoli_gp/genes/b0023/b0023_protein/structures/4v9o.mmtf: unable to save structure in PDB file format\n"
     ]
    },
    {
     "name": "stdout",
     "output_type": "stream",
     "text": [
      "%c requires int or char\n"
     ]
    },
    {
     "name": "stderr",
     "output_type": "stream",
     "text": [
      "ERROR:root:Unknown error with PDB ID 4v9o\n",
      "Traceback (most recent call last):\n",
      "  File \"/mnt/projects/ssbio/ssbio/core/protein.py\", line 1675, in set_representative_structure\n",
      "    force_rerun=force_rerun)\n",
      "  File \"/mnt/projects/ssbio/ssbio/core/protein.py\", line 1506, in _representative_structure_setter\n",
      "    self.representative_structure.parse_structure()\n",
      "  File \"/mnt/projects/ssbio/ssbio/protein/structure/structprop.py\", line 138, in parse_structure\n",
      "    if not self.structure_path:\n",
      "  File \"/mnt/projects/ssbio/ssbio/protein/structure/structprop.py\", line 105, in structure_path\n",
      "    raise OSError('{}: structure file not available'.format(self.id))\n",
      "OSError: REP-4v9o: structure file not available\n",
      "ERROR:ssbio.protein.structure.utils.structureio:/home/nathan/projects_unsynced/ecoli_gp/genes/b0023/b0023_protein/structures/4v9p.mmtf: unable to save structure in PDB file format\n"
     ]
    },
    {
     "name": "stdout",
     "output_type": "stream",
     "text": [
      "%c requires int or char\n"
     ]
    },
    {
     "name": "stderr",
     "output_type": "stream",
     "text": [
      "ERROR:root:Unknown error with PDB ID 4v9p\n",
      "Traceback (most recent call last):\n",
      "  File \"/mnt/projects/ssbio/ssbio/core/protein.py\", line 1675, in set_representative_structure\n",
      "    force_rerun=force_rerun)\n",
      "  File \"/mnt/projects/ssbio/ssbio/core/protein.py\", line 1506, in _representative_structure_setter\n",
      "    self.representative_structure.parse_structure()\n",
      "  File \"/mnt/projects/ssbio/ssbio/protein/structure/structprop.py\", line 138, in parse_structure\n",
      "    if not self.structure_path:\n",
      "  File \"/mnt/projects/ssbio/ssbio/protein/structure/structprop.py\", line 105, in structure_path\n",
      "    raise OSError('{}: structure file not available'.format(self.id))\n",
      "OSError: REP-4v9p: structure file not available\n",
      "ERROR:ssbio.core.protein:b3519_55_549_2wyn-_: alignment failed to run, unable to check structure\n",
      "ERROR:ssbio.protein.structure.utils.structureio:/home/nathan/projects_unsynced/ecoli_gp/genes/b0169/b0169_protein/structures/4v9o.mmtf: unable to save structure in PDB file format\n"
     ]
    },
    {
     "name": "stdout",
     "output_type": "stream",
     "text": [
      "%c requires int or char\n"
     ]
    },
    {
     "name": "stderr",
     "output_type": "stream",
     "text": [
      "ERROR:root:Unknown error with PDB ID 4v9o\n",
      "Traceback (most recent call last):\n",
      "  File \"/mnt/projects/ssbio/ssbio/core/protein.py\", line 1675, in set_representative_structure\n",
      "    force_rerun=force_rerun)\n",
      "  File \"/mnt/projects/ssbio/ssbio/core/protein.py\", line 1506, in _representative_structure_setter\n",
      "    self.representative_structure.parse_structure()\n",
      "  File \"/mnt/projects/ssbio/ssbio/protein/structure/structprop.py\", line 138, in parse_structure\n",
      "    if not self.structure_path:\n",
      "  File \"/mnt/projects/ssbio/ssbio/protein/structure/structprop.py\", line 105, in structure_path\n",
      "    raise OSError('{}: structure file not available'.format(self.id))\n",
      "OSError: REP-4v9o: structure file not available\n",
      "ERROR:ssbio.protein.structure.utils.structureio:/home/nathan/projects_unsynced/ecoli_gp/genes/b0169/b0169_protein/structures/4v9p.mmtf: unable to save structure in PDB file format\n"
     ]
    },
    {
     "name": "stdout",
     "output_type": "stream",
     "text": [
      "%c requires int or char\n"
     ]
    },
    {
     "name": "stderr",
     "output_type": "stream",
     "text": [
      "ERROR:root:Unknown error with PDB ID 4v9p\n",
      "Traceback (most recent call last):\n",
      "  File \"/mnt/projects/ssbio/ssbio/core/protein.py\", line 1675, in set_representative_structure\n",
      "    force_rerun=force_rerun)\n",
      "  File \"/mnt/projects/ssbio/ssbio/core/protein.py\", line 1506, in _representative_structure_setter\n",
      "    self.representative_structure.parse_structure()\n",
      "  File \"/mnt/projects/ssbio/ssbio/protein/structure/structprop.py\", line 138, in parse_structure\n",
      "    if not self.structure_path:\n",
      "  File \"/mnt/projects/ssbio/ssbio/protein/structure/structprop.py\", line 105, in structure_path\n",
      "    raise OSError('{}: structure file not available'.format(self.id))\n",
      "OSError: REP-4v9p: structure file not available\n",
      "ERROR:ssbio.core.protein:b1768_2_211_2wta-_: alignment failed to run, unable to check structure\n",
      "ERROR:ssbio.core.protein:b1969_1_221_5ed4-_: alignment failed to run, unable to check structure\n",
      "ERROR:ssbio.core.protein:b4389_60_457_5lkm-_: alignment failed to run, unable to check structure\n",
      "ERROR:ssbio.core.protein:b3612_5_513_5vpu-_: alignment failed to run, unable to check structure\n",
      "ERROR:ssbio.core.protein:b4198_1_219_1jdi-_: alignment failed to run, unable to check structure\n",
      "ERROR:ssbio.core.protein:b3032_10_262_3ib7-_: alignment failed to run, unable to check structure\n",
      "ERROR:ssbio.core.protein:b3898_2_350_5ds0-_: alignment failed to run, unable to check structure\n",
      "ERROR:ssbio.core.protein:b3945_1_363_5xn8-_: alignment failed to run, unable to check structure\n",
      "ERROR:ssbio.protein.structure.utils.structureio:/home/nathan/projects_unsynced/ecoli_gp/genes/b4200/b4200_protein/structures/4v9o.mmtf: unable to save structure in PDB file format\n"
     ]
    },
    {
     "name": "stdout",
     "output_type": "stream",
     "text": [
      "%c requires int or char\n"
     ]
    },
    {
     "name": "stderr",
     "output_type": "stream",
     "text": [
      "ERROR:root:Unknown error with PDB ID 4v9o\n",
      "Traceback (most recent call last):\n",
      "  File \"/mnt/projects/ssbio/ssbio/core/protein.py\", line 1675, in set_representative_structure\n",
      "    force_rerun=force_rerun)\n",
      "  File \"/mnt/projects/ssbio/ssbio/core/protein.py\", line 1506, in _representative_structure_setter\n",
      "    self.representative_structure.parse_structure()\n",
      "  File \"/mnt/projects/ssbio/ssbio/protein/structure/structprop.py\", line 138, in parse_structure\n",
      "    if not self.structure_path:\n",
      "  File \"/mnt/projects/ssbio/ssbio/protein/structure/structprop.py\", line 105, in structure_path\n",
      "    raise OSError('{}: structure file not available'.format(self.id))\n",
      "OSError: REP-4v9o: structure file not available\n",
      "ERROR:ssbio.protein.structure.utils.structureio:/home/nathan/projects_unsynced/ecoli_gp/genes/b4200/b4200_protein/structures/4v9p.mmtf: unable to save structure in PDB file format\n"
     ]
    },
    {
     "name": "stdout",
     "output_type": "stream",
     "text": [
      "%c requires int or char\n"
     ]
    },
    {
     "name": "stderr",
     "output_type": "stream",
     "text": [
      "ERROR:root:Unknown error with PDB ID 4v9p\n",
      "Traceback (most recent call last):\n",
      "  File \"/mnt/projects/ssbio/ssbio/core/protein.py\", line 1675, in set_representative_structure\n",
      "    force_rerun=force_rerun)\n",
      "  File \"/mnt/projects/ssbio/ssbio/core/protein.py\", line 1506, in _representative_structure_setter\n",
      "    self.representative_structure.parse_structure()\n",
      "  File \"/mnt/projects/ssbio/ssbio/protein/structure/structprop.py\", line 138, in parse_structure\n",
      "    if not self.structure_path:\n",
      "  File \"/mnt/projects/ssbio/ssbio/protein/structure/structprop.py\", line 105, in structure_path\n",
      "    raise OSError('{}: structure file not available'.format(self.id))\n",
      "OSError: REP-4v9p: structure file not available\n",
      "ERROR:ssbio.protein.structure.utils.structureio:/home/nathan/projects_unsynced/ecoli_gp/genes/b0953/b0953_protein/structures/4v8g.mmtf: unable to save structure in PDB file format\n"
     ]
    },
    {
     "name": "stdout",
     "output_type": "stream",
     "text": [
      "%c requires int or char\n"
     ]
    },
    {
     "name": "stderr",
     "output_type": "stream",
     "text": [
      "ERROR:root:Unknown error with PDB ID 4v8g\n",
      "Traceback (most recent call last):\n",
      "  File \"/mnt/projects/ssbio/ssbio/core/protein.py\", line 1675, in set_representative_structure\n",
      "    force_rerun=force_rerun)\n",
      "  File \"/mnt/projects/ssbio/ssbio/core/protein.py\", line 1506, in _representative_structure_setter\n",
      "    self.representative_structure.parse_structure()\n",
      "  File \"/mnt/projects/ssbio/ssbio/protein/structure/structprop.py\", line 138, in parse_structure\n",
      "    if not self.structure_path:\n",
      "  File \"/mnt/projects/ssbio/ssbio/protein/structure/structprop.py\", line 105, in structure_path\n",
      "    raise OSError('{}: structure file not available'.format(self.id))\n",
      "OSError: REP-4v8g: structure file not available\n",
      "ERROR:ssbio.protein.structure.utils.structureio:/home/nathan/projects_unsynced/ecoli_gp/genes/b3317/b3317_protein/structures/4v9o.mmtf: unable to save structure in PDB file format\n"
     ]
    },
    {
     "name": "stdout",
     "output_type": "stream",
     "text": [
      "%c requires int or char\n"
     ]
    },
    {
     "name": "stderr",
     "output_type": "stream",
     "text": [
      "ERROR:root:Unknown error with PDB ID 4v9o\n",
      "Traceback (most recent call last):\n",
      "  File \"/mnt/projects/ssbio/ssbio/core/protein.py\", line 1675, in set_representative_structure\n",
      "    force_rerun=force_rerun)\n",
      "  File \"/mnt/projects/ssbio/ssbio/core/protein.py\", line 1506, in _representative_structure_setter\n",
      "    self.representative_structure.parse_structure()\n",
      "  File \"/mnt/projects/ssbio/ssbio/protein/structure/structprop.py\", line 138, in parse_structure\n",
      "    if not self.structure_path:\n",
      "  File \"/mnt/projects/ssbio/ssbio/protein/structure/structprop.py\", line 105, in structure_path\n",
      "    raise OSError('{}: structure file not available'.format(self.id))\n",
      "OSError: REP-4v9o: structure file not available\n",
      "ERROR:ssbio.protein.structure.utils.structureio:/home/nathan/projects_unsynced/ecoli_gp/genes/b3317/b3317_protein/structures/4v9p.mmtf: unable to save structure in PDB file format\n"
     ]
    },
    {
     "name": "stdout",
     "output_type": "stream",
     "text": [
      "%c requires int or char\n"
     ]
    },
    {
     "name": "stderr",
     "output_type": "stream",
     "text": [
      "ERROR:root:Unknown error with PDB ID 4v9p\n",
      "Traceback (most recent call last):\n",
      "  File \"/mnt/projects/ssbio/ssbio/core/protein.py\", line 1675, in set_representative_structure\n",
      "    force_rerun=force_rerun)\n",
      "  File \"/mnt/projects/ssbio/ssbio/core/protein.py\", line 1506, in _representative_structure_setter\n",
      "    self.representative_structure.parse_structure()\n",
      "  File \"/mnt/projects/ssbio/ssbio/protein/structure/structprop.py\", line 138, in parse_structure\n",
      "    if not self.structure_path:\n",
      "  File \"/mnt/projects/ssbio/ssbio/protein/structure/structprop.py\", line 105, in structure_path\n",
      "    raise OSError('{}: structure file not available'.format(self.id))\n",
      "OSError: REP-4v9p: structure file not available\n",
      "ERROR:ssbio.core.protein:b2917_6_711_2xiq-_: alignment failed to run, unable to check structure\n",
      "ERROR:ssbio.protein.structure.utils.structureio:/home/nathan/projects_unsynced/ecoli_gp/genes/b3636/b3636_protein/structures/4v9o.mmtf: unable to save structure in PDB file format\n"
     ]
    },
    {
     "name": "stdout",
     "output_type": "stream",
     "text": [
      "%c requires int or char\n"
     ]
    },
    {
     "name": "stderr",
     "output_type": "stream",
     "text": [
      "ERROR:root:Unknown error with PDB ID 4v9o\n",
      "Traceback (most recent call last):\n",
      "  File \"/mnt/projects/ssbio/ssbio/core/protein.py\", line 1675, in set_representative_structure\n",
      "    force_rerun=force_rerun)\n",
      "  File \"/mnt/projects/ssbio/ssbio/core/protein.py\", line 1506, in _representative_structure_setter\n",
      "    self.representative_structure.parse_structure()\n",
      "  File \"/mnt/projects/ssbio/ssbio/protein/structure/structprop.py\", line 138, in parse_structure\n",
      "    if not self.structure_path:\n",
      "  File \"/mnt/projects/ssbio/ssbio/protein/structure/structprop.py\", line 105, in structure_path\n",
      "    raise OSError('{}: structure file not available'.format(self.id))\n",
      "OSError: REP-4v9o: structure file not available\n",
      "ERROR:ssbio.protein.structure.utils.structureio:/home/nathan/projects_unsynced/ecoli_gp/genes/b3636/b3636_protein/structures/4v9p.mmtf: unable to save structure in PDB file format\n"
     ]
    },
    {
     "name": "stdout",
     "output_type": "stream",
     "text": [
      "%c requires int or char\n"
     ]
    },
    {
     "name": "stderr",
     "output_type": "stream",
     "text": [
      "ERROR:root:Unknown error with PDB ID 4v9p\n",
      "Traceback (most recent call last):\n",
      "  File \"/mnt/projects/ssbio/ssbio/core/protein.py\", line 1675, in set_representative_structure\n",
      "    force_rerun=force_rerun)\n",
      "  File \"/mnt/projects/ssbio/ssbio/core/protein.py\", line 1506, in _representative_structure_setter\n",
      "    self.representative_structure.parse_structure()\n",
      "  File \"/mnt/projects/ssbio/ssbio/protein/structure/structprop.py\", line 138, in parse_structure\n",
      "    if not self.structure_path:\n",
      "  File \"/mnt/projects/ssbio/ssbio/protein/structure/structprop.py\", line 105, in structure_path\n",
      "    raise OSError('{}: structure file not available'.format(self.id))\n",
      "OSError: REP-4v9p: structure file not available\n",
      "ERROR:ssbio.core.protein:b3546_228_552_5gov-_: alignment failed to run, unable to check structure\n",
      "ERROR:ssbio.core.protein:P37661_b3546_228_552_5gov-_: structure alignment not found, please run the alignment first\n",
      "ERROR:ssbio.core.protein:b3546_244_556_4kay-_: alignment failed to run, unable to check structure\n",
      "ERROR:ssbio.core.protein:P37661_b3546_244_556_4kay-_: structure alignment not found, please run the alignment first\n",
      "ERROR:ssbio.core.protein:b2734_6_218_1g5b-_: alignment failed to run, unable to check structure\n",
      "ERROR:ssbio.core.protein:b2049_5_357_2x65-_: alignment failed to run, unable to check structure\n",
      "ERROR:ssbio.core.protein:b3533_147_834_4p02-_: alignment failed to run, unable to check structure\n",
      "ERROR:ssbio.core.protein:b3665_15_587_3t81-_: alignment failed to run, unable to check structure\n",
      "ERROR:ssbio.protein.structure.utils.structureio:/home/nathan/projects_unsynced/ecoli_gp/genes/b2609/b2609_protein/structures/4ybb.mmtf: unable to save structure in PDB file format\n"
     ]
    },
    {
     "name": "stdout",
     "output_type": "stream",
     "text": [
      "%c requires int or char\n"
     ]
    },
    {
     "name": "stderr",
     "output_type": "stream",
     "text": [
      "ERROR:root:Unknown error with PDB ID 4ybb\n",
      "Traceback (most recent call last):\n",
      "  File \"/mnt/projects/ssbio/ssbio/core/protein.py\", line 1675, in set_representative_structure\n",
      "    force_rerun=force_rerun)\n",
      "  File \"/mnt/projects/ssbio/ssbio/core/protein.py\", line 1506, in _representative_structure_setter\n",
      "    self.representative_structure.parse_structure()\n",
      "  File \"/mnt/projects/ssbio/ssbio/protein/structure/structprop.py\", line 138, in parse_structure\n",
      "    if not self.structure_path:\n",
      "  File \"/mnt/projects/ssbio/ssbio/protein/structure/structprop.py\", line 105, in structure_path\n",
      "    raise OSError('{}: structure file not available'.format(self.id))\n",
      "OSError: REP-4ybb: structure file not available\n",
      "ERROR:ssbio.protein.structure.utils.structureio:/home/nathan/projects_unsynced/ecoli_gp/genes/b2609/b2609_protein/structures/4u26.mmtf: unable to save structure in PDB file format\n"
     ]
    },
    {
     "name": "stdout",
     "output_type": "stream",
     "text": [
      "%c requires int or char\n"
     ]
    },
    {
     "name": "stderr",
     "output_type": "stream",
     "text": [
      "ERROR:root:Unknown error with PDB ID 4u26\n",
      "Traceback (most recent call last):\n",
      "  File \"/mnt/projects/ssbio/ssbio/core/protein.py\", line 1675, in set_representative_structure\n",
      "    force_rerun=force_rerun)\n",
      "  File \"/mnt/projects/ssbio/ssbio/core/protein.py\", line 1506, in _representative_structure_setter\n",
      "    self.representative_structure.parse_structure()\n",
      "  File \"/mnt/projects/ssbio/ssbio/protein/structure/structprop.py\", line 138, in parse_structure\n",
      "    if not self.structure_path:\n",
      "  File \"/mnt/projects/ssbio/ssbio/protein/structure/structprop.py\", line 105, in structure_path\n",
      "    raise OSError('{}: structure file not available'.format(self.id))\n",
      "OSError: REP-4u26: structure file not available\n",
      "ERROR:ssbio.protein.structure.utils.structureio:/home/nathan/projects_unsynced/ecoli_gp/genes/b2609/b2609_protein/structures/4u27.mmtf: unable to save structure in PDB file format\n"
     ]
    },
    {
     "name": "stdout",
     "output_type": "stream",
     "text": [
      "%c requires int or char\n"
     ]
    },
    {
     "name": "stderr",
     "output_type": "stream",
     "text": [
      "ERROR:root:Unknown error with PDB ID 4u27\n",
      "Traceback (most recent call last):\n",
      "  File \"/mnt/projects/ssbio/ssbio/core/protein.py\", line 1675, in set_representative_structure\n",
      "    force_rerun=force_rerun)\n",
      "  File \"/mnt/projects/ssbio/ssbio/core/protein.py\", line 1506, in _representative_structure_setter\n",
      "    self.representative_structure.parse_structure()\n",
      "  File \"/mnt/projects/ssbio/ssbio/protein/structure/structprop.py\", line 138, in parse_structure\n",
      "    if not self.structure_path:\n",
      "  File \"/mnt/projects/ssbio/ssbio/protein/structure/structprop.py\", line 105, in structure_path\n",
      "    raise OSError('{}: structure file not available'.format(self.id))\n",
      "OSError: REP-4u27: structure file not available\n",
      "ERROR:ssbio.protein.structure.utils.structureio:/home/nathan/projects_unsynced/ecoli_gp/genes/b2609/b2609_protein/structures/5j5b.mmtf: unable to save structure in PDB file format\n"
     ]
    },
    {
     "name": "stdout",
     "output_type": "stream",
     "text": [
      "%c requires int or char\n"
     ]
    },
    {
     "name": "stderr",
     "output_type": "stream",
     "text": [
      "ERROR:root:Unknown error with PDB ID 5j5b\n",
      "Traceback (most recent call last):\n",
      "  File \"/mnt/projects/ssbio/ssbio/core/protein.py\", line 1675, in set_representative_structure\n",
      "    force_rerun=force_rerun)\n",
      "  File \"/mnt/projects/ssbio/ssbio/core/protein.py\", line 1506, in _representative_structure_setter\n",
      "    self.representative_structure.parse_structure()\n",
      "  File \"/mnt/projects/ssbio/ssbio/protein/structure/structprop.py\", line 138, in parse_structure\n",
      "    if not self.structure_path:\n",
      "  File \"/mnt/projects/ssbio/ssbio/protein/structure/structprop.py\", line 105, in structure_path\n",
      "    raise OSError('{}: structure file not available'.format(self.id))\n",
      "OSError: REP-5j5b: structure file not available\n",
      "ERROR:ssbio.protein.structure.utils.structureio:/home/nathan/projects_unsynced/ecoli_gp/genes/b2609/b2609_protein/structures/4u20.mmtf: unable to save structure in PDB file format\n"
     ]
    },
    {
     "name": "stdout",
     "output_type": "stream",
     "text": [
      "%c requires int or char\n"
     ]
    },
    {
     "name": "stderr",
     "output_type": "stream",
     "text": [
      "ERROR:root:Unknown error with PDB ID 4u20\n",
      "Traceback (most recent call last):\n",
      "  File \"/mnt/projects/ssbio/ssbio/core/protein.py\", line 1675, in set_representative_structure\n",
      "    force_rerun=force_rerun)\n",
      "  File \"/mnt/projects/ssbio/ssbio/core/protein.py\", line 1506, in _representative_structure_setter\n",
      "    self.representative_structure.parse_structure()\n",
      "  File \"/mnt/projects/ssbio/ssbio/protein/structure/structprop.py\", line 138, in parse_structure\n",
      "    if not self.structure_path:\n",
      "  File \"/mnt/projects/ssbio/ssbio/protein/structure/structprop.py\", line 105, in structure_path\n",
      "    raise OSError('{}: structure file not available'.format(self.id))\n",
      "OSError: REP-4u20: structure file not available\n",
      "ERROR:ssbio.protein.structure.utils.structureio:/home/nathan/projects_unsynced/ecoli_gp/genes/b2609/b2609_protein/structures/4u24.mmtf: unable to save structure in PDB file format\n"
     ]
    },
    {
     "name": "stdout",
     "output_type": "stream",
     "text": [
      "%c requires int or char\n"
     ]
    },
    {
     "name": "stderr",
     "output_type": "stream",
     "text": [
      "ERROR:root:Unknown error with PDB ID 4u24\n",
      "Traceback (most recent call last):\n",
      "  File \"/mnt/projects/ssbio/ssbio/core/protein.py\", line 1675, in set_representative_structure\n",
      "    force_rerun=force_rerun)\n",
      "  File \"/mnt/projects/ssbio/ssbio/core/protein.py\", line 1506, in _representative_structure_setter\n",
      "    self.representative_structure.parse_structure()\n",
      "  File \"/mnt/projects/ssbio/ssbio/protein/structure/structprop.py\", line 138, in parse_structure\n",
      "    if not self.structure_path:\n",
      "  File \"/mnt/projects/ssbio/ssbio/protein/structure/structprop.py\", line 105, in structure_path\n",
      "    raise OSError('{}: structure file not available'.format(self.id))\n",
      "OSError: REP-4u24: structure file not available\n",
      "ERROR:ssbio.protein.structure.utils.structureio:/home/nathan/projects_unsynced/ecoli_gp/genes/b2609/b2609_protein/structures/4u25.mmtf: unable to save structure in PDB file format\n"
     ]
    },
    {
     "name": "stdout",
     "output_type": "stream",
     "text": [
      "%c requires int or char\n"
     ]
    },
    {
     "name": "stderr",
     "output_type": "stream",
     "text": [
      "ERROR:root:Unknown error with PDB ID 4u25\n",
      "Traceback (most recent call last):\n",
      "  File \"/mnt/projects/ssbio/ssbio/core/protein.py\", line 1675, in set_representative_structure\n",
      "    force_rerun=force_rerun)\n",
      "  File \"/mnt/projects/ssbio/ssbio/core/protein.py\", line 1506, in _representative_structure_setter\n",
      "    self.representative_structure.parse_structure()\n",
      "  File \"/mnt/projects/ssbio/ssbio/protein/structure/structprop.py\", line 138, in parse_structure\n",
      "    if not self.structure_path:\n",
      "  File \"/mnt/projects/ssbio/ssbio/protein/structure/structprop.py\", line 105, in structure_path\n",
      "    raise OSError('{}: structure file not available'.format(self.id))\n",
      "OSError: REP-4u25: structure file not available\n",
      "ERROR:ssbio.protein.structure.utils.structureio:/home/nathan/projects_unsynced/ecoli_gp/genes/b2609/b2609_protein/structures/4v9o.mmtf: unable to save structure in PDB file format\n"
     ]
    },
    {
     "name": "stdout",
     "output_type": "stream",
     "text": [
      "%c requires int or char\n"
     ]
    },
    {
     "name": "stderr",
     "output_type": "stream",
     "text": [
      "ERROR:root:Unknown error with PDB ID 4v9o\n",
      "Traceback (most recent call last):\n",
      "  File \"/mnt/projects/ssbio/ssbio/core/protein.py\", line 1675, in set_representative_structure\n",
      "    force_rerun=force_rerun)\n",
      "  File \"/mnt/projects/ssbio/ssbio/core/protein.py\", line 1506, in _representative_structure_setter\n",
      "    self.representative_structure.parse_structure()\n",
      "  File \"/mnt/projects/ssbio/ssbio/protein/structure/structprop.py\", line 138, in parse_structure\n",
      "    if not self.structure_path:\n",
      "  File \"/mnt/projects/ssbio/ssbio/protein/structure/structprop.py\", line 105, in structure_path\n",
      "    raise OSError('{}: structure file not available'.format(self.id))\n",
      "OSError: REP-4v9o: structure file not available\n",
      "ERROR:ssbio.protein.structure.utils.structureio:/home/nathan/projects_unsynced/ecoli_gp/genes/b2609/b2609_protein/structures/4v9p.mmtf: unable to save structure in PDB file format\n"
     ]
    },
    {
     "name": "stdout",
     "output_type": "stream",
     "text": [
      "%c requires int or char\n"
     ]
    },
    {
     "name": "stderr",
     "output_type": "stream",
     "text": [
      "ERROR:root:Unknown error with PDB ID 4v9p\n",
      "Traceback (most recent call last):\n",
      "  File \"/mnt/projects/ssbio/ssbio/core/protein.py\", line 1675, in set_representative_structure\n",
      "    force_rerun=force_rerun)\n",
      "  File \"/mnt/projects/ssbio/ssbio/core/protein.py\", line 1506, in _representative_structure_setter\n",
      "    self.representative_structure.parse_structure()\n",
      "  File \"/mnt/projects/ssbio/ssbio/protein/structure/structprop.py\", line 138, in parse_structure\n",
      "    if not self.structure_path:\n",
      "  File \"/mnt/projects/ssbio/ssbio/protein/structure/structprop.py\", line 105, in structure_path\n",
      "    raise OSError('{}: structure file not available'.format(self.id))\n",
      "OSError: REP-4v9p: structure file not available\n",
      "ERROR:ssbio.core.protein:b3529_308_655_3gfx-_: alignment failed to run, unable to check structure\n",
      "ERROR:ssbio.core.protein:P37649_b3529_308_655_3gfx-_: structure alignment not found, please run the alignment first\n",
      "ERROR:ssbio.core.protein:b4383_2_407_4lre-_: alignment failed to run, unable to check structure\n",
      "ERROR:ssbio.core.protein:b3576_1_154_1s4c-_: alignment failed to run, unable to check structure\n",
      "ERROR:ssbio.core.protein:b0926_58_182_1lbu-_: alignment failed to run, unable to check structure\n",
      "ERROR:ssbio.core.protein:P0AB06_b0926_58_182_1lbu-_: structure alignment not found, please run the alignment first\n",
      "ERROR:ssbio.core.protein:b2028_1_388_3pjg-_: alignment failed to run, unable to check structure\n",
      "ERROR:ssbio.core.protein:b1773_2_277_3q94-_: alignment failed to run, unable to check structure\n",
      "ERROR:ssbio.core.protein:b3846_1_714_1wdl-_: alignment failed to run, unable to check structure\n",
      "ERROR:root:Unknown error with PDB ID 5lzd\n",
      "Traceback (most recent call last):\n",
      "  File \"/mnt/projects/ssbio/ssbio/core/protein.py\", line 1675, in set_representative_structure\n",
      "    force_rerun=force_rerun)\n",
      "  File \"/mnt/projects/ssbio/ssbio/core/protein.py\", line 1506, in _representative_structure_setter\n",
      "    self.representative_structure.parse_structure()\n",
      "  File \"/mnt/projects/ssbio/ssbio/protein/structure/structprop.py\", line 143, in parse_structure\n",
      "    structure = StructureIO(self.structure_path, self.file_type)\n",
      "  File \"/mnt/projects/ssbio/ssbio/protein/structure/utils/structureio.py\", line 58, in __init__\n",
      "    structure = pdbp.get_structure(id='ssbio_pdb', file=structure_file)\n",
      "  File \"/home/nathan/anaconda3/lib/python3.6/site-packages/biopython-1.70-py3.6-linux-x86_64.egg/Bio/PDB/PDBParser.py\", line 84, in get_structure\n",
      "    self._parse(handle.readlines())\n",
      "  File \"/home/nathan/anaconda3/lib/python3.6/site-packages/biopython-1.70-py3.6-linux-x86_64.egg/Bio/PDB/PDBParser.py\", line 107, in _parse\n",
      "    self.trailer = self._parse_coordinates(coords_trailer)\n",
      "  File \"/home/nathan/anaconda3/lib/python3.6/site-packages/biopython-1.70-py3.6-linux-x86_64.egg/Bio/PDB/PDBParser.py\", line 165, in _parse_coordinates\n",
      "    resseq = int(line[22:26].split()[0])  # sequence identifier\n",
      "ValueError: invalid literal for int() with base 10: 'A182'\n",
      "ERROR:ssbio.core.protein:b0107_7_456_4pht-_: alignment failed to run, unable to check structure\n",
      "ERROR:ssbio.core.protein:b2096_2_283_1gvf-_: alignment failed to run, unable to check structure\n",
      "ERROR:ssbio.core.protein:b3405_6_230_2oqr-_: alignment failed to run, unable to check structure\n",
      "ERROR:ssbio.core.protein:b3626_28_298_1ss9-_: alignment failed to run, unable to check structure\n",
      "ERROR:ssbio.core.protein:b4114_9_544_5fgn-_: alignment failed to run, unable to check structure\n",
      "ERROR:ssbio.core.protein:b0478_414_550_3fwz-_: alignment failed to run, unable to check structure\n",
      "ERROR:ssbio.core.protein:P39830_b0478_414_550_3fwz-_: structure alignment not found, please run the alignment first\n",
      "ERROR:ssbio.core.protein:b3380_1_401_4lre-_: alignment failed to run, unable to check structure\n",
      "ERROR:ssbio.core.protein:b2523_12_427_1gyt-_: alignment failed to run, unable to check structure\n",
      "ERROR:ssbio.core.protein:b3424_90_271_4qo0-_: alignment failed to run, unable to check structure\n",
      "ERROR:ssbio.core.protein:P09391_b3424_90_271_4qo0-_: structure alignment not found, please run the alignment first\n",
      "ERROR:ssbio.core.protein:b0446_2_262_3pgv-_: alignment failed to run, unable to check structure\n",
      "ERROR:ssbio.core.protein:b3498_2_678_4ka8-_: alignment failed to run, unable to check structure\n",
      "ERROR:ssbio.protein.structure.utils.structureio:/home/nathan/projects_unsynced/ecoli_gp/genes/b3342/b3342_protein/structures/4v9o.mmtf: unable to save structure in PDB file format\n"
     ]
    },
    {
     "name": "stdout",
     "output_type": "stream",
     "text": [
      "%c requires int or char\n"
     ]
    },
    {
     "name": "stderr",
     "output_type": "stream",
     "text": [
      "ERROR:root:Unknown error with PDB ID 4v9o\n",
      "Traceback (most recent call last):\n",
      "  File \"/mnt/projects/ssbio/ssbio/core/protein.py\", line 1675, in set_representative_structure\n",
      "    force_rerun=force_rerun)\n",
      "  File \"/mnt/projects/ssbio/ssbio/core/protein.py\", line 1506, in _representative_structure_setter\n",
      "    self.representative_structure.parse_structure()\n",
      "  File \"/mnt/projects/ssbio/ssbio/protein/structure/structprop.py\", line 138, in parse_structure\n",
      "    if not self.structure_path:\n",
      "  File \"/mnt/projects/ssbio/ssbio/protein/structure/structprop.py\", line 105, in structure_path\n",
      "    raise OSError('{}: structure file not available'.format(self.id))\n",
      "OSError: REP-4v9o: structure file not available\n",
      "ERROR:ssbio.protein.structure.utils.structureio:/home/nathan/projects_unsynced/ecoli_gp/genes/b3342/b3342_protein/structures/4v9p.mmtf: unable to save structure in PDB file format\n"
     ]
    },
    {
     "name": "stdout",
     "output_type": "stream",
     "text": [
      "%c requires int or char\n"
     ]
    },
    {
     "name": "stderr",
     "output_type": "stream",
     "text": [
      "ERROR:root:Unknown error with PDB ID 4v9p\n",
      "Traceback (most recent call last):\n",
      "  File \"/mnt/projects/ssbio/ssbio/core/protein.py\", line 1675, in set_representative_structure\n",
      "    force_rerun=force_rerun)\n",
      "  File \"/mnt/projects/ssbio/ssbio/core/protein.py\", line 1506, in _representative_structure_setter\n",
      "    self.representative_structure.parse_structure()\n",
      "  File \"/mnt/projects/ssbio/ssbio/protein/structure/structprop.py\", line 138, in parse_structure\n",
      "    if not self.structure_path:\n",
      "  File \"/mnt/projects/ssbio/ssbio/protein/structure/structprop.py\", line 105, in structure_path\n",
      "    raise OSError('{}: structure file not available'.format(self.id))\n",
      "OSError: REP-4v9p: structure file not available\n",
      "ERROR:ssbio.core.protein:b2892_18_576_5f56-_: alignment failed to run, unable to check structure\n",
      "ERROR:ssbio.protein.structure.utils.structureio:/home/nathan/projects_unsynced/ecoli_gp/genes/b3298/b3298_protein/structures/4v9o.mmtf: unable to save structure in PDB file format\n"
     ]
    },
    {
     "name": "stdout",
     "output_type": "stream",
     "text": [
      "%c requires int or char\n"
     ]
    },
    {
     "name": "stderr",
     "output_type": "stream",
     "text": [
      "ERROR:root:Unknown error with PDB ID 4v9o\n",
      "Traceback (most recent call last):\n",
      "  File \"/mnt/projects/ssbio/ssbio/core/protein.py\", line 1675, in set_representative_structure\n",
      "    force_rerun=force_rerun)\n",
      "  File \"/mnt/projects/ssbio/ssbio/core/protein.py\", line 1506, in _representative_structure_setter\n",
      "    self.representative_structure.parse_structure()\n",
      "  File \"/mnt/projects/ssbio/ssbio/protein/structure/structprop.py\", line 138, in parse_structure\n",
      "    if not self.structure_path:\n",
      "  File \"/mnt/projects/ssbio/ssbio/protein/structure/structprop.py\", line 105, in structure_path\n",
      "    raise OSError('{}: structure file not available'.format(self.id))\n",
      "OSError: REP-4v9o: structure file not available\n",
      "ERROR:ssbio.protein.structure.utils.structureio:/home/nathan/projects_unsynced/ecoli_gp/genes/b3298/b3298_protein/structures/4v9p.mmtf: unable to save structure in PDB file format\n"
     ]
    },
    {
     "name": "stdout",
     "output_type": "stream",
     "text": [
      "%c requires int or char\n"
     ]
    },
    {
     "name": "stderr",
     "output_type": "stream",
     "text": [
      "ERROR:root:Unknown error with PDB ID 4v9p\n",
      "Traceback (most recent call last):\n",
      "  File \"/mnt/projects/ssbio/ssbio/core/protein.py\", line 1675, in set_representative_structure\n",
      "    force_rerun=force_rerun)\n",
      "  File \"/mnt/projects/ssbio/ssbio/core/protein.py\", line 1506, in _representative_structure_setter\n",
      "    self.representative_structure.parse_structure()\n",
      "  File \"/mnt/projects/ssbio/ssbio/protein/structure/structprop.py\", line 138, in parse_structure\n",
      "    if not self.structure_path:\n",
      "  File \"/mnt/projects/ssbio/ssbio/protein/structure/structprop.py\", line 105, in structure_path\n",
      "    raise OSError('{}: structure file not available'.format(self.id))\n",
      "OSError: REP-4v9p: structure file not available\n",
      "ERROR:ssbio.core.protein:b2026_6_107_1zps-_: alignment failed to run, unable to check structure\n",
      "ERROR:ssbio.core.protein:b2994_3_552_3myr-_: alignment failed to run, unable to check structure\n",
      "ERROR:ssbio.core.protein:b4213_22_597_3qfk-_: alignment failed to run, unable to check structure\n",
      "ERROR:ssbio.core.protein:b3565_4_439_1a0d-_: alignment failed to run, unable to check structure\n",
      "ERROR:ssbio.core.protein:b0553_25_365_2xe5-_: alignment failed to run, unable to check structure\n",
      "ERROR:ssbio.core.protein:b0983_22_376_2j58-_: alignment failed to run, unable to check structure\n",
      "ERROR:ssbio.core.protein:b0804_1_225_3dkq-_: alignment failed to run, unable to check structure\n",
      "ERROR:ssbio.protein.structure.utils.structureio:/home/nathan/projects_unsynced/ecoli_gp/genes/b3340/b3340_protein/structures/4v9o.mmtf: unable to save structure in PDB file format\n"
     ]
    },
    {
     "name": "stdout",
     "output_type": "stream",
     "text": [
      "%c requires int or char\n"
     ]
    },
    {
     "name": "stderr",
     "output_type": "stream",
     "text": [
      "ERROR:root:Unknown error with PDB ID 4v9o\n",
      "Traceback (most recent call last):\n",
      "  File \"/mnt/projects/ssbio/ssbio/core/protein.py\", line 1675, in set_representative_structure\n",
      "    force_rerun=force_rerun)\n",
      "  File \"/mnt/projects/ssbio/ssbio/core/protein.py\", line 1506, in _representative_structure_setter\n",
      "    self.representative_structure.parse_structure()\n",
      "  File \"/mnt/projects/ssbio/ssbio/protein/structure/structprop.py\", line 138, in parse_structure\n",
      "    if not self.structure_path:\n",
      "  File \"/mnt/projects/ssbio/ssbio/protein/structure/structprop.py\", line 105, in structure_path\n",
      "    raise OSError('{}: structure file not available'.format(self.id))\n",
      "OSError: REP-4v9o: structure file not available\n",
      "ERROR:ssbio.protein.structure.utils.structureio:/home/nathan/projects_unsynced/ecoli_gp/genes/b3340/b3340_protein/structures/4v9p.mmtf: unable to save structure in PDB file format\n"
     ]
    },
    {
     "name": "stdout",
     "output_type": "stream",
     "text": [
      "%c requires int or char\n"
     ]
    },
    {
     "name": "stderr",
     "output_type": "stream",
     "text": [
      "ERROR:root:Unknown error with PDB ID 4v9p\n",
      "Traceback (most recent call last):\n",
      "  File \"/mnt/projects/ssbio/ssbio/core/protein.py\", line 1675, in set_representative_structure\n",
      "    force_rerun=force_rerun)\n",
      "  File \"/mnt/projects/ssbio/ssbio/core/protein.py\", line 1506, in _representative_structure_setter\n",
      "    self.representative_structure.parse_structure()\n",
      "  File \"/mnt/projects/ssbio/ssbio/protein/structure/structprop.py\", line 138, in parse_structure\n",
      "    if not self.structure_path:\n",
      "  File \"/mnt/projects/ssbio/ssbio/protein/structure/structprop.py\", line 105, in structure_path\n",
      "    raise OSError('{}: structure file not available'.format(self.id))\n",
      "OSError: REP-4v9p: structure file not available\n",
      "ERROR:ssbio.protein.structure.utils.structureio:/home/nathan/projects_unsynced/ecoli_gp/genes/b3340/b3340_protein/structures/4v7b.mmtf: unable to save structure in PDB file format\n"
     ]
    },
    {
     "name": "stdout",
     "output_type": "stream",
     "text": [
      "%c requires int or char\n"
     ]
    },
    {
     "name": "stderr",
     "output_type": "stream",
     "text": [
      "ERROR:root:Unknown error with PDB ID 4v7b\n",
      "Traceback (most recent call last):\n",
      "  File \"/mnt/projects/ssbio/ssbio/core/protein.py\", line 1675, in set_representative_structure\n",
      "    force_rerun=force_rerun)\n",
      "  File \"/mnt/projects/ssbio/ssbio/core/protein.py\", line 1506, in _representative_structure_setter\n",
      "    self.representative_structure.parse_structure()\n",
      "  File \"/mnt/projects/ssbio/ssbio/protein/structure/structprop.py\", line 138, in parse_structure\n",
      "    if not self.structure_path:\n",
      "  File \"/mnt/projects/ssbio/ssbio/protein/structure/structprop.py\", line 105, in structure_path\n",
      "    raise OSError('{}: structure file not available'.format(self.id))\n",
      "OSError: REP-4v7b: structure file not available\n",
      "ERROR:ssbio.core.protein:b4301_1_209_3ct7-_: alignment failed to run, unable to check structure\n",
      "ERROR:ssbio.protein.structure.utils.structureio:/home/nathan/projects_unsynced/ecoli_gp/genes/b3302/b3302_protein/structures/4v9o.mmtf: unable to save structure in PDB file format\n"
     ]
    },
    {
     "name": "stdout",
     "output_type": "stream",
     "text": [
      "%c requires int or char\n"
     ]
    },
    {
     "name": "stderr",
     "output_type": "stream",
     "text": [
      "ERROR:root:Unknown error with PDB ID 4v9o\n",
      "Traceback (most recent call last):\n",
      "  File \"/mnt/projects/ssbio/ssbio/core/protein.py\", line 1675, in set_representative_structure\n",
      "    force_rerun=force_rerun)\n",
      "  File \"/mnt/projects/ssbio/ssbio/core/protein.py\", line 1506, in _representative_structure_setter\n",
      "    self.representative_structure.parse_structure()\n",
      "  File \"/mnt/projects/ssbio/ssbio/protein/structure/structprop.py\", line 138, in parse_structure\n",
      "    if not self.structure_path:\n",
      "  File \"/mnt/projects/ssbio/ssbio/protein/structure/structprop.py\", line 105, in structure_path\n",
      "    raise OSError('{}: structure file not available'.format(self.id))\n",
      "OSError: REP-4v9o: structure file not available\n",
      "ERROR:ssbio.protein.structure.utils.structureio:/home/nathan/projects_unsynced/ecoli_gp/genes/b3302/b3302_protein/structures/4v9p.mmtf: unable to save structure in PDB file format\n"
     ]
    },
    {
     "name": "stdout",
     "output_type": "stream",
     "text": [
      "%c requires int or char\n"
     ]
    },
    {
     "name": "stderr",
     "output_type": "stream",
     "text": [
      "ERROR:root:Unknown error with PDB ID 4v9p\n",
      "Traceback (most recent call last):\n",
      "  File \"/mnt/projects/ssbio/ssbio/core/protein.py\", line 1675, in set_representative_structure\n",
      "    force_rerun=force_rerun)\n",
      "  File \"/mnt/projects/ssbio/ssbio/core/protein.py\", line 1506, in _representative_structure_setter\n",
      "    self.representative_structure.parse_structure()\n",
      "  File \"/mnt/projects/ssbio/ssbio/protein/structure/structprop.py\", line 138, in parse_structure\n",
      "    if not self.structure_path:\n",
      "  File \"/mnt/projects/ssbio/ssbio/protein/structure/structprop.py\", line 105, in structure_path\n",
      "    raise OSError('{}: structure file not available'.format(self.id))\n",
      "OSError: REP-4v9p: structure file not available\n",
      "ERROR:ssbio.core.protein:b1897_12_213_5dxi-_: alignment failed to run, unable to check structure\n",
      "ERROR:ssbio.protein.structure.utils.structureio:/home/nathan/projects_unsynced/ecoli_gp/genes/b3165/b3165_protein/structures/4v9o.mmtf: unable to save structure in PDB file format\n"
     ]
    },
    {
     "name": "stdout",
     "output_type": "stream",
     "text": [
      "%c requires int or char\n"
     ]
    },
    {
     "name": "stderr",
     "output_type": "stream",
     "text": [
      "ERROR:root:Unknown error with PDB ID 4v9o\n",
      "Traceback (most recent call last):\n",
      "  File \"/mnt/projects/ssbio/ssbio/core/protein.py\", line 1675, in set_representative_structure\n",
      "    force_rerun=force_rerun)\n",
      "  File \"/mnt/projects/ssbio/ssbio/core/protein.py\", line 1506, in _representative_structure_setter\n",
      "    self.representative_structure.parse_structure()\n",
      "  File \"/mnt/projects/ssbio/ssbio/protein/structure/structprop.py\", line 138, in parse_structure\n",
      "    if not self.structure_path:\n",
      "  File \"/mnt/projects/ssbio/ssbio/protein/structure/structprop.py\", line 105, in structure_path\n",
      "    raise OSError('{}: structure file not available'.format(self.id))\n",
      "OSError: REP-4v9o: structure file not available\n",
      "ERROR:ssbio.protein.structure.utils.structureio:/home/nathan/projects_unsynced/ecoli_gp/genes/b3165/b3165_protein/structures/4v9p.mmtf: unable to save structure in PDB file format\n"
     ]
    },
    {
     "name": "stdout",
     "output_type": "stream",
     "text": [
      "%c requires int or char\n"
     ]
    },
    {
     "name": "stderr",
     "output_type": "stream",
     "text": [
      "ERROR:root:Unknown error with PDB ID 4v9p\n",
      "Traceback (most recent call last):\n",
      "  File \"/mnt/projects/ssbio/ssbio/core/protein.py\", line 1675, in set_representative_structure\n",
      "    force_rerun=force_rerun)\n",
      "  File \"/mnt/projects/ssbio/ssbio/core/protein.py\", line 1506, in _representative_structure_setter\n",
      "    self.representative_structure.parse_structure()\n",
      "  File \"/mnt/projects/ssbio/ssbio/protein/structure/structprop.py\", line 138, in parse_structure\n",
      "    if not self.structure_path:\n",
      "  File \"/mnt/projects/ssbio/ssbio/protein/structure/structprop.py\", line 105, in structure_path\n",
      "    raise OSError('{}: structure file not available'.format(self.id))\n",
      "OSError: REP-4v9p: structure file not available\n",
      "ERROR:ssbio.protein.structure.utils.structureio:/home/nathan/projects_unsynced/ecoli_gp/genes/b1089/b1089_protein/structures/4v9o.mmtf: unable to save structure in PDB file format\n"
     ]
    },
    {
     "name": "stdout",
     "output_type": "stream",
     "text": [
      "%c requires int or char\n"
     ]
    },
    {
     "name": "stderr",
     "output_type": "stream",
     "text": [
      "ERROR:root:Unknown error with PDB ID 4v9o\n",
      "Traceback (most recent call last):\n",
      "  File \"/mnt/projects/ssbio/ssbio/core/protein.py\", line 1675, in set_representative_structure\n",
      "    force_rerun=force_rerun)\n",
      "  File \"/mnt/projects/ssbio/ssbio/core/protein.py\", line 1506, in _representative_structure_setter\n",
      "    self.representative_structure.parse_structure()\n",
      "  File \"/mnt/projects/ssbio/ssbio/protein/structure/structprop.py\", line 138, in parse_structure\n",
      "    if not self.structure_path:\n",
      "  File \"/mnt/projects/ssbio/ssbio/protein/structure/structprop.py\", line 105, in structure_path\n",
      "    raise OSError('{}: structure file not available'.format(self.id))\n",
      "OSError: REP-4v9o: structure file not available\n",
      "ERROR:ssbio.protein.structure.utils.structureio:/home/nathan/projects_unsynced/ecoli_gp/genes/b1089/b1089_protein/structures/4v9p.mmtf: unable to save structure in PDB file format\n"
     ]
    },
    {
     "name": "stdout",
     "output_type": "stream",
     "text": [
      "%c requires int or char\n"
     ]
    },
    {
     "name": "stderr",
     "output_type": "stream",
     "text": [
      "ERROR:root:Unknown error with PDB ID 4v9p\n",
      "Traceback (most recent call last):\n",
      "  File \"/mnt/projects/ssbio/ssbio/core/protein.py\", line 1675, in set_representative_structure\n",
      "    force_rerun=force_rerun)\n",
      "  File \"/mnt/projects/ssbio/ssbio/core/protein.py\", line 1506, in _representative_structure_setter\n",
      "    self.representative_structure.parse_structure()\n",
      "  File \"/mnt/projects/ssbio/ssbio/protein/structure/structprop.py\", line 138, in parse_structure\n",
      "    if not self.structure_path:\n",
      "  File \"/mnt/projects/ssbio/ssbio/protein/structure/structprop.py\", line 105, in structure_path\n",
      "    raise OSError('{}: structure file not available'.format(self.id))\n",
      "OSError: REP-4v9p: structure file not available\n",
      "ERROR:ssbio.core.protein:b0447_2_152_3i4p-_: alignment failed to run, unable to check structure\n",
      "ERROR:ssbio.core.protein:b3829_3_751_4ztx-_: alignment failed to run, unable to check structure\n",
      "ERROR:ssbio.core.protein:b0616_9_299_3oyz-_: alignment failed to run, unable to check structure\n",
      "ERROR:ssbio.core.protein:b1494_33_931_4l3t-_: alignment failed to run, unable to check structure\n",
      "ERROR:ssbio.core.protein:b3196_1_318_5hxc-_: alignment failed to run, unable to check structure\n",
      "ERROR:ssbio.core.protein:b1800_4_361_3fmx-_: alignment failed to run, unable to check structure\n",
      "ERROR:ssbio.core.protein:b3891_24_307_2fiy-_: alignment failed to run, unable to check structure\n",
      "ERROR:ssbio.core.protein:b1746_2_486_5u0l-_: alignment failed to run, unable to check structure\n",
      "ERROR:ssbio.protein.structure.utils.structureio:/home/nathan/projects_unsynced/ecoli_gp/genes/b3296/b3296_protein/structures/4v9o.mmtf: unable to save structure in PDB file format\n"
     ]
    },
    {
     "name": "stdout",
     "output_type": "stream",
     "text": [
      "%c requires int or char\n"
     ]
    },
    {
     "name": "stderr",
     "output_type": "stream",
     "text": [
      "ERROR:root:Unknown error with PDB ID 4v9o\n",
      "Traceback (most recent call last):\n",
      "  File \"/mnt/projects/ssbio/ssbio/core/protein.py\", line 1675, in set_representative_structure\n",
      "    force_rerun=force_rerun)\n",
      "  File \"/mnt/projects/ssbio/ssbio/core/protein.py\", line 1506, in _representative_structure_setter\n",
      "    self.representative_structure.parse_structure()\n",
      "  File \"/mnt/projects/ssbio/ssbio/protein/structure/structprop.py\", line 138, in parse_structure\n",
      "    if not self.structure_path:\n",
      "  File \"/mnt/projects/ssbio/ssbio/protein/structure/structprop.py\", line 105, in structure_path\n",
      "    raise OSError('{}: structure file not available'.format(self.id))\n",
      "OSError: REP-4v9o: structure file not available\n",
      "ERROR:ssbio.protein.structure.utils.structureio:/home/nathan/projects_unsynced/ecoli_gp/genes/b3296/b3296_protein/structures/4v9p.mmtf: unable to save structure in PDB file format\n"
     ]
    },
    {
     "name": "stdout",
     "output_type": "stream",
     "text": [
      "%c requires int or char\n"
     ]
    },
    {
     "name": "stderr",
     "output_type": "stream",
     "text": [
      "ERROR:root:Unknown error with PDB ID 4v9p\n",
      "Traceback (most recent call last):\n",
      "  File \"/mnt/projects/ssbio/ssbio/core/protein.py\", line 1675, in set_representative_structure\n",
      "    force_rerun=force_rerun)\n",
      "  File \"/mnt/projects/ssbio/ssbio/core/protein.py\", line 1506, in _representative_structure_setter\n",
      "    self.representative_structure.parse_structure()\n",
      "  File \"/mnt/projects/ssbio/ssbio/protein/structure/structprop.py\", line 138, in parse_structure\n",
      "    if not self.structure_path:\n",
      "  File \"/mnt/projects/ssbio/ssbio/protein/structure/structprop.py\", line 105, in structure_path\n",
      "    raise OSError('{}: structure file not available'.format(self.id))\n",
      "OSError: REP-4v9p: structure file not available\n",
      "ERROR:ssbio.core.protein:b2761_5_883_4q2c-_: alignment failed to run, unable to check structure\n",
      "ERROR:ssbio.core.protein:b0815_214_495_5gov-_: alignment failed to run, unable to check structure\n",
      "ERROR:ssbio.core.protein:P75785_b0815_214_495_5gov-_: structure alignment not found, please run the alignment first\n",
      "ERROR:ssbio.core.protein:b0815_205_431_5k4p-_: alignment failed to run, unable to check structure\n",
      "ERROR:ssbio.core.protein:P75785_b0815_205_431_5k4p-_: structure alignment not found, please run the alignment first\n",
      "ERROR:ssbio.core.protein:b2601_9_343_1n8f-_: alignment failed to run, unable to check structure\n",
      "ERROR:ssbio.core.protein:b0026_2_930_1ffy-_: alignment failed to run, unable to check structure\n",
      "ERROR:ssbio.core.protein:b0164_30_216_4fbk-_: alignment failed to run, unable to check structure\n",
      "ERROR:ssbio.core.protein:b2375_29_209_3dza-_: alignment failed to run, unable to check structure\n",
      "ERROR:ssbio.core.protein:b3947_366_684_2xz7-_: alignment failed to run, unable to check structure\n",
      "ERROR:ssbio.core.protein:P32670_b3947_366_684_2xz7-_: structure alignment not found, please run the alignment first\n",
      "ERROR:ssbio.core.protein:b1640_1_368_3cqy-_: alignment failed to run, unable to check structure\n",
      "ERROR:ssbio.core.protein:b1468_2_1244_1q16-_: alignment failed to run, unable to check structure\n",
      "ERROR:ssbio.core.protein:b3195_9_267_1g29-_: alignment failed to run, unable to check structure\n",
      "ERROR:ssbio.core.protein:b2494_39_282_3c37-_: alignment failed to run, unable to check structure\n",
      "ERROR:ssbio.protein.structure.utils.structureio:/home/nathan/projects_unsynced/ecoli_gp/genes/b1717/b1717_protein/structures/4v9o.mmtf: unable to save structure in PDB file format\n"
     ]
    },
    {
     "name": "stdout",
     "output_type": "stream",
     "text": [
      "%c requires int or char\n"
     ]
    },
    {
     "name": "stderr",
     "output_type": "stream",
     "text": [
      "ERROR:root:Unknown error with PDB ID 4v9o\n",
      "Traceback (most recent call last):\n",
      "  File \"/mnt/projects/ssbio/ssbio/core/protein.py\", line 1675, in set_representative_structure\n",
      "    force_rerun=force_rerun)\n",
      "  File \"/mnt/projects/ssbio/ssbio/core/protein.py\", line 1506, in _representative_structure_setter\n",
      "    self.representative_structure.parse_structure()\n",
      "  File \"/mnt/projects/ssbio/ssbio/protein/structure/structprop.py\", line 138, in parse_structure\n",
      "    if not self.structure_path:\n",
      "  File \"/mnt/projects/ssbio/ssbio/protein/structure/structprop.py\", line 105, in structure_path\n",
      "    raise OSError('{}: structure file not available'.format(self.id))\n",
      "OSError: REP-4v9o: structure file not available\n",
      "ERROR:ssbio.protein.structure.utils.structureio:/home/nathan/projects_unsynced/ecoli_gp/genes/b1717/b1717_protein/structures/4v9p.mmtf: unable to save structure in PDB file format\n"
     ]
    },
    {
     "name": "stdout",
     "output_type": "stream",
     "text": [
      "%c requires int or char\n"
     ]
    },
    {
     "name": "stderr",
     "output_type": "stream",
     "text": [
      "ERROR:root:Unknown error with PDB ID 4v9p\n",
      "Traceback (most recent call last):\n",
      "  File \"/mnt/projects/ssbio/ssbio/core/protein.py\", line 1675, in set_representative_structure\n",
      "    force_rerun=force_rerun)\n",
      "  File \"/mnt/projects/ssbio/ssbio/core/protein.py\", line 1506, in _representative_structure_setter\n",
      "    self.representative_structure.parse_structure()\n",
      "  File \"/mnt/projects/ssbio/ssbio/protein/structure/structprop.py\", line 138, in parse_structure\n",
      "    if not self.structure_path:\n",
      "  File \"/mnt/projects/ssbio/ssbio/protein/structure/structprop.py\", line 105, in structure_path\n",
      "    raise OSError('{}: structure file not available'.format(self.id))\n",
      "OSError: REP-4v9p: structure file not available\n",
      "ERROR:ssbio.core.protein:b3221_1_153_1s4c-_: alignment failed to run, unable to check structure\n",
      "ERROR:ssbio.core.protein:b2470_1_1030_3w9j-_: alignment failed to run, unable to check structure\n",
      "ERROR:ssbio.core.protein:3dmq: structure file could not be downloaded in mmtf format\n",
      "ERROR:ssbio.core.protein:b0659_1_152_1xm5-_: alignment failed to run, unable to check structure\n",
      "ERROR:ssbio.core.protein:b2753_95_344_3ff3-_: alignment failed to run, unable to check structure\n",
      "ERROR:ssbio.protein.structure.utils.structureio:/home/nathan/projects_unsynced/ecoli_gp/genes/b3341/b3341_protein/structures/4v9o.mmtf: unable to save structure in PDB file format\n"
     ]
    },
    {
     "name": "stdout",
     "output_type": "stream",
     "text": [
      "%c requires int or char\n"
     ]
    },
    {
     "name": "stderr",
     "output_type": "stream",
     "text": [
      "ERROR:root:Unknown error with PDB ID 4v9o\n",
      "Traceback (most recent call last):\n",
      "  File \"/mnt/projects/ssbio/ssbio/core/protein.py\", line 1675, in set_representative_structure\n",
      "    force_rerun=force_rerun)\n",
      "  File \"/mnt/projects/ssbio/ssbio/core/protein.py\", line 1506, in _representative_structure_setter\n",
      "    self.representative_structure.parse_structure()\n",
      "  File \"/mnt/projects/ssbio/ssbio/protein/structure/structprop.py\", line 138, in parse_structure\n",
      "    if not self.structure_path:\n",
      "  File \"/mnt/projects/ssbio/ssbio/protein/structure/structprop.py\", line 105, in structure_path\n",
      "    raise OSError('{}: structure file not available'.format(self.id))\n",
      "OSError: REP-4v9o: structure file not available\n",
      "ERROR:ssbio.protein.structure.utils.structureio:/home/nathan/projects_unsynced/ecoli_gp/genes/b3341/b3341_protein/structures/4v9p.mmtf: unable to save structure in PDB file format\n"
     ]
    },
    {
     "name": "stdout",
     "output_type": "stream",
     "text": [
      "%c requires int or char\n"
     ]
    },
    {
     "name": "stderr",
     "output_type": "stream",
     "text": [
      "ERROR:root:Unknown error with PDB ID 4v9p\n",
      "Traceback (most recent call last):\n",
      "  File \"/mnt/projects/ssbio/ssbio/core/protein.py\", line 1675, in set_representative_structure\n",
      "    force_rerun=force_rerun)\n",
      "  File \"/mnt/projects/ssbio/ssbio/core/protein.py\", line 1506, in _representative_structure_setter\n",
      "    self.representative_structure.parse_structure()\n",
      "  File \"/mnt/projects/ssbio/ssbio/protein/structure/structprop.py\", line 138, in parse_structure\n",
      "    if not self.structure_path:\n",
      "  File \"/mnt/projects/ssbio/ssbio/protein/structure/structprop.py\", line 105, in structure_path\n",
      "    raise OSError('{}: structure file not available'.format(self.id))\n",
      "OSError: REP-4v9p: structure file not available\n",
      "ERROR:ssbio.protein.structure.utils.structureio:/home/nathan/projects_unsynced/ecoli_gp/genes/b0191/b0191_protein/structures/4v95.mmtf: unable to save structure in PDB file format\n"
     ]
    },
    {
     "name": "stdout",
     "output_type": "stream",
     "text": [
      "%c requires int or char\n"
     ]
    },
    {
     "name": "stderr",
     "output_type": "stream",
     "text": [
      "ERROR:root:Unknown error with PDB ID 4v95\n",
      "Traceback (most recent call last):\n",
      "  File \"/mnt/projects/ssbio/ssbio/core/protein.py\", line 1675, in set_representative_structure\n",
      "    force_rerun=force_rerun)\n",
      "  File \"/mnt/projects/ssbio/ssbio/core/protein.py\", line 1506, in _representative_structure_setter\n",
      "    self.representative_structure.parse_structure()\n",
      "  File \"/mnt/projects/ssbio/ssbio/protein/structure/structprop.py\", line 138, in parse_structure\n",
      "    if not self.structure_path:\n",
      "  File \"/mnt/projects/ssbio/ssbio/protein/structure/structprop.py\", line 105, in structure_path\n",
      "    raise OSError('{}: structure file not available'.format(self.id))\n",
      "OSError: REP-4v95: structure file not available\n",
      "ERROR:ssbio.core.protein:b1413_68_526_5aor-_: alignment failed to run, unable to check structure\n",
      "ERROR:ssbio.core.protein:b1222_382_585_3gig-_: alignment failed to run, unable to check structure\n",
      "ERROR:ssbio.core.protein:P0AFA2_b1222_382_585_3gig-_: structure alignment not found, please run the alignment first\n",
      "ERROR:ssbio.core.protein:b2883_7_439_2ood-_: alignment failed to run, unable to check structure\n",
      "ERROR:ssbio.protein.structure.utils.structureio:/home/nathan/projects_unsynced/ecoli_gp/genes/b3318/b3318_protein/structures/4v9o.mmtf: unable to save structure in PDB file format\n"
     ]
    },
    {
     "name": "stdout",
     "output_type": "stream",
     "text": [
      "%c requires int or char\n"
     ]
    },
    {
     "name": "stderr",
     "output_type": "stream",
     "text": [
      "ERROR:root:Unknown error with PDB ID 4v9o\n",
      "Traceback (most recent call last):\n",
      "  File \"/mnt/projects/ssbio/ssbio/core/protein.py\", line 1675, in set_representative_structure\n",
      "    force_rerun=force_rerun)\n",
      "  File \"/mnt/projects/ssbio/ssbio/core/protein.py\", line 1506, in _representative_structure_setter\n",
      "    self.representative_structure.parse_structure()\n",
      "  File \"/mnt/projects/ssbio/ssbio/protein/structure/structprop.py\", line 138, in parse_structure\n",
      "    if not self.structure_path:\n",
      "  File \"/mnt/projects/ssbio/ssbio/protein/structure/structprop.py\", line 105, in structure_path\n",
      "    raise OSError('{}: structure file not available'.format(self.id))\n",
      "OSError: REP-4v9o: structure file not available\n",
      "ERROR:ssbio.core.protein:b2920_8_490_2nvv-_: alignment failed to run, unable to check structure\n",
      "ERROR:ssbio.core.protein:b0417_5_323_5dd7-_: alignment failed to run, unable to check structure\n",
      "ERROR:ssbio.core.protein:b3212_12_1473_2vdc-_: alignment failed to run, unable to check structure\n",
      "ERROR:ssbio.core.protein:b1489_538_795_4hjf-_: alignment failed to run, unable to check structure\n",
      "ERROR:ssbio.core.protein:P76129_b1489_538_795_4hjf-_: structure alignment not found, please run the alignment first\n",
      "ERROR:ssbio.core.protein:b3518_170_460_1iqc-_: alignment failed to run, unable to check structure\n",
      "ERROR:ssbio.core.protein:P37197_b3518_170_460_1iqc-_: structure alignment not found, please run the alignment first\n"
     ]
    }
   ],
   "source": [
    "my_gempro.set_representative_structure(allow_missing_on_termini=.6, allow_deletions=True, seq_ident_cutoff=0.3)"
   ]
  },
  {
   "cell_type": "code",
   "execution_count": null,
   "metadata": {
    "collapsed": true
   },
   "outputs": [],
   "source": [
    "my_gempro.save_json('./171212-ecoli_whole_genome_swissmodel_only_lower_cutoffs_gp.json')\n",
    "my_gempro.save_pickle('./171212-ecoli_whole_genome_swissmodel_only_lower_cutoffs_gp.pckl')"
   ]
  },
  {
   "cell_type": "markdown",
   "metadata": {},
   "source": [
    "## Loading and sandbox"
   ]
  },
  {
   "cell_type": "code",
   "execution_count": 1,
   "metadata": {
    "collapsed": true
   },
   "outputs": [],
   "source": [
    "import ssbio.io"
   ]
  },
  {
   "cell_type": "code",
   "execution_count": 2,
   "metadata": {
    "collapsed": true
   },
   "outputs": [],
   "source": [
    "my_gempro = ssbio.io.load_pickle('./171212-ecoli_whole_genome_swissmodel_only_lower_cutoffs_gp.pckl')"
   ]
  },
  {
   "cell_type": "code",
   "execution_count": 4,
   "metadata": {
    "collapsed": true
   },
   "outputs": [],
   "source": [
    "# b3343(2) AND b3344(2) AND b3345(2)\n",
    "b3343 = my_gempro.genes.get_by_id('b3343')\n",
    "b3344 = my_gempro.genes.get_by_id('b3344')\n",
    "b3345 = my_gempro.genes.get_by_id('b3345')"
   ]
  },
  {
   "cell_type": "code",
   "execution_count": 18,
   "metadata": {},
   "outputs": [
    {
     "data": {
      "text/plain": [
       "[<PDBProp 2d1p at 0x7eff4a480160>,\n",
       " <StructProp b3343_1_95_2d1p at 0x7eff4a480400>,\n",
       " <StructProp REP-2d1p at 0x7eff4a480438>]"
      ]
     },
     "execution_count": 18,
     "metadata": {},
     "output_type": "execute_result"
    }
   ],
   "source": [
    "b3343.protein.structures"
   ]
  },
  {
   "cell_type": "code",
   "execution_count": 10,
   "metadata": {},
   "outputs": [
    {
     "data": {
      "text/plain": [
       "[<PDBProp 2d1p at 0x7eff4ed02dd8>,\n",
       " <StructProp b3344_1_119_2d1p at 0x7eff4ed170b8>,\n",
       " <StructProp REP-2d1p at 0x7eff4ed170f0>]"
      ]
     },
     "execution_count": 10,
     "metadata": {},
     "output_type": "execute_result"
    }
   ],
   "source": [
    "b3344.protein.structures"
   ]
  },
  {
   "cell_type": "code",
   "execution_count": 11,
   "metadata": {},
   "outputs": [
    {
     "data": {
      "text/plain": [
       "[<PDBProp 2d1p at 0x7eff4a7b9080>,\n",
       " <StructProp b3345_1_128_2d1p at 0x7eff4a7b9320>,\n",
       " <StructProp REP-2d1p at 0x7eff4a7b9358>]"
      ]
     },
     "execution_count": 11,
     "metadata": {},
     "output_type": "execute_result"
    }
   ],
   "source": [
    "b3345.protein.structures"
   ]
  },
  {
   "cell_type": "code",
   "execution_count": 21,
   "metadata": {},
   "outputs": [
    {
     "data": {
      "text/plain": [
       "'C'"
      ]
     },
     "execution_count": 21,
     "metadata": {},
     "output_type": "execute_result"
    },
    {
     "data": {
      "text/plain": [
       "'B'"
      ]
     },
     "execution_count": 21,
     "metadata": {},
     "output_type": "execute_result"
    },
    {
     "data": {
      "text/plain": [
       "'A'"
      ]
     },
     "execution_count": 21,
     "metadata": {},
     "output_type": "execute_result"
    }
   ],
   "source": [
    "b3343.protein.representative_chain\n",
    "b3344.protein.representative_chain\n",
    "b3345.protein.representative_chain"
   ]
  },
  {
   "cell_type": "code",
   "execution_count": 25,
   "metadata": {},
   "outputs": [
    {
     "data": {
      "text/plain": [
       "['C', 'F', 'I']"
      ]
     },
     "execution_count": 25,
     "metadata": {},
     "output_type": "execute_result"
    },
    {
     "data": {
      "text/plain": [
       "['B', 'E', 'H']"
      ]
     },
     "execution_count": 25,
     "metadata": {},
     "output_type": "execute_result"
    },
    {
     "data": {
      "text/plain": [
       "['A', 'D', 'G']"
      ]
     },
     "execution_count": 25,
     "metadata": {},
     "output_type": "execute_result"
    }
   ],
   "source": [
    "b3343.protein.structures[0].mapped_chains\n",
    "b3344.protein.structures[0].mapped_chains\n",
    "b3345.protein.structures[0].mapped_chains"
   ]
  }
 ],
 "metadata": {
  "kernelspec": {
   "display_name": "Python [default]",
   "language": "python",
   "name": "python3"
  },
  "language_info": {
   "codemirror_mode": {
    "name": "ipython",
    "version": 3
   },
   "file_extension": ".py",
   "mimetype": "text/x-python",
   "name": "python",
   "nbconvert_exporter": "python",
   "pygments_lexer": "ipython3",
   "version": "3.6.3"
  }
 },
 "nbformat": 4,
 "nbformat_minor": 2
}
